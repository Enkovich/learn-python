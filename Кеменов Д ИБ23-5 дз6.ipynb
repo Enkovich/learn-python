{
 "cells": [
  {
   "cell_type": "markdown",
   "id": "7e85aab7",
   "metadata": {},
   "source": [
    "## Алгоритмы и структуры данных в языке Python\n",
    "\n",
    "## Домашнее задание 6\n",
    "\n",
    "Выполните домашнее задание и сохраните в файле с именем в формате <Фамилия_Имя_Группа_ДЗ_6>.ipynb. Загрузите в контрольную точку электронного учебного курса дисциплины."
   ]
  },
  {
   "cell_type": "markdown",
   "id": "ac7b854b",
   "metadata": {},
   "source": [
    "<p style=\"background:powderblue; font-weight:bold\">Задача 1</p>\n",
    "\n",
    "Дана матрица размера $m \\times n$. Зеркально отразить ее элементы относительно горизонтальной оси симметрии матрицы (при этом поменяются местами строки с номерами $1$ и $m$, $2$ и $m—1$ и т. д.)."
   ]
  },
  {
   "cell_type": "code",
   "execution_count": 19,
   "id": "33a0a060",
   "metadata": {},
   "outputs": [
    {
     "name": "stdout",
     "output_type": "stream",
     "text": [
      "[164, 103, -81, 352, -10, 184, -95, 76, 99, -71, -9, 398]\n",
      "[1, 280, 163, 15, 221, 357, 103, -99, -79, 366, -29, 308]\n",
      "[108, 157, 369, 208, 206, 138, 151, 152, -25, 112, 255, 91]\n",
      "[294, 98, -8, 210, -46, 239, 124, 6, -38, 102, 29, 389]\n",
      "[99, -25, 207, 2, 80, 136, -25, -69, -12, 91, 300, -22]\n",
      "[286, 284, -4, 45, 179, 377, 232, 124, 399, 358, 25, -46]\n",
      "[92, 289, 399, 298, 77, 266, -15, 294, 374, 385, 173, 166]\n",
      "[-22, 332, -100, 281, -77, 65, 398, 352, 243, 280, -37, 391]\n",
      "\n",
      "\n",
      "\n",
      "\n",
      "[-22, 332, -100, 281, -77, 65, 398, 352, 243, 280, -37, 391]\n",
      "[92, 289, 399, 298, 77, 266, -15, 294, 374, 385, 173, 166]\n",
      "[286, 284, -4, 45, 179, 377, 232, 124, 399, 358, 25, -46]\n",
      "[99, -25, 207, 2, 80, 136, -25, -69, -12, 91, 300, -22]\n",
      "[294, 98, -8, 210, -46, 239, 124, 6, -38, 102, 29, 389]\n",
      "[108, 157, 369, 208, 206, 138, 151, 152, -25, 112, 255, 91]\n",
      "[1, 280, 163, 15, 221, 357, 103, -99, -79, 366, -29, 308]\n",
      "[164, 103, -81, 352, -10, 184, -95, 76, 99, -71, -9, 398]\n"
     ]
    }
   ],
   "source": [
    "from random import randint\n",
    "\n",
    "m, n = randint(3, 15), randint(3, 15)\n",
    "a = [[randint(-100, 400) for _ in range(n)] for i in range(m)]\n",
    "j = 0\n",
    "\n",
    "for i in range(m):\n",
    "    print(a[i])\n",
    "    \n",
    "if(len(a)%2==0): j = len(a)/2\n",
    "else: j = (len(a)-1)/2\n",
    "    \n",
    "print('\\n\\n\\n')\n",
    "for i in range(int(j)):\n",
    "    tmpStr1=a[i]\n",
    "    tmpStr2=a[m-i-1]\n",
    "    a[i], a[m-i-1]=tmpStr2, tmpStr1\n",
    "    \n",
    "for i in range(m):\n",
    "    print(a[i])"
   ]
  },
  {
   "cell_type": "markdown",
   "id": "bb96d33a",
   "metadata": {},
   "source": [
    "<p style=\"background:powderblue; font-weight:bold\">Задача 2</p>\n",
    "\n",
    "Дана матрица размера $m \\times n$. Удалить строку, содержащую минимальный элемент матрицы."
   ]
  },
  {
   "cell_type": "code",
   "execution_count": 63,
   "id": "053b9145",
   "metadata": {},
   "outputs": [
    {
     "name": "stdout",
     "output_type": "stream",
     "text": [
      "[[149, -1, 191, -36, 392, -64, 307, 242, 185], [321, 266, 106, 277, 322, 83, 305, 191, 312], [231, 210, 268, 151, 210, -34, 254, 262, 6], [-98, 292, 245, 176, 201, 180, 280, 47, -51]]\n",
      "(3, -98)\n",
      "[[149, -1, 191, -36, 392, -64, 307, 242, 185], [321, 266, 106, 277, 322, 83, 305, 191, 312], [231, 210, 268, 151, 210, -34, 254, 262, 6]]\n"
     ]
    }
   ],
   "source": [
    "from random import randint\n",
    "\n",
    "m, n = randint(3, 10), randint(3, 10)\n",
    "a = [[randint(-100, 400) for _ in range(m)] for i in range(n)]\n",
    "\n",
    "print(a)\n",
    "\n",
    "minNum = (False, False)\n",
    "\n",
    "for i in range(n):\n",
    "    minTmp = min(a[i])\n",
    "    if minNum[1]==False or minNum[1]>minTmp:\n",
    "        minNum = (i, minTmp)\n",
    "            \n",
    "del a[minNum[0]]\n",
    "print(minNum)\n",
    "print(a)"
   ]
  },
  {
   "cell_type": "markdown",
   "id": "93ae7a71",
   "metadata": {},
   "source": [
    "<p style=\"background:powderblue; font-weight:bold\">Задача 3</p>\n",
    "\n",
    "Дана матрица размера $m \\times n$. Удалить столбец, содержащий максимальный элемент матрицы."
   ]
  },
  {
   "cell_type": "code",
   "execution_count": 66,
   "id": "66de8175",
   "metadata": {},
   "outputs": [
    {
     "name": "stdout",
     "output_type": "stream",
     "text": [
      "[[22, 9, 3], [1, 16, 13], [22, 2, 12], [8, 29, 12]]\n",
      "(3, 29)\n",
      "[[22, 9, 3], [1, 16, 13], [22, 2, 12]]\n"
     ]
    }
   ],
   "source": [
    "from random import randint\n",
    "\n",
    "m, n = randint(3, 10), randint(3, 10)\n",
    "a = [[randint(0, 40) for _ in range(m)] for i in range(n)]\n",
    "\n",
    "print(a)\n",
    "\n",
    "maxNum = (False, False)\n",
    "\n",
    "for i in range(n):\n",
    "    maxTmp = max(a[i])\n",
    "    if maxNum[1]==False or maxNum[1]<maxTmp:\n",
    "        maxNum = (i, maxTmp)\n",
    "            \n",
    "del a[maxNum[0]]\n",
    "print(maxNum)\n",
    "print(a)"
   ]
  },
  {
   "cell_type": "markdown",
   "id": "25d5f20c",
   "metadata": {},
   "source": [
    "<p style=\"background:powderblue; font-weight:bold\">Задача 4</p>\n",
    "\n",
    "Напишите программу: <br>\n",
    "а) чтобы проверить, существует ли данный ключ в словаре;<br>\n",
    "б) для создания и отображения всех комбинаций букв, выбирая каждую букву из другого ключа в словаре, например, задан словарь `{'1': ['a', 'b'], '2': ['c', 'd']}`, результат: ac, ad, bc, bd; <br>\n",
    "в) для замены значений словаря их средним значением."
   ]
  },
  {
   "cell_type": "code",
   "execution_count": 2,
   "id": "4106e368",
   "metadata": {},
   "outputs": [
    {
     "name": "stdout",
     "output_type": "stream",
     "text": [
      "Ключ 13 имеется в словарях\n",
      "{0: 454.11764705882354, 1: 454.11764705882354, 2: 454.11764705882354, 3: 454.11764705882354, 4: 454.11764705882354, 5: 454.11764705882354, 6: 454.11764705882354, 7: 454.11764705882354, 8: 454.11764705882354, 9: 454.11764705882354, 10: 454.11764705882354, 11: 454.11764705882354, 12: 454.11764705882354, 13: 454.11764705882354, 14: 454.11764705882354, 15: 454.11764705882354, 16: 454.11764705882354}\n",
      "['ac', 'ad', 'ay', 'am', 'bc', 'bd', 'by', 'bm', 'xc', 'xd', 'xy', 'xm', 'zc', 'zd', 'zy', 'zm']\n",
      "{'1': ['a', 'b', 'x', 'z'], '2': ['c', 'd', 'y', 'm']}\n"
     ]
    }
   ],
   "source": [
    "from random import randint\n",
    "\n",
    "dct = {'1': ['a', 'b', 'x', 'z'], '2': ['c', 'd', 'y', 'm']}\n",
    "dct_key = list(dct.keys())\n",
    "all_combin = []\n",
    "dct_num = dict()\n",
    "\n",
    "summ = 0\n",
    "for i in range(randint(2, 30)):\n",
    "    dct_num[i] = randint(2, 1000)\n",
    "    summ+=dct_num[i]\n",
    "    \n",
    "summ=summ/len(dct_num)\n",
    "\n",
    "for i in range(len(dct_num)):\n",
    "    dct_num[i]=summ\n",
    "\n",
    "rand_key = randint(1, len(dct_num)+3)\n",
    "\n",
    "for i in range(len(dct_key)-1):\n",
    "    for m in range(len(dct[dct_key[i]])):\n",
    "        for n in range(len(dct[dct_key[i+1]])):\n",
    "            all_combin.append(dct[dct_key[i]][m]+dct[dct_key[i+1]][n])\n",
    "\n",
    "if str(rand_key) in dct_key or str(rand_key in dct_num):\n",
    "    print(f'Ключ {rand_key} имеется в словарях')\n",
    "else:\n",
    "    print(f'Ключ {rand_key} не существует в словарях')\n",
    "    \n",
    "\n",
    "print(dct_num)\n",
    "print(all_combin)\n",
    "print(dct)"
   ]
  },
  {
   "cell_type": "markdown",
   "id": "244ab5e5",
   "metadata": {},
   "source": [
    "<p style=\"background:powderblue; font-weight:bold\">Задача 5</p>\n",
    "\n",
    "Напишите программу: <br>\n",
    "а) для перебора словарей с использованием цикла for;<br>\n",
    "б) чтобы найти три наибольших значения соответствующих ключей в словаре;<br>\n",
    "в) для сопоставления значений ключей в двух словарях.<br>"
   ]
  },
  {
   "cell_type": "code",
   "execution_count": 23,
   "id": "2c7145fb",
   "metadata": {},
   "outputs": [
    {
     "name": "stdout",
     "output_type": "stream",
     "text": [
      "{1: 81797, 2: 25462, 3: 38571, 4: 19918, 5: 98714, 6: 1110, 7: 26527, 8: 61219, 9: 87961, 10: 48892, 11: 3904, 12: 55828, 13: 36139, 14: 66650, 15: 16635, 16: 9881, 17: 86465, 18: 40830, 19: 5274, 20: 73537, 21: 29175, 22: 64732, 23: 70368, 24: 92866, 25: 76190, 26: 87768, 27: 58944, 28: 30433, 29: 54686, 30: 24238, 31: 46854, 32: 20413, 33: 1446, 34: 77806, 35: 47516, 36: 9113, 37: 53106, 38: 74190, 39: 3799, 40: 8406, 41: 69048, 42: 17799, 43: 82376, 44: 685, 45: 78743, 46: 68868, 47: 4474, 48: 85256, 49: 45262, 50: 63025, 51: 46309, 52: 73754, 53: 59126, 54: 40211, 55: 32532, 56: 33198, 57: 80774, 58: 91373, 59: 39223, 60: 95244, 61: 42587, 62: 30714, 63: 33880, 64: 17288}\n"
     ]
    },
    {
     "data": {
      "text/plain": [
       "{'num1': (5, 98714), 'num2': (60, 95244), 'num3': (58, 91373)}"
      ]
     },
     "execution_count": 23,
     "metadata": {},
     "output_type": "execute_result"
    }
   ],
   "source": [
    "from random import randint\n",
    "\n",
    "n = randint(0, 100)\n",
    "dct = dict()\n",
    "numMax = {'num1': (False, False), 'num2': (False, False), 'num3': (False, False)}\n",
    "\n",
    "for i in range(1, n):\n",
    "    dct[i] = randint(0, 100000)\n",
    "    \n",
    "print(dct)\n",
    "    \n",
    "for key in dct:\n",
    "    tmpNum = dct[key]\n",
    "    for key1 in numMax:\n",
    "        if numMax[key1][1]==False or numMax[key1][1]<tmpNum:\n",
    "            numMax[key1] = (key, tmpNum)\n",
    "            break\n",
    "            \n",
    "numMax"
   ]
  },
  {
   "cell_type": "markdown",
   "id": "09f94570",
   "metadata": {},
   "source": [
    "<p style=\"background:powderblue; font-weight:bold\">Задача 6</p>\n",
    "\n",
    "Напишите программу <br>\n",
    "а) для создания и печати словаря, содержащего число `(от 1 до n)` в форме `(x, x*x)`, например, при $n = 5$ получить словарь `{1: 1, 2: 4, 3: 9, 4: 16, 5: 25}`; <br>\n",
    "б) для объединения значений в списке словарей; <br>\n",
    "в) для удаления пустых элементов из заданного словаря. "
   ]
  },
  {
   "cell_type": "code",
   "execution_count": 1,
   "id": "c4adb024",
   "metadata": {},
   "outputs": [
    {
     "name": "stdout",
     "output_type": "stream",
     "text": [
      "Ключ 13 имеется в словарях\n",
      "{0: 667.4, 1: 667.4, 2: 667.4, 3: 667.4, 4: 667.4, 5: 667.4, 6: 667.4, 7: 667.4, 8: 667.4, 9: 667.4}\n",
      "['ac', 'ad', 'ay', 'am', 'bc', 'bd', 'by', 'bm', 'xc', 'xd', 'xy', 'xm', 'zc', 'zd', 'zy', 'zm']\n",
      "{'1': ['a', 'b', 'x', 'z'], '2': ['c', 'd', 'y', 'm']}\n"
     ]
    }
   ],
   "source": [
    "from random import randint\n",
    "\n",
    "dct = {'1': ['a', 'b', 'x', 'z'], '2': ['c', 'd', 'y', 'm']}\n",
    "dct_key = list(dct.keys())\n",
    "all_combin = []\n",
    "dct_num = dict()\n",
    "\n",
    "summ = 0\n",
    "for i in range(randint(2, 30)):\n",
    "    dct_num[i] = randint(2, 1000)\n",
    "    summ+=dct_num[i]\n",
    "    \n",
    "summ=summ/len(dct_num)\n",
    "\n",
    "for i in range(len(dct_num)):\n",
    "    dct_num[i]=summ\n",
    "\n",
    "rand_key = randint(1, len(dct_num)+3)\n",
    "\n",
    "for i in range(len(dct_key)-1):\n",
    "    for m in range(len(dct[dct_key[i]])):\n",
    "        for n in range(len(dct[dct_key[i+1]])):\n",
    "            all_combin.append(dct[dct_key[i]][m]+dct[dct_key[i+1]][n])\n",
    "\n",
    "if str(rand_key) in dct_key or str(rand_key in dct_num):\n",
    "    print(f'Ключ {rand_key} имеется в словарях')\n",
    "else:\n",
    "    print(f'Ключ {rand_key} не существует в словарях')\n",
    "    \n",
    "\n",
    "print(dct_num)\n",
    "print(all_combin)\n",
    "print(dct)"
   ]
  }
 ],
 "metadata": {
  "kernelspec": {
   "display_name": "Python 3 (ipykernel)",
   "language": "python",
   "name": "python3"
  },
  "language_info": {
   "codemirror_mode": {
    "name": "ipython",
    "version": 3
   },
   "file_extension": ".py",
   "mimetype": "text/x-python",
   "name": "python",
   "nbconvert_exporter": "python",
   "pygments_lexer": "ipython3",
   "version": "3.11.5"
  }
 },
 "nbformat": 4,
 "nbformat_minor": 5
}
