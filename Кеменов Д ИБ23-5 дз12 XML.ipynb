{
 "cells": [
  {
   "cell_type": "markdown",
   "metadata": {},
   "source": [
    "# Домашнее задание 12\n",
    "\n",
    "Выполните домашнее задание и сохраните в контрольной точке электронного учебного курса в файле с именем в формате\n",
    "\n",
    "```<Фамилия_Имя_Группа_ДЗ_12>.ipynb```"
   ]
  },
  {
   "cell_type": "markdown",
   "metadata": {},
   "source": [
    "### Задание\n",
    "\n",
    "На портале открытых данных Правительства Москвы получите и сохраните на диск набор данных <a href=\"https://data.mos.ru/opendata/498?pageSize=10&pageIndex=0&isDynamic=false\"> Аттракционы в парках и на площадках</a>  в формате XML. Копия этого набора данных нахдится в папке *Data* Вашего электронного учебного курса, имя файла *data-498-2023-11-24.xml*\n",
    "\n",
    "Найдите три парка с наибольшим числом атракционов и распечатйте их названия и число атракционов в каждом, отсортировав по убыванию числа атракционов."
   ]
  },
  {
   "cell_type": "code",
   "execution_count": 2,
   "metadata": {
    "scrolled": false
   },
   "outputs": [],
   "source": [
    "# Ваш код здесь\n",
    "import xml.etree.ElementTree as ET\n",
    "from collections import Counter"
   ]
  },
  {
   "cell_type": "code",
   "execution_count": 6,
   "metadata": {},
   "outputs": [],
   "source": [
    "tree = ET.parse('assets/data-498-2023-11-24.xml') # Измените путь к файлу, если требуется\n",
    "root = tree.getroot()"
   ]
  },
  {
   "cell_type": "code",
   "execution_count": 7,
   "metadata": {},
   "outputs": [
    {
     "data": {
      "text/plain": [
       "Counter({'парк': 247})"
      ]
     },
     "execution_count": 7,
     "metadata": {},
     "output_type": "execute_result"
    }
   ],
   "source": [
    "# Подсчитайте число атракционов в парках в словаре вида\n",
    "# {парк1: число, парк2: число ...}\n",
    "\n",
    "parks = []\n",
    "for p in root.iter('item'):\n",
    "    if p[-1].text == 'парк':\n",
    "        parks.append(p[-1].text) # Измените эту строку\n",
    "\n",
    "d = Counter(parks)\n",
    "d"
   ]
  },
  {
   "cell_type": "code",
   "execution_count": null,
   "metadata": {},
   "outputs": [],
   "source": [
    "# Отсортируйте словарь и найдите три наибольших значения, распечатайте названия парков и число атракционов.\n"
   ]
  }
 ],
 "metadata": {
  "kernelspec": {
   "display_name": "Python 3 (ipykernel)",
   "language": "python",
   "name": "python3"
  },
  "language_info": {
   "codemirror_mode": {
    "name": "ipython",
    "version": 3
   },
   "file_extension": ".py",
   "mimetype": "text/x-python",
   "name": "python",
   "nbconvert_exporter": "python",
   "pygments_lexer": "ipython3",
   "version": "3.11.4"
  }
 },
 "nbformat": 4,
 "nbformat_minor": 4
}
