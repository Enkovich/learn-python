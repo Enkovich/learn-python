{
 "cells": [
  {
   "cell_type": "markdown",
   "id": "d526e9b1",
   "metadata": {},
   "source": [
    "# Алгоритмы и структуры данных в языке Python\n",
    "\n",
    "# Семинар 7.2 (19) Введение в ООП"
   ]
  },
  {
   "cell_type": "code",
   "execution_count": 2,
   "id": "d2cc9f45",
   "metadata": {},
   "outputs": [],
   "source": [
    "from prettytable import PrettyTable"
   ]
  },
  {
   "cell_type": "code",
   "execution_count": 6,
   "id": "37a2eaa1",
   "metadata": {},
   "outputs": [
    {
     "name": "stdout",
     "output_type": "stream",
     "text": [
      "Collecting prettytable\n",
      "  Obtaining dependency information for prettytable from https://files.pythonhosted.org/packages/3d/c4/a32f4bf44faf95accbbd5d7864ddef9e289749a8efbc3adaad4a4671779a/prettytable-3.10.0-py3-none-any.whl.metadata\n",
      "  Downloading prettytable-3.10.0-py3-none-any.whl.metadata (30 kB)\n",
      "Requirement already satisfied: wcwidth in c:\\users\\home\\anaconda3\\lib\\site-packages (from prettytable) (0.2.5)\n",
      "Downloading prettytable-3.10.0-py3-none-any.whl (28 kB)\n",
      "Installing collected packages: prettytable\n",
      "Successfully installed prettytable-3.10.0\n",
      "Note: you may need to restart the kernel to use updated packages.\n"
     ]
    }
   ],
   "source": [
    "pip install prettytable"
   ]
  },
  {
   "cell_type": "markdown",
   "id": "5af90850",
   "metadata": {},
   "source": [
    "<p style = \"background:#FF6D72\">&nbsp; Задание 1.</p>\n",
    "\n",
    "Создайте класс *Студент* (имя, фамилия, возраст) с методами, позволяющими вывести на экран информацию о студенте. Создайте дочерние классы *Бакалавр* (имя, фамилия, возраст, курс), *Магистр* (имя, фамилия, возраст, специализация), *Аспирант* (имя, фамилия, возраст, тема диссертации) со своими методами вывода информации на экран. Создайте список студентов, выведите полную информацию из базы на экран, а также организуйте поиск студентов по имени и курсу.\n",
    "\n",
    "Продемонстрируйте работу с классами, создав необходимые объекты и вызвав их методы. "
   ]
  },
  {
   "cell_type": "code",
   "execution_count": 1,
   "id": "a69707df",
   "metadata": {},
   "outputs": [],
   "source": [
    "# 1.\n",
    "class Student(object):\n",
    "    '''Класс студент'''\n",
    "    def __init__(self, name, lastname, age):\n",
    "        '''Инициализация'''\n",
    "        self.name = name\n",
    "        self.lastname = lastname\n",
    "        self.age = age\n",
    "        \n",
    "    def __str__(self):\n",
    "        '''Вывод информации'''\n",
    "        return f\"{self.name}, {self.lastname}, возраст {self.age}\""
   ]
  },
  {
   "cell_type": "code",
   "execution_count": 4,
   "id": "8dc19385",
   "metadata": {},
   "outputs": [],
   "source": [
    "class Bachelor(Student):\n",
    "    '''Класс Бакалавр'''\n",
    "    def __init__(self, name, lastname, age, course):\n",
    "        super().__init__(name, lastname, age)\n",
    "        self.course = course\n",
    "        \n",
    "    def __str__(self):\n",
    "        return f\"{self.name}, {self.lastname}, возраст {self.age}, курс {self.course}\"\n",
    "        \n",
    "class Master(Student):\n",
    "    '''Класс Магистр'''\n",
    "    def __init__(self, name, lastname, age, spec):\n",
    "        super().__init__(name, lastname, age)\n",
    "        self.spec = spec\n",
    "        \n",
    "    def __str__(self):\n",
    "        return f\"{self.name}, {self.lastname}, возраст {self.age}, специализация {self.spec}\"\n",
    "    \n",
    "class Postgraduate(Student):\n",
    "    '''Класс Аспирантура'''\n",
    "    def __init__(self, name, lastname, age, dissert):\n",
    "        super().__init__(name, lastname, age)\n",
    "        self.dissert = dissert\n",
    "            \n",
    "    def __str__(self):\n",
    "        return f\"{self.name}, {self.lastname}, возраст {self.age}, диссертация {self.dissert}\""
   ]
  },
  {
   "cell_type": "code",
   "execution_count": 5,
   "id": "e95fb3c7",
   "metadata": {},
   "outputs": [
    {
     "name": "stdout",
     "output_type": "stream",
     "text": [
      "Вася, Пупкин, возраст 25, курс 3\n",
      "Вася, Пупкин, возраст 23, курс 1\n",
      "Вася, Пупкин, возраст 21, курс 4\n",
      "Вася, Пупкин, возраст 25, специализация Модели беспчения долговых выплат\n",
      "Вася, Пупкин, возраст 25, диссертация Анализ ключевой ставки ЦБ\n"
     ]
    }
   ],
   "source": [
    "b1 = Bachelor(\"Вася\", \"Пупкин\", 25, 3)\n",
    "b2 = Bachelor(\"Вася\", \"Пупкин\", 23, 1)\n",
    "b3 = Bachelor(\"Вася\", \"Пупкин\", 21, 4)\n",
    "s1 = Master(\"Вася\", \"Пупкин\", 25, \"Модели беспчения долговых выплат\")\n",
    "m1 = Postgraduate(\"Вася\", \"Пупкин\", 25, \"Анализ ключевой ставки ЦБ\")\n",
    "\n",
    "students = [b1, b2, b3, s1, m1]\n",
    "for s in students:\n",
    "    print(s)"
   ]
  },
  {
   "cell_type": "markdown",
   "id": "fd6455ce",
   "metadata": {},
   "source": [
    "<p style = \"background:#FF6D72\">&nbsp; Задание 2.</p>\n",
    "\n",
    "Создайте класс *Комбинат питания* с методами, позволяющими вывести на экран информацию о предприятии общественного питания. Создайте дочерние классы *Ресторан* (название, рейтинг, наличие живой музыки), *Закусочная* (название, рейтинг, возможность комплексного обеда), *Столовая* (название, рейтинг, возможность комплексного обеда, работа в выходные дни) со своими методами вывода информации на экран. Создайте список предприятий общественного питания, организуйте поиск предприятий по рейтингу.\n",
    "\n",
    "Продемонстрируйте работу с классами, создав необходимые объекты и вызвав их методы. "
   ]
  },
  {
   "cell_type": "code",
   "execution_count": null,
   "id": "72ddd7c8",
   "metadata": {},
   "outputs": [],
   "source": [
    "class Combinat(object):\n",
    "    '''Класс комбинат'''\n",
    "    def __init__(self, name, raiting):\n",
    "        self.name = name\n",
    "        self.raiting = raiting\n",
    "        \n",
    "    def __str__(self):\n",
    "        return f'Комбинат {self.name}, рейтинг {self.raiting}'\n",
    "    \n",
    "class Restoran(Combinat):\n",
    "    '''Класс ресторан'''\n",
    "    def __init__(self, name, raiting, music):\n",
    "        super().__init__(name, raiting)\n",
    "        self.music = music\n",
    "        \n",
    "    def __str__(self):\n",
    "        return f'Ресторан {self.name}, рейтинг {self.raiting}, наличие живой музыки {self.music}'\n",
    "    \n",
    "class Snack(Combinat):\n",
    "    '''Класс ресторан'''\n",
    "    def __init__(self, name, raiting, setLunch):\n",
    "        super().__init__(name, raiting)\n",
    "        self.setLunch = setLunch\n",
    "        \n",
    "    def __str__(self):\n",
    "        return f'Ресторан {self.name}, рейтинг {self.raiting}, наличие комплексного обеда {self.music}'\n",
    "    \n",
    "class DiningRoom(Snack):\n",
    "    '''Класс ресторан'''\n",
    "    def __init__(self, name, raiting, setLunch, workOnWeekends):\n",
    "        super().__init__(name, raiting, setLunch)\n",
    "        self.workOnWeekends = workOnWeekends\n",
    "        \n",
    "    def __str__(self):\n",
    "        return f'Ресторан {self.name}, рейтинг {self.raiting}, наличие комплексного обеда {self.music}, работа в выходные дни {self.workOnWeekends}'\n",
    "    \n",
    "    \n"
   ]
  },
  {
   "cell_type": "markdown",
   "id": "46ac84cc",
   "metadata": {},
   "source": [
    "<p style = \"background:#FF6D72\">&nbsp; Задание 3.</p>\n",
    "\n",
    "Создайте класс *Спортсмен* с методами, позволяющими вывести на экран информацию о спортсмене, а также определить, подходит ли данный спортсмен длязаданных условий. Создайте дочерние классы *Легкоатлет* (имя, фамилия, воз-раст, дисциплина), *Пловец* (имя, фамилия, возраст, дистанция), *Боксёр* (имя,фамилия, возраст, весовая категория) со своими методами вывода информации наэкран и определения соответствия заданным условиям. Создайте список спортсменов, выведите полную информацию из базы на экран, а также организуйте поиск спортсменов по имени и возрасту."
   ]
  },
  {
   "cell_type": "code",
   "execution_count": 11,
   "id": "9846e372",
   "metadata": {},
   "outputs": [
    {
     "name": "stdout",
     "output_type": "stream",
     "text": [
      "Athlete John Doe, age 25, discipline Running\n",
      "Swimmer Alice Smith, age 30, distance 50m freestyle\n",
      "Swimmer Mike Johnson, age 28, weight_category Heavyweight\n",
      "Sportsman not found.\n",
      "Found sportsman: Alice Smith\n"
     ]
    }
   ],
   "source": [
    "class Sportsman(object):\n",
    "    '''Класс спортсмен'''\n",
    "    def __init__(self, name, surname, age):\n",
    "        self.name = name\n",
    "        self.surname = surname\n",
    "        self.age = age\n",
    "        \n",
    "class Athlete(Sportsman):\n",
    "    '''Класс спортсмен'''\n",
    "    def __init__(self, name, surname, age, discipline):\n",
    "        super().__init__(name, surname, age)\n",
    "        self.discipline = discipline\n",
    "\n",
    "    def __str__(self):\n",
    "        return f'Athlete {self.name} {self.surname}, age {self.age}, discipline {self.discipline}'\n",
    "    \n",
    "class Swimmer(Sportsman):\n",
    "    '''Класс пловец'''\n",
    "    def __init__(self, name, surname, age, distance):\n",
    "        super().__init__(name, surname, age)\n",
    "        self.distance = distance\n",
    "\n",
    "    def __str__(self):\n",
    "        return f'Swimmer {self.name} {self.surname}, age {self.age}, distance {self.distance}'\n",
    "\n",
    "    def is_suitable(self, condition):\n",
    "        if condition == \"50m freestyle\":\n",
    "            return True\n",
    "        else:\n",
    "            return False\n",
    "        \n",
    "class Boxer(Sportsman):\n",
    "    '''Класс боксёр'''\n",
    "    def __init__(self, name, surname, age, weight_category):\n",
    "        super().__init__(name, surname, age)\n",
    "        self.weight_category = weight_category\n",
    "\n",
    "    def __str__(self):\n",
    "        return f'Swimmer {self.name} {self.surname}, age {self.age}, weight_category {self.weight_category}'\n",
    "\n",
    "    def is_suitable(self, condition):\n",
    "        if condition == \"Heavyweight\":\n",
    "            return True\n",
    "        else:\n",
    "            return False\n",
    "        \n",
    "athlete1 = Athlete(\"John\", \"Doe\", 25, \"Running\")\n",
    "swimmer1 = Swimmer(\"Alice\", \"Smith\", 30, \"50m freestyle\")\n",
    "boxer1 = Boxer(\"Mike\", \"Johnson\", 28, \"Heavyweight\")\n",
    "\n",
    "print(athlete1)\n",
    "print(swimmer1)\n",
    "print(boxer1)\n",
    "\n",
    "sportsmen = [athlete1, swimmer1, boxer1]\n",
    "\n",
    "name_to_search = \"Alice\"\n",
    "age_to_search = 30\n",
    "\n",
    "for sportsman in sportsmen:\n",
    "    if sportsman.name == name_to_search and sportsman.age == age_to_search:\n",
    "        print(f\"Found sportsman: {sportsman.name} {sportsman.surname}\")\n",
    "        break\n",
    "    else:\n",
    "        print(\"Sportsman not found.\")"
   ]
  },
  {
   "cell_type": "markdown",
   "id": "915580a3",
   "metadata": {},
   "source": [
    "<p style = \"background:#FF6D72\">&nbsp; Задание 4.</p>\n",
    "\n",
    "Создайте класс «Банк» с атрибутами \"название\" и \"список счетов\". Каждый счет представлен классом «Счет» с атрибутами \"номер\" и \"баланс\". Напишите методы для добавления счета в банк, удаления счета из банка и вычисления общего баланса всех счетов в банке. Используйте магический метод \\_\\_len\\_\\_ для определения количества счетов в банке."
   ]
  },
  {
   "cell_type": "code",
   "execution_count": 4,
   "id": "061613d3",
   "metadata": {},
   "outputs": [
    {
     "name": "stdout",
     "output_type": "stream",
     "text": [
      "Общий баланс в Сбербанк : 35000\n",
      "Количество счетов в Сбербанк : 2\n",
      "Общий баланс в Сбербанк : 20000\n",
      "Количество счетов в Сбербанк : 1\n"
     ]
    }
   ],
   "source": [
    "# 4.\n",
    "class Account(object):\n",
    "    '''Класс счёт'''\n",
    "    def __init__(self, number, balance):\n",
    "        self.number = number\n",
    "        self.balance = balance\n",
    "\n",
    "class Bank(object):\n",
    "    '''Класс банк'''\n",
    "    def __init__(self, name):\n",
    "        self.name = name\n",
    "        self.accounts = []\n",
    "\n",
    "    def add_account(self, number, balance):\n",
    "        '''Добавить счёт'''\n",
    "        account = Account(number, balance)\n",
    "        self.accounts.append(account)\n",
    "\n",
    "    def remove_account(self, number):\n",
    "        '''Удалить счёт'''\n",
    "        for account in self.accounts:\n",
    "            if account.number == number:\n",
    "                self.accounts.remove(account)\n",
    "                break\n",
    "\n",
    "    def total_balance(self):\n",
    "        '''Общий баланс всех счётов'''\n",
    "        total = 0\n",
    "        for account in self.accounts:\n",
    "            total += account.balance\n",
    "        return total\n",
    "\n",
    "    def __len__(self):\n",
    "        return len(self.accounts)\n",
    "\n",
    "bank = Bank(\"Сбербанк\")\n",
    "bank.add_account(589635, 15000)\n",
    "bank.add_account(683228, 20000)\n",
    "print(f\"Общий баланс в {bank.name}: {bank.total_balance()}\")\n",
    "print(f\"Количество счетов в {bank.name}: {len(bank)}\")\n",
    "bank.remove_account(589635)\n",
    "print(f\"Общий баланс в {bank.name}: {bank.total_balance()}\")\n",
    "print(f\"Количество счетов в {bank.name}: {len(bank)}\")"
   ]
  },
  {
   "cell_type": "markdown",
   "id": "2cbf833d",
   "metadata": {},
   "source": [
    "<p style = \"background:#FF6D72\">&nbsp; Задание 5.</p>\n",
    "\n",
    "Создайте класс фруктов *Fruit*, хранящий информацию о форме фрукта, его цвете и весе. Для класса *Fruit* создать:\n",
    "- метод подсчета общего веса экземпляров класса;\n",
    "- метод сравнения общего веса данного экземпляра класса с любым другим;\n",
    "- метод вывода полной информации об экземпляре класса в виде таблицы."
   ]
  },
  {
   "cell_type": "code",
   "execution_count": 7,
   "id": "2b433ebc",
   "metadata": {},
   "outputs": [
    {
     "name": "stdout",
     "output_type": "stream",
     "text": [
      "+---------+---------+-------+-------+\n",
      "|   name  |   form  | color | massa |\n",
      "+---------+---------+-------+-------+\n",
      "| Фрукт 1 | Круглая | green |   5   |\n",
      "| Фрукт 2 | Круглая | green |   10  |\n",
      "| Фрукт 3 | Круглая | green |   3   |\n",
      "| Фрукт 4 | Круглая | green |   11  |\n",
      "| Фрукт 5 | Круглая | green |   12  |\n",
      "+---------+---------+-------+-------+\n",
      "41\n",
      "Фрукт 1 < Фрукт 2\n",
      "Неверный ввод\n"
     ]
    }
   ],
   "source": [
    "class Fruit(object):\n",
    "    '''Класс фрукты'''\n",
    "    data = {}\n",
    "    def __init__(self):\n",
    "        pass\n",
    "        \n",
    "    def __str__(cls):\n",
    "        x=PrettyTable()\n",
    "        x.field_names = ['name', 'form', 'color', 'massa']\n",
    "        for elem in cls.data.keys():\n",
    "            x.add_row([elem, cls.data[elem][0], cls.data[elem][1], cls.data[elem][2]])\n",
    "        \n",
    "        return x.get_string()\n",
    "    \n",
    "    @classmethod\n",
    "    def put(cls, name, form, color, massa):\n",
    "        '''Добавить фрукт'''\n",
    "        cls.data[name] = [form, color, massa]\n",
    "        \n",
    "    def sumMass(cls):\n",
    "        '''Общая сумма'''\n",
    "        num = 0\n",
    "        for elem in cls.data.keys():\n",
    "            num += cls.data[elem][2]\n",
    "        return num\n",
    "    \n",
    "    def compareFruit(cls, fruit1, fruit2):\n",
    "        '''Сравниваем фрукты'''\n",
    "        fruitsList = cls.data.keys()\n",
    "        if fruit1 in fruitsList and fruit2 in fruitsList:\n",
    "            if cls.data[fruit1][2] > cls.data[fruit2][2]:\n",
    "                return f'{fruit1} > {fruit2}'\n",
    "            elif cls.data[fruit1][2] == cls.data[fruit2][2]:\n",
    "                return f'{fruit1} = {fruit2}'\n",
    "            else:\n",
    "                return f'{fruit1} < {fruit2}'\n",
    "        else:\n",
    "            return f'Неверный ввод'\n",
    "        \n",
    "        \n",
    "f1 = Fruit()\n",
    "f1.put('Фрукт 1', \"Круглая\", \"green\", 5)\n",
    "f1.put('Фрукт 2', \"Круглая\", \"green\", 10)\n",
    "f1.put('Фрукт 3', \"Круглая\", \"green\", 3)\n",
    "f1.put('Фрукт 4', \"Круглая\", \"green\", 11)\n",
    "f1.put('Фрукт 5', \"Круглая\", \"green\", 12)\n",
    "\n",
    "print(f1)\n",
    "print(f1.sumMass())\n",
    "print(f1.compareFruit('Фрукт 1', 'Фрукт 2'))\n",
    "print(f1.compareFruit('Фрукт 4', 'Фрукт 10'))"
   ]
  },
  {
   "cell_type": "markdown",
   "id": "bfc22118",
   "metadata": {},
   "source": [
    "<p style = \"background:#FF6D72\">&nbsp; Задание 6.</p>\n",
    "\n",
    "Создать класс *Лифт*, объекты которого содержат атрибут текущей грузоподъемности. Разработать метод, который сравнивает текущую грузоподъемность лифта с максимальной грузоподъемностью лифта и дает рекомендации по переполнению или недобору грузоподъемности."
   ]
  },
  {
   "cell_type": "code",
   "execution_count": 3,
   "id": "7351357d",
   "metadata": {},
   "outputs": [
    {
     "name": "stdout",
     "output_type": "stream",
     "text": [
      "Максимальная грузоподъёмность - 900 кг, текущая - 925 кг\n",
      "Перебор по грузоподъёмности на 25 кг\n"
     ]
    }
   ],
   "source": [
    "# 6.\n",
    "class elevator(object):\n",
    "    '''Класс лифт'''\n",
    "    maxCapacity = 900\n",
    "    def __init__(self, currCapacity):\n",
    "        self.currCapacity = currCapacity\n",
    "        \n",
    "    def __str__(self):\n",
    "        return f'Максимальная грузоподъёмность - {self.maxCapacity} кг, текущая - {self.currCapacity} кг'\n",
    "    \n",
    "    def returnCapacity(self):\n",
    "        if self.maxCapacity - self.currCapacity > 0:\n",
    "            return f'В лифт ещё можно загрузить груз массой {self.maxCapacity - self.currCapacity} кг,'\n",
    "        elif self.maxCapacity - self.currCapacity == 0:\n",
    "            return f'Максимальная грузоподьёмность достигнута'\n",
    "        else:\n",
    "            return f'Перебор по грузоподъёмности на {self.currCapacity - self.maxCapacity} кг'\n",
    "        \n",
    "e = elevator(925)\n",
    "print(e)\n",
    "print(e.returnCapacity())"
   ]
  }
 ],
 "metadata": {
  "kernelspec": {
   "display_name": "Python 3 (ipykernel)",
   "language": "python",
   "name": "python3"
  },
  "language_info": {
   "codemirror_mode": {
    "name": "ipython",
    "version": 3
   },
   "file_extension": ".py",
   "mimetype": "text/x-python",
   "name": "python",
   "nbconvert_exporter": "python",
   "pygments_lexer": "ipython3",
   "version": "3.11.5"
  }
 },
 "nbformat": 4,
 "nbformat_minor": 5
}
