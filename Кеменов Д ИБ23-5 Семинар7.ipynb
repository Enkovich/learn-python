{
 "cells": [
  {
   "cell_type": "markdown",
   "id": "d6b4552b",
   "metadata": {},
   "source": [
    "## Алгоритмы и структуры данных в языке Python\n",
    "\n",
    "## Семинар 7\n",
    "\n",
    "Выполните задания семинара и сохраните в файле с имененем в формате `Фамилия_Имя_Группа_Семинар_7.ipynb`. Загрузите этот файл в контрольную точку электронного учебного курса."
   ]
  },
  {
   "cell_type": "code",
   "execution_count": null,
   "id": "c4d1a7f9",
   "metadata": {},
   "outputs": [],
   "source": [
    "from random import randint"
   ]
  },
  {
   "cell_type": "markdown",
   "id": "f9249c2c",
   "metadata": {},
   "source": [
    "<p style=\"background:#F0A5FF; font-weight:bold\">Задача 1</p>\n",
    "\n",
    "Дана целочисленная матрица размера $m \\times n$. Найти номер первого из ее столбцов, содержащих только нечетные числа. Если таких столбцов нет, то вывести 0."
   ]
  },
  {
   "cell_type": "code",
   "execution_count": 209,
   "id": "378dd5fa",
   "metadata": {},
   "outputs": [
    {
     "name": "stdout",
     "output_type": "stream",
     "text": [
      "[[6, 3], [4, 6], [4, 13]]\n"
     ]
    },
    {
     "data": {
      "text/plain": [
       "set()"
      ]
     },
     "execution_count": 209,
     "metadata": {},
     "output_type": "execute_result"
    }
   ],
   "source": [
    "from random import randint\n",
    "\n",
    "m = randint(2, 5)\n",
    "n = randint(2, 5)\n",
    "matrix = []\n",
    "lst = []\n",
    "\n",
    "for i in range(m):\n",
    "    temp = []\n",
    "    for j in range(n):\n",
    "        temp.append(randint(0, 20))\n",
    "    matrix.append(temp)\n",
    "\n",
    "print(matrix)\n",
    "\n",
    "for i in range(m):\n",
    "    tmp = set()\n",
    "    for j in range(n):\n",
    "        if matrix[i][j]%2!=0:\n",
    "            tmp.add(j)\n",
    "            \n",
    "    lst.append(tmp)\n",
    "\n",
    "t = lst[0]\n",
    "for s in lst:\n",
    "    t.intersection_update(s)\n",
    "\n",
    "t"
   ]
  },
  {
   "cell_type": "markdown",
   "id": "c29a36f4",
   "metadata": {},
   "source": [
    "<p style=\"background:#F0A5FF; font-weight:bold\">Задача 2</p>\n",
    "\n",
    "Дана матрица размера $m \\times n$. Преобразовать матрицу, поменяв местами минимальный и максимальный элемент в каждой строке. Если минимальных и максимальных элементов более одного, используйте первый из них."
   ]
  },
  {
   "cell_type": "code",
   "execution_count": 205,
   "id": "ba684745",
   "metadata": {
    "scrolled": true
   },
   "outputs": [
    {
     "name": "stdout",
     "output_type": "stream",
     "text": [
      "[[0, 8, 12, 1, 13, 6, 2], [13, 17, 9, 4, 4, 7, 18], [5, 11, 5, 0, 13, 12, 12], [14, 17, 16, 0, 16, 6, 18]]\n",
      "[[13, 8, 12, 1, 0, 6, 2], [13, 17, 9, 18, 4, 7, 4], [5, 11, 5, 13, 0, 12, 12], [14, 17, 16, 18, 16, 6, 0]]\n"
     ]
    }
   ],
   "source": [
    "from random import randint\n",
    "\n",
    "m, n = randint(3, 10), randint(3, 10)\n",
    "\n",
    "a = [[randint(0, 20) for _ in range(m)] for i in range(n)]\n",
    "print(a)\n",
    "\n",
    "for i in range(n):\n",
    "    idx_min = a[i].index(min(a[i]))\n",
    "    idx_max = a[i].index(max(a[i]))\n",
    "    \n",
    "    a[i][idx_min], a[i][idx_max] = a[i][idx_max], a[i][idx_min]\n",
    "    \n",
    "print(a)"
   ]
  },
  {
   "cell_type": "markdown",
   "id": "0bd320a2",
   "metadata": {},
   "source": [
    "<p style=\"background:#F0A5FF; font-weight:bold\">Задача 3</p>\n",
    "\n",
    "Дана матрица размера $m \\times n$. Поменять местами строки, содержащие минимальный и максимальный элементы матрицы."
   ]
  },
  {
   "cell_type": "code",
   "execution_count": 30,
   "id": "c8e8f521",
   "metadata": {},
   "outputs": [
    {
     "name": "stdout",
     "output_type": "stream",
     "text": [
      "[[75, 33, 71], [71, 4, 63], [-27, 17, 31], [19, 83, 86], [-31, 36, -37]]\n",
      "[[75, 33, 71], [71, 4, 63], [-27, 17, 31], [-31, 36, -37], [19, 83, 86]]\n"
     ]
    }
   ],
   "source": [
    "from random import randint\n",
    "\n",
    "m, n = randint(3, 10), randint(3, 10)\n",
    "a = [[randint(-40, 90) for _ in range(m)] for i in range(n)]\n",
    "maxElem = [False, False]\n",
    "minElem = [False, False]\n",
    "print(a)\n",
    "\n",
    "for i in range(n):\n",
    "    tmpMax, tmpMin = max(a[i]), min(a[i])\n",
    "    if maxElem[1]==False or maxElem[1]<tmpMax: maxElem = [i, tmpMax]\n",
    "    if minElem[1]==False or minElem[1]<tmpMax: minElem = [i, tmpMin]\n",
    "\n",
    "a[maxElem[0]], a[minElem[0]] = a[minElem[0]], a[maxElem[0]]\n",
    "print(a)"
   ]
  },
  {
   "cell_type": "markdown",
   "id": "42ce0ae3",
   "metadata": {},
   "source": [
    "<p style=\"background:#F0A5FF; font-weight:bold\">Задача 4</p>\n",
    "\n",
    "Составить программу формирования множества строчных латинских букв, входящих в строку, введённую с клавиатуры, и подсчёта количества знаков препинания в ней."
   ]
  },
  {
   "cell_type": "code",
   "execution_count": 6,
   "id": "8ac9b09e",
   "metadata": {},
   "outputs": [
    {
     "name": "stdout",
     "output_type": "stream",
     "text": [
      "Составить программу формирования множества строчных латинских букв, входящих в строку, введённую с клавиатуры, и подсчёта количества знаков препинания в ней.\n",
      "{'я', 'е', 'в', 'ч', 'о', 'п', 'г', 'м', 'ь', 'с', 'ы', 'к', 'у', 'б', 'т', 'щ', 'н', 'и', 'х', 'ж', 'ф', 'р', 'й', 'л', 'д', 'ю', 'а', 'з', 'ё', ' '}\n",
      "Знаков препинания: 4\n"
     ]
    }
   ],
   "source": [
    "text = list(input().lower())\n",
    "count = 0\n",
    "arr=set()\n",
    "\n",
    "for lt in text:\n",
    "    if lt==',' or lt=='.' or lt=='!' or lt=='-':\n",
    "        count+=1\n",
    "    else:\n",
    "        arr.add(lt)\n",
    "\n",
    "print(arr)\n",
    "print('Знаков препинания:',count)"
   ]
  },
  {
   "cell_type": "markdown",
   "id": "f99ffcb2",
   "metadata": {},
   "source": [
    "<p style=\"background:#F0A5FF; font-weight:bold\">Задача 5</p>\n",
    "\n",
    "Используя множества, вывести общие буквы трёх предложений."
   ]
  },
  {
   "cell_type": "code",
   "execution_count": 116,
   "id": "b924533b",
   "metadata": {},
   "outputs": [
    {
     "data": {
      "text/plain": [
       "{' ', '!', ',', 'e', 'r'}"
      ]
     },
     "execution_count": 116,
     "metadata": {},
     "output_type": "execute_result"
    }
   ],
   "source": [
    "text1 = 'Hello, World!'\n",
    "text2 = 'Hi, there!'\n",
    "text3 = 'Goodby, cruel world!'\n",
    "\n",
    "letters = set(set(list(text1))&set(list(text2))&set(list(text3)))\n",
    "letters"
   ]
  },
  {
   "cell_type": "markdown",
   "id": "4ca7e6e9",
   "metadata": {},
   "source": [
    "<p style=\"background:#F0A5FF; font-weight:bold\">Задача 6</p>\n",
    "\n",
    "Используя множества, вывести наибольшие цифры трёх целых чисел."
   ]
  },
  {
   "cell_type": "code",
   "execution_count": 7,
   "id": "b2e6f7b7",
   "metadata": {},
   "outputs": [
    {
     "name": "stdout",
     "output_type": "stream",
     "text": [
      "9 6 9\n"
     ]
    }
   ],
   "source": [
    "from random import randint\n",
    "\n",
    "num1 = set(list(str(randint(1000, 100000000))))\n",
    "num2 = set(list(str(randint(1000, 100000000))))\n",
    "num3 = set(list(str(randint(1000, 100000000))))\n",
    "\n",
    "\n",
    "\n",
    "print(max(num1), max(num2), max(num3))"
   ]
  },
  {
   "cell_type": "markdown",
   "id": "18dda049",
   "metadata": {},
   "source": [
    "<p style=\"background:#F0A5FF; font-weight:bold\">Задача 7</p>\n",
    "\n",
    "Напишите программу: <br>\n",
    "а) для сортировки (по возрастанию и убыванию) словаря по значению;<br>\n",
    "б) для объединения двух словарей и суммирующую значения для общих ключей;<br>\n",
    "в) для проверки наличия нескольких ключей в словаре.<br>"
   ]
  },
  {
   "cell_type": "code",
   "execution_count": 1,
   "id": "46fd13e3",
   "metadata": {},
   "outputs": [
    {
     "name": "stdout",
     "output_type": "stream",
     "text": [
      "{1: -95, 2: 88, 3: -53, 4: 1}\n",
      "{3: 9, 4: 16, 5: 25, 6: 36, 7: 49, 8: 64, 9: 81, 10: 100, 11: 121, 12: 144, 13: 169, 14: 196, 15: 225, 16: 256, 17: 289, 18: 324, 19: 361, 20: 400, 21: 441, 22: 484, 23: 529, 24: 576, 25: 625} \n",
      "\n",
      "{1: -95, 2: 88, 3: -44, 4: 17, 5: 25, 6: 36, 7: 49, 8: 64, 9: 81, 10: 100, 11: 121, 12: 144, 13: 169, 14: 196, 15: 225, 16: 256, 17: 289, 18: 324, 19: 361, 20: 400, 21: 441, 22: 484, 23: 529, 24: 576, 25: 625}\n",
      "[(25, 625), (24, 576), (23, 529), (22, 484), (21, 441), (20, 400), (19, 361), (18, 324), (17, 289), (16, 256), (15, 225), (14, 196), (13, 169), (12, 144), (11, 121), (10, 100), (2, 88), (9, 81), (8, 64), (7, 49), (6, 36), (5, 25), (4, 17), (3, -44), (1, -95)]\n",
      "[(1, -95), (3, -44), (4, 17), (5, 25), (6, 36), (7, 49), (8, 64), (9, 81), (2, 88), (10, 100), (11, 121), (12, 144), (13, 169), (14, 196), (15, 225), (16, 256), (17, 289), (18, 324), (19, 361), (20, 400), (21, 441), (22, 484), (23, 529), (24, 576), (25, 625)]\n",
      "\n",
      "\n",
      "Ключ 4 существует в словаре\n",
      "Ключ 14 существует в словаре\n",
      "Ключ 26 не существует в словаре\n",
      "Ключ 6 существует в словаре\n",
      "Ключ 21 существует в словаре\n",
      "Ключ 24 существует в словаре\n",
      "Ключ 20 существует в словаре\n"
     ]
    }
   ],
   "source": [
    "from random import randint\n",
    "\n",
    "dcts = [{}, {}]\n",
    "n = randint(2, 20)\n",
    "m = randint(n-2, 40)\n",
    "\n",
    "#генерация словарей\n",
    "for i in range(1, n):\n",
    "    dcts[0][i] = randint(-100, 100)\n",
    "for i in range(n-2, m):\n",
    "    dcts[1][i]=i*i\n",
    "\n",
    "print(dcts[0])\n",
    "print(dcts[1], '\\n')\n",
    "    \n",
    "\n",
    "dct1_keys=set(dcts[0].keys())\n",
    "dct2_keys=set(dcts[1].keys())\n",
    "dcts_doubleKeys = dct1_keys.intersection(dct2_keys)\n",
    "\n",
    "#объединение 2 общих клюцей\n",
    "for key in dcts_doubleKeys:\n",
    "    dcts[0][key]=dcts[0][key]+dcts[1][key]\n",
    "    del dcts[1][key]\n",
    "    \n",
    "tmp = dcts[0]\n",
    "tmp.update(dcts[1])\n",
    "dcts = tmp\n",
    "print(tmp)\n",
    "    \n",
    "#Сортировка\n",
    "def sort_by_value(x):\n",
    "    return x[1]\n",
    "    \n",
    "print(sorted(dcts.items(), key=sort_by_value, reverse=True))\n",
    "print(sorted(dcts.items(), key=sort_by_value, reverse=False))\n",
    "print('\\n')\n",
    "\n",
    "for i in [randint(2, m+5) for _ in range(3,10)]:\n",
    "    dct_keys = list(dcts.keys())\n",
    "    if i in dct_keys:\n",
    "        print(f\"Ключ {i} существует в словаре\")\n",
    "    else:\n",
    "        print(f\"Ключ {i} не существует в словаре\")"
   ]
  },
  {
   "cell_type": "markdown",
   "id": "fdcabb3b",
   "metadata": {},
   "source": [
    "<p style=\"background:#F0A5FF; font-weight:bold\">Задача 8</p>\n",
    "\n",
    "Напишите программу: <br>\n",
    "а) для добавления ключа в словарь; <br>\n",
    "б) для печати всех уникальных значений в словаре; <br>\n",
    "в) для подсчёта количества элементов в значениях словаря, представляющих собой списки. "
   ]
  },
  {
   "cell_type": "code",
   "execution_count": 6,
   "id": "6f6e7783",
   "metadata": {},
   "outputs": [
    {
     "name": "stdout",
     "output_type": "stream",
     "text": [
      "Введите ключ и значение через пробел для добавления нового ключа с значением(при вводе нескольких значений через пробел все значения введённые значения будут перемещены в список) в словарь, введите слово 'exit' для отмены ввода\n",
      "exit\n",
      "В ключе 8 элементов 2\n",
      "В ключе 10 элементов 5\n",
      "В ключе 3 элементов 5\n",
      "Кол-во уникальных значений: 10\n",
      "{1: -72, 2: 6, 3: [1, 4, 7, 98, 101], 4: -17, 5: -4, 6: 36, 7: 49, 8: [122, 344], 9: 81, 10: [23, 12, 34, 111, 909], 11: 121, 12: 144, 13: 169}\n"
     ]
    }
   ],
   "source": [
    "from IPython.display import clear_output\n",
    "\n",
    "def clearOutput(): clear_output()\n",
    "\n",
    "dct = {1: -72, 2: 6, 3: [1, 4, 7, 98, 101], 4: -17, 5: -4, 6: 36, 7: 49, 8: [122, 344], 9: 81, 10: [23, 12, 34, 111, 909], 11: 121, 12: 144, 13: 169}\n",
    "arrVal = set()\n",
    "\n",
    "while True:\n",
    "    clearOutput()\n",
    "    print(\"Введите ключ и значение через пробел для добавления нового ключа с значением(при вводе нескольких значений через пробел все значения введённые значения будут перемещены в список) в словарь, введите слово 'exit' для отмены ввода\")\n",
    "    tmp = input().split()\n",
    "    tmpArr = []\n",
    "    if(len(tmp)<=1):\n",
    "        if(tmp[0]=='exit'):\n",
    "            break\n",
    "        continue\n",
    "    if(len(tmp)>2):\n",
    "        for i in range(len(tmp)-1):\n",
    "            tmpArr.append(tmp[i+1])\n",
    "        dct[tmp[0]]=tmpArr\n",
    "    else:\n",
    "        dct[tmp[0]]=tmp[1]\n",
    "    \n",
    "\n",
    "for key in dct:\n",
    "    if isinstance(dct[key], list):\n",
    "        arrVal.add(key)\n",
    "        \n",
    "for key in arrVal:\n",
    "    print(f\"В ключе {key} элементов {len(dct[key])}\")\n",
    "    \n",
    "print(\"Кол-во уникальных значений:\", len(list(dct))-len(arrVal))   \n",
    "\n",
    "print(dct)"
   ]
  },
  {
   "cell_type": "markdown",
   "id": "a32b28e2",
   "metadata": {},
   "source": [
    "<p style=\"background:#F0A5FF; font-weight:bold\">Задача 9</p>\n",
    "\n",
    "Напишите программу: <br>\n",
    "а) для объединения словарей в один новый словарь; <br>\n",
    "б) для сортировки словаря по значению; <br>\n",
    "в) чтобы очистить список значений в словаре, если значениями словаря являются списки."
   ]
  },
  {
   "cell_type": "code",
   "execution_count": 13,
   "id": "66e7a967",
   "metadata": {},
   "outputs": [
    {
     "name": "stdout",
     "output_type": "stream",
     "text": [
      "{1: -72, 2: 6, 3: [1, 4, 7, 98, 101], 4: -17, 5: -4, 8: [122, 344], 9: 81, 10: [23, 12, 34, 111, 909], 11: 121, 12: 144, 13: 169} {8: [122, 344], 9: 81, 10: [23, 12, 34, 111, 909], 11: 121, 12: 144, 13: 169} \n",
      "\n",
      " {1: -72, 2: 6, 3: [1, 4, 7, 98, 101], 4: -17, 5: -4, 8: [122, 344], 9: 81, 10: [23, 12, 34, 111, 909], 11: 121, 12: 144, 13: 169} \n",
      "\n",
      "{1: -72, 2: 6, 3: False, 4: -17, 5: -4, 8: False, 9: 81, 10: False, 11: 121, 12: 144, 13: 169}\n",
      "[(13, 169), (12, 144), (11, 121), (9, 81), (2, 6), (3, False), (8, False), (10, False), (5, -4), (4, -17), (1, -72)]\n"
     ]
    }
   ],
   "source": [
    "dct1 = {1: -72, 2: 6, 3: [1, 4, 7, 98, 101], 4: -17, 5: -4}\n",
    "dct2 = {8: [122, 344], 9: 81, 10: [23, 12, 34, 111, 909], 11: 121, 12: 144, 13: 169}\n",
    "#объединение словаря\n",
    "dct3 = dct1\n",
    "dct3.update(dct2)\n",
    "\n",
    "print(dct1, dct2, '\\n\\n', dct3, '\\n')\n",
    "\n",
    "for key in dct3:\n",
    "    if isinstance(dct3[key], list):\n",
    "        dct3[key] = False\n",
    "\n",
    "print(dct3)\n",
    "\n",
    "#сортировка\n",
    "def sort_by_value(x):\n",
    "    return x[1]\n",
    "    \n",
    "print(sorted(dct3.items(), key=sort_by_value, reverse=True))"
   ]
  }
 ],
 "metadata": {
  "kernelspec": {
   "display_name": "Python 3 (ipykernel)",
   "language": "python",
   "name": "python3"
  },
  "language_info": {
   "codemirror_mode": {
    "name": "ipython",
    "version": 3
   },
   "file_extension": ".py",
   "mimetype": "text/x-python",
   "name": "python",
   "nbconvert_exporter": "python",
   "pygments_lexer": "ipython3",
   "version": "3.11.5"
  }
 },
 "nbformat": 4,
 "nbformat_minor": 5
}
