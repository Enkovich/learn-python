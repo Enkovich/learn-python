{
 "cells": [
  {
   "cell_type": "markdown",
   "id": "c412bb87",
   "metadata": {},
   "source": [
    "# Алгоритмы и структуры данных в языке Python\n",
    "\n",
    "# Тема 4. Функции\n",
    "\n",
    "\n",
    "# Рекурсивные функции\n",
    "\n",
    "Выполните следующие задания с помощью рекурсивных функций."
   ]
  },
  {
   "cell_type": "markdown",
   "id": "9ae1a623",
   "metadata": {},
   "source": [
    "<p style=\"font-size:125%\">Задание 1. Натуральные числа</p>\n",
    "\n",
    "С помощью рекурсивной функции распечатайте все натуральные числа меньше данного натурального числа."
   ]
  },
  {
   "cell_type": "code",
   "execution_count": 4,
   "id": "7ec2429d",
   "metadata": {},
   "outputs": [
    {
     "name": "stdout",
     "output_type": "stream",
     "text": [
      "9 8 7 6 5 4 3 2 1 0 "
     ]
    }
   ],
   "source": [
    "def nums(k):\n",
    "    print(k - 1, end=\" \")\n",
    "    if k>1:\n",
    "        nums(k-1)\n",
    "    \n",
    "nums(10)"
   ]
  },
  {
   "cell_type": "markdown",
   "id": "384866f4",
   "metadata": {},
   "source": [
    "<p style=\"font-size:125%\">Задание 2.Сумма цифр</p>\n",
    "\n",
    "Напишите рекурсивную функцию для нахождения суммы цифр числа"
   ]
  },
  {
   "cell_type": "code",
   "execution_count": 8,
   "id": "8514b358",
   "metadata": {},
   "outputs": [
    {
     "data": {
      "text/plain": [
       "7626"
      ]
     },
     "execution_count": 8,
     "metadata": {},
     "output_type": "execute_result"
    }
   ],
   "source": [
    "def summa(k, N=0):\n",
    "    if k >=1:\n",
    "        return summa(k-1, N+k)\n",
    "    else:\n",
    "        return N\n",
    "    \n",
    "summa(123)"
   ]
  },
  {
   "cell_type": "markdown",
   "id": "20d70c6f",
   "metadata": {},
   "source": [
    "<p style=\"font-size:125%\">Задание 3. Факториал</p>\n",
    "\n",
    "С помощью рекусивной функции найдите факториал числа"
   ]
  },
  {
   "cell_type": "code",
   "execution_count": 9,
   "id": "6ce1bb56",
   "metadata": {},
   "outputs": [
    {
     "data": {
      "text/plain": [
       "24"
      ]
     },
     "execution_count": 9,
     "metadata": {},
     "output_type": "execute_result"
    }
   ],
   "source": [
    "def factorial(num, N=1):\n",
    "    if num>1:\n",
    "        return factorial(num-1, N*num)\n",
    "    else:\n",
    "        return N\n",
    "    \n",
    "factorial(4)"
   ]
  },
  {
   "cell_type": "markdown",
   "id": "0ad78a8a",
   "metadata": {},
   "source": [
    "<p style=\"font-size:125%\">Задание 4. Ряд Фибоначчи</p>\n",
    "\n",
    "С помощью рекурсивной функции распечатайте ряд Фибоначчи до числа $k$"
   ]
  },
  {
   "cell_type": "code",
   "execution_count": 27,
   "id": "7cb5f8cb",
   "metadata": {},
   "outputs": [
    {
     "name": "stdout",
     "output_type": "stream",
     "text": [
      "0, 1, 1, 2, 3, 5, 8, 13, 21, 34, 55, 89, 144, 233, 377, 610, 987, 1597, 2584, 4181, 6765, 10946, 17711, 28657, 46368, 75025, 121393, 196418, 317811, 514229, 832040, 1346269, 2178309, 3524578, 5702887, 9227465, 14930352, 24157817, 39088169, 63245986, 102334155, 165580141, 267914296, 433494437, 701408733, 1134903170, 1836311903, 2971215073, 4807526976, 7778742049\n"
     ]
    }
   ],
   "source": [
    "def fibo(a=[0,1], i=2):\n",
    "    if len(a)<50: fibo(a+[a[i-1]+a[i-2]], i+1)\n",
    "    else: print(', '.join(str(x) for x in a)) #ибо числовой тип метод join() не принимает\n",
    "fibo()"
   ]
  },
  {
   "cell_type": "markdown",
   "id": "b84d5a21",
   "metadata": {},
   "source": [
    "<p style=\"font-size:125%\">Задание 5. Сумма списка</p>\n",
    "\n",
    "Напишите рекурсивную функцию для подсчета суммы чисел списка списков.\n",
    "\n",
    "```\n",
    "[1, 2, [3, 4], [5, 6]] => 21\n",
    "[1, 2, [3, 4], [5, [6, 7]]] => 28\n",
    "```"
   ]
  },
  {
   "cell_type": "code",
   "execution_count": 2,
   "id": "e135ecaf",
   "metadata": {},
   "outputs": [
    {
     "name": "stdout",
     "output_type": "stream",
     "text": [
      "21\n",
      "28\n"
     ]
    }
   ],
   "source": [
    "def s(lst):\n",
    "    t=0\n",
    "    for i in lst:\n",
    "        if isinstance(i, list): t +=s(i)\n",
    "        else: t+=i\n",
    "    return t\n",
    "\n",
    "print(s([1, 2, [3, 4], [5, 6]]))\n",
    "print(s([1, 2, [3, 4], [5, [6, 7]]]))"
   ]
  },
  {
   "cell_type": "markdown",
   "id": "fa84e6e3",
   "metadata": {},
   "source": [
    "<p style=\"font-size:125%\">Задание 6. Правый сдвиг</p>\n",
    "\n",
    "На вход функции подаётся кортеж чисел и число $k$. Создайте рекурсивную функцию, которая выполняет сдвиг чисел кортежа на $k$ чисел вправо. Кортеж может быть любой длины.\n",
    "\n",
    "```\n",
    "(1, 2, 3, 4, 5, 6, 7), 3\n",
    "=> [5, 6, 7, 1, 2, 3, 4]\n",
    "```"
   ]
  },
  {
   "cell_type": "code",
   "execution_count": 2,
   "id": "0eb47014",
   "metadata": {},
   "outputs": [
    {
     "data": {
      "text/plain": [
       "[5, 6, 7, 1, 2, 3, 4]"
      ]
     },
     "execution_count": 2,
     "metadata": {},
     "output_type": "execute_result"
    }
   ],
   "source": [
    "def shift_right(x, k):\n",
    "    while k > 0:\n",
    "        shift_one = []\n",
    "        shift_one.append(x[-1])\n",
    "        shift_one.extend(x[:-1])\n",
    "        k -= 1\n",
    "        return shift_right(shift_one, k)\n",
    "    return x\n",
    "    \n",
    "shift_right((1, 2, 3, 4, 5, 6, 7), 3)"
   ]
  },
  {
   "cell_type": "markdown",
   "id": "016c3788",
   "metadata": {},
   "source": [
    "<p style=\"font-size:125%\">Задание 7. Сумма вклада</p>\n",
    "\n",
    "Имеется 2 банка. Первый банк ежемесячно начисляет 1.1% от первоначально вложенной суммы (простые проценты). Второй банк ежемесячно начисляет 1% от накопленной к этому моменту суммы (сложные проценты). В каждый из банков в месяц 0 (начальный момент) положили 100 000 руб. Напишите программу, которая выводит на экран в виде таблицы, накопленные в этих банках суммы для 24 месяцев. Определите в программе и выведите на экран в какой банк выгоднее вложить деньги на 1 год и на 2 года."
   ]
  },
  {
   "cell_type": "code",
   "execution_count": 16,
   "id": "62855113",
   "metadata": {
    "scrolled": true
   },
   "outputs": [
    {
     "name": "stdout",
     "output_type": "stream",
     "text": [
      "0 125300.0 125716.30183484303\n",
      "1 101100.0 101000.0\n",
      "2 102200.0 102000.0\n",
      "3 103300.0 103000.0\n",
      "4 104400.0 104000.0\n",
      "5 105500.0 105000.0\n",
      "6 106600.0 106000.0\n",
      "7 107700.0 107000.0\n",
      "8 108800.0 108000.0\n",
      "9 109900.0 109000.0\n",
      "10 111000.0 110000.0\n",
      "11 112100.0 111000.0\n",
      "12 113200.0 112000.0\n",
      "13 114300.0 113000.0\n",
      "14 115400.0 114000.0\n",
      "15 116500.0 115000.0\n",
      "16 117600.0 116000.0\n",
      "17 118700.0 117000.0\n",
      "18 119800.0 118000.0\n",
      "19 120900.0 119000.0\n",
      "20 122000.0 120000.0\n",
      "21 123100.0 121000.0\n",
      "22 124200.0 122000.0\n",
      "23 125300.0 123000.0\n",
      "24 126400.0 124000.0\n",
      "25 127500.0 125000.0\n",
      "На 24 месяцев выгоднее положить в 1 банк\n",
      "На 12 месяцев выгоднее положить в 1 банк\n"
     ]
    }
   ],
   "source": [
    "num1 = 100000\n",
    "num2 = 100000\n",
    "print(0,b1,b2)\n",
    "\n",
    "def vklad(k1, k2, month=1):\n",
    "    k1+=100000.0*0.011\n",
    "    k2+=num2*0.01\n",
    "    print(month, k1, k2)\n",
    "    if month<=24:\n",
    "        vklad(k1, k2, month+1)\n",
    "    \n",
    "    if month==12 or month==24:\n",
    "        if k1>k2:\n",
    "            print(f\"На {month} месяцев выгоднее положить в 1 банк\")\n",
    "        else:\n",
    "            print(f\"На {month} месяцев выгоднее положить в 2 банк\")\n",
    "vklad(num1, num2)"
   ]
  }
 ],
 "metadata": {
  "kernelspec": {
   "display_name": "Python 3 (ipykernel)",
   "language": "python",
   "name": "python3"
  },
  "language_info": {
   "codemirror_mode": {
    "name": "ipython",
    "version": 3
   },
   "file_extension": ".py",
   "mimetype": "text/x-python",
   "name": "python",
   "nbconvert_exporter": "python",
   "pygments_lexer": "ipython3",
   "version": "3.11.4"
  }
 },
 "nbformat": 4,
 "nbformat_minor": 5
}
