{
 "cells": [
  {
   "cell_type": "markdown",
   "id": "cefc33f8",
   "metadata": {},
   "source": [
    "## Алгоритмы и структуры данных в языке Python\n",
    "\n",
    "## Семинар 8\n",
    "\n",
    "Выполните задания семинара и сохраните в файле с имененем в формате `Фамилия_Имя_Группа_Семинар_8.ipynb`. Загрузите этот файл в контрольную точку электронного учебного курса."
   ]
  },
  {
   "cell_type": "markdown",
   "id": "fdf644be",
   "metadata": {},
   "source": [
    "<p style=\"background:#F0A5FF; font-weight:bold\">Задача 1</p>\n",
    "\n",
    "Напишите программу: <br>\n",
    "а) чтобы проверить, существует ли данный ключ в словаре;<br>\n",
    "б) для создания и отображения всех комбинаций букв, выбирая каждую букву из другого ключа в словаре;<br>\n",
    "Пример. `{'1': ['a', 'b'], '2': ['c', 'd']} => ac, ad, bc, bd` <br>\n",
    "в) для замены значений словаря их средним значением."
   ]
  },
  {
   "cell_type": "code",
   "execution_count": 11,
   "id": "af3aca36",
   "metadata": {},
   "outputs": [
    {
     "name": "stdout",
     "output_type": "stream",
     "text": [
      "Ключ 20 имеется в словарях\n",
      "{0: 549.25, 1: 549.25, 2: 549.25, 3: 549.25, 4: 549.25, 5: 549.25, 6: 549.25, 7: 549.25, 8: 549.25, 9: 549.25, 10: 549.25, 11: 549.25, 12: 549.25, 13: 549.25, 14: 549.25, 15: 549.25, 16: 549.25, 17: 549.25, 18: 549.25, 19: 549.25}\n",
      "['ac', 'ad', 'ay', 'am', 'bc', 'bd', 'by', 'bm', 'xc', 'xd', 'xy', 'xm', 'zc', 'zd', 'zy', 'zm']\n",
      "{'1': ['a', 'b', 'x', 'z'], '2': ['c', 'd', 'y', 'm']}\n"
     ]
    }
   ],
   "source": [
    "from random import randint\n",
    "\n",
    "dct = {'1': ['a', 'b', 'x', 'z'], '2': ['c', 'd', 'y', 'm']}\n",
    "dct_key = list(dct.keys())\n",
    "all_combin = []\n",
    "dct_num = dict()\n",
    "\n",
    "summ = 0\n",
    "for i in range(randint(2, 30)):\n",
    "    dct_num[i] = randint(2, 1000)\n",
    "    summ+=dct_num[i]\n",
    "    \n",
    "summ=summ/len(dct_num)\n",
    "\n",
    "for i in range(len(dct_num)):\n",
    "    dct_num[i]=summ\n",
    "\n",
    "rand_key = randint(1, len(dct_num)+3)\n",
    "\n",
    "for i in range(len(dct_key)-1):\n",
    "    for m in range(len(dct[dct_key[i]])):\n",
    "        for n in range(len(dct[dct_key[i+1]])):\n",
    "            all_combin.append(dct[dct_key[i]][m]+dct[dct_key[i+1]][n])\n",
    "\n",
    "if str(rand_key) in dct_key or str(rand_key in dct_num):\n",
    "    print(f'Ключ {rand_key} имеется в словарях')\n",
    "else:\n",
    "    print(f'Ключ {rand_key} не существует в словарях')\n",
    "    \n",
    "\n",
    "print(dct_num)\n",
    "print(all_combin)\n",
    "print(dct)"
   ]
  },
  {
   "cell_type": "markdown",
   "id": "a6ef9c15",
   "metadata": {},
   "source": [
    "<p style=\"background:#F0A5FF; font-weight:bold\">Задача 2</p>\n",
    "\n",
    "Напишите программу, которая принимает список словарей и объединяет их в один словарь."
   ]
  },
  {
   "cell_type": "code",
   "execution_count": 15,
   "id": "d3d9ac54",
   "metadata": {},
   "outputs": [
    {
     "name": "stdout",
     "output_type": "stream",
     "text": [
      "{1: 'q', 2: 'w', 3: 13, 4: 'r', 5: 't', 6: 'y', 7: 'u', 8: 'i', 9: 'o'}\n"
     ]
    }
   ],
   "source": [
    "arr_dict = [{1:'q', 2:'w', 3:7}, {3: 13, 4:'r', 5:'t', 6:'y'}, {7:'u', 8:'i', 9:'o'}]\n",
    "\n",
    "for i in range(len(arr_dict)-1):\n",
    "    arr_dict[0].update(arr_dict[i+1])\n",
    "\n",
    "print(arr_dict[0])"
   ]
  },
  {
   "cell_type": "markdown",
   "id": "e6bdaebe",
   "metadata": {},
   "source": [
    "<p style=\"background:#F0A5FF; font-weight:bold\">Задача 3</p>\n",
    "\n",
    "Напишите программу, которая проверяет, все ли значения в словаре являются уни-кальными."
   ]
  },
  {
   "cell_type": "code",
   "execution_count": 18,
   "id": "9d63cc71",
   "metadata": {},
   "outputs": [
    {
     "name": "stdout",
     "output_type": "stream",
     "text": [
      "Все значения уникальны!\n"
     ]
    }
   ],
   "source": [
    "dct = {1: 'qw', 2: 'we', 3:'er', 4:'rt', 5:'ty', 6:'tyq'}\n",
    "dct_value = set()\n",
    "\n",
    "for key in dct.keys():\n",
    "    if dct[key] not in dct_value:\n",
    "        dct_value.add(dct[key])\n",
    "    else:\n",
    "        print(\"Не все значения словаря уникальны!\")\n",
    "        break\n",
    "        \n",
    "if len(dct_value)==len(dct): \n",
    "    print(\"Все значения уникальны!\")"
   ]
  },
  {
   "cell_type": "markdown",
   "id": "7a045de6",
   "metadata": {},
   "source": [
    "<p style=\"background:#F0A5FF; font-weight:bold\">Задача 4</p>\n",
    "\n",
    "Напишите программу, которая находит ключ с наибольшим значением в словаре."
   ]
  },
  {
   "cell_type": "code",
   "execution_count": 27,
   "id": "a05f1ed1",
   "metadata": {},
   "outputs": [
    {
     "name": "stdout",
     "output_type": "stream",
     "text": [
      "{0: 668, 1: 647, 2: 785, 3: 473, 4: 67, 5: 871, 6: 461, 7: 463, 8: 570, 9: 747, 10: 874, 11: 718, 12: 735, 13: 296, 14: 361, 15: 289, 16: 472, 17: 109}\n",
      "10\n"
     ]
    }
   ],
   "source": [
    "from random import randint\n",
    "\n",
    "dct_num = dict()\n",
    "max_num = {'pos': False, 'val': False}\n",
    "\n",
    "for i in range(randint(2, 30)):\n",
    "    dct_num[i] = randint(2, 1000)\n",
    "    \n",
    "for key in dct_num.keys():\n",
    "    if dct_num[key] > max_num['val'] or max_num['val'] == False:\n",
    "        max_num['pos'] = key\n",
    "        max_num['val'] = dct_num[key]\n",
    "\n",
    "print(dct_num)\n",
    "print(max_num['pos'])"
   ]
  },
  {
   "cell_type": "markdown",
   "id": "c7efc05a",
   "metadata": {},
   "source": [
    "<p style=\"background:#F0A5FF; font-weight:bold\">Задача 5</p>\n",
    "\n",
    "Напишите программу, которая находит сумму всех значений в словаре."
   ]
  },
  {
   "cell_type": "code",
   "execution_count": 28,
   "id": "333701a8",
   "metadata": {},
   "outputs": [
    {
     "name": "stdout",
     "output_type": "stream",
     "text": [
      "3508\n"
     ]
    }
   ],
   "source": [
    "from random import randint\n",
    "\n",
    "dct_num = dict()\n",
    "\n",
    "for i in range(randint(2, 30)):\n",
    "    dct_num[i] = randint(2, 1000)\n",
    "    \n",
    "print(sum(list(dct_num.values())))"
   ]
  },
  {
   "cell_type": "markdown",
   "id": "d72b5c5e",
   "metadata": {},
   "source": [
    "<p style=\"background:#F0A5FF; font-weight:bold\">Задача 6</p>\n",
    "\n",
    "Напишите программу, которая находит наибольшее значение в словаре и выводит соответствующий ключ."
   ]
  },
  {
   "cell_type": "code",
   "execution_count": 29,
   "id": "0d34f7cd",
   "metadata": {},
   "outputs": [
    {
     "name": "stdout",
     "output_type": "stream",
     "text": [
      "{0: 199, 1: 91, 2: 58, 3: 836, 4: 258, 5: 332, 6: 244, 7: 868, 8: 155, 9: 864, 10: 56}\n",
      "7\n"
     ]
    }
   ],
   "source": [
    "from random import randint\n",
    "\n",
    "dct_num = dict()\n",
    "max_num = {'pos': False, 'val': False}\n",
    "\n",
    "for i in range(randint(2, 30)):\n",
    "    dct_num[i] = randint(2, 1000)\n",
    "    \n",
    "for key in dct_num.keys():\n",
    "    if dct_num[key] > max_num['val'] or max_num['val'] == False:\n",
    "        max_num['pos'] = key\n",
    "        max_num['val'] = dct_num[key]\n",
    "\n",
    "print(dct_num)\n",
    "print(max_num['pos'])"
   ]
  },
  {
   "cell_type": "markdown",
   "id": "762bca2a",
   "metadata": {},
   "source": [
    "<p style=\"background:#F0A5FF; font-weight:bold\">Задача 7</p>\n",
    "\n",
    "Напишите программу, которая удаляет все ключи со значениями, меньшими заданного числа."
   ]
  },
  {
   "cell_type": "code",
   "execution_count": 33,
   "id": "48e780a4",
   "metadata": {},
   "outputs": [
    {
     "name": "stdout",
     "output_type": "stream",
     "text": [
      "{0: 665, 1: 449, 2: 30, 3: 360, 4: 597, 5: 74, 6: 339, 7: 59, 8: 918}\n",
      "Минримальное число: 66\n",
      "{0: 665, 1: 449, 3: 360, 4: 597, 5: 74, 6: 339, 8: 918}\n"
     ]
    }
   ],
   "source": [
    "from random import randint\n",
    "\n",
    "dct = dict()\n",
    "min_num = randint(2, 200)\n",
    "\n",
    "for i in range(randint(2, 30)):\n",
    "    dct[i] = randint(2, 1000)\n",
    "    \n",
    "print(dct)\n",
    "print('Минримальное число:', min_num)\n",
    "\n",
    "for key in list(dct.keys()):\n",
    "    if dct[key] < min_num:\n",
    "        del dct[key]\n",
    "        \n",
    "print(dct)"
   ]
  },
  {
   "cell_type": "markdown",
   "id": "82a633ac",
   "metadata": {},
   "source": [
    "<p style=\"background:#F0A5FF; font-weight:bold\">Задача 8</p>\n",
    "\n",
    "Напишите программу, которая находит ключи с самыми длинными значениямив словаре."
   ]
  },
  {
   "cell_type": "code",
   "execution_count": 65,
   "id": "79a7ec4f",
   "metadata": {},
   "outputs": [
    {
     "name": "stdout",
     "output_type": "stream",
     "text": [
      "{0: '37305', 1: '14903', 2: '54607', 3: '49526', 4: '73888', 5: '14545', 6: '34176', 7: '69220', 8: '40089', 9: '54273', 10: '5266', 11: '41549', 12: '99217', 13: '67936'}\n",
      "0\n"
     ]
    }
   ],
   "source": [
    "dct = dict()\n",
    "min_num = randint(2, 200)\n",
    "max_num = {'pos': False, 'val': False}\n",
    "\n",
    "for i in range(randint(2, 30)):\n",
    "    dct[i] = str(randint(-1000, 100000))\n",
    "    \n",
    "for key in dct.keys():\n",
    "    if len(list(dct[key]))>max_num['val'] or max_num['val'] == False:\n",
    "        max_num['pos']=key\n",
    "        max_num['val']=len(list(dct[key]))\n",
    "        \n",
    "print(dct)\n",
    "print(max_num['pos'])"
   ]
  },
  {
   "cell_type": "markdown",
   "id": "b361bc7d",
   "metadata": {},
   "source": [
    "<p style=\"background:#F0A5FF; font-weight:bold\">Задача 9</p>\n",
    "\n",
    "Напишите программу, которая находит пересечение двух словарей."
   ]
  },
  {
   "cell_type": "code",
   "execution_count": 105,
   "id": "352fb778",
   "metadata": {},
   "outputs": [
    {
     "name": "stdout",
     "output_type": "stream",
     "text": [
      "[48, 89, 55] \n",
      "\n",
      "{0: 20, 1: 37, 2: 42, 3: 27, 4: 14, 5: 84, 6: 48, 7: 15, 8: 24, 9: 66, 10: 58, 11: 5, 12: 89, 13: 81, 14: 92, 15: 87, 16: 55, 17: 56, 18: 24}\n",
      "{0: 41, 1: 18, 2: 82, 3: 55, 4: 75, 5: 8, 6: 86, 7: 44, 8: 48, 9: 100, 10: 2, 11: 71, 12: 4, 13: 46, 14: 89, 15: 21, 16: 71, 17: 16, 18: 17} \n",
      "\n",
      "{48: [6, 8], 89: [12, 14], 55: [16, 3]}\n"
     ]
    }
   ],
   "source": [
    "dct = dict()\n",
    "dct2 = dict()\n",
    "dct3 = dict()\n",
    "min_num = randint(2, 200)\n",
    "max_num = {'pos': False, 'val': False}\n",
    "\n",
    "for i in range(randint(2, 30)):\n",
    "    dct[i] = randint(0, 100)\n",
    "    dct2[i] = randint(0, 100)\n",
    "    \n",
    "set_dct = set(dct.values())\n",
    "set_dct2 = set(dct2.values())\n",
    "set_dcts = list(set_dct.intersection(set_dct2))\n",
    "\n",
    "print(list(set_dcts), '\\n')\n",
    "\n",
    "if(bool(set_dcts)):\n",
    "    for key in dct.keys():\n",
    "        if dct[key] in set_dcts:\n",
    "            dct3[set_dcts[set_dcts.index(dct[key])]] = [key]\n",
    "\n",
    "print(dct)\n",
    "print(dct2, '\\n')\n",
    "\n",
    "if(bool(set_dcts)):\n",
    "    for key in dct2.keys():\n",
    "        if dct2[key] in set_dcts:\n",
    "            if(len(dct3[set_dcts[set_dcts.index(dct2[key])]])>=2): continue\n",
    "            dct3[set_dcts[set_dcts.index(dct2[key])]].append(key)\n",
    "\n",
    "        \n",
    "print(dct3)"
   ]
  }
 ],
 "metadata": {
  "kernelspec": {
   "display_name": "Python 3 (ipykernel)",
   "language": "python",
   "name": "python3"
  },
  "language_info": {
   "codemirror_mode": {
    "name": "ipython",
    "version": 3
   },
   "file_extension": ".py",
   "mimetype": "text/x-python",
   "name": "python",
   "nbconvert_exporter": "python",
   "pygments_lexer": "ipython3",
   "version": "3.11.5"
  }
 },
 "nbformat": 4,
 "nbformat_minor": 5
}
