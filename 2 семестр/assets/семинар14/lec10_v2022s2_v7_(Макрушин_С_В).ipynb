{
 "cells": [
  {
   "cell_type": "markdown",
   "metadata": {},
   "source": [
    "\n",
    "# Лекция 10\n",
    "## Объектно-ориентированное программирование (продолжение)\n",
    "\n",
    "\n",
    "__Автор: Сергей Вячеславович Макрушин__ e-mail: SVMakrushin@fa.ru \n",
    "\n",
    "Финансовый универсиет, 2021 г.  \n",
    "\n",
    "v 0.7 15.02.2022\n",
    "\n",
    "## Разделы: <a class=\"anchor\" id=\"разделы\"></a>\n",
    "\n",
    "* [Методы классов и статические переменные и методы](#методы-классов)    \n",
    "* [Управление доступом к атрибутам класса](#управление-доступом)    \n",
    "* [Динамические операции с атрибутами и интроспекция](#интроспекция)    \n",
    "* [Специальные методы](#специальные)"
   ]
  },
  {
   "cell_type": "code",
   "execution_count": 1,
   "metadata": {},
   "outputs": [
    {
     "data": {
      "text/html": [
       "﻿<STYLE>\r\n",
       " .tab_text { text-indent:40px; }\r\n",
       " .large_text { font-size:22px; }\r\n",
       " .larger_text { font-size:1em }\r\n",
       " .blue { color:#23AAFF; }\r\n",
       " .pink { color:#ebd3d7; }\r\n",
       " .green { color:green; }\r\n",
       " .stress_text { font-weight:bold }\r\n",
       " .bold_text { font-weight:bold; }\r\n",
       " .large_bold { font-size:16pt; font-weight:bold; color:#23AAFF; }\r\n",
       " .special { color:orange; font-weight:bold; }\r\n",
       " .header_2 { text-align:center; font-size:20px; }\r\n",
       " .header_4 { font-size:20px; color:green; text-indent:40px; }\r\n",
       " .header_6 { font-size:16px; font-weight:bold; color:gray }\r\n",
       "</STYLE>"
      ],
      "text/plain": [
       "<IPython.core.display.HTML object>"
      ]
     },
     "execution_count": 1,
     "metadata": {},
     "output_type": "execute_result"
    }
   ],
   "source": [
    "# загружаем стиль для оформления презентации\n",
    "from IPython.display import HTML\n",
    "from urllib.request import urlopen\n",
    "html = urlopen(\"file:lecture.css\")\n",
    "HTML(html.read().decode('utf-8'))"
   ]
  },
  {
   "cell_type": "markdown",
   "metadata": {},
   "source": [
    "\n",
    "<p class=\"large_text\" style=\"text-align:center\"> Методы классов и статические переменные и методы </p>\n",
    "\n",
    "<a class=\"anchor\" id=\"методы-классов\"></a>\n",
    "* [к оглавлению](#разделы)"
   ]
  },
  {
   "cell_type": "markdown",
   "metadata": {},
   "source": [
    "В прошлой лекции мы научились опеределять переменные (атрибуты) конкретного объекта класса. В этой лекции покажем, что мы можем создавать пременные, принадлежащие классу в целом.\n",
    "\n",
    "Создадим класс корабля *Ship*, а в нем переменную класса *next_index*. Значение переменной *next_index* будет единым для всех кораблей, то есть для всех представителей класса *Ship*. Для этого используется метод *generate_next_index(cls)*, который увеличивает текущее значение *next_index* на единицу и возвращает значение *next_index* до увеличения. В методе *\\_\\_init\\_\\_(self)* каждому кораблю присваивается свой уникальный индекс на основе классовой переменной *next_index*.  Таким образом, у каждого корабля будет свой уникальный *index*, а у класса свой *next_index*.\n",
    "\n",
    "В отличие от методов объекта, в которых первой переменной является *self*, в классовом методе первой переменной является *cls*.\n",
    "\n",
    "Статический метод в Python (в отличие от других языков программирования) – это способ поместить некоторую функцию, которая выполняет что-то полезное для вашего класса, в пространство имен этого класса. В статический метод не передаются ни ссылка на объект *self*, ни ссылка на класс *cls*. В нашем примере статический метод проверяет разность индексов двух кораблей и сравнивает ее с 10. Если разность меньше, то корабли относятся к одной эпохе."
   ]
  },
  {
   "cell_type": "code",
   "execution_count": 2,
   "metadata": {},
   "outputs": [],
   "source": [
    "class Ship(object):\n",
    "    next_index = 0  # переменная класса (статическая переменная)\n",
    "    \n",
    "    @classmethod\n",
    "    def generate_next_index(cls): # в classmethod первый обязательный параметр: cls - переменная, ссылающаяся на КЛАСС\n",
    "        index = cls.next_index\n",
    "        cls.next_index += 1\n",
    "        return index\n",
    "    \n",
    "    def __init__(self):\n",
    "        self.index = Ship.generate_next_index()\n",
    "        \n",
    "    @staticmethod\n",
    "    def is_from_same_epoch(sh1, sh2): # не имеет доступа ни к объекту ни к классу\n",
    "        return abs(sh1.index - sh2.index) < 10"
   ]
  },
  {
   "cell_type": "markdown",
   "metadata": {},
   "source": [
    "Создадим корабль и проверим его индекс."
   ]
  },
  {
   "cell_type": "code",
   "execution_count": 3,
   "metadata": {},
   "outputs": [
    {
     "data": {
      "text/plain": [
       "0"
      ]
     },
     "execution_count": 3,
     "metadata": {},
     "output_type": "execute_result"
    }
   ],
   "source": [
    "s1 = Ship()\n",
    "s1.index"
   ]
  },
  {
   "cell_type": "markdown",
   "metadata": {},
   "source": [
    "При этом значение *next_index* класса увеличилось на 1 и стало равно 1."
   ]
  },
  {
   "cell_type": "code",
   "execution_count": 4,
   "metadata": {},
   "outputs": [
    {
     "data": {
      "text/plain": [
       "1"
      ]
     },
     "execution_count": 4,
     "metadata": {},
     "output_type": "execute_result"
    }
   ],
   "source": [
    "Ship.next_index"
   ]
  },
  {
   "cell_type": "markdown",
   "metadata": {},
   "source": [
    "Создадим флот из 15 кораблей."
   ]
  },
  {
   "cell_type": "code",
   "execution_count": 5,
   "metadata": {},
   "outputs": [
    {
     "name": "stdout",
     "output_type": "stream",
     "text": [
      "1\n",
      "2\n",
      "3\n",
      "4\n",
      "5\n",
      "6\n",
      "7\n",
      "8\n",
      "9\n",
      "10\n",
      "11\n",
      "12\n",
      "13\n",
      "14\n",
      "15\n"
     ]
    }
   ],
   "source": [
    "fleet = [Ship() for _ in range(15)]\n",
    "\n",
    "for sh in fleet:\n",
    "    print(sh.index)"
   ]
  },
  {
   "cell_type": "code",
   "execution_count": 6,
   "metadata": {
    "scrolled": false
   },
   "outputs": [
    {
     "data": {
      "text/plain": [
       "16"
      ]
     },
     "execution_count": 6,
     "metadata": {},
     "output_type": "execute_result"
    }
   ],
   "source": [
    "Ship.next_index # доступ к переменной класса через имя класса"
   ]
  },
  {
   "cell_type": "markdown",
   "metadata": {},
   "source": [
    "Для удобства *Python* позволяет к переменной класса обратиться и через объект."
   ]
  },
  {
   "cell_type": "code",
   "execution_count": 7,
   "metadata": {},
   "outputs": [
    {
     "data": {
      "text/plain": [
       "16"
      ]
     },
     "execution_count": 7,
     "metadata": {},
     "output_type": "execute_result"
    }
   ],
   "source": [
    "s1.next_index # доступ к переменной класса через объект"
   ]
  },
  {
   "cell_type": "markdown",
   "metadata": {},
   "source": [
    "Для всех экземпляров класса значение *next_index* одинаковое."
   ]
  },
  {
   "cell_type": "code",
   "execution_count": 8,
   "metadata": {},
   "outputs": [
    {
     "name": "stdout",
     "output_type": "stream",
     "text": [
      "[16, 16, 16, 16, 16, 16, 16, 16, 16, 16, 16, 16, 16, 16, 16]\n"
     ]
    }
   ],
   "source": [
    "print([s.next_index for s in fleet])"
   ]
  },
  {
   "cell_type": "markdown",
   "metadata": {},
   "source": [
    "Что если попытаться изменить значение *next_index*, используя объект? Переменная класса не изменится, зато будет создана новыя переменная *next_index* объекта."
   ]
  },
  {
   "cell_type": "code",
   "execution_count": 9,
   "metadata": {},
   "outputs": [
    {
     "name": "stdout",
     "output_type": "stream",
     "text": [
      "[100, 16, 16, 16, 16, 16, 16, 16, 16, 16, 16, 16, 16, 16, 16] 16\n"
     ]
    }
   ],
   "source": [
    "fleet[0].next_index = 100 # приводит не к изменению в переменной класса, а к появлнию нового атрибута у данного объкта!\n",
    "print([s.next_index for s in fleet], Ship.next_index)"
   ]
  },
  {
   "cell_type": "markdown",
   "metadata": {},
   "source": [
    "Это хорошо видно, если распечатать словарь атрибутов объекта. У объекта `fleet[0]` появился новый атрибут *next_index* со значением 100."
   ]
  },
  {
   "cell_type": "code",
   "execution_count": 10,
   "metadata": {},
   "outputs": [
    {
     "name": "stdout",
     "output_type": "stream",
     "text": [
      "{'index': 1, 'next_index': 100}\n",
      "{'index': 2}\n"
     ]
    }
   ],
   "source": [
    "print(fleet[0].__dict__)\n",
    "print(fleet[1].__dict__)"
   ]
  },
  {
   "cell_type": "markdown",
   "metadata": {},
   "source": [
    "Изменить переменную класса в явном виде все же можно, для этого надо использовать имя класса."
   ]
  },
  {
   "cell_type": "code",
   "execution_count": 11,
   "metadata": {
    "scrolled": true
   },
   "outputs": [
    {
     "name": "stdout",
     "output_type": "stream",
     "text": [
      "[100, 50, 50, 50, 50, 50, 50, 50, 50, 50, 50, 50, 50, 50, 50] 50\n"
     ]
    }
   ],
   "source": [
    "Ship.next_index = 50 # изменяем значение переменной класса\n",
    "print([s.next_index for s in fleet], Ship.next_index)"
   ]
  },
  {
   "cell_type": "markdown",
   "metadata": {},
   "source": [
    "Также с помощью имени класса мы можем вызвать классовый метод *generate_next_index()*"
   ]
  },
  {
   "cell_type": "code",
   "execution_count": 12,
   "metadata": {
    "scrolled": true
   },
   "outputs": [
    {
     "data": {
      "text/plain": [
       "50"
      ]
     },
     "execution_count": 12,
     "metadata": {},
     "output_type": "execute_result"
    }
   ],
   "source": [
    "Ship.generate_next_index() # доступ к методу класса через имя класса"
   ]
  },
  {
   "cell_type": "markdown",
   "metadata": {},
   "source": [
    "Метод вернул текущее значение *next_index* и увеличил его на единицу."
   ]
  },
  {
   "cell_type": "code",
   "execution_count": 13,
   "metadata": {},
   "outputs": [
    {
     "data": {
      "text/plain": [
       "51"
      ]
     },
     "execution_count": 13,
     "metadata": {},
     "output_type": "execute_result"
    }
   ],
   "source": [
    "Ship.next_index"
   ]
  },
  {
   "cell_type": "markdown",
   "metadata": {},
   "source": [
    "Вызов классового метода возможен и с помощью имени любого объекта."
   ]
  },
  {
   "cell_type": "code",
   "execution_count": 14,
   "metadata": {},
   "outputs": [
    {
     "data": {
      "text/plain": [
       "51"
      ]
     },
     "execution_count": 14,
     "metadata": {},
     "output_type": "execute_result"
    }
   ],
   "source": [
    "fleet[0].generate_next_index()"
   ]
  },
  {
   "cell_type": "code",
   "execution_count": 15,
   "metadata": {},
   "outputs": [
    {
     "data": {
      "text/plain": [
       "52"
      ]
     },
     "execution_count": 15,
     "metadata": {},
     "output_type": "execute_result"
    }
   ],
   "source": [
    "Ship.next_index"
   ]
  },
  {
   "cell_type": "markdown",
   "metadata": {},
   "source": [
    "Посмотрим, как работает статический метод `is_from_same_epoch(sh1, sh2)`"
   ]
  },
  {
   "cell_type": "code",
   "execution_count": 16,
   "metadata": {
    "scrolled": true
   },
   "outputs": [
    {
     "name": "stdout",
     "output_type": "stream",
     "text": [
      "1 15\n"
     ]
    },
    {
     "data": {
      "text/plain": [
       "False"
      ]
     },
     "execution_count": 16,
     "metadata": {},
     "output_type": "execute_result"
    }
   ],
   "source": [
    "print(fleet[0].index, fleet[-1].index)\n",
    "Ship.is_from_same_epoch(fleet[0], fleet[-1])"
   ]
  },
  {
   "cell_type": "code",
   "execution_count": 17,
   "metadata": {},
   "outputs": [
    {
     "name": "stdout",
     "output_type": "stream",
     "text": [
      "0 1\n"
     ]
    },
    {
     "data": {
      "text/plain": [
       "True"
      ]
     },
     "execution_count": 17,
     "metadata": {},
     "output_type": "execute_result"
    }
   ],
   "source": [
    "print(s1.index, fleet[0].index)\n",
    "s1.is_from_same_epoch(s1, fleet[0])"
   ]
  },
  {
   "cell_type": "markdown",
   "metadata": {},
   "source": [
    "Следующий код демонстрирует то, что все корабли флота - это по сути разные объекты."
   ]
  },
  {
   "cell_type": "code",
   "execution_count": 18,
   "metadata": {
    "scrolled": true
   },
   "outputs": [
    {
     "name": "stdout",
     "output_type": "stream",
     "text": [
      "<__main__.Ship object at 0x000001B967F27510>\n",
      "<__main__.Ship object at 0x000001B967EFB890>\n",
      "<__main__.Ship object at 0x000001B967F60350>\n",
      "<__main__.Ship object at 0x000001B967F63C10>\n",
      "<__main__.Ship object at 0x000001B967F62690>\n",
      "<__main__.Ship object at 0x000001B967F6CC10>\n",
      "<__main__.Ship object at 0x000001B967F6E6D0>\n",
      "<__main__.Ship object at 0x000001B967F6E710>\n",
      "<__main__.Ship object at 0x000001B967F6E810>\n",
      "<__main__.Ship object at 0x000001B967F6D390>\n",
      "<__main__.Ship object at 0x000001B967F6E850>\n",
      "<__main__.Ship object at 0x000001B967F6E8D0>\n",
      "<__main__.Ship object at 0x000001B967F6E910>\n",
      "<__main__.Ship object at 0x000001B967F6CFD0>\n",
      "<__main__.Ship object at 0x000001B967F6E950>\n"
     ]
    }
   ],
   "source": [
    "for s in fleet:\n",
    "    print(s)"
   ]
  },
  {
   "cell_type": "markdown",
   "metadata": {},
   "source": [
    "<p class=\"large_text\" style=\"text-align:center\"> Управление доступом к атрибутам класса </p>\n",
    "    \n",
    "<a class=\"anchor\" id=\"управление-доступом\"></a>\n",
    "* [к оглавлению](#разделы)"
   ]
  },
  {
   "cell_type": "markdown",
   "metadata": {},
   "source": [
    "В предыдущей лекции мы создали классы *Car* и *CargoCar*. Повторим этот код здесь."
   ]
  },
  {
   "cell_type": "code",
   "execution_count": 19,
   "metadata": {},
   "outputs": [],
   "source": [
    "class Car(object):\n",
    "    \"\"\"Базовый класс для автомобилей\"\"\"\n",
    "    def __init__(self, x): # конструктор класса, используется для инициализации нового объекта\n",
    "        self.x = x # создаем аттрибут класса        \n",
    "        \n",
    "    # метод класса; все методы класса должны в качестве первого атрибута иметь переменную self,\n",
    "    # в которую автоматически передается ссылка на текущий объект \n",
    "    def is_near(self, x2): \n",
    "        return abs(self.x - x2) < 2.0 # self.x - обращение к атрибуту класса\n",
    "\n",
    "# Класс, наследующий у Car\n",
    "class CargoCar(Car): \n",
    "    def __init__(self, x, max_load, load):\n",
    "        self.x = x\n",
    "        self.max_load = max_load\n",
    "        self.load = load\n",
    "    \n",
    "    def is_overloaded(self):\n",
    "        return self.load > self.max_load"
   ]
  },
  {
   "cell_type": "code",
   "execution_count": 20,
   "metadata": {},
   "outputs": [
    {
     "data": {
      "text/plain": [
       "(2, 10, False)"
      ]
     },
     "execution_count": 20,
     "metadata": {},
     "output_type": "execute_result"
    }
   ],
   "source": [
    "cc_1 = CargoCar(6.0, 10, 2)\n",
    "cc_1.load, cc_1.max_load, cc_1.is_overloaded()"
   ]
  },
  {
   "cell_type": "code",
   "execution_count": 21,
   "metadata": {},
   "outputs": [
    {
     "data": {
      "text/plain": [
       "True"
      ]
     },
     "execution_count": 21,
     "metadata": {},
     "output_type": "execute_result"
    }
   ],
   "source": [
    "# Изменяем загрузку грузового автомобиля и получаем сигнал о том, что автомобиль перегружен\n",
    "cc_1.load = 12\n",
    "cc_1.is_overloaded()"
   ]
  },
  {
   "cell_type": "code",
   "execution_count": 22,
   "metadata": {},
   "outputs": [
    {
     "data": {
      "text/plain": [
       "False"
      ]
     },
     "execution_count": 22,
     "metadata": {},
     "output_type": "execute_result"
    }
   ],
   "source": [
    "# Изменяем параметр максимальной загрузки, тем самым нарушаем безопасность перевозки\n",
    "cc_1.max_load = 20\n",
    "cc_1.is_overloaded()"
   ]
  },
  {
   "cell_type": "markdown",
   "metadata": {},
   "source": [
    "Не следует давать обычным пользователям возможность изменять критически важные параметры, если это может привести к нарушению правил безопасности эксплуатации объекта.\n",
    "\n",
    "В разных языках программирования этот вопрос решается по-разному. В *Python* управление доступом к методам осуществляется с помощью специальных имен самих методов. Примером является метод `__init__()`, имя которого начинается с двух подчеркиваний и заканчивается двумя подчеркиваниями.\n",
    "\n",
    "Создадим перемнную, имя которой начинается с двух подчеркиваний. Доступ к такой переменной внутри класса осуществляется как обычно, а извне – ограничен. В следующем примере максимальная загрузка помещается в переменную `__max_load` при создании объекта, далее во время жизни объекта изменить это значение нельзя. "
   ]
  },
  {
   "cell_type": "code",
   "execution_count": 23,
   "metadata": {},
   "outputs": [],
   "source": [
    "# Класс CargoCar с контролем доступа к значениям загрузки и максимального предела загрузки \n",
    "class CargoCar2(Car): \n",
    "    def __init__(self, x, max_load, load):\n",
    "        self.x = x\n",
    "        self.__max_load = max_load\n",
    "        self.__load = load\n",
    "        assert not(self.is_overloaded()), 'При создании автомобиля превышено ограничение загрузки!'\n",
    "    \n",
    "    def is_overloaded(self):\n",
    "        return self.__load > self.__max_load\n",
    "    \n",
    "    def get_load(self):\n",
    "        return self.__load\n",
    "    \n",
    "    def set_load(self, load): # проверка при изменении значения\n",
    "        assert load < self.__max_load, \"Превышен предел загрузки!\"\n",
    "        self.__load = load\n",
    "        \n",
    "    def get_max_load(self): # для max_load есть только возможность получения значения\n",
    "        return self.__max_load"
   ]
  },
  {
   "cell_type": "markdown",
   "metadata": {},
   "source": [
    "Сделаем попытку создать грузовик с грузом, превышающим максимально допустимый."
   ]
  },
  {
   "cell_type": "code",
   "execution_count": 24,
   "metadata": {},
   "outputs": [
    {
     "ename": "AssertionError",
     "evalue": "При создании автомобиля превышено ограничение загрузки!",
     "output_type": "error",
     "traceback": [
      "\u001b[1;31m---------------------------------------------------------------------------\u001b[0m",
      "\u001b[1;31mAssertionError\u001b[0m                            Traceback (most recent call last)",
      "Cell \u001b[1;32mIn[24], line 1\u001b[0m\n\u001b[1;32m----> 1\u001b[0m сс2_1 \u001b[38;5;241m=\u001b[39m CargoCar2(\u001b[38;5;241m5.0\u001b[39m, \u001b[38;5;241m10\u001b[39m, \u001b[38;5;241m11\u001b[39m)\n",
      "Cell \u001b[1;32mIn[23], line 7\u001b[0m, in \u001b[0;36mCargoCar2.__init__\u001b[1;34m(self, x, max_load, load)\u001b[0m\n\u001b[0;32m      5\u001b[0m \u001b[38;5;28mself\u001b[39m\u001b[38;5;241m.\u001b[39m__max_load \u001b[38;5;241m=\u001b[39m max_load\n\u001b[0;32m      6\u001b[0m \u001b[38;5;28mself\u001b[39m\u001b[38;5;241m.\u001b[39m__load \u001b[38;5;241m=\u001b[39m load\n\u001b[1;32m----> 7\u001b[0m \u001b[38;5;28;01massert\u001b[39;00m \u001b[38;5;129;01mnot\u001b[39;00m(\u001b[38;5;28mself\u001b[39m\u001b[38;5;241m.\u001b[39mis_overloaded()), \u001b[38;5;124m'\u001b[39m\u001b[38;5;124mПри создании автомобиля превышено ограничение загрузки!\u001b[39m\u001b[38;5;124m'\u001b[39m\n",
      "\u001b[1;31mAssertionError\u001b[0m: При создании автомобиля превышено ограничение загрузки!"
     ]
    }
   ],
   "source": [
    "сс2_1 = CargoCar2(5.0, 10, 11)"
   ]
  },
  {
   "cell_type": "markdown",
   "metadata": {},
   "source": [
    "Создадим грузовик, в котором нет превышения максимальной загрузки."
   ]
  },
  {
   "cell_type": "code",
   "execution_count": 25,
   "metadata": {},
   "outputs": [],
   "source": [
    "cc2_2 = CargoCar2(5.0, 10, 9)"
   ]
  },
  {
   "cell_type": "markdown",
   "metadata": {},
   "source": [
    "Попытаемся получить значение загрузки, обратившись к именам объекта и его параметра."
   ]
  },
  {
   "cell_type": "code",
   "execution_count": 26,
   "metadata": {
    "scrolled": false
   },
   "outputs": [
    {
     "ename": "AttributeError",
     "evalue": "'CargoCar2' object has no attribute '__load'",
     "output_type": "error",
     "traceback": [
      "\u001b[1;31m---------------------------------------------------------------------------\u001b[0m",
      "\u001b[1;31mAttributeError\u001b[0m                            Traceback (most recent call last)",
      "Cell \u001b[1;32mIn[26], line 1\u001b[0m\n\u001b[1;32m----> 1\u001b[0m cc2_2\u001b[38;5;241m.\u001b[39m__load\n",
      "\u001b[1;31mAttributeError\u001b[0m: 'CargoCar2' object has no attribute '__load'"
     ]
    }
   ],
   "source": [
    "cc2_2.__load # приватная переменная защищена от доступа извне класса"
   ]
  },
  {
   "cell_type": "markdown",
   "metadata": {},
   "source": [
    "Не смотря на то, что такй параметр есть, мы получили сообщение, что его нет. Однако, мы создали метод *get_load()*, который возвращает значение этого параметра."
   ]
  },
  {
   "cell_type": "code",
   "execution_count": 27,
   "metadata": {},
   "outputs": [
    {
     "data": {
      "text/plain": [
       "9"
      ]
     },
     "execution_count": 27,
     "metadata": {},
     "output_type": "execute_result"
    }
   ],
   "source": [
    "cc2_2.get_load()"
   ]
  },
  {
   "cell_type": "markdown",
   "metadata": {},
   "source": [
    "Мы также создали метод *set_load()*, предназначенный для установки значения параметра `__load`."
   ]
  },
  {
   "cell_type": "code",
   "execution_count": 28,
   "metadata": {},
   "outputs": [
    {
     "data": {
      "text/plain": [
       "8"
      ]
     },
     "execution_count": 28,
     "metadata": {},
     "output_type": "execute_result"
    }
   ],
   "source": [
    "cc2_2.set_load(8)\n",
    "cc2_2.get_load()"
   ]
  },
  {
   "cell_type": "markdown",
   "metadata": {},
   "source": [
    "Однако, установить загрузку выше максимальной не получится."
   ]
  },
  {
   "cell_type": "code",
   "execution_count": 29,
   "metadata": {},
   "outputs": [
    {
     "ename": "AssertionError",
     "evalue": "Превышен предел загрузки!",
     "output_type": "error",
     "traceback": [
      "\u001b[1;31m---------------------------------------------------------------------------\u001b[0m",
      "\u001b[1;31mAssertionError\u001b[0m                            Traceback (most recent call last)",
      "Cell \u001b[1;32mIn[29], line 1\u001b[0m\n\u001b[1;32m----> 1\u001b[0m cc2_2\u001b[38;5;241m.\u001b[39mset_load(\u001b[38;5;241m11\u001b[39m)\n",
      "Cell \u001b[1;32mIn[23], line 16\u001b[0m, in \u001b[0;36mCargoCar2.set_load\u001b[1;34m(self, load)\u001b[0m\n\u001b[0;32m     15\u001b[0m \u001b[38;5;28;01mdef\u001b[39;00m \u001b[38;5;21mset_load\u001b[39m(\u001b[38;5;28mself\u001b[39m, load): \u001b[38;5;66;03m# проверка при изменении значения\u001b[39;00m\n\u001b[1;32m---> 16\u001b[0m     \u001b[38;5;28;01massert\u001b[39;00m load \u001b[38;5;241m<\u001b[39m \u001b[38;5;28mself\u001b[39m\u001b[38;5;241m.\u001b[39m__max_load, \u001b[38;5;124m\"\u001b[39m\u001b[38;5;124mПревышен предел загрузки!\u001b[39m\u001b[38;5;124m\"\u001b[39m\n\u001b[0;32m     17\u001b[0m     \u001b[38;5;28mself\u001b[39m\u001b[38;5;241m.\u001b[39m__load \u001b[38;5;241m=\u001b[39m load\n",
      "\u001b[1;31mAssertionError\u001b[0m: Превышен предел загрузки!"
     ]
    }
   ],
   "source": [
    "cc2_2.set_load(11)"
   ]
  },
  {
   "cell_type": "markdown",
   "metadata": {},
   "source": [
    "В Python имеется более совершенный инструмент, позволяющий методы получения и установки (геттеры и сеттеры) скрытых параметров сделать более комфортным - это декораторы *@property* и *@имя_атрибута.setter*."
   ]
  },
  {
   "cell_type": "code",
   "execution_count": 30,
   "metadata": {},
   "outputs": [],
   "source": [
    "# Класс CargoCar с контролем доступа к значениям, выполненным в стиле Python\n",
    "class CargoCar3(Car): \n",
    "    def __init__(self, x, max_load, load):\n",
    "        self.x = x\n",
    "        self.__max_load = max_load\n",
    "        self.__load = load\n",
    "        assert not(self.is_overloaded()), 'При создании автомобиля превышено ограничение загрузки!'\n",
    "    \n",
    "    def is_overloaded(self):\n",
    "        return self.__load > self.__max_load\n",
    "    \n",
    "    @property # Декоратор функции, оформляющий функцию как функцию доступа\n",
    "    def load(self):\n",
    "        return self.__load\n",
    "    \n",
    "    @load.setter # Декоратор функции, оформляющий функцию как функцию-сеттер\n",
    "    def load(self, val): # проверка при изменении значения\n",
    "        assert val < self.__max_load, \"Превышен предел загрузки!\"\n",
    "        self.__load = val\n",
    "        \n",
    "    # при необходимости, есть декоратор вида: @load.deletter\n",
    "        \n",
    "    @property \n",
    "    def max_load(self): # для max_load есть только возможность получения значения\n",
    "        return self.__max_load"
   ]
  },
  {
   "cell_type": "markdown",
   "metadata": {},
   "source": [
    "Создадим объект."
   ]
  },
  {
   "cell_type": "code",
   "execution_count": 31,
   "metadata": {},
   "outputs": [],
   "source": [
    "cc3_1 = CargoCar3(5.0, 10, 9)"
   ]
  },
  {
   "cell_type": "markdown",
   "metadata": {},
   "source": [
    "Доступа к защищенной переменной нет."
   ]
  },
  {
   "cell_type": "code",
   "execution_count": 32,
   "metadata": {},
   "outputs": [
    {
     "ename": "AttributeError",
     "evalue": "'CargoCar3' object has no attribute '__load'",
     "output_type": "error",
     "traceback": [
      "\u001b[1;31m---------------------------------------------------------------------------\u001b[0m",
      "\u001b[1;31mAttributeError\u001b[0m                            Traceback (most recent call last)",
      "Cell \u001b[1;32mIn[32], line 1\u001b[0m\n\u001b[1;32m----> 1\u001b[0m cc3_1\u001b[38;5;241m.\u001b[39m__load\n",
      "\u001b[1;31mAttributeError\u001b[0m: 'CargoCar3' object has no attribute '__load'"
     ]
    }
   ],
   "source": [
    "cc3_1.__load"
   ]
  },
  {
   "cell_type": "markdown",
   "metadata": {},
   "source": [
    "Однако, обращаясь как будто к атрибуту `load`, получаем значение атрибута `__load`. В этом случае срабатывает метод за декоратором *@property*."
   ]
  },
  {
   "cell_type": "code",
   "execution_count": 33,
   "metadata": {},
   "outputs": [
    {
     "data": {
      "text/plain": [
       "9"
      ]
     },
     "execution_count": 33,
     "metadata": {},
     "output_type": "execute_result"
    }
   ],
   "source": [
    "cc3_1.load"
   ]
  },
  {
   "cell_type": "markdown",
   "metadata": {},
   "source": [
    "Если же попытаться присвоить какое-либо значение переменной *load*, сработает метод *load(self, val)* под декоратором *@load.setter*."
   ]
  },
  {
   "cell_type": "code",
   "execution_count": 34,
   "metadata": {},
   "outputs": [
    {
     "data": {
      "text/plain": [
       "8"
      ]
     },
     "execution_count": 34,
     "metadata": {},
     "output_type": "execute_result"
    }
   ],
   "source": [
    "cc3_1.load = 8\n",
    "cc3_1.load"
   ]
  },
  {
   "cell_type": "markdown",
   "metadata": {},
   "source": [
    "При попытке превысить максимально допустимую нагрузку автомобиля метод *load()* с декоратором *@load.setter* выдает ошибку."
   ]
  },
  {
   "cell_type": "code",
   "execution_count": 35,
   "metadata": {
    "scrolled": true
   },
   "outputs": [
    {
     "ename": "AssertionError",
     "evalue": "Превышен предел загрузки!",
     "output_type": "error",
     "traceback": [
      "\u001b[1;31m---------------------------------------------------------------------------\u001b[0m",
      "\u001b[1;31mAssertionError\u001b[0m                            Traceback (most recent call last)",
      "Cell \u001b[1;32mIn[35], line 1\u001b[0m\n\u001b[1;32m----> 1\u001b[0m cc3_1\u001b[38;5;241m.\u001b[39mload \u001b[38;5;241m=\u001b[39m \u001b[38;5;241m11\u001b[39m\n",
      "Cell \u001b[1;32mIn[30], line 18\u001b[0m, in \u001b[0;36mCargoCar3.load\u001b[1;34m(self, val)\u001b[0m\n\u001b[0;32m     16\u001b[0m \u001b[38;5;129m@load\u001b[39m\u001b[38;5;241m.\u001b[39msetter \u001b[38;5;66;03m# Декоратор функции, оформляющий функцию как функцию-сеттер\u001b[39;00m\n\u001b[0;32m     17\u001b[0m \u001b[38;5;28;01mdef\u001b[39;00m \u001b[38;5;21mload\u001b[39m(\u001b[38;5;28mself\u001b[39m, val): \u001b[38;5;66;03m# проверка при изменении значения\u001b[39;00m\n\u001b[1;32m---> 18\u001b[0m     \u001b[38;5;28;01massert\u001b[39;00m val \u001b[38;5;241m<\u001b[39m \u001b[38;5;28mself\u001b[39m\u001b[38;5;241m.\u001b[39m__max_load, \u001b[38;5;124m\"\u001b[39m\u001b[38;5;124mПревышен предел загрузки!\u001b[39m\u001b[38;5;124m\"\u001b[39m\n\u001b[0;32m     19\u001b[0m     \u001b[38;5;28mself\u001b[39m\u001b[38;5;241m.\u001b[39m__load \u001b[38;5;241m=\u001b[39m val\n",
      "\u001b[1;31mAssertionError\u001b[0m: Превышен предел загрузки!"
     ]
    }
   ],
   "source": [
    "cc3_1.load = 11"
   ]
  },
  {
   "cell_type": "markdown",
   "metadata": {},
   "source": [
    "Таким образом, благодаря декораторам, работа пользователя с атрибутами класса выглядит естественно, хотя пользователь не знает, что на самом деле он работает с закрытыми атрибутами.\n",
    "\n",
    "Получим значение переменной `__max_load`"
   ]
  },
  {
   "cell_type": "code",
   "execution_count": 36,
   "metadata": {},
   "outputs": [
    {
     "data": {
      "text/plain": [
       "10"
      ]
     },
     "execution_count": 36,
     "metadata": {},
     "output_type": "execute_result"
    }
   ],
   "source": [
    "cc3_1.max_load"
   ]
  },
  {
   "cell_type": "markdown",
   "metadata": {},
   "source": [
    "Для `__max_load` мы сделали только геттер, но не сеттер. Поэтому получить значение `__max_load` мы смогли, но мы не можем установить новое значение."
   ]
  },
  {
   "cell_type": "code",
   "execution_count": 37,
   "metadata": {
    "scrolled": true
   },
   "outputs": [
    {
     "ename": "AttributeError",
     "evalue": "property 'max_load' of 'CargoCar3' object has no setter",
     "output_type": "error",
     "traceback": [
      "\u001b[1;31m---------------------------------------------------------------------------\u001b[0m",
      "\u001b[1;31mAttributeError\u001b[0m                            Traceback (most recent call last)",
      "Cell \u001b[1;32mIn[37], line 1\u001b[0m\n\u001b[1;32m----> 1\u001b[0m cc3_1\u001b[38;5;241m.\u001b[39mmax_load \u001b[38;5;241m=\u001b[39m \u001b[38;5;241m7\u001b[39m\n",
      "\u001b[1;31mAttributeError\u001b[0m: property 'max_load' of 'CargoCar3' object has no setter"
     ]
    }
   ],
   "source": [
    "cc3_1.max_load = 7"
   ]
  },
  {
   "cell_type": "markdown",
   "metadata": {},
   "source": [
    "## Динамические операции с атрибутами и интроспекция <a class=\"anchor\" id=\"интроспекция\"></a>\n",
    "* [к оглавлению](#разделы)"
   ]
  },
  {
   "cell_type": "markdown",
   "metadata": {},
   "source": [
    "Создадим несколько объектов и поместим их в список."
   ]
  },
  {
   "cell_type": "code",
   "execution_count": 38,
   "metadata": {},
   "outputs": [],
   "source": [
    "ob_1 = Car(3.1)\n",
    "ob_2 = Car(4.1)\n",
    "ob_3 = CargoCar3(5.0, 10, 9)\n",
    "my_objects = [ob_1, ob_2, ob_3]"
   ]
  },
  {
   "cell_type": "code",
   "execution_count": 39,
   "metadata": {},
   "outputs": [
    {
     "data": {
      "text/plain": [
       "(3.1, 4.1, 5.0)"
      ]
     },
     "execution_count": 39,
     "metadata": {},
     "output_type": "execute_result"
    }
   ],
   "source": [
    "ob_1.x, ob_2.x, ob_3.x"
   ]
  },
  {
   "cell_type": "markdown",
   "metadata": {},
   "source": [
    "Часто мы не знаем (в процессе выполнения программы), какие атрибуты есть у объекта. В предыдущей лекции у одного из потомков класса *Car* был атрибут *length*. Возможно, этот атрибут есть у объекта *ob.1*, проверим."
   ]
  },
  {
   "cell_type": "code",
   "execution_count": 40,
   "metadata": {},
   "outputs": [
    {
     "ename": "AttributeError",
     "evalue": "'Car' object has no attribute 'length'",
     "output_type": "error",
     "traceback": [
      "\u001b[1;31m---------------------------------------------------------------------------\u001b[0m",
      "\u001b[1;31mAttributeError\u001b[0m                            Traceback (most recent call last)",
      "Cell \u001b[1;32mIn[40], line 1\u001b[0m\n\u001b[1;32m----> 1\u001b[0m ob_1\u001b[38;5;241m.\u001b[39mlength\n",
      "\u001b[1;31mAttributeError\u001b[0m: 'Car' object has no attribute 'length'"
     ]
    }
   ],
   "source": [
    "ob_1.length"
   ]
  },
  {
   "cell_type": "markdown",
   "metadata": {},
   "source": [
    "Оказалось, что такого атрибута нет."
   ]
  },
  {
   "cell_type": "code",
   "execution_count": 41,
   "metadata": {},
   "outputs": [],
   "source": [
    "# присваиваем объекту значение для нового атрибута\n",
    "ob_1.length = 11"
   ]
  },
  {
   "cell_type": "code",
   "execution_count": 42,
   "metadata": {},
   "outputs": [
    {
     "data": {
      "text/plain": [
       "11"
      ]
     },
     "execution_count": 42,
     "metadata": {},
     "output_type": "execute_result"
    }
   ],
   "source": [
    "ob_1.length"
   ]
  },
  {
   "cell_type": "code",
   "execution_count": 43,
   "metadata": {},
   "outputs": [
    {
     "ename": "AttributeError",
     "evalue": "'Car' object has no attribute 'length'",
     "output_type": "error",
     "traceback": [
      "\u001b[1;31m---------------------------------------------------------------------------\u001b[0m",
      "\u001b[1;31mAttributeError\u001b[0m                            Traceback (most recent call last)",
      "Cell \u001b[1;32mIn[43], line 2\u001b[0m\n\u001b[0;32m      1\u001b[0m \u001b[38;5;66;03m# у других объектов этого же типа данный атрибут отсутствует:\u001b[39;00m\n\u001b[1;32m----> 2\u001b[0m ob_2\u001b[38;5;241m.\u001b[39mlength\n",
      "\u001b[1;31mAttributeError\u001b[0m: 'Car' object has no attribute 'length'"
     ]
    }
   ],
   "source": [
    "# у других объектов этого же типа данный атрибут отсутствует:\n",
    "ob_2.length"
   ]
  },
  {
   "cell_type": "code",
   "execution_count": 44,
   "metadata": {},
   "outputs": [],
   "source": [
    "# атрибут у объекта можно не только создать, но и удалить:\n",
    "del ob_1.length"
   ]
  },
  {
   "cell_type": "code",
   "execution_count": 45,
   "metadata": {
    "scrolled": true
   },
   "outputs": [
    {
     "ename": "AttributeError",
     "evalue": "'Car' object has no attribute 'length'",
     "output_type": "error",
     "traceback": [
      "\u001b[1;31m---------------------------------------------------------------------------\u001b[0m",
      "\u001b[1;31mAttributeError\u001b[0m                            Traceback (most recent call last)",
      "Cell \u001b[1;32mIn[45], line 1\u001b[0m\n\u001b[1;32m----> 1\u001b[0m ob_1\u001b[38;5;241m.\u001b[39mlength\n",
      "\u001b[1;31mAttributeError\u001b[0m: 'Car' object has no attribute 'length'"
     ]
    }
   ],
   "source": [
    "ob_1.length"
   ]
  },
  {
   "cell_type": "markdown",
   "metadata": {},
   "source": [
    "Интроспекция позволяет узнать структуру объекта в процессе выполнения программы. Чтобы не получить исключение при обращении к несуществующему атрибуту можно заранее узнать о его наличии в объекте.\n",
    "\n",
    "Получать, задвать и удалять значения атрибутов можно по их именам, хранящимся в виде строки, при помощи встроенных функций: \n",
    "\n",
    "- getattr()\n",
    "- setattr()\n",
    "- delattr()"
   ]
  },
  {
   "cell_type": "markdown",
   "metadata": {},
   "source": [
    "Напишем код, в котором каждому объекту из списка *my_objects* присвоим атрибут *number*, содержащий порядковый номер согласно позиции в списке."
   ]
  },
  {
   "cell_type": "code",
   "execution_count": 46,
   "metadata": {},
   "outputs": [],
   "source": [
    "ob_1 = Car(3.1)\n",
    "ob_2 = Car(4.1)\n",
    "ob_3 = CargoCar3(5.0, 10, 9)\n",
    "my_objects = [ob_1, ob_2, ob_3]\n",
    "\n",
    "new_attr = 'number'\n",
    "for i, o in enumerate(my_objects):\n",
    "    setattr(o, new_attr, i)"
   ]
  },
  {
   "cell_type": "code",
   "execution_count": 47,
   "metadata": {},
   "outputs": [
    {
     "data": {
      "text/plain": [
       "1"
      ]
     },
     "execution_count": 47,
     "metadata": {},
     "output_type": "execute_result"
    }
   ],
   "source": [
    "ob_2.number"
   ]
  },
  {
   "cell_type": "code",
   "execution_count": 48,
   "metadata": {},
   "outputs": [
    {
     "data": {
      "text/plain": [
       "1"
      ]
     },
     "execution_count": 48,
     "metadata": {},
     "output_type": "execute_result"
    }
   ],
   "source": [
    "getattr(ob_2, new_attr)"
   ]
  },
  {
   "cell_type": "code",
   "execution_count": 49,
   "metadata": {},
   "outputs": [],
   "source": [
    "getattr?"
   ]
  },
  {
   "cell_type": "markdown",
   "metadata": {},
   "source": [
    "Данные функции позволяют обращаться к атрибутам, имена которых заранее неизвестны. Это особенно важно для реализации интроспекции. Интроспекция (type introspection) в программировании — возможность в объектно-ориентированных языках определить тип и структуру объекта во время выполнения программы. Эта возможность присуща языкам, позволяющих манипулировать типами объектов как объектами первого класса (first class citizens). "
   ]
  },
  {
   "cell_type": "markdown",
   "metadata": {},
   "source": [
    "Функция `getattr(object, name[, default])` выдает значение необязательного аргумента *default*, если атрибут отсутствует."
   ]
  },
  {
   "cell_type": "code",
   "execution_count": 50,
   "metadata": {},
   "outputs": [
    {
     "data": {
      "text/plain": [
       "'Атрибута length нет'"
      ]
     },
     "execution_count": 50,
     "metadata": {},
     "output_type": "execute_result"
    }
   ],
   "source": [
    "getattr(ob_2, 'length', 'Атрибута length нет')"
   ]
  },
  {
   "cell_type": "markdown",
   "metadata": {},
   "source": [
    "Если мы хоти узнать, какие вообще атрибуты и методы есть у объекта, можно воспользоваться встроенной функцией *dir()*."
   ]
  },
  {
   "cell_type": "code",
   "execution_count": 51,
   "metadata": {},
   "outputs": [
    {
     "data": {
      "text/plain": [
       "['_CargoCar3__load',\n",
       " '_CargoCar3__max_load',\n",
       " '__class__',\n",
       " '__delattr__',\n",
       " '__dict__',\n",
       " '__dir__',\n",
       " '__doc__',\n",
       " '__eq__',\n",
       " '__format__',\n",
       " '__ge__',\n",
       " '__getattribute__',\n",
       " '__getstate__',\n",
       " '__gt__',\n",
       " '__hash__',\n",
       " '__init__',\n",
       " '__init_subclass__',\n",
       " '__le__',\n",
       " '__lt__',\n",
       " '__module__',\n",
       " '__ne__',\n",
       " '__new__',\n",
       " '__reduce__',\n",
       " '__reduce_ex__',\n",
       " '__repr__',\n",
       " '__setattr__',\n",
       " '__sizeof__',\n",
       " '__str__',\n",
       " '__subclasshook__',\n",
       " '__weakref__',\n",
       " 'is_near',\n",
       " 'is_overloaded',\n",
       " 'load',\n",
       " 'max_load',\n",
       " 'number',\n",
       " 'x']"
      ]
     },
     "execution_count": 51,
     "metadata": {},
     "output_type": "execute_result"
    }
   ],
   "source": [
    "dir(ob_3)"
   ]
  },
  {
   "cell_type": "code",
   "execution_count": 52,
   "metadata": {},
   "outputs": [],
   "source": [
    "?dir"
   ]
  },
  {
   "cell_type": "code",
   "execution_count": 55,
   "metadata": {},
   "outputs": [
    {
     "name": "stdout",
     "output_type": "stream",
     "text": [
      "is_near <bound method Car.is_near of <__main__.CargoCar3 object at 0x000001B968CF94D0>> <class 'method'>\n",
      "is_overloaded <bound method CargoCar3.is_overloaded of <__main__.CargoCar3 object at 0x000001B968CF94D0>> <class 'method'>\n",
      "load 9 <class 'int'>\n",
      "max_load 10 <class 'int'>\n",
      "number 2 <class 'int'>\n",
      "x 5.0 <class 'float'>\n"
     ]
    }
   ],
   "source": [
    "# получаем значения и тип всех незащищенных переменных объекта:\n",
    "for v_name in dir(ob_3):\n",
    "    if v_name[0] == '_':\n",
    "        continue\n",
    "    attr = getattr(ob_3, v_name)\n",
    "    print(v_name, attr, type(attr))"
   ]
  },
  {
   "cell_type": "markdown",
   "metadata": {},
   "source": [
    "Такой результат плохо \"читается\". Попробуем повысить читаемость, для этого используем библиотеку *types* и отдельно обработаем мтоды и атрибуты."
   ]
  },
  {
   "cell_type": "code",
   "execution_count": 56,
   "metadata": {},
   "outputs": [
    {
     "name": "stdout",
     "output_type": "stream",
     "text": [
      "is_near (method) <class 'method'>\n",
      "is_overloaded (method) <class 'method'>\n",
      "load 9 <class 'int'>\n",
      "max_load 10 <class 'int'>\n",
      "number 2 <class 'int'>\n",
      "x 5.0 <class 'float'>\n"
     ]
    }
   ],
   "source": [
    "# получаем значения и тип всех незащищенных переменных объекта:\n",
    "import types\n",
    "\n",
    "for v_name in dir(ob_3):\n",
    "    if v_name[0] == '_':\n",
    "        continue\n",
    "    attr = getattr(ob_3, v_name)\n",
    "    attr_t = type(attr)\n",
    "    if attr_t is types.MethodType:\n",
    "        print(v_name, '(method)', attr_t)\n",
    "    else:\n",
    "        print(v_name, attr, attr_t)"
   ]
  },
  {
   "cell_type": "markdown",
   "metadata": {},
   "source": [
    "Функция *vars()* возвращает атрибуты объекта для которых можно и получить и задать значения."
   ]
  },
  {
   "cell_type": "code",
   "execution_count": 57,
   "metadata": {},
   "outputs": [
    {
     "data": {
      "text/plain": [
       "{'x': 5.0, '_CargoCar3__max_load': 10, '_CargoCar3__load': 9, 'number': 2}"
      ]
     },
     "execution_count": 57,
     "metadata": {},
     "output_type": "execute_result"
    }
   ],
   "source": [
    "vars(ob_3)"
   ]
  },
  {
   "cell_type": "markdown",
   "metadata": {},
   "source": [
    "Наличие атрибута можно проверить с помощью функции *hasattr()*."
   ]
  },
  {
   "cell_type": "code",
   "execution_count": 58,
   "metadata": {},
   "outputs": [
    {
     "name": "stdout",
     "output_type": "stream",
     "text": [
      "2 9\n"
     ]
    }
   ],
   "source": [
    "for o in my_objects:\n",
    "    if hasattr(o, 'load'):\n",
    "        print(o.number, o.load)"
   ]
  },
  {
   "cell_type": "markdown",
   "metadata": {},
   "source": [
    "Встроенные функции для выполнения задач объектно-ориентированного программирования:\n",
    "\n",
    "http://python-reference.readthedocs.io/en/latest/docs/functions/#object-oriented-functions\n",
    "\n",
    "\n",
    "https://docs.python.org/3/library/functions.html\n"
   ]
  },
  {
   "cell_type": "markdown",
   "metadata": {},
   "source": [
    "## Специальные методы <a class=\"anchor\" id=\"специальные\"></a>\n",
    "* [к оглавлению](#разделы)"
   ]
  },
  {
   "cell_type": "markdown",
   "metadata": {},
   "source": [
    "Методы `__repr__(self)` и `__str__(self)` служат для преобразования объекта в строку. Метод `__repr__()`  вызывается при выводе в интерактивной оболочке, когда распечатывается последняя строка в ячейке, а также при исnользовании функции *repr()*. Метод `__str__()` вызывается при выводе с помощью функции *print()*, а также при исnользовании функции *str()*. Если метод `__str__()` отсутствует, то будет вызван метод `__repr__()`. В качестве значения методы `__repr__()` и `__str__()` должны возвращать строку. Причем, значение возвращаемое `__repr__()` по возможности должно возврващать строку имеющую вид конструктора аналогичного объекта. То есть должно быть истинно выражание: `eval(repr(obj)) == obj`. \n",
    "\n",
    "Функция `eval()` в Python позволяет выполнить выражение, записанное в виде строки."
   ]
  },
  {
   "cell_type": "code",
   "execution_count": 59,
   "metadata": {
    "scrolled": true
   },
   "outputs": [
    {
     "data": {
      "text/plain": [
       "[11, 22, 33]"
      ]
     },
     "execution_count": 59,
     "metadata": {},
     "output_type": "execute_result"
    }
   ],
   "source": [
    "eval('[11, 22]+[33]')"
   ]
  },
  {
   "cell_type": "code",
   "execution_count": 60,
   "metadata": {},
   "outputs": [
    {
     "name": "stdout",
     "output_type": "stream",
     "text": [
      "<__main__.Ship object at 0x000001B967F27510>\n",
      "<__main__.Ship object at 0x000001B967EFB890>\n",
      "<__main__.Ship object at 0x000001B967F60350>\n",
      "<__main__.Ship object at 0x000001B967F63C10>\n",
      "<__main__.Ship object at 0x000001B967F62690>\n",
      "<__main__.Ship object at 0x000001B967F6CC10>\n",
      "<__main__.Ship object at 0x000001B967F6E6D0>\n",
      "<__main__.Ship object at 0x000001B967F6E710>\n",
      "<__main__.Ship object at 0x000001B967F6E810>\n",
      "<__main__.Ship object at 0x000001B967F6D390>\n",
      "<__main__.Ship object at 0x000001B967F6E850>\n",
      "<__main__.Ship object at 0x000001B967F6E8D0>\n",
      "<__main__.Ship object at 0x000001B967F6E910>\n",
      "<__main__.Ship object at 0x000001B967F6CFD0>\n",
      "<__main__.Ship object at 0x000001B967F6E950>\n"
     ]
    }
   ],
   "source": [
    "for s in fleet:\n",
    "    print(s)"
   ]
  },
  {
   "cell_type": "markdown",
   "metadata": {},
   "source": [
    "Создадим класс *ShipS(Ship)* с методом `__str__()` и посмотрим, как изменится вывод с помощью функции *print()*. Класс *ShipS* является потомком класса *Ship*."
   ]
  },
  {
   "cell_type": "code",
   "execution_count": 62,
   "metadata": {},
   "outputs": [],
   "source": [
    "class ShipS(Ship):\n",
    "    def __str__(self):\n",
    "        return f'Ship with index {self.index}'"
   ]
  },
  {
   "cell_type": "code",
   "execution_count": 63,
   "metadata": {},
   "outputs": [
    {
     "name": "stdout",
     "output_type": "stream",
     "text": [
      "Ship with index 52\n",
      "Ship with index 53\n",
      "Ship with index 54\n",
      "Ship with index 55\n",
      "Ship with index 56\n"
     ]
    }
   ],
   "source": [
    "fleet2 = [ShipS() for _ in range(5)]\n",
    "for s in fleet2:\n",
    "    print(s)"
   ]
  },
  {
   "cell_type": "markdown",
   "metadata": {},
   "source": [
    "Когда объект используется в строке формата, вызывается метод \\__format\\__(self, format_spec) объекта с самим объектом и  спецификацией формата в виде аргументов. Метод возвращает строку с экземпляром, отформатированным  соответствующим образом."
   ]
  },
  {
   "cell_type": "markdown",
   "metadata": {},
   "source": [
    "Специальные методы для поддержки преобразования типов:\n",
    "\n",
    "* \\_\\_bооl_\\_(self) – вызывается при исnользовании функции *bool()* \n",
    "* \\_\\_int_\\_(self) – вызывается nри преобразовании объекта в целое число с nомощью функции *int()*\n",
    "* \\_\\_float_\\_(self) – вызывается nри nреобразовании объекта в вещественное число с nомощью функции *float()*\n",
    "* \\_\\_complex_\\_(self) – вызывается nри исnользовании функции *complex()*"
   ]
  },
  {
   "cell_type": "markdown",
   "metadata": {},
   "source": [
    "Специальные методы для поддержки операций сравнения:\n",
    "\n",
    "* х == у – равно – х.\\_\\_еq\\_\\_(у) \n",
    "* х != у – не равно – х.\\_\\_nе\\_\\_(у)\n",
    "* х < у – меньше – х.\\_\\_lt\\_\\_(y) \n",
    "* х > y – бoльшe – x.\\_\\_gt\\_\\_(y)\n",
    "* х <= у – меньше или равно – х.\\_\\_lе\\_\\_(у)\n",
    "* х >= у – больше или равно – x.\\_\\_ge\\_\\_(y)\n",
    "* у in х – проверка на вхождение – х.\\_\\_contains_\\_(у)"
   ]
  },
  {
   "cell_type": "markdown",
   "metadata": {},
   "source": [
    "Интерпретатор Python будет автоматически подставлять метод \\_\\_ne\\_\\_() (not equal – не равно), реализующий действие оператора неравенства (!=), если в классе присутствует реализация метода \\_\\_eq\\_\\_(), но отсутствует реализация метода \\_\\_ne_\\_().\n",
    "\n",
    "По умолчанию экземпляры наших собственных классов поддерживают оператор == (который всегда возвращает False) и являются хешируемыми (поэтому они могут использоваться в качестве ключей словаря или добавляться в множества). Но если реализовать специальный метод \\_\\_eq\\_\\_(), выполняющий корректную проверку на равенство, экземпляры перестанут быть хешируемыми. Это можно исправить, реализовав специальный метод \\_\\_hash\\_\\_(). Язык Python предоставляет функцию хеширования строк, чисел, фиксированных множеств и других классов. \n",
    "\n",
    "Специальный метод \\_\\_del\\_\\_(self) вызывается при уничтожении объекта - по крайней мере в теории. На практике метод \\_\\_del\\_\\_() может не вызываться никогда, даже при завершении программы. "
   ]
  },
  {
   "cell_type": "markdown",
   "metadata": {},
   "source": [
    "### Материалы для подготовки к следующей лекции:\n",
    "\n",
    "Прохоренок: Глава 11 \"Пользовательские функции\"\n",
    "\n",
    "Саммерфильд: Глава 8 \"Улучшенные приемы программирования\" (разделы: Улучшенные приемы процедурного программирования; Функциональное программирование"
   ]
  }
 ],
 "metadata": {
  "anaconda-cloud": {},
  "kernelspec": {
   "display_name": "Python 3 (ipykernel)",
   "language": "python",
   "name": "python3"
  },
  "language_info": {
   "codemirror_mode": {
    "name": "ipython",
    "version": 3
   },
   "file_extension": ".py",
   "mimetype": "text/x-python",
   "name": "python",
   "nbconvert_exporter": "python",
   "pygments_lexer": "ipython3",
   "version": "3.11.4"
  }
 },
 "nbformat": 4,
 "nbformat_minor": 1
}
