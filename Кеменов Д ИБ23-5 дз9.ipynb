{
 "cells": [
  {
   "cell_type": "markdown",
   "metadata": {},
   "source": [
    "# Домашнее задание 9\n",
    "\n",
    "Выполните домашнее задание и сохраните в контрольной точке электронного учебного курса в файле с именем в формате\n",
    "\n",
    "```<Фамилия_Имя_Группа_ДЗ_9>.ipynb```"
   ]
  },
  {
   "cell_type": "markdown",
   "metadata": {},
   "source": [
    "### Задание 1\n",
    "\n",
    "Напишите программу, которая предлагает пользователю ввести два числа. Если пользовательский ввод не является числом, обработайте это исключение, сообщите пользователю об ошибке, предложите повторить ввод, и так до тех пор, пока значение не станет допустимым. То же и для второго числа. Перемножьте два числа и распечатайте результат."
   ]
  },
  {
   "cell_type": "code",
   "execution_count": 3,
   "metadata": {},
   "outputs": [
    {
     "name": "stdout",
     "output_type": "stream",
     "text": [
      "Введите число k1: d\n",
      "Введите число k1: 2\n",
      "Введите число k2: k\n",
      "Введите число k2: 4\n",
      "2*4=8\n"
     ]
    }
   ],
   "source": [
    "def inputNum1():\n",
    "    try:\n",
    "        k = int(input('Введите число k1: '))\n",
    "        if isinstance(k, int):\n",
    "            return k\n",
    "        else:\n",
    "            raise ValueError\n",
    "    except ValueError:\n",
    "        return inputNum1()\n",
    "        \n",
    "def inputNum2():\n",
    "    try:\n",
    "        k = int(input('Введите число k2: '))\n",
    "        if isinstance(k, int):\n",
    "            return k\n",
    "        else:\n",
    "            raise ValueError\n",
    "    except ValueError:\n",
    "        return inputNum2()\n",
    "\n",
    "def inpNum():\n",
    "    n1 = inputNum1()\n",
    "    n2 = inputNum2()\n",
    "    print(f'{n1}*{n2}={n1*n2}')\n",
    "    \n",
    "inpNum()"
   ]
  },
  {
   "cell_type": "markdown",
   "metadata": {},
   "source": [
    "### Задание 2\n",
    "\n",
    "Напишите функцию сложения двух положительных чисел. Вызовите исключение *AssertionError* при вводе пользователем отрицательных чисел."
   ]
  },
  {
   "cell_type": "code",
   "execution_count": 4,
   "metadata": {},
   "outputs": [
    {
     "name": "stdout",
     "output_type": "stream",
     "text": [
      "Введите 2 числа через пробел: 2 4\n",
      "2+4=6\n"
     ]
    }
   ],
   "source": [
    "def summNums():\n",
    "    try:\n",
    "        k1 = input(\"Введите 2 числа через пробел: \").split()\n",
    "        k1,k2 = k1\n",
    "        k1,k2=int(k1),int(k2)\n",
    "        print(f'{k1}+{k2}={k1+k2}')\n",
    "    except:\n",
    "        print('Что-то пошло не так')\n",
    "        \n",
    "summNums()"
   ]
  },
  {
   "cell_type": "markdown",
   "metadata": {},
   "source": [
    "### Задание 3\n",
    "\n",
    "Напишите функцию сложения чисел. В функцию может передаваться любое количество чисел. Если аргумент не является числом, вызвовите исключение."
   ]
  },
  {
   "cell_type": "code",
   "execution_count": 6,
   "metadata": {},
   "outputs": [
    {
     "name": "stdout",
     "output_type": "stream",
     "text": [
      "Введите целое числоe\n",
      "Ошибка ввода. Попробуйте снова! \n",
      "Введите целое число1\n",
      "Введите целое число3\n",
      "Введите целое число2312\n",
      "Введите целое число454\n",
      "Введите целое числоfsada\n",
      "Ошибка ввода. Попробуйте снова! \n",
      "Введите целое число2\n",
      "Введите целое число42\n",
      "Введите целое числоre\n",
      "Ошибка ввода. Попробуйте снова! \n",
      "Введите целое число23/55\n",
      "Ошибка ввода. Попробуйте снова! \n",
      "Введите целое число3\n",
      "2817\n",
      "Введите целое число1\n"
     ]
    }
   ],
   "source": [
    "def infinitySumm(summ=0):\n",
    "    try:\n",
    "        k = int(input('Введите целое число'))\n",
    "        return infinitySumm(summ+k)\n",
    "    except ValueError:\n",
    "        print('Ошибка ввода. Попробуйте снова! ')\n",
    "        return infinitySumm(summ)\n",
    "    except KeyboardInterrupt:\n",
    "        return summ\n",
    "        \n",
    "print(infinitySumm())"
   ]
  },
  {
   "cell_type": "markdown",
   "metadata": {},
   "source": [
    "### Задание 4 ###\n",
    "\n",
    "Напишите функцию вычисления `2/s`. На вход функции поступает переменная $s$. Перехватите все исключительные ситуации."
   ]
  },
  {
   "cell_type": "code",
   "execution_count": 15,
   "metadata": {},
   "outputs": [
    {
     "name": "stdout",
     "output_type": "stream",
     "text": [
      "Введите число:as\n",
      "Ошибка ввода\n",
      "Введите число:a\n",
      "Ошибка ввода\n",
      "Введите число:0\n",
      "Вы ввели ноль, на ноль делить нельзя\n",
      "Введите число:123\n",
      "0.016260162601626018\n"
     ]
    }
   ],
   "source": [
    "def twoOnS():\n",
    "    try:\n",
    "        s = int(input('Введите число:'))\n",
    "        return 2/s\n",
    "    except ValueError:\n",
    "        print('Ошибка ввода')\n",
    "        return twoOnS()\n",
    "    except ZeroDivisionError:\n",
    "        print('Вы ввели ноль, на ноль делить нельзя')\n",
    "        return twoOnS()\n",
    "        \n",
    "print(twoOnS())"
   ]
  },
  {
   "cell_type": "markdown",
   "metadata": {},
   "source": [
    "### Задание 5 ###\n",
    "\n",
    "Напишите функцию вычисления площади квадрата. Обработайте исключительную ситуацию при условии, что стороны квадрата не равны."
   ]
  },
  {
   "cell_type": "code",
   "execution_count": 7,
   "metadata": {},
   "outputs": [
    {
     "name": "stdout",
     "output_type": "stream",
     "text": [
      "Введите сторону квадрата: q\n",
      "Неверный ввод. Повторите ввод\n",
      "Введите сторону квадрата: -4\n",
      "Сторона квадрата не может быть меньше или равна нулю!\n",
      "Введите сторону квадрата: -9\n",
      "Сторона квадрата не может быть меньше или равна нулю!\n",
      "Введите сторону квадрата: 0\n",
      "Сторона квадрата не может быть меньше или равна нулю!\n",
      "Введите сторону квадрата: 11\n"
     ]
    },
    {
     "data": {
      "text/plain": [
       "121"
      ]
     },
     "execution_count": 7,
     "metadata": {},
     "output_type": "execute_result"
    }
   ],
   "source": [
    "# 5.\n",
    "def squareS():\n",
    "    try:\n",
    "        a = int(input('Введите сторону квадрата: '))\n",
    "        assert a >1, 'Сторона квадрата не может быть меньше или равна нулю!'\n",
    "        return a*a\n",
    "    except ValueError:\n",
    "        print('Неверный ввод. Повторите ввод')\n",
    "        return squareS()\n",
    "    except AssertionError as h:\n",
    "        print(h)\n",
    "        return squareS()\n",
    "    \n",
    "squareS()"
   ]
  },
  {
   "cell_type": "markdown",
   "metadata": {},
   "source": [
    "### Задание 6\n",
    "\n",
    "Напишите калькулятор для строковых выражений вида '<число> <операция> <число>', где <число> - целое число, <арифмитическая операция> - одна из операций `+,-,*,/,//,%,^(возведение в степень)`. Пример: `calc('13 - 5') -> 8`. Проверьте переданную строку на корректность ввода, и распечатайте отладочную ошибку."
   ]
  },
  {
   "cell_type": "code",
   "execution_count": 1,
   "metadata": {},
   "outputs": [
    {
     "name": "stdout",
     "output_type": "stream",
     "text": [
      "Введите выражение выделяя цифры и действие прбелом12 - 4\n",
      "12 - 4\n"
     ]
    }
   ],
   "source": [
    "def calc(s):\n",
    "    try:\n",
    "        s1 = s.split()\n",
    "        print(s1)\n",
    "    except:\n",
    "        pass\n",
    "    \n",
    "calc()"
   ]
  }
 ],
 "metadata": {
  "kernelspec": {
   "display_name": "Python 3 (ipykernel)",
   "language": "python",
   "name": "python3"
  },
  "language_info": {
   "codemirror_mode": {
    "name": "ipython",
    "version": 3
   },
   "file_extension": ".py",
   "mimetype": "text/x-python",
   "name": "python",
   "nbconvert_exporter": "python",
   "pygments_lexer": "ipython3",
   "version": "3.11.4"
  }
 },
 "nbformat": 4,
 "nbformat_minor": 4
}
