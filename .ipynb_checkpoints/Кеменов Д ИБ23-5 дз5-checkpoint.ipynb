{
 "cells": [
  {
   "cell_type": "markdown",
   "id": "eb8809b8",
   "metadata": {},
   "source": [
    "## Алгоритмы и структуры данных в языке Python\n",
    "\n",
    "\n",
    "# Домашнее задание 5\n",
    "\n",
    "Сохраните выполненное домашнее задание в файле Jupyter Notebook с именем в формате <Фамилия_Имя_Группа_ДЗ_5>. Расширение файла должно быть `.ipynb`. Загрузите файл в контрольную точку электронного учебного курса."
   ]
  },
  {
   "cell_type": "markdown",
   "id": "090f04d0",
   "metadata": {},
   "source": [
    "<p style=\"background:powderblue; font-weight:bold\">Задача 1. Отсортированный словарь</p>\n",
    "\n",
    "Отсортируйте словарь по возрастанию и по убыванию его значений.<br>\n",
    "Пример. <br>\n",
    "```\n",
    "{1: 2, 3: 4, 4: 3, 2: 1, 0: 0} => {0: 0, 2: 1, 1: 2, 4: 3, 3: 4}\n",
    "{1: 2, 3: 4, 4: 3, 2: 1, 0: 0} => {3: 4, 4: 3, 1: 2, 2: 1, 0: 0}\n",
    "```"
   ]
  },
  {
   "cell_type": "code",
   "execution_count": null,
   "id": "1484e293",
   "metadata": {},
   "outputs": [],
   "source": [
    "# 1.\n"
   ]
  },
  {
   "cell_type": "markdown",
   "id": "a0ea648b",
   "metadata": {},
   "source": [
    "<p style=\"background:powderblue; font-weight:bold\">Задача 2. Ключи в квадрате</p>\n",
    "\n",
    "Напишите программу для печати словаря, в котором ключами являются числа от 1 до 15 (оба включены), а значениями являются квадраты ключей."
   ]
  },
  {
   "cell_type": "code",
   "execution_count": 3,
   "id": "2c91949a",
   "metadata": {},
   "outputs": [
    {
     "data": {
      "text/plain": [
       "{0: 0,\n",
       " 1: 1,\n",
       " 2: 4,\n",
       " 3: 9,\n",
       " 4: 16,\n",
       " 5: 25,\n",
       " 6: 36,\n",
       " 7: 49,\n",
       " 8: 64,\n",
       " 9: 81,\n",
       " 10: 100,\n",
       " 11: 121,\n",
       " 12: 144,\n",
       " 13: 169,\n",
       " 14: 196,\n",
       " 15: 225}"
      ]
     },
     "execution_count": 3,
     "metadata": {},
     "output_type": "execute_result"
    }
   ],
   "source": [
    "num = {}\n",
    "for i in range(16):\n",
    "    num[i] = i**2\n",
    "    \n",
    "num"
   ]
  },
  {
   "cell_type": "markdown",
   "id": "ea1b8ee4",
   "metadata": {},
   "source": [
    "<p style=\"background:powderblue; font-weight:bold\">Задача 3. Список значений</p>\n",
    "\n",
    "Напишите программу для преобразования списка словарей в список значений, соответствующих указанному ключу. Имя ключа вводится с клавиатуры.<br>\n",
    "Пример.<br>\n",
    "```\n",
    "[{'name': 'Валентина', 'age': 18, 'score': 99}, \n",
    " {'name': 'Михаил', 'age': 22, 'score': 67}, \n",
    " {'name': 'Роксана', 'age': 20, 'score': 80}, \n",
    " {'name': 'Давид', 'age': 18, 'score': 70}]\n",
    "\n",
    "age\n",
    "\n",
    "[18, 22, 20, 18]\n",
    "```\n"
   ]
  },
  {
   "cell_type": "code",
   "execution_count": 4,
   "id": "01b76047",
   "metadata": {},
   "outputs": [
    {
     "name": "stdout",
     "output_type": "stream",
     "text": [
      "age\n"
     ]
    },
    {
     "data": {
      "text/plain": [
       "[18, 22, 20, 18]"
      ]
     },
     "execution_count": 4,
     "metadata": {},
     "output_type": "execute_result"
    }
   ],
   "source": [
    "data = [{'name': 'Валентина', 'age': 18, 'score': 99}, \n",
    " {'name': 'Михаил', 'age': 22, 'score': 67}, \n",
    " {'name': 'Роксана', 'age': 20, 'score': 80}, \n",
    " {'name': 'Давид', 'age': 18, 'score': 70}]\n",
    "answer = []\n",
    "key = input()\n",
    "\n",
    "for i in range(len(data)):\n",
    "    answer.append(data[i][key])\n",
    "    \n",
    "answer"
   ]
  },
  {
   "cell_type": "markdown",
   "id": "b02bc61f",
   "metadata": {},
   "source": [
    "<p style=\"background:powderblue; font-weight:bold\">Задача 4. Анаграммы</p>\n",
    "\n",
    "Напишите программу, которая найдет все анаграммы в заданном списке строк, а затем сгруппирует их вместе. Слова, не образующие анаграммы, поместите в отдельных списках<br>\n",
    "Пример:\n",
    "```\n",
    "['коршун', 'росинка', 'пила', 'масло', 'смола', 'шнурок', 'липа', 'чулок', 'соринка', 'армия']\n",
    "=>\n",
    "[['коршун', 'шнурок'], ['росинка', 'соринка'], ['пила', 'липа'], ['масло', 'смола'], ['чулок'], ['армия']]\n",
    "```"
   ]
  },
  {
   "cell_type": "code",
   "execution_count": null,
   "id": "d878e89c",
   "metadata": {},
   "outputs": [],
   "source": [
    "# 4.\n"
   ]
  },
  {
   "cell_type": "markdown",
   "id": "16104acf",
   "metadata": {},
   "source": [
    "<p style=\"background:powderblue; font-weight:bold\">Задача 5. Префикс</p>\n",
    "\n",
    "Найдите самый длинный общий префикс всех строк. Используйте множества, если необходимо.<br>\n",
    "Пример.<br>\n",
    "```\n",
    "['телеграф', 'телегид', 'телепорт'] => теле\n",
    "```"
   ]
  },
  {
   "cell_type": "code",
   "execution_count": 10,
   "id": "99415609",
   "metadata": {},
   "outputs": [
    {
     "name": "stdout",
     "output_type": "stream",
     "text": [
      "0\n",
      "1\n"
     ]
    }
   ],
   "source": [
    "arr = ['телеграф', 'телегид', 'телепорт']\n",
    "firstWord = arr[0]\n",
    "answer = []\n",
    "\n",
    "for i in range(len(arr)-1):\n",
    "    print(i)"
   ]
  },
  {
   "cell_type": "markdown",
   "id": "b85d7d3e",
   "metadata": {},
   "source": [
    "<p style=\"background:powderblue; font-weight:bold\">Задача 6. Тройки по значению</p>\n",
    "\n",
    "Найдите все уникальные комбинации трех чисел из заданного списка чисел, в сумме дающие целевое число.\n",
    "\n",
    "Пример.<br>\n",
    "```\n",
    "[1, 2, 3, 4, 5, 6, 7, 8, 9]\n",
    "12\n",
    "=>\n",
    "[(1, 3, 8), (1, 4, 7), (1, 2, 9), (1, 5, 6), (3, 4, 5), (2, 3, 7), (2, 4, 6)]\n",
    "```"
   ]
  },
  {
   "cell_type": "code",
   "execution_count": null,
   "id": "b8098106",
   "metadata": {},
   "outputs": [],
   "source": []
  }
 ],
 "metadata": {
  "kernelspec": {
   "display_name": "Python 3 (ipykernel)",
   "language": "python",
   "name": "python3"
  },
  "language_info": {
   "codemirror_mode": {
    "name": "ipython",
    "version": 3
   },
   "file_extension": ".py",
   "mimetype": "text/x-python",
   "name": "python",
   "nbconvert_exporter": "python",
   "pygments_lexer": "ipython3",
   "version": "3.11.4"
  }
 },
 "nbformat": 4,
 "nbformat_minor": 5
}
