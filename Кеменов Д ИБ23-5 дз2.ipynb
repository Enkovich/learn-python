{
 "cells": [
  {
   "cell_type": "markdown",
   "id": "496ddf59",
   "metadata": {},
   "source": [
    "# Кеменов Дмитрий ИБ23-5"
   ]
  },
  {
   "cell_type": "markdown",
   "id": "97518b57",
   "metadata": {},
   "source": [
    "# Домашнее задание 2"
   ]
  },
  {
   "cell_type": "markdown",
   "id": "f81f319e",
   "metadata": {},
   "source": [
    "<p style = \"background:powderblue\">1. Дополнить программу</p>\n",
    "\n",
    "Дополните программу таким образом, чтобы в результате ее исполнения на экран были выведены значения True, True, True, True, в одну строку через пробел.\n",
    "```\n",
    "a = True or True # внесите изменения в этой строке если необходимо\n",
    "b = True < False # внесите изменения в этой строке если необходимо\n",
    "c = False or True # внесите изменения в этой строке если необходимо\n",
    "d = False == False # внесите изменения в этой строке если необходимо\n",
    "```"
   ]
  },
  {
   "cell_type": "code",
   "execution_count": 2,
   "id": "a824eb22",
   "metadata": {},
   "outputs": [
    {
     "name": "stdout",
     "output_type": "stream",
     "text": [
      "True True True True\n"
     ]
    }
   ],
   "source": [
    "a = True or True # внесите изменения в этой строке если необходимо\n",
    "b = True > False # внесите изменения в этой строке если необходимо\n",
    "c = False or True # внесите изменения в этой строке если необходимо\n",
    "d = False == False # внесите изменения в этой строке если необходимо\n",
    "\n",
    "print(a, b, c, d)"
   ]
  },
  {
   "cell_type": "markdown",
   "id": "3947000b",
   "metadata": {},
   "source": [
    "<p style = \"background:powderblue\">2. Однозначное число</p>\n",
    "\n",
    "Написать программу, которая проверяет, является ли введенное пользователем число однозначным (состоящим из одной цифры); если является - вывести \"yes\", а если нет - вывести \"no\".\n",
    "\n",
    "Проверить для входных данных: 1, 10, -3, -40, 0<br>\n",
    "Ответы: yes, no, yes, no, yes."
   ]
  },
  {
   "cell_type": "code",
   "execution_count": 6,
   "id": "763de111",
   "metadata": {},
   "outputs": [
    {
     "name": "stdout",
     "output_type": "stream",
     "text": [
      "-9\n",
      "yes\n"
     ]
    }
   ],
   "source": [
    "num = int(input())\n",
    "\n",
    "if(num <=9 & num >= -9):\n",
    "    print(\"yes\")\n",
    "else:\n",
    "    print(\"no\")\n"
   ]
  },
  {
   "cell_type": "markdown",
   "id": "4be08335",
   "metadata": {},
   "source": [
    "<p style = \"background:powderblue\">3. Сравнить две строки</p>\n",
    "\n",
    "Написать программу, которая будет сравнивать две введенные пользователем строки.\n",
    "\n",
    "Если введенные строки равны — вывести сообщение \"strings are equal\" и завершить выполнение программы.\n",
    "\n",
    "Если строки не равны, то программа должна сообщить об этом пользователю и предложить исправить вторую введенную строку; текст сообщения для вывода на экран - \"strings are not equal, correct the second string\".\n",
    "\n",
    "После того как пользователь повторно ввел вторую строку вновь выполнить проверку на равенство строк и вывести на экран результат сравнения (\"strings are equal\" или \"strings are not equal\")."
   ]
  },
  {
   "cell_type": "code",
   "execution_count": 4,
   "id": "0d332407",
   "metadata": {},
   "outputs": [
    {
     "name": "stdout",
     "output_type": "stream",
     "text": [
      "one: 123\n",
      "two: 124\n",
      "strings are equal\n",
      "strings are not equal, correct the second string\n",
      "two: 1455\n",
      "strings are not equal, correct the second string\n",
      "two: \n",
      "strings are not equal, correct the second string\n",
      "two: 32423\n",
      "strings are not equal, correct the second string\n",
      "two: asdasfd\n",
      "strings are not equal, correct the second string\n",
      "two: 123\n",
      "strings are equal\n"
     ]
    }
   ],
   "source": [
    "# 3. Ваш код здесь\n",
    "\n",
    "first_str = input(\"one: \")\n",
    "second_str = input(\"two: \")\n",
    "# место для вашего кода\n",
    "if(first_str!=second_str):\n",
    "    print(\"strings are equal\")\n",
    "    while(True):\n",
    "        print(\"strings are not equal, correct the second string\")\n",
    "        \n",
    "        second_str = input(\"two: \")\n",
    "        \n",
    "        if(first_str!=second_str):\n",
    "            continue\n",
    "        else:\n",
    "            print(\"strings are equal\")\n",
    "            break\n",
    "else:\n",
    "    print(\"strings are equal\")"
   ]
  },
  {
   "cell_type": "markdown",
   "id": "0830b499",
   "metadata": {},
   "source": [
    "<p style = \"background:powderblue\">4. Математическая операция</p>\n",
    "\n",
    "Написать программу, которая принимает от пользователя математический операнд (\"+\" или \"*\") и два целых числа, а затем выводит результат вычисления выбранной математической операции с этими числами. Если введен недопустимый операнд выводится ошибка - \"operation unknown\"."
   ]
  },
  {
   "cell_type": "code",
   "execution_count": 14,
   "id": "289e153f",
   "metadata": {},
   "outputs": [
    {
     "name": "stdout",
     "output_type": "stream",
     "text": [
      "X: 5\n",
      "Y: 5\n",
      "Operation: e\n",
      "operation unknown\n"
     ]
    }
   ],
   "source": [
    "num1 = int(input(\"X: \"))\n",
    "num2 = int(input(\"Y: \"))\n",
    "operation = input(\"Operation: \")\n",
    "\n",
    "if(operation == \"+\"):\n",
    "    print(num1+num2)\n",
    "elif(operation == \"-\"):\n",
    "    print(num1-num2)\n",
    "elif(operation == \"*\"):\n",
    "    print(num1*num2)\n",
    "elif(operation == \"/\"):\n",
    "    print(num1/num2)\n",
    "else:\n",
    "    print(\"operation unknown\")"
   ]
  },
  {
   "cell_type": "markdown",
   "id": "4f7e56ce",
   "metadata": {},
   "source": [
    "<p style = \"background:powderblue\">5. Математическая операция 2</p>\n",
    "\n",
    "Написать программу, которая:\n",
    "\n",
    "1. Запрашивает базовое целое число base.\n",
    "2. Запрашивает математический операнд сложения или умножения в виде символов + или * соответственно.\n",
    "3. Запрашивает новое целое число next, а затем совершает операцию из пункта 2 над числами base и next. Результат вычисления записывается в base.\n",
    "4. Запрашивает математический операнд вычитания или деления в виде символов - или / соответственно.\n",
    "5. Запрашивает новое целое число next, а затем совершает операцию из пункта 4 над числами base и next. Результат вычисления программа должна вывести на экран.\n",
    "\n",
    "Если на каком-то шаге введено неизвестное значение, выводится текст \"error\".\n",
    "\n",
    "```\n",
    "Входные данные, результат\n",
    "(5, +, 7, -, 3), 9\n",
    "(5, +, 7, /, 3), 4.0\n",
    "(5, *, 7, *), error\n",
    "(5, -), error\n",
    "(11, /), error\n",
    "```"
   ]
  },
  {
   "cell_type": "code",
   "execution_count": 28,
   "id": "10417fce",
   "metadata": {},
   "outputs": [
    {
     "name": "stdout",
     "output_type": "stream",
     "text": [
      "base: 5\n",
      "operation1: +\n",
      "next: 7\n",
      "operation2: /\n",
      "next: 3\n",
      "4.0\n"
     ]
    }
   ],
   "source": [
    "# 5. Ваш код здесь\n",
    "\n",
    "base = int(input(\"base: \"))\n",
    "operation1 = input(\"operation1: \")\n",
    "\n",
    "if(operation1==\"+\" or operation1==\"*\"):\n",
    "    nextNum = int(input(\"next: \"))\n",
    "    if(type(nextNum)!= int):\n",
    "        print(\"error\")\n",
    "        quit()\n",
    "    \n",
    "    base = base+nextNum if operation1==\"+\" else base*nextNum\n",
    "        \n",
    "    operation1 = input(\"operation2: \")\n",
    "    if(operation1 ==\"-\" or operation1 ==\"/\"):\n",
    "        nextNum = int(input(\"next: \"))\n",
    "        if(type(nextNum)!= int):\n",
    "            print(\"error\")\n",
    "            quit()\n",
    "        \n",
    "        base = base-nextNum if operation1==\"-\" else base/nextNum\n",
    "        print(base)\n",
    "    else:\n",
    "        print(\"error\")\n",
    "else:\n",
    "    print(\"error\")"
   ]
  },
  {
   "cell_type": "markdown",
   "id": "132b5f2f",
   "metadata": {},
   "source": [
    "<p style = \"background:powderblue\">6. Угадай число</p>\n",
    "\n",
    "Написать программу, которая принимает на вход целое число, а затем предлагает пользователю три раза угадать введенное число, соблюдая следующие правила:\n",
    "\n",
    "- если введенное число больше загаданного, вывести текст \"more\" и перейти к следующей попытке;\n",
    "- если введенное число меньше загаданного, вывести текст \"less\" и перейти к следующей попытке;\n",
    "- если введенное число равно загаданному, вывести текст \"You win!\" и завершить программу;\n",
    "- если число не угадано за три попытки, вывести текст \"Game over!\".\n",
    "\n",
    "```\n",
    "Входные данные, результат\n",
    "(7, 5, 9, 7), (less, more, You win!)\n",
    "(0, 5, -2, 0), (more, less, You win!)\n",
    "(10, 5, 7, 9), (less, less, Game over!)\n",
    "(15, 3, 8, 11), (less, less, Game over!)\n",
    "(-7, -7), (You win!)\n",
    "```"
   ]
  },
  {
   "cell_type": "code",
   "execution_count": 29,
   "id": "25c2c61f",
   "metadata": {},
   "outputs": [
    {
     "name": "stdout",
     "output_type": "stream",
     "text": [
      "7\n",
      "First try:  5\n",
      "less\n",
      "9\n",
      "more\n",
      "7\n",
      "You win!\n"
     ]
    }
   ],
   "source": [
    "# 6. Ваш код здесь\n",
    "\n",
    "value = int(input())\n",
    "attempt = int(input('First try:  '))\n",
    "# место для вашего кода\n",
    "\n",
    "for num in range(1,4,1):\n",
    "    if(num<3):\n",
    "        if(value!=attempt):\n",
    "            if(attempt>value):\n",
    "                print(\"more\")\n",
    "            else:\n",
    "                print(\"less\")\n",
    "            attempt = int(input())\n",
    "    elif(value==attempt):\n",
    "        print(\"You win!\")\n",
    "        break\n",
    "    else:\n",
    "        print(\"Game over!\")\n",
    "        "
   ]
  }
 ],
 "metadata": {
  "kernelspec": {
   "display_name": "Python 3 (ipykernel)",
   "language": "python",
   "name": "python3"
  },
  "language_info": {
   "codemirror_mode": {
    "name": "ipython",
    "version": 3
   },
   "file_extension": ".py",
   "mimetype": "text/x-python",
   "name": "python",
   "nbconvert_exporter": "python",
   "pygments_lexer": "ipython3",
   "version": "3.11.4"
  }
 },
 "nbformat": 4,
 "nbformat_minor": 5
}
