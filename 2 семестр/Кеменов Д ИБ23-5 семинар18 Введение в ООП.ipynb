{
 "cells": [
  {
   "cell_type": "markdown",
   "id": "d526e9b1",
   "metadata": {},
   "source": [
    "# Семинар 7.1 (18) Введение в ООП"
   ]
  },
  {
   "cell_type": "markdown",
   "id": "5af90850",
   "metadata": {},
   "source": [
    "<p style = \"background:#FF6D72\">&nbsp; Задание 1.</p>\n",
    "\n",
    "Создайте класс *Point* (точка), у которого имеются атрибуты $x$ и $y$ (координаты) а также методы *\\_\\_init\\_\\_()* и *\\_\\_str\\_\\_()*. Создайте класс *Rectangle* (прямоугольник), у которого есть:\n",
    "- два атрибута (верхний левый и правый нижний углы прямоугольника). Значениями атрибутов являются объекты класса *Point*;\n",
    "- методы *\\_\\_init\\_\\_()* и *\\_\\_str\\_\\_()*;\n",
    "- метод *sides()*, возвращающий длины сторон прямоугольника; \n",
    "- метод *perim()*, вычисляющий периметр прямоугольника. \n",
    "\n",
    "Продемонстрируйте работу с классами, создав необходимые объекты и вызвав их методы. "
   ]
  },
  {
   "cell_type": "code",
   "execution_count": 50,
   "id": "a69707df",
   "metadata": {},
   "outputs": [],
   "source": [
    "# 1.\n",
    "class Point(object):\n",
    "    \"\"\"Класс точкa\"\"\"\n",
    "    \n",
    "    def __init__(self, x, y):\n",
    "        self.x = x\n",
    "        self.y = y\n",
    "\n",
    "    def __str__(self):\n",
    "        return f'Точка x:{self.x} y:{self.y}'\n",
    "    \n",
    "    def __repr__(self):\n",
    "        return f'({self.x} {self.y}) point'\n",
    "    \n",
    "class Rectangle(object):\n",
    "    \"\"\"Класс Прямоугольник\"\"\"\n",
    "    \n",
    "    def __init__(self, p1, p2):\n",
    "        self.p1 = p1\n",
    "        self.p2 = p2\n",
    "        \n",
    "    def __str__(self):\n",
    "        return f'Прямоугольник {self.sides()[0]} x {self.sides()[1]}'\n",
    "        \n",
    "    def sides(self):\n",
    "        s1 = p1.y - p2.y\n",
    "        s2 = p2.x - p1.x\n",
    "        return s1, s2\n",
    "    \n",
    "    def perim(self):\n",
    "        return 2*sum(self.sides())"
   ]
  },
  {
   "cell_type": "code",
   "execution_count": 51,
   "id": "e7fef0ef",
   "metadata": {},
   "outputs": [
    {
     "name": "stdout",
     "output_type": "stream",
     "text": [
      "Класс точкa\n",
      "{'__module__': '__main__', '__doc__': 'Класс точкa', '__init__': <function Point.__init__ at 0x000002492FA139C0>, '__str__': <function Point.__str__ at 0x000002492FA12480>, '__repr__': <function Point.__repr__ at 0x000002492FA125C0>, '__dict__': <attribute '__dict__' of 'Point' objects>, '__weakref__': <attribute '__weakref__' of 'Point' objects>}\n",
      "{'x': 1, 'y': 2}\n",
      "Точка x:1 y:2\n",
      "Точка x:10 y:-3\n",
      "Прямоугольник 5 x 9\n"
     ]
    },
    {
     "data": {
      "text/plain": [
       "28"
      ]
     },
     "execution_count": 51,
     "metadata": {},
     "output_type": "execute_result"
    }
   ],
   "source": [
    "p1 = Point(1,2)\n",
    "p2 = Point(10,-3)\n",
    "\n",
    "print(Point.__doc__)\n",
    "print(Point.__dict__)\n",
    "print(p1.__dict__)\n",
    "print(p1)\n",
    "print(p2)\n",
    "\n",
    "r = Rectangle(p1,p2)\n",
    "print(r)\n",
    "r.perim()"
   ]
  },
  {
   "cell_type": "markdown",
   "id": "fd6455ce",
   "metadata": {},
   "source": [
    "<p style = \"background:#FF6D72\">&nbsp; Задание 2.</p>\n",
    "\n",
    "Создайте класс точки *Point*, у которого имеются атрибуты $x$ и $y$ (координаты) и методы *\\_\\_init\\_\\_()* и *\\_\\_str\\_\\_()*. Создайте класс *Triangle* (треугольник), у которого есть:\n",
    "- три атрибута (вершины треугольника). Значениями атрибутов являются объекты класса *Point*;\n",
    "- методы *\\_\\_init\\_\\_()*, *\\_\\_str\\_\\_()*;\n",
    "- метод *sides()*, вычисляющий длины сторон треугольника;\n",
    "- метод *perim()*, вычисляющий периметр треугольника;\n",
    "\n",
    "Продемонстрируйте работу с классами, создав необходимые объекты и вызвав их методы. "
   ]
  },
  {
   "cell_type": "code",
   "execution_count": 54,
   "id": "72ddd7c8",
   "metadata": {},
   "outputs": [],
   "source": [
    "# 2.\n",
    "class Point(object):\n",
    "    \"\"\"Класс точкa\"\"\"\n",
    "    \n",
    "    def __init__(self, x, y):\n",
    "        self.x = x\n",
    "        self.y = y\n",
    "\n",
    "    def __str__(self):\n",
    "        return f'Точка x:{self.x} y:{self.y}'\n",
    "    \n",
    "    def __repr__(self):\n",
    "        return f'({self.x} {self.y}) point'\n",
    "    \n",
    "class Triangle(object):\n",
    "    \"\"\"Класс треугольника\"\"\"\n",
    "    def __init__(self, p1, p2, p3):\n",
    "        self.p1 = p1\n",
    "        self.p2 = p2\n",
    "        self.p3 = p3\n",
    "        \n",
    "    def __str__(self):\n",
    "        return f'Треугольник {self.sides()[0]} x {self.sides()[1]} x {self.sides()[2]}'\n",
    "    def sides(self):\n",
    "        s1 = ((self.p2.y - self.p1.y)**2 + (self.p2.x - self.p1.x)**2)**(1/2)\n",
    "        s2 = ((self.p3.y - self.p1.y)**2 + (self.p3.x - self.p1.x)**2)**(1/2)        \n",
    "        s3 = ((self.p2.y - self.p3.y)**2 + (self.p2.x - self.p3.x)**2)**(1/2)     \n",
    "        return round(s1, 2), round(s2, 2),round(s3, 2),\n",
    "        \n",
    "    def perim (self):\n",
    "        return sum(self.sides())"
   ]
  },
  {
   "cell_type": "code",
   "execution_count": 55,
   "id": "0419de55",
   "metadata": {},
   "outputs": [
    {
     "name": "stdout",
     "output_type": "stream",
     "text": [
      "Треугольник 10.3 x 8.94 x 9.06\n",
      "(10.3, 8.94, 9.06)\n",
      "28.300000000000004\n"
     ]
    }
   ],
   "source": [
    "p1 = Point(1,2)\n",
    "p2 = Point(10,-3)\n",
    "p3 = Point(9, 6)\n",
    "\n",
    "t = Triangle(p1, p2, p3)\n",
    "print(t)\n",
    "print(t.sides())\n",
    "print(t.perim())"
   ]
  },
  {
   "cell_type": "markdown",
   "id": "0c5c6088",
   "metadata": {},
   "source": [
    "<p style = \"background:#FF6D72\">&nbsp; Задание 3.</p>\n",
    "\n",
    "Создайте класс *Register (Ведомость)*, имеющий атрибуты:\n",
    "\n",
    "- *дисциплина (course)*\n",
    "- *группа (group)*\n",
    "\n",
    "переменные класса:\n",
    "\n",
    "- *список дисциплин (courses)*\n",
    "- *список допустимых оценок (scores)*\n",
    "- *словарь с данными об успеваемости студентов (data)*\n",
    "\n",
    "методы:\n",
    "\n",
    "- *\\_\\_init\\_\\_()* – конструктор, параметрами являются дисциплина и группа. Проверять наличие дисциплины в списке дисциплин. +\n",
    "- *put* – добавляет в ведомость информацию об оценке студента (фамилия, оценка – параметры метода). Для хранения данных внутри класса использовать словарь, в котором ключом является фамилия студента. Возможные оценки – «отлично», «хорошо», «удовл.», «неудовл.», «н/я». Проверять наличие оценки в списке допустимых значений оценок; +\n",
    "- *get_score* – возвращает оценку, полученную студентом (фамилия студента – параметр метода). Проверять наличие студента в ведомости; +\n",
    "- *del_student* – удаляет информацию о студенте из ведомости (фамилия студента – параметр метода). Проверять наличие студента в ведомости;\n",
    "- *report* – возвращает кортеж из 5 чисел (количество каждого вида оценок в ведомости);\n",
    "- *count* – возвращает количество студентов в ведомости; +\n",
    "- *names* – возвращает список фамилий, имеющихся в ведомости; +\n",
    "- *\\_\\_str\\_\\_()* – возвращает в табличной форме оценки студентов группы по конкретной дисциплине;\n",
    "- *check_course()* - проверяет наличие дисциплины в списке допустимых дисциплин; +\n",
    "- *check_score()* - проверяет наличие оценки в списке допустимых оценок. +\n",
    "\n",
    "Каждый экземпляр класса содержит ведомость какой-либо группы по одной из дисциплин. Продемонстрируйте работу с классами, создав объекты и вызвав их методы.\n",
    "\n",
    "Исходные данные могут быть такими:\n",
    "```\n",
    "dbms = Register('СУБД', 'БИ23-7')\n",
    "\n",
    "dbms.put('Сидоров', 'отлично')\n",
    "dbms.put('Иванов', 'хорошо')\n",
    "dbms.put('Васильева', 'н/я')\n",
    "dbms.put('Петрова', 'удовл.')\n",
    "dbms.put('Любимов', 'хорошо')\n",
    "dbms.put('Стоукс', 'хорошо')\n",
    "```"
   ]
  },
  {
   "cell_type": "code",
   "execution_count": 47,
   "id": "9846e372",
   "metadata": {},
   "outputs": [
    {
     "name": "stdout",
     "output_type": "stream",
     "text": [
      "Сидоров, Иванов, Васильева, Петрова, Любимов, Стоукс\n",
      "Сидоров, Иванов, Васильева, Петрова, Любимов\n"
     ]
    },
    {
     "ename": "AttributeError",
     "evalue": "'Register' object has no attribute 'keys'",
     "output_type": "error",
     "traceback": [
      "\u001b[1;31m---------------------------------------------------------------------------\u001b[0m",
      "\u001b[1;31mAttributeError\u001b[0m                            Traceback (most recent call last)",
      "Cell \u001b[1;32mIn[47], line 67\u001b[0m\n\u001b[0;32m     64\u001b[0m \u001b[38;5;28mprint\u001b[39m(dbms\u001b[38;5;241m.\u001b[39mnames())\n\u001b[0;32m     65\u001b[0m \u001b[38;5;28mprint\u001b[39m(dbms\u001b[38;5;241m.\u001b[39mdel_student(\u001b[38;5;124m'\u001b[39m\u001b[38;5;124mСтоукс\u001b[39m\u001b[38;5;124m'\u001b[39m))\n\u001b[1;32m---> 67\u001b[0m \u001b[38;5;28mprint\u001b[39m(\u001b[43mdbms\u001b[49m\u001b[38;5;241;43m.\u001b[39;49m\u001b[43mkeys\u001b[49m())\n",
      "\u001b[1;31mAttributeError\u001b[0m: 'Register' object has no attribute 'keys'"
     ]
    }
   ],
   "source": [
    "from prettytable import PrettyTable\n",
    "\n",
    "class Register(object):\n",
    "    \"\"\"Класс 'Ведомость'\"\"\"\n",
    "    cources = ['Математика', \"Информатика\", \"Немецкий\", \"СУБД\", \"ОБЖ\"]\n",
    "    scores = ['отл.', \"хор.\", \"удол.\", \"неуд.\", \"н/я\"]\n",
    "    data = dict()\n",
    "    \n",
    "    def __init__(self, cources = 'СУБД', group = 'ИБ23-7'):\n",
    "        assert self.check_cources(cources), \"Неверное название дисциплины\"\n",
    "        self.cources = cources\n",
    "        self.group = group\n",
    "        \n",
    "    def __str__(cls):\n",
    "        return cls.data\n",
    "    \n",
    "    @classmethod\n",
    "    def check_cources(cls, cource):\n",
    "        return cource in cls.cources\n",
    "    \n",
    "    @classmethod\n",
    "    def check_score(cls, score):\n",
    "        return score in cls.scores\n",
    "    \n",
    "    @classmethod\n",
    "    def put(cls, student, score):\n",
    "        try:\n",
    "            assert cls.check_score(score), 'Неверное имя студента'\n",
    "            cls.data[student] = score\n",
    "        except AssertionError as e:\n",
    "            print(e)\n",
    "            \n",
    "    @classmethod\n",
    "    def get_score(cls, student):\n",
    "        return cls.data[student]\n",
    "    \n",
    "    @classmethod\n",
    "    def count(cls):\n",
    "        return len(cls.data.keys())\n",
    "    \n",
    "    @classmethod\n",
    "    def names(cls):\n",
    "        return \", \".join(cls.data.keys())\n",
    "    \n",
    "    @classmethod\n",
    "    def del_student(cls, student):\n",
    "        try:\n",
    "            if student in cls.data.keys():\n",
    "                del cls.data[student]\n",
    "                return \", \".join(cls.data.keys())\n",
    "            else:\n",
    "                raise ValueError\n",
    "        except ValueError:\n",
    "            return f\"Cтудент {student} в ведомости не обнаружен\"\n",
    "    \n",
    "    @classmethod\n",
    "    def report(cls):\n",
    "        pass\n",
    "    \n",
    "    \n",
    "dbms = Register('СУБД', 'БИ23-7')\n",
    "\n",
    "dbms.put('Сидоров', 'отл.')\n",
    "dbms.put('Иванов', 'хор.')\n",
    "dbms.put('Васильева', 'н/я')\n",
    "dbms.put('Петрова', 'удол.')\n",
    "dbms.put('Любимов', 'хор.')\n",
    "dbms.put('Стоукс', 'хор.')\n",
    "print(dbms.names())\n",
    "print(dbms.del_student('Стоукс'))\n",
    "\n",
    "print(dbms.keys())"
   ]
  },
  {
   "cell_type": "code",
   "execution_count": 12,
   "id": "0208b4a2",
   "metadata": {},
   "outputs": [
    {
     "name": "stdout",
     "output_type": "stream",
     "text": [
      "Requirement already satisfied: prettytable in c:\\users\\dmitriy\\anaconda3.1\\lib\\site-packages (3.9.0)Note: you may need to restart the kernel to use updated packages.\n",
      "\n",
      "Requirement already satisfied: wcwidth in c:\\users\\dmitriy\\appdata\\roaming\\python\\python311\\site-packages (from prettytable) (0.2.6)\n"
     ]
    }
   ],
   "source": [
    "pip install -U prettytable"
   ]
  },
  {
   "cell_type": "markdown",
   "id": "915580a3",
   "metadata": {},
   "source": [
    "<p style = \"background:#FF6D72\">&nbsp; Задание 4.</p>\n",
    "\n",
    "Создать класс человека *People*, атрибутами которого являются фамилия, имя.\n",
    "\n",
    "Используя класс *People* в качестве базового, создать класс сотрудника (*Empl*), имеющий атрибуты:\n",
    "- должность (*pos*);\n",
    "- зарплата (*sal*)\n",
    "\n",
    "и методы: \n",
    "- *\\_\\_init\\_\\_()* – конструктор;\n",
    "- *\\_\\_repr\\_\\_()* и *\\_\\_str\\_\\_()* для вывода строковой информации. \n",
    "\n",
    "В классе сотрудник создать классовую переменную *empl_id*, хрянящую порядковый номер сотрудника и метод класса *get_empl_id()*, получающий текущее значение порядкового номера и увеличивающий его на единицу. Каждому новому сотруднику присвоить уникальный порядковый номер. Для этого в конструкторе *\\_\\_init\\_\\_()* класса *Empl* реализовать обращение к методу *get_empl_id()*. Продемонстрировать работу с классами, создав необходимые объекты и вызвав все их методы."
   ]
  },
  {
   "cell_type": "code",
   "execution_count": null,
   "id": "061613d3",
   "metadata": {},
   "outputs": [],
   "source": [
    "# 4.\n"
   ]
  },
  {
   "cell_type": "markdown",
   "id": "2cbf833d",
   "metadata": {},
   "source": [
    "<p style = \"background:#FF6D72\">&nbsp; Задание 5.</p>\n",
    "\n",
    "Используя класс *Сотрудник* в качестве базового создать класс *Преподаватель (Teacher)*, имеющий:\n",
    "- атрибут *дисциплины (courses)*, в котором хранятся названия дисциплин, которые ведет преподаватель;\n",
    "- методы *\\_\\_init\\_\\_* и *\\_\\_str\\_\\_*;\n",
    "- методы добавить_дисциплину *add_course()* и удалить_дисциплину *del_course()*, которые позволяют изменять список дисциплин;\n",
    "- метод проверки дисциплины на наличие в списке допустимых дисциплин.\n",
    "\n",
    "При создании преподавателя проверять дисциплину на наличие в списке допустимых дисциплин. Список допустимых дисциплин хранить в переменной класса. Продемонстрировать работу с классами, создав необходимые объекты и вызвав их методы.\n",
    "\n",
    "```\n",
    "# Примерный список дисциплин\n",
    "courses = ['Математика', 'Информатика', 'Немецкий', 'СУБД', 'Теория вероятностей',\n",
    "              'Алгоритмы и структуры данных', 'Технологии обработки данных', 'Python']\n",
    "```"
   ]
  },
  {
   "cell_type": "code",
   "execution_count": null,
   "id": "2b433ebc",
   "metadata": {},
   "outputs": [],
   "source": [
    "# 5.\n"
   ]
  },
  {
   "cell_type": "markdown",
   "id": "bfc22118",
   "metadata": {},
   "source": [
    "<p style = \"background:#FF6D72\">&nbsp; Задание 6.</p>\n",
    "\n",
    "Создайте класс *Студент*, имеющий: \n",
    "- атрибут *Имя* – строка, содержащая фамилию;\n",
    "- метод *\\_\\_init\\_\\_()*. \n",
    "\n",
    "При создании объекта указывается имя, список Дисциплины пустой; атрибут Дисциплины – словарь сданных дисциплин. Ключом является название дисциплины, значением – оценка. Метод *put* добавляет новую дисциплину в атрибут Дисциплины. Параметрами метода являются название дисциплины и оценка; свойство *Сдано* возвращает список названий сданных дисциплин. Создайте экземпляр класса, продемонстрируйте работу с атрибутами, методами и свойствами. "
   ]
  },
  {
   "cell_type": "code",
   "execution_count": 6,
   "id": "7351357d",
   "metadata": {},
   "outputs": [
    {
     "name": "stdout",
     "output_type": "stream",
     "text": [
      "Кеменов\n"
     ]
    }
   ],
   "source": [
    "# 6.\n",
    "class Student(object):\n",
    "    def __init__(self, name):\n",
    "        self.name = name\n",
    "        \n",
    "    def name(self):\n",
    "        return self.name\n",
    "        \n",
    "print(Student('Кеменов').name)"
   ]
  }
 ],
 "metadata": {
  "kernelspec": {
   "display_name": "Python 3 (ipykernel)",
   "language": "python",
   "name": "python3"
  },
  "language_info": {
   "codemirror_mode": {
    "name": "ipython",
    "version": 3
   },
   "file_extension": ".py",
   "mimetype": "text/x-python",
   "name": "python",
   "nbconvert_exporter": "python",
   "pygments_lexer": "ipython3",
   "version": "3.11.5"
  }
 },
 "nbformat": 4,
 "nbformat_minor": 5
}
