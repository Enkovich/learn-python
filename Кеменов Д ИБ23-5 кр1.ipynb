{
 "cells": [
  {
   "cell_type": "markdown",
   "id": "bd5b329b",
   "metadata": {},
   "source": [
    "# Контрольная работа\n",
    "\n",
    "Промежуточный контроль успеваемости по дисциплине \"Алгоритмы и струткуры данных в языке Python\", 1-я половина 1-го семестра.<br>\n",
    "Группа ИБ23-5, понедельник, 30 октябра 2023 года, 4-я пара, 14:00 - 15:30."
   ]
  },
  {
   "cell_type": "markdown",
   "id": "3c30d9f1",
   "metadata": {},
   "source": [
    "<h3>Задание 1. Минимум функции</h3>\n",
    "\n",
    "Найдите точку $M=(x_{0},y_{0})$ минимума функции $f(x)$ в интервале $[a;b]$ с шагом $h$. Используйте следующие значения:\n",
    "\n",
    "$$f(x)=x \\cdot cos(1-x), a=-\\pi, b=\\pi, h=0.1$$\n",
    "\n",
    "Результат округлите до двух десятичных знаков. Ожидается ответ:\n",
    "\n",
    "```\n",
    "Точка минимума функции M=(<x>, <y>)\n",
    "```"
   ]
  },
  {
   "cell_type": "code",
   "execution_count": 49,
   "id": "1f3d54c2",
   "metadata": {},
   "outputs": [
    {
     "name": "stdout",
     "output_type": "stream",
     "text": [
      "Точка минимума функции M=(3.06, -1.43)\n"
     ]
    }
   ],
   "source": [
    "import math\n",
    "\n",
    "a = -math.pi\n",
    "b = math.pi\n",
    "h = 0.1\n",
    "\n",
    "min_y = float('inf')\n",
    "min_x = None\n",
    "\n",
    "x = a\n",
    "\n",
    "while x<=b:\n",
    "    y = x*math.cos(1-x)\n",
    "    \n",
    "    if y < min_y:\n",
    "        min_y = y\n",
    "        min_x = x\n",
    "        \n",
    "    x+=h\n",
    "    \n",
    "min_x = round(min_x, 2)\n",
    "min_y = round(min_y, 2)\n",
    "\n",
    "print(f\"Точка минимума функции M=({min_x}, {min_y})\")"
   ]
  },
  {
   "cell_type": "markdown",
   "id": "bf4ee293",
   "metadata": {},
   "source": [
    "<h3>Задание 2. Представление</h3>\n",
    "\n",
    "Имеется список списков такой, что в первом вложенном списке содержится заголовок элементов на соответствующих позициях в остальных вложенных списках. Пример:\n",
    "\n",
    "```\n",
    "[\n",
    "[\"Family\",\"Name\",\"Father\",\"Year\"],\n",
    "[\"Иванов\",\"Иван\",\"Иванович\",1950],\n",
    "[\"Петров\",\"Петр\",\"Петрович\",1970],\n",
    "[\"Сидоров\",\"Ярослав\",\"Кузьмич\",1965],\n",
    "[\"Кириенко\",\"Александра\",\"Валентиновна\",\"1916\"]\n",
    "]\n",
    "```\n",
    "Представьте эти данные в виде словаря, в котором ключами являются элементы первого списка, а значениями списки соответствующих элементов остальных списков. Ожидается результат в виде:\n",
    "\n",
    "```\n",
    "{\n",
    "\"Family\":[\"Иванов\",\"Петров\",\"Сидоров\",\"Кириенко\"],\n",
    "\"Name\":[\"Иван\",\"Петр\",\"Ярослав\",\"Александра\"],\n",
    "\"Father\":[\"Иванович\", ...],\n",
    "\"Year\":[...,1916]\n",
    "}\n",
    "```"
   ]
  },
  {
   "cell_type": "code",
   "execution_count": 31,
   "id": "6fbf354f",
   "metadata": {},
   "outputs": [
    {
     "name": "stdout",
     "output_type": "stream",
     "text": [
      "{'Family': ['Иванов', 'Петров', 'Сидоров', 'Кириенко'], 'Name': ['Иван', 'Петр', 'Ярослав', 'Александра'], 'Father': ['Иванович', 'Петрович', 'Кузьмич', 'Валентиновна'], 'Year': [1950, 1970, 1965, '1916']}\n"
     ]
    }
   ],
   "source": [
    "arr = [[\"Family\",\"Name\",\"Father\",\"Year\"],\n",
    "[\"Иванов\",\"Иван\",\"Иванович\",1950],\n",
    "[\"Петров\",\"Петр\",\"Петрович\",1970],\n",
    "[\"Сидоров\",\"Ярослав\",\"Кузьмич\",1965],\n",
    "[\"Кириенко\",\"Александра\",\"Валентиновна\",1916]]\n",
    "dct = dict()\n",
    "\n",
    "for i in range(len(arr[0])):\n",
    "    dct[arr[0][i]] = []\n",
    "    \n",
    "for i in range(len(arr)-1):\n",
    "    for j in range(len(arr[0])):\n",
    "        dct[arr[0][j]].append(arr[i+1][j])\n",
    "\n",
    "print(dct)"
   ]
  },
  {
   "cell_type": "markdown",
   "id": "bbb0fb2a",
   "metadata": {},
   "source": [
    "<h3>Задание 3. Кухня</h3>\n",
    "\n",
    "Для приготовления блюд национальной кухни используются следующие продукты (ingredients):\n",
    "\n",
    "```\n",
    "ingredients={\n",
    "    \"indian\":[\"vegetable oil\",\"wheat\",\"black pepper\",\n",
    "              \"cayenne pepper\",\"onions\",\"milk\",\"butter\",\"sugar\",\n",
    "              \"salt\",\"lemon\",\"natural yogurt\",\"carrots\",\"rice\"],\n",
    "    \"chinese\":[\"sesame oil\",\"black pepper\",\n",
    "               \"cayenne pepper\",\"canola oil\",\"sugar\",\n",
    "               \"garlic\",\"red pepper\",\"yellow peppers\",\"broccoli\",\n",
    "               \"green bell pepper\",\"vegetable oil\",\"eggs\",\"onions\",\"rice\"],\n",
    "    \"korean\":[\"daikon\",\"red radishes\",\"onions\",\"salt\",\"carrots\",\n",
    "              \"garlic\",\"black pepper\",\"eggs\"]\n",
    "}\n",
    "```\n",
    "\n",
    "a) Сколько всего различных продуктов входит в состав разных кухонь?<br>\n",
    "б) Перечислите продукты, которые входят в состав только одной кухни, сколько таких продуктов?<br>\n",
    "в) Найдите все виды перца (pepper) используемые во всех кухнях.<br>"
   ]
  },
  {
   "cell_type": "code",
   "execution_count": 45,
   "id": "c7dd54d0",
   "metadata": {},
   "outputs": [
    {
     "name": "stdout",
     "output_type": "stream",
     "text": [
      "В indian кухне 13 продуктов, в состав входят: vegetable oil, wheat, black pepper, cayenne pepper, onions, milk, butter, sugar, salt, lemon, natural yogurt, carrots, rice\n",
      "\n",
      "\n",
      "В chinese кухне 14 продуктов, в состав входят: sesame oil, black pepper, cayenne pepper, canola oil, sugar, garlic, red pepper, yellow peppers, broccoli, green bell pepper, vegetable oil, eggs, onions, rice\n",
      "\n",
      "\n",
      "В korean кухне 8 продуктов, в состав входят: daikon, red radishes, onions, salt, carrots, garlic, black pepper, eggs\n",
      "\n",
      "\n",
      "Всего 23 различных продуктов в составе разных кухонь\n",
      "В составе всех кухонь 3 видов перцев: cayenne pepper, black pepper, red pepper\n"
     ]
    }
   ],
   "source": [
    "ingredients={\n",
    "    \"indian\":[\"vegetable oil\",\"wheat\",\"black pepper\",\n",
    "              \"cayenne pepper\",\"onions\",\"milk\",\"butter\",\"sugar\",\n",
    "              \"salt\",\"lemon\",\"natural yogurt\",\"carrots\",\"rice\"],\n",
    "    \"chinese\":[\"sesame oil\",\"black pepper\",\n",
    "               \"cayenne pepper\",\"canola oil\",\"sugar\",\n",
    "               \"garlic\",\"red pepper\",\"yellow peppers\",\"broccoli\",\n",
    "               \"green bell pepper\",\"vegetable oil\",\"eggs\",\"onions\",\"rice\"],\n",
    "    \"korean\":[\"daikon\",\"red radishes\",\"onions\",\"salt\",\"carrots\",\n",
    "              \"garlic\",\"black pepper\",\"eggs\"]\n",
    "}\n",
    "peppers = set()\n",
    "products = set()\n",
    "\n",
    "for key in ingredients.keys():\n",
    "    print(f\"В {key} кухне {len(ingredients[key])} продуктов, в состав входят: {', '.join(ingredients[key])}\")\n",
    "    \n",
    "    for i in range(len(ingredients[key])):\n",
    "        products.add(ingredients[key][i])\n",
    "        \n",
    "        tmpStr = ingredients[key][i].split()\n",
    "        if len(tmpStr)==2:\n",
    "            if tmpStr[1]=='pepper':\n",
    "                peppers.add(ingredients[key][i])\n",
    "        \n",
    "        \n",
    "    print('\\n')\n",
    "    \n",
    "    \n",
    "print(\"Всего\", len(products), \"различных продуктов в составе разных кухонь\")\n",
    "print(f\"В составе всех кухонь {len(peppers)} видов перцев: {', '.join(peppers)}\")"
   ]
  },
  {
   "cell_type": "markdown",
   "id": "e0e8c40f",
   "metadata": {},
   "source": [
    "<h3>Задание 4. Перестановка</h3>\n",
    "\n",
    "Напишите программу, которая переставляет элементы списка в указанном интервале в обратном порядке. Параметрами программы являются $k_1$ - начальный и $k_2$ - конечный индексы интервала элементов списка. В результате работы программы элементы с индексами от $k_1$ до $k_2$ включительно переставляются в обратном порядке.\n",
    "\n",
    "```\n",
    "[10, 20, 30, 40, 50, 60, 70, 80]; k1 = 2; k2 = 4; => [10, 20, 50, 40, 30, 60, 70, 80]\n",
    "[10, 20, 50, 40, 30, 60, 70, 80]; k1 = 6; k2 = 7; => [10, 20, 50, 40, 30, 60, 80, 70]\n",
    "[10, 20, 50, 40, 30, 60, 80, 70]; k1 = 0; k2 = 7; => [70, 80, 60, 30, 40, 50, 20, 10]\n",
    "```"
   ]
  },
  {
   "cell_type": "code",
   "execution_count": 16,
   "id": "781d1e96",
   "metadata": {},
   "outputs": [
    {
     "name": "stdout",
     "output_type": "stream",
     "text": [
      "[10, 20, 30, 40, 50, 60, 70, 80]\n",
      "Введите число k1: 2\n",
      "Введите число k2: 4\n",
      "[10, 20, 50, 40, 30, 60, 70, 80]\n",
      "Введите число k1: 6\n",
      "Введите число k2: 7\n",
      "[10, 20, 50, 40, 30, 60, 80, 70]\n",
      "Введите число k1: 0\n",
      "Введите число k2: 7\n",
      "[70, 20, 50, 40, 30, 60, 80, 10]\n",
      "Введите число k1: stop\n",
      "Введите число k2: stop\n",
      "[70, 20, 50, 40, 30, 60, 80, 10]\n"
     ]
    }
   ],
   "source": [
    "arr = [10, 20, 30, 40, 50, 60, 70, 80]\n",
    "\n",
    "print(arr)\n",
    "\n",
    "while True:\n",
    "    k1 = input(\"Введите число k1: \")\n",
    "    if k1=='stop': \n",
    "        print(arr)\n",
    "        break\n",
    "    \n",
    "    k2 = input(\"Введите число k2: \")\n",
    "    if k2 == 'stop': \n",
    "        print(arr)\n",
    "        break\n",
    "        \n",
    "    k1, k2 = int(k1), int(k2)\n",
    "    \n",
    "    num1, num2 = arr[k1], arr[k2]\n",
    "    arr[k1], arr[k2] = num2, num1\n",
    "    \n",
    "    print(arr)"
   ]
  },
  {
   "cell_type": "markdown",
   "id": "6c357361",
   "metadata": {},
   "source": [
    "<h3>Задание 5. Кратчайший список</h3>\n",
    "\n",
    "Напишите программу на Python, чтобы найти кратчайший список значений ключей в заданном словаре.\n",
    "\n",
    "```\n",
    "{'V': [10, 12], 'VI': [10], 'VII': [10, 20, 30, 40], 'VIII': [20], 'IX': [10, 30, 50, 70], 'X': [80]}\n",
    "=>['VI', 'VIII', 'X']\n",
    "```"
   ]
  },
  {
   "cell_type": "code",
   "execution_count": 4,
   "id": "2adacc59",
   "metadata": {},
   "outputs": [
    {
     "name": "stdout",
     "output_type": "stream",
     "text": [
      "['VI', 'VIII', 'X']\n"
     ]
    }
   ],
   "source": [
    "dct = {'V': [10, 12], 'VI': [10], 'VII': [10, 20, 30, 40], 'VIII': [20], 'IX': [10, 30, 50, 70], 'X': [80]}\n",
    "arr = []\n",
    "count = False\n",
    "\n",
    "for key in list(dct.keys()):\n",
    "    tmp = len(dct[key])\n",
    "    \n",
    "    if count==False or tmp < count:\n",
    "        arr = [key]\n",
    "        count = tmp\n",
    "    elif count==tmp:\n",
    "        arr.append(key)\n",
    "        \n",
    "print(arr)"
   ]
  },
  {
   "cell_type": "markdown",
   "id": "9772379a",
   "metadata": {},
   "source": [
    "<h3>Задание 6. Максимальное произведение</h3>\n",
    "\n",
    "Напишите программу на Python, чтобы найти два числа, произведение которых является максимальным среди всех пар в заданном списке чисел. Используйте набор Python.\n",
    "\n",
    "```\n",
    "[1, 2, 3, 4, 5, 6, 7, 8, 9]\n",
    "=> (8, 9)\n",
    "\n",
    "[1, -2, -3, 4, 5, -6, 7, -8, 9]\n",
    "=> (7, 9)\n",
    "```"
   ]
  },
  {
   "cell_type": "code",
   "execution_count": 6,
   "id": "b2eeef58",
   "metadata": {},
   "outputs": [
    {
     "name": "stdout",
     "output_type": "stream",
     "text": [
      "(7, 9)\n"
     ]
    }
   ],
   "source": [
    "num = False\n",
    "arr = [1, -2, -3, 4, 5, -6, 7, -8, 9]\n",
    "nums = False\n",
    "\n",
    "for i in range(len(arr)):\n",
    "    for j in range(len(arr)):\n",
    "        if i == j: \n",
    "            continue\n",
    "        else:\n",
    "            if arr[i]*arr[j]>num or num == False:\n",
    "                num = arr[i]*arr[j]\n",
    "                nums = (arr[i], arr[j])\n",
    "                \n",
    "print(nums)"
   ]
  },
  {
   "cell_type": "markdown",
   "id": "7e21944f",
   "metadata": {},
   "source": [
    "<h3> Задание 7. Узор</h3>\n",
    "\n",
    "Напишите программу, которая рисует следующий V-образный узор размера $k \\times 2k$, например $7 \\times 14$. Число $k$ является параметром программы.\n",
    "\n",
    "```\n",
    "**************\n",
    "******  ******\n",
    "*****    *****\n",
    "****      ****\n",
    "***        ***\n",
    "**          **\n",
    "*            *\n",
    "```"
   ]
  },
  {
   "cell_type": "code",
   "execution_count": 46,
   "id": "cfc18075",
   "metadata": {},
   "outputs": [
    {
     "name": "stdout",
     "output_type": "stream",
     "text": [
      "Введите число k: 7\n",
      "**************\n",
      "******  ******\n",
      "*****    *****\n",
      "****      ****\n",
      "***        ***\n",
      "**          **\n",
      "*            *\n"
     ]
    }
   ],
   "source": [
    "k = int(input(\"Введите число k: \"))\n",
    "\n",
    "for i in range(k):\n",
    "    x = k-i\n",
    "    print(\"*\"*x+\" \"*i*2+\"*\"*x)"
   ]
  },
  {
   "cell_type": "markdown",
   "id": "5bb3bb65",
   "metadata": {},
   "source": [
    "<h3>Задание 8. Длина последовательности</h3>\n",
    "\n",
    "Найдите длину наибольшей возрастающей последовательности элементов списка.\n",
    "\n",
    "```\n",
    "[10, 20, 30, 40, 50, 60, 70, 80] => 8\n",
    "[10, 20, 30, 40, 50, 30, 30, 20] => 5\n",
    "[10, 20, 30, 40, 50, 30, 30, 80] => 6\n",
    "[-1, -2, -3, -4, -5, -11, -12, -13] => 1\n",
    "[10, 20, 15, 25, 20, 30, 25, 35] => 5\n",
    "```"
   ]
  },
  {
   "cell_type": "code",
   "execution_count": 3,
   "id": "d31f1e1b",
   "metadata": {
    "scrolled": true
   },
   "outputs": [
    {
     "name": "stdout",
     "output_type": "stream",
     "text": [
      "5\n"
     ]
    }
   ],
   "source": [
    "maxNum = False\n",
    "arr = [10, 20, 15, 25, 20, 30, 25, 35]\n",
    "count = 0\n",
    "\n",
    "for i in range(len(arr)):\n",
    "    if maxNum == False or maxNum<arr[i]: \n",
    "        maxNum = arr[i]\n",
    "        count+=1\n",
    "        \n",
    "print(count)"
   ]
  }
 ],
 "metadata": {
  "kernelspec": {
   "display_name": "Python 3 (ipykernel)",
   "language": "python",
   "name": "python3"
  },
  "language_info": {
   "codemirror_mode": {
    "name": "ipython",
    "version": 3
   },
   "file_extension": ".py",
   "mimetype": "text/x-python",
   "name": "python",
   "nbconvert_exporter": "python",
   "pygments_lexer": "ipython3",
   "version": "3.10.9"
  }
 },
 "nbformat": 4,
 "nbformat_minor": 5
}
