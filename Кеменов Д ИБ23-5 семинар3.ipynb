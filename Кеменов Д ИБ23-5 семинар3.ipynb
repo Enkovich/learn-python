{
 "cells": [
  {
   "cell_type": "markdown",
   "id": "5e02cc4f-3419-4133-bb91-60023ae94155",
   "metadata": {},
   "source": [
    "# Кеменов Дмитрий ИБ23-5 семинар 3"
   ]
  },
  {
   "cell_type": "markdown",
   "id": "4e1ae4db",
   "metadata": {},
   "source": [
    "1. Сформировать и вывести на экран список из 5 случайных целых чисел от -10 до 10. Для созданного списка:  1) вычислить среднее арифметическое значение элементов списка;  2) переставить элементы списка в обратном порядке; 2) создать новый список из отрицательных элементов исходного списка. В исходном списке удалить отрицательные элементы. Порядок элементов должен быть сохранен."
   ]
  },
  {
   "cell_type": "code",
   "execution_count": 67,
   "id": "1fb7ba15",
   "metadata": {
    "scrolled": true
   },
   "outputs": [
    {
     "name": "stdout",
     "output_type": "stream",
     "text": [
      "[-8, 7, -2, 4, -9]\n",
      "-1.6\n",
      "[-9, 4, -2, 7, -8]\n",
      "[-8, -2, -9]\n",
      "[7, 4]\n"
     ]
    }
   ],
   "source": [
    "import random\n",
    "array = []\n",
    "arrayNegNum = []\n",
    "arrayPositNum = []\n",
    "summ = 0\n",
    "\n",
    "for i in range(0, 5):\n",
    "    array.append(random.randint(-10, 10))\n",
    "    summ = summ + array[i]\n",
    "    if(array[i]<0):\n",
    "        arrayNegNum.append(array[i])\n",
    "    if(array[i]>=0):\n",
    "        arrayPositNum.append(array[i])\n",
    "\n",
    "print(array)\n",
    "        \n",
    "print(summ/5)\n",
    "\n",
    "print(list(reversed(array)))\n",
    "print(arrayNegNum)\n",
    "print(arrayPositNum)"
   ]
  },
  {
   "cell_type": "markdown",
   "id": "a31567c0",
   "metadata": {},
   "source": [
    "2. Имеются 2 списка целых чисел, упорядоченные по возрастанию. Получите новый список, содержащий все элементы исходных списков, в котором элементы также упорядочены в порядке возрастания, не используя сортировку. "
   ]
  },
  {
   "cell_type": "code",
   "execution_count": 46,
   "id": "736e801a",
   "metadata": {},
   "outputs": [
    {
     "name": "stdout",
     "output_type": "stream",
     "text": [
      "[-92, -87, -84, -78, -70, -63, -61, -58, -56, -47, -45, -35, -27, -18, 2, 6, 7, 9, 19, 21, 32, 50, 59, 59, 65, 68, 71, 81, 82, 87]\n"
     ]
    }
   ],
   "source": [
    "import random\n",
    "array1 = []\n",
    "array2 = []\n",
    "\n",
    "for i in range(0, 15):\n",
    "    array1.append(random.randint(-100, 100))\n",
    "    array2.append(random.randint(-100, 100))\n",
    "    \n",
    "array1.sort(reverse=False)\n",
    "array2.sort(reverse=False)\n",
    "\n",
    "bigArray = array1 + array2\n",
    "n = 1 \n",
    "while n < len(bigArray):\n",
    "    for i in range(len(bigArray)-n):\n",
    "        if bigArray[i] > bigArray[i+1]:\n",
    "            bigArray[i],bigArray[i+1] = bigArray[i+1],bigArray[i]\n",
    "    n += 1\n",
    "\n",
    "print(bigArray)"
   ]
  },
  {
   "cell_type": "markdown",
   "id": "01e34679",
   "metadata": {},
   "source": [
    "3. Треугольник задан в виде списка координат вершин (вершина представляется в виде списка из двух чисел). Проверьте, действительно ли заданные точки определяют треугольник, вычислите длины сторон, площадь и периметр треугольника"
   ]
  },
  {
   "cell_type": "code",
   "execution_count": 137,
   "id": "1369c0ac",
   "metadata": {},
   "outputs": [
    {
     "name": "stdout",
     "output_type": "stream",
     "text": [
      "4.123105625617661 16.278820596099706 17.029386365926403\n",
      "P = 37.431312587643774\n",
      "S = 33.50000000000004\n"
     ]
    }
   ],
   "source": [
    "import math\n",
    "import random\n",
    "\n",
    "a = [random.randint(-10, 10), random.randint(-10, 10)]\n",
    "b = [random.randint(-10, 10), random.randint(-10, 10)]\n",
    "c = [random.randint(-10, 10), random.randint(-10, 10)]\n",
    "\n",
    "ab = math.sqrt((a[0]-b[0])**2+(a[1]-b[1])**2)\n",
    "ac = math.sqrt((a[0]-c[0])**2+(a[1]-c[1])**2)\n",
    "bc = math.sqrt((b[0]-c[0])**2+(b[1]-c[1])**2)\n",
    "\n",
    "if(ab+ac <= bc):\n",
    "    print(\"Error\")\n",
    "    quit()\n",
    "if(ab+bc <= ac):\n",
    "    print(\"Error\")\n",
    "    quit()\n",
    "if(bc+ac <= ab):\n",
    "    print(\"Error\")\n",
    "    quit()\n",
    "    \n",
    "p = (ab+ac+bc)/2\n",
    "s = math.sqrt(p*(p-ab)*(p-ac)*(p-bc))\n",
    "\n",
    "print(ab, ac, bc)  \n",
    "print(f\"P = {ab+ac+bc}\")\n",
    "print(f\"S = {s}\")"
   ]
  },
  {
   "cell_type": "markdown",
   "id": "851b74fa",
   "metadata": {},
   "source": [
    " 4. Создайте 2 списка из 5 случайных целых чисел от 1 до 10. 1) определите, сколько различных чисел содержат списки; 2) определите, сколько различных чисел содержится одновременно как в первом списке, так и во втором; 3) выведите все числа, которые входят как в первый, так и во второй список в порядке возрастания; 4) удалите из первого списка числа, входящие во второй список.\n",
    " "
   ]
  },
  {
   "cell_type": "code",
   "execution_count": 117,
   "id": "06ceb44b",
   "metadata": {},
   "outputs": [
    {
     "name": "stdout",
     "output_type": "stream",
     "text": [
      "4 4\n",
      "6\n",
      "{1, 3, 5, 6, 7, 8}\n",
      "[8, 5, 3, 6, 8] [5, 3, 3, 1, 7]\n",
      "{8, 6}\n"
     ]
    }
   ],
   "source": [
    "import random\n",
    "array1 = []\n",
    "array2 = []\n",
    "array1_1 = []\n",
    "\n",
    "for i in range(0, 5):\n",
    "    array1.append(random.randint(1, 10))\n",
    "    array2.append(random.randint(1, 10))\n",
    "\n",
    "for i in range(0, 5):\n",
    "    if (array1[i] not in array2):\n",
    "        array1_1.append(array1[i])\n",
    "    \n",
    "print(len(set(array1)), len(set(array2)))\n",
    "print(len(set(array1+array2)))\n",
    "print(set(array1+array2))\n",
    "\n",
    "print(array1, array2)\n",
    "print(set(array1_1))"
   ]
  },
  {
   "cell_type": "markdown",
   "id": "3f500c87",
   "metadata": {},
   "source": [
    "5. В произвольной строке, вводимой пользователем, найдите все слова, начинающиеся с гласных букв с использованием регулярного выражения. Представьте ответ в виде списка, состоящего из перевернутых (записанных от конца к началу) найденных слов. Словом в строке считать подстроку, ограниченную пробелами. "
   ]
  },
  {
   "cell_type": "code",
   "execution_count": 94,
   "id": "b7f1339f",
   "metadata": {},
   "outputs": [
    {
     "name": "stdout",
     "output_type": "stream",
     "text": [
      "ауцуаыва уацвааыва цвалыщвывав выаы уув вфыв\n",
      "['авыауцуа', 'авыаавцау', 'вуу']\n"
     ]
    }
   ],
   "source": [
    "import re\n",
    "\n",
    "string = input().lower().split()\n",
    "regex = '^[аеиоуыэюя]'\n",
    "text = []\n",
    "\n",
    "for i in range(len(string)):\n",
    "    if(re.search(regex, string[i])):\n",
    "        tempArr = list(string[i])\n",
    "        tempArr.reverse()\n",
    "        tempArr = \"\".join(tempArr)\n",
    "        text.append(tempArr)\n",
    "\n",
    "print(text)\n",
    "\n",
    "# ауцуаыва уацвааыва цвалыщвывав выаы уув вфыв\n",
    "# ауцуаыва"
   ]
  },
  {
   "cell_type": "markdown",
   "id": "535902f2",
   "metadata": {},
   "source": [
    "6. Запросить у пользователя 2 целых числа и сохранить их в переменных max_val, repeat. Создать список из целых чисел со значениями от 1 до max_val включительно, повторяющийся repeat раз. "
   ]
  },
  {
   "cell_type": "code",
   "execution_count": 17,
   "id": "f9e934d3",
   "metadata": {},
   "outputs": [
    {
     "name": "stdout",
     "output_type": "stream",
     "text": [
      "max_val: 6\n",
      "repeat: 3\n",
      "[1, 2, 3, 4, 5, 6, 1, 2, 3, 4, 5, 6, 1, 2, 3, 4, 5, 6]\n"
     ]
    }
   ],
   "source": [
    "max_val = int(input(\"max_val: \"))\n",
    "repeat = int(input(\"repeat: \"))\n",
    "array = []\n",
    "\n",
    "for i in range(1, max_val+1):\n",
    "    array.append(i)\n",
    "array = array*repeat\n",
    "\n",
    "print(array)"
   ]
  },
  {
   "cell_type": "markdown",
   "id": "33e2a6ae",
   "metadata": {},
   "source": [
    "7. Организовать заполнение списка заданной длины пользователем через input(). Если на вход подается число (целое или через точку), то записывать в список целое число с округлением вверх. Если \"True\" или \"False\", то как boolean. Иначе - как строку. "
   ]
  },
  {
   "cell_type": "code",
   "execution_count": 37,
   "id": "6a1e38c3",
   "metadata": {},
   "outputs": [
    {
     "name": "stdin",
     "output_type": "stream",
     "text": [
      " adsasd asdsadasd 12321213 3211/2/ 3132.7777 12312313,2333 true 13123.1111\n"
     ]
    },
    {
     "name": "stdout",
     "output_type": "stream",
     "text": [
      "['adsasd', 'asdsadasd', 12321213, '3211/2/', 3133, '12312313,2333', True, 13124]\n"
     ]
    }
   ],
   "source": [
    "import math\n",
    "import re\n",
    "\n",
    "tempInp = input().split()\n",
    "array = []\n",
    "\n",
    "for i in range(len(tempInp)):\n",
    "\n",
    "    if(tempInp[i] == \"False\" or tempInp[i]==\"false\"):\n",
    "        array.append(bool(0))\n",
    "    elif(tempInp[i] == \"True\" or tempInp[i]==\"true\"):\n",
    "        array.append(bool(1))\n",
    "    else:\n",
    "        if(not(re.search('[a-zA-Z,/*-+=]', tempInp[i]))):\n",
    "            if(re.search('[.]', tempInp[i])):\n",
    "                array.append(math.ceil(float(tempInp[i])))\n",
    "            else:\n",
    "                array.append(int(tempInp[i]))\n",
    "        else:\n",
    "            array.append(tempInp[i])\n",
    "            \n",
    "print(array)"
   ]
  },
  {
   "cell_type": "markdown",
   "id": "81bb0ade",
   "metadata": {},
   "source": [
    "8. Заданы две заранее неизвестные строки в которых слова разделены пробелами. Из двух строк составить одну, в котрой слова из первой и второй строки будут чередоваться при этом порядок слов будет сохранен. Для преобразований использовать списки слов. Пример: 'один два три', 'альфа бетта гамма' -> 'один альфа два бетта три гамма' ."
   ]
  },
  {
   "cell_type": "code",
   "execution_count": 49,
   "id": "45c6dfc8-5242-4f3a-a496-7c8f90321d3c",
   "metadata": {},
   "outputs": [
    {
     "name": "stdin",
     "output_type": "stream",
     "text": [
      "Строка 1:  один два три\n",
      "Строка 2:  альфа бетта гамма\n"
     ]
    },
    {
     "name": "stdout",
     "output_type": "stream",
     "text": [
      "['один', 'два', 'три'] ['альфа', 'бетта', 'гамма']\n",
      "один альфа два бетта три гамма\n"
     ]
    }
   ],
   "source": [
    "string1 = input(\"Строка 1: \").split()\n",
    "string2 = input(\"Строка 2: \").split()\n",
    "stringAll = []\n",
    "print(string1, string2)\n",
    "\n",
    "i=0\n",
    "\n",
    "for i in range(len(string1)):\n",
    "    stringAll.append(string1[i])\n",
    "    stringAll.append(string2[i])\n",
    "\n",
    "stringAll = ' '.join(stringAll)\n",
    "print(stringAll)"
   ]
  },
  {
   "cell_type": "markdown",
   "id": "d6b88105",
   "metadata": {},
   "source": [
    "9. Пользователь вводит произвольную строку в виде нескольких слов. Составить список, в котором слова находятся в лексикографическом порядке по возрастанию. Составить строку, в которой все слова списка, сформированного ранее, соединены знаком «&». Словом в строке считать подстроку, ограниченную пробелами. "
   ]
  },
  {
   "cell_type": "code",
   "execution_count": 7,
   "id": "30121b93",
   "metadata": {},
   "outputs": [
    {
     "name": "stdout",
     "output_type": "stream",
     "text": [
      "Введите произвольную строку: один альфа два бетта три гамма\n",
      "альфа&бетта&гамма&два&один&три\n"
     ]
    }
   ],
   "source": [
    "string = input(\"Введите произвольную строку: \").split()\n",
    "string.sort()\n",
    "string = \"&\".join(string)\n",
    "\n",
    "#один альфа два бетта три гамма\n",
    "\n",
    "print(string)"
   ]
  },
  {
   "cell_type": "markdown",
   "id": "9f5e100c",
   "metadata": {},
   "source": [
    "10. Имеется предложение, слова в котором, разделяются пробелами. С помощью списков получить слово, состоящее из первых букв слов в предложении. "
   ]
  },
  {
   "cell_type": "code",
   "execution_count": 4,
   "id": "a7aad3bb",
   "metadata": {},
   "outputs": [
    {
     "name": "stdout",
     "output_type": "stream",
     "text": [
      "Введите произвольную строку: Факультет Информационных Технологий и Анализа Больших Данных\n",
      "ФИТиАБД\n"
     ]
    }
   ],
   "source": [
    "string = input(\"Введите произвольную строку: \").split()\n",
    "\n",
    "word = \"\"\n",
    "for i in range(len(string)):\n",
    "    tempArr = list(string[i])\n",
    "    word = word+tempArr[0]\n",
    "    \n",
    "print(word)"
   ]
  },
  {
   "cell_type": "markdown",
   "id": "d0bfd2c1",
   "metadata": {},
   "source": [
    "11. Дан список А, состоящий из 2N элементов. Разбейте его на списки В и С по N элементов каждый так, чтобы каждый элемент В не превосходил каждого элемента С. "
   ]
  },
  {
   "cell_type": "code",
   "execution_count": 66,
   "id": "88b7384c",
   "metadata": {},
   "outputs": [
    {
     "name": "stdout",
     "output_type": "stream",
     "text": [
      "[27, 76, 38, 58, 10, 41, 73, 35, 66, 24, 47, 15, 60, 87, 96, 96, 84, 44, 40, 65]\n",
      "[[10, 15, 24, 27, 35, 38, 40, 41, 44, 47]]\n",
      "[[96, 96, 87, 84, 76, 73, 66, 65, 60, 58]]\n"
     ]
    }
   ],
   "source": [
    "import random\n",
    "import heapq\n",
    "\n",
    "A = []\n",
    "B = []\n",
    "C = []\n",
    "\n",
    "for i in range(random.randint(5, 50)*2):\n",
    "    A.append(random.randint(5, 100))\n",
    "\n",
    "n=int(len(A)/2)\n",
    "\n",
    "B.append(heapq.nsmallest(n, A))\n",
    "C.append(heapq.nlargest(n, A))\n",
    "\n",
    "\n",
    "print(A)\n",
    "print(B)\n",
    "print(C)"
   ]
  },
  {
   "cell_type": "markdown",
   "id": "06d9433c",
   "metadata": {},
   "source": [
    "12. В списке L имеется 2n + 1 различных элементов. Найдите средний элемент списка. Под средним элементом понимают такой, для которого в списке n элементов больше его и n элементов меньше."
   ]
  },
  {
   "cell_type": "code",
   "execution_count": 162,
   "id": "78ea026e",
   "metadata": {},
   "outputs": [
    {
     "name": "stdout",
     "output_type": "stream",
     "text": [
      "[-990, -938, -938, -912, -902, -885, -853, -839, -832, -754, -749, -744, -723, -718, -689, -670, -670, -669, -647, -614, -613, -598, -597, -592, -582, -523, -512, -477, -466, -460, -446, -446, -443, -423, -380, -377, -356, -350, -349, -348, -344, -307, -250, -246, -164, -137, -125, -117, -63, -55, -20, -7, 10, 12, 20, 51, 52, 69, 72, 81, 86, 111, 117, 119, 133, 135, 156, 179, 182, 186, 191, 193, 198, 231, 231, 333, 336, 400, 431, 448, 458, 461, 472, 502, 512, 524, 535, 537, 549, 559, 576, 590, 597, 608, 619, 619, 659, 683, 684, 691, 693, 694, 696, 701, 704, 712, 741, 759, 760, 791, 794, 810, 899, 905, 928, 932, 933, 949, 958, 962, 990, 991, 995]\n",
      "\n",
      "\n",
      "Средний элемент:  111\n"
     ]
    }
   ],
   "source": [
    "import random\n",
    "L = []\n",
    "\n",
    "for i in range(random.randint(5, 100)*2+1):\n",
    "    L.append(random.randint(-1000, 1000))\n",
    "\n",
    "L.sort(reverse=False)\n",
    "\n",
    "print(L)\n",
    "print(\"\\n\")\n",
    "print(\"Средний элемент: \", L[int((len(L)-1)/2)])"
   ]
  },
  {
   "cell_type": "markdown",
   "id": "cd928553",
   "metadata": {},
   "source": [
    "13. Создать в цикле список значений х от -π до +π (с небольшим произвольным шагом). Для заданного списка рассчитать значения функций 𝑦1 = 2𝑠𝑖𝑛𝑥 и 𝑦2 = 𝑐𝑜𝑠2𝑥."
   ]
  },
  {
   "cell_type": "code",
   "execution_count": 11,
   "id": "312e2ea3",
   "metadata": {},
   "outputs": [
    {
     "name": "stdout",
     "output_type": "stream",
     "text": [
      "x=-3.0468428348157053: 2sin x:  -0.18921622507327174,  cos 2x:  0.9820986100845105\n",
      "x=-2.582408148671497: 2sin x:  -1.06099017798705,  cos 2x:  0.43714992110750384\n",
      "x=-2.4945149771471375: 2sin x:  -1.2057148209452617,  cos 2x:  0.2731258852764676\n",
      "x=-2.213509748279794: 2sin x:  -1.6009447283113092,  cos 2x:  -0.28151201155388594\n",
      "x=-2.2092293686586437: 2sin x:  -1.6060611060825722,  cos 2x:  -0.2897161382355878\n",
      "x=-1.9262046478212054: 2sin x:  -1.875008964407147,  cos 2x:  -0.7578293083035809\n",
      "x=-1.877381490757535: 2sin x:  -1.9067394809215614,  cos 2x:  -0.8178277240525128\n",
      "x=-1.4710894492863655: 2sin x:  -1.9900667719033038,  cos 2x:  -0.9801828783168183\n",
      "x=-1.4256296298031716: 2sin x:  -1.9789636113420148,  cos 2x:  -0.9581484875079145\n",
      "x=-0.8146095542873399: 2sin x:  -1.4549154975251561,  cos 2x:  -0.05838955246943615\n",
      "x=-0.7535879779110455: 2sin x:  -1.3685193006541894,  cos 2x:  0.06357746186848423\n",
      "x=-0.6688045770724305: 2sin x:  -1.2400970903272044,  cos 2x:  0.23107960328100066\n",
      "x=-0.343242665458515: 2sin x:  -0.6730847429729232,  cos 2x:  0.773478464388537\n",
      "x=-0.32129217887944916: 2sin x:  -0.6315857592273201,  cos 2x:  0.8005497143706248\n",
      "x=0.1175011081836983: 2sin x:  0.23446182945352637,  cos 2x:  0.9725138252646528\n",
      "x=0.1623320227046574: 2sin x:  0.32324001550945786,  cos 2x:  0.9477579461867227\n",
      "x=0.17377930605273662: 2sin x:  0.3458119168953367,  cos 2x:  0.9402070590665864\n",
      "x=0.688017611360809: 2sin x:  1.2700140462662404,  cos 2x:  0.19353216114322588\n",
      "x=0.7415138095948204: 2sin x:  1.3508100787706872,  cos 2x:  0.08765606554576488\n",
      "x=0.7809813826864049: 2sin x:  1.4079535173155342,  cos 2x:  0.008833446539407722\n",
      "x=1.052731324330117: 2sin x:  1.7375580325384055,  cos 2x:  -0.5095539582193673\n",
      "x=1.3017260672067712: 2sin x:  1.9280369415518273,  cos 2x:  -0.8586632239942619\n",
      "x=1.3133471200683156: 2sin x:  1.9340851856740207,  cos 2x:  -0.8703427527218554\n",
      "x=1.3536250573551252: 2sin x:  1.953021713773007,  cos 2x:  -0.9071469072344266\n",
      "x=1.4034967230092024: 2sin x:  1.9720760644410702,  cos 2x:  -0.9445420019706903\n",
      "x=1.6743017109493277: 2sin x:  1.9892961967176963,  cos 2x:  -0.9786496791377456\n",
      "x=1.7702067229152378: 2sin x:  1.9603670873821069,  cos 2x:  -0.9215195586455024\n",
      "x=1.9673836964455411: 2sin x:  1.8447691378457172,  cos 2x:  -0.7015865859740151\n",
      "x=2.0579164114592503: 2sin x:  1.767369120912224,  cos 2x:  -0.5617968047770239\n",
      "x=2.502449321626619: 2sin x:  1.1930161850265297,  cos 2x:  0.28835619113237243\n"
     ]
    }
   ],
   "source": [
    "import math\n",
    "import random\n",
    "\n",
    "x = []\n",
    "\n",
    "for i in range(30):\n",
    "    x.append(random.uniform(-(math.pi), math.pi))\n",
    "\n",
    "x = sorted(x, reverse=False)\n",
    "    \n",
    "for i in range(len(x)):\n",
    "    print(f\"x={x[i]}\", end=\": \")\n",
    "    print(\"2sin x: \", 2*(math.sin(x[i])), end=\",  \")\n",
    "    print(\"cos 2x: \", math.cos(2*x[i]))"
   ]
  }
 ],
 "metadata": {
  "kernelspec": {
   "display_name": "Python 3 (ipykernel)",
   "language": "python",
   "name": "python3"
  },
  "language_info": {
   "codemirror_mode": {
    "name": "ipython",
    "version": 3
   },
   "file_extension": ".py",
   "mimetype": "text/x-python",
   "name": "python",
   "nbconvert_exporter": "python",
   "pygments_lexer": "ipython3",
   "version": "3.10.12"
  }
 },
 "nbformat": 4,
 "nbformat_minor": 5
}
