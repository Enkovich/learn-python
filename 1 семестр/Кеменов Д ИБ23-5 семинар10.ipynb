{
 "cells": [
  {
   "cell_type": "markdown",
   "metadata": {},
   "source": [
    "## Алгоритмы и структуры данных в языке Python\n",
    "\n",
    "## Тема 4. Функции\n",
    "\n",
    "Семинар\n",
    "\n",
    "![image.png](https://www.tutorialspoint.com/python/images/python_functions.jpg)"
   ]
  },
  {
   "cell_type": "markdown",
   "metadata": {},
   "source": [
    "### Задание 1 ###\n",
    "\n",
    "Описать функцию $Mean(x, y, AMean, GMean)$, вычисляющую среднее арифметическое $AMean = \\frac{x + y}{2}$ и среднее геометрическое $GMean = \\sqrt{x⋅y}$ двух положительных чисел $x$ и $y$ ($x$ и $y$ – входные, $AMean$ и $GMean$ – выходные параметры вещественного типа). С помощью этой функции найти среднее арифметическое и среднее геометрическое для пар $(A, B), (A, C), (A, D)$, если даны $A, B, C, D$."
   ]
  },
  {
   "cell_type": "code",
   "execution_count": 8,
   "metadata": {},
   "outputs": [
    {
     "name": "stdout",
     "output_type": "stream",
     "text": [
      "Числа 1 и 22\n",
      "Среднее арифметическое - 11.5\n",
      "Среднее геометрическое - 4.69041575982343\n",
      "\n",
      "\n",
      "Числа 28 и 73\n",
      "Среднее арифметическое - 50.5\n",
      "Среднее геометрическое - 45.21061822182926\n",
      "Числа 28 и 100\n",
      "Среднее арифметическое - 64.0\n",
      "Среднее геометрическое - 52.91502622129181\n",
      "Числа 28 и 14\n",
      "Среднее арифметическое - 21.0\n",
      "Среднее геометрическое - 19.79898987322333\n"
     ]
    }
   ],
   "source": [
    "import random\n",
    "import math\n",
    "\n",
    "def GMean (x, y): \n",
    "    return math.sqrt(x*y)\n",
    "    \n",
    "def AMean (x, y):\n",
    "    return (x+y)/2\n",
    "\n",
    "def Mean(x, y):\n",
    "    print(f\"Числа {x} и {y}\\nСреднее арифметическое - {AMean(x, y)}\\nСреднее геометрическое - {GMean(x, y)}\")\n",
    "    \n",
    "    \n",
    "A, B, C, D = random.randint(0, 100), random.randint(0, 100), random.randint(0, 100), random.randint(0, 100)\n",
    "\n",
    "Mean(A, B)\n",
    "Mean(A, C)\n",
    "Mean(A, D)"
   ]
  },
  {
   "cell_type": "markdown",
   "metadata": {},
   "source": [
    "### Задание 2 ###\n",
    "\n",
    "Описать функцию $CircleS(r)$ вещественного типа, находящую площадь круга радиуса $r$ ($r$ – вещественное). С помощью этой функции найти площадь круга с заданным радиусом."
   ]
  },
  {
   "cell_type": "code",
   "execution_count": null,
   "metadata": {},
   "outputs": [],
   "source": [
    "import math\n",
    "import random"
   ]
  },
  {
   "cell_type": "code",
   "execution_count": 10,
   "metadata": {},
   "outputs": [
    {
     "name": "stdout",
     "output_type": "stream",
     "text": [
      "706.8583470577034\n",
      "28.274333882308138\n"
     ]
    }
   ],
   "source": [
    "def 𝐶𝑖𝑟𝑐𝑙𝑒𝑆(𝑟):\n",
    "    return math.pi*(r)**2\n",
    "\n",
    "print(𝐶𝑖𝑟𝑐𝑙𝑒𝑆(random.randint(2, 20)))\n",
    "print(𝐶𝑖𝑟𝑐𝑙𝑒𝑆(random.randint(2, 20)))"
   ]
  },
  {
   "cell_type": "markdown",
   "metadata": {},
   "source": [
    "### Задание 3 ###\n",
    "\n",
    "Описать функцию $RingS(r_1, r_2)$ вещественного типа, находящую площадь кольца, заключенного между двумя окружностями с общим центром и радиусами $r_1$ и $r_2$ ($r_1$ и $r_2$ – вещественные). С ее помощью найти площади трех колец, для которых даны внешние и внутренние радиусы. "
   ]
  },
  {
   "cell_type": "code",
   "execution_count": 17,
   "metadata": {},
   "outputs": [
    {
     "name": "stdout",
     "output_type": "stream",
     "text": [
      "461.81412007769956\n",
      "263.89378290154264\n",
      "3267.2563597333847\n"
     ]
    }
   ],
   "source": [
    "def 𝑅𝑖𝑛𝑔𝑆(𝑟1,𝑟2):\n",
    "    \n",
    "    S1 = math.pi*r1**2\n",
    "    S2 = math.pi*r2**2\n",
    "    \n",
    "    return S1 - S2\n",
    "    \n",
    "    \n",
    "print(𝑅𝑖𝑛𝑔𝑆(random.randint(11, 14), random.randint(2, 10)))\n",
    "print(𝑅𝑖𝑛𝑔𝑆(random.randint(21, 25), random.randint(10, 20)))\n",
    "print(𝑅𝑖𝑛𝑔𝑆(random.randint(51, 60), random.randint(20, 50)))"
   ]
  },
  {
   "cell_type": "markdown",
   "metadata": {},
   "source": [
    "### Задание 4 ###\n",
    "\n",
    "Описать процедуру $RectPS(x_1, y_1, x_2, y_2, P, S)$, вычисляющую периметр $P$ и площадь $S$ прямоугольника со сторонами, параллельными осям координат, по координатам $(x_1, y_1), (x_2, y_2)$ его противоположных вершин ($x_1, y_1, x_2, y_2$ – входные, $P$ и $S$ – выходные параметры вещественного типа). С помощью этой процедуры найти периметры и площади трех прямоугольников с данными противоположными вершинами. "
   ]
  },
  {
   "cell_type": "code",
   "execution_count": 21,
   "metadata": {},
   "outputs": [
    {
     "name": "stdout",
     "output_type": "stream",
     "text": [
      "(8.0, 4.0)\n",
      "(22.0, 30.0)\n",
      "(68.0, 189.0)\n"
     ]
    }
   ],
   "source": [
    "def 𝑅𝑒𝑐𝑡𝑃𝑆(x1, y1, x2, y2):\n",
    "    a = math.sqrt((x1-x1)**2+(y2-y1)**2)\n",
    "    b = math.sqrt((x2-x1)**2+(y1-y1)**2)\n",
    "    \n",
    "    P = (a+b)*2\n",
    "    S = a*b\n",
    "    \n",
    "    return P, S\n",
    "\n",
    "print(𝑅𝑒𝑐𝑡𝑃𝑆(2, 3, 4, 5))\n",
    "print(𝑅𝑒𝑐𝑡𝑃𝑆(4, 7, 10, 12))\n",
    "print(𝑅𝑒𝑐𝑡𝑃𝑆(-5, -8, -12, -35))"
   ]
  },
  {
   "cell_type": "markdown",
   "metadata": {},
   "source": [
    "### Задание 5\n",
    "\n",
    "Описать функцию $TriangleP(a, h)$, находящую периметр равнобедренного треугольника по его основанию $a$ и высоте $h$, проведенной к основанию ($a$ и $h$ – вещественные). С помощью этой функции найти периметры трех треугольников, для которых даны основания и высоты. Для нахождения боковой стороны b треугольника использовать теорему Пифагора: \n",
    "$b^2 = \\left(\\frac{a}{2}\\right)^2 + h^2$. "
   ]
  },
  {
   "cell_type": "code",
   "execution_count": 22,
   "metadata": {},
   "outputs": [
    {
     "name": "stdout",
     "output_type": "stream",
     "text": [
      "8.32455532033676\n",
      "18.0\n",
      "27.697715603592208\n"
     ]
    }
   ],
   "source": [
    "def 𝑇𝑟𝑖𝑎𝑛𝑔𝑙𝑒𝑃(a, h):\n",
    "    b = math.sqrt((a/2)**2 + h**2)\n",
    "    Pabc = a + b*2\n",
    "    \n",
    "    return Pabc\n",
    "\n",
    "print(𝑇𝑟𝑖𝑎𝑛𝑔𝑙𝑒𝑃(2,3))\n",
    "print(𝑇𝑟𝑖𝑎𝑛𝑔𝑙𝑒𝑃(5,6))\n",
    "print(𝑇𝑟𝑖𝑎𝑛𝑔𝑙𝑒𝑃(8,9))"
   ]
  },
  {
   "cell_type": "markdown",
   "metadata": {},
   "source": [
    "### Задание 6 ###\n",
    "\n",
    "Создать функцию $Minmax(X, Y)$, записывающую в переменную $X$ минимальное из значений $X$ и $Y$, а в переменную $Y$ – максимальное из этих значений ($X$ и $Y$ – вещественные параметры, являющиеся одновременно входными и выходными). Используя четыре вызова этой функции, найти минимальное и максимальное из данных чисел $A$, $B$, $C$, $D$."
   ]
  },
  {
   "cell_type": "code",
   "execution_count": 24,
   "metadata": {},
   "outputs": [
    {
     "name": "stdout",
     "output_type": "stream",
     "text": [
      "1 7\n"
     ]
    }
   ],
   "source": [
    "def 𝑀𝑖𝑛𝑚𝑎𝑥(x, y):\n",
    "    return(min(x, y), max(x, y))\n",
    "\n",
    "a, b, c, d = 1, 4, 7, 3\n",
    "t1, t2 = Minmax(a,b)\n",
    "t3, t4 = Minmax(c,d)\n",
    "min_num = Minmax(t1, t3)[0]\n",
    "max_num = Minmax(t2, t4)[1]\n",
    "\n",
    "print(min_num, max_num)"
   ]
  },
  {
   "cell_type": "markdown",
   "metadata": {},
   "source": [
    "### Задание 7 ###\n",
    "\n",
    "Описать процедуру $ShiftRight3(A, B, C)$, выполняющую правый циклический сдвиг: значение $A$ переходит в $B$, значение $B$ – в $C$, значение $C$ – в $A$ ($A$, $B$, $C$ – вещественные параметры, являющиеся одновременно входными и выходными). С помощью этой процедуры выполнить правый циклический сдвиг для двух данных наборов из трех чисел: $(A1, B1, C1)$ и $(A2, B2, C2)$.\n",
    "\n",
    "Дополнительное задание: На вход в функцию подаётся кортеж и число $N$. Реализовать функцию, которая будет реализовать рекурсивный сдвиг на $N$ число вправо. Кортеж может быть любой длины."
   ]
  },
  {
   "cell_type": "code",
   "execution_count": 8,
   "metadata": {},
   "outputs": [
    {
     "name": "stdout",
     "output_type": "stream",
     "text": [
      "(9, 1, 5)\n",
      "(2, 11, 8)\n",
      "end (5, 9, 122) <class 'tuple'>\n",
      "(5, 9, 122)\n"
     ]
    }
   ],
   "source": [
    "def 𝑆ℎ𝑖𝑓𝑡𝑅𝑖𝑔ℎ𝑡3(x, y, z):\n",
    "    return(z, x ,y)\n",
    "\n",
    "def 𝑆ℎ𝑖𝑓𝑡𝑅𝑖𝑔ℎ𝑡2(x, y):\n",
    "    return(y, x)\n",
    "\n",
    "def ShiftRightN(Arr, N, i=1):\n",
    "    tmp = Arr\n",
    "    if len(Arr)==2:\n",
    "        tmp = 𝑆ℎ𝑖𝑓𝑡𝑅𝑖𝑔ℎ𝑡2(*Arr)\n",
    "    elif len(Arr)==3:\n",
    "        tmp = 𝑆ℎ𝑖𝑓𝑡𝑅𝑖𝑔ℎ𝑡3(*Arr)\n",
    "    else:\n",
    "        print('123')\n",
    "        \n",
    "    if N==i and tmp:\n",
    "        print('end', tmp, type(tmp))\n",
    "        return tmp\n",
    "    else:\n",
    "        return ShiftRightN(tmp, N, i+1)\n",
    "\n",
    "#=====================================================================================================\n",
    "#Базовое задание\n",
    "print(𝑆ℎ𝑖𝑓𝑡𝑅𝑖𝑔ℎ𝑡3(1, 5, 9))\n",
    "print(𝑆ℎ𝑖𝑓𝑡𝑅𝑖𝑔ℎ𝑡3(11, 8, 2))\n",
    "\n",
    "print(ShiftRightN((122, 5, 9), 2))"
   ]
  }
 ],
 "metadata": {
  "kernelspec": {
   "display_name": "Python 3 (ipykernel)",
   "language": "python",
   "name": "python3"
  },
  "language_info": {
   "codemirror_mode": {
    "name": "ipython",
    "version": 3
   },
   "file_extension": ".py",
   "mimetype": "text/x-python",
   "name": "python",
   "nbconvert_exporter": "python",
   "pygments_lexer": "ipython3",
   "version": "3.11.4"
  }
 },
 "nbformat": 4,
 "nbformat_minor": 4
}
