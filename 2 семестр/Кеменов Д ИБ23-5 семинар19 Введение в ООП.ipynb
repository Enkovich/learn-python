{
 "cells": [
  {
   "cell_type": "markdown",
   "id": "d526e9b1",
   "metadata": {},
   "source": [
    "# Алгоритмы и структуры данных в языке Python\n",
    "\n",
    "# Семинар 7.2 (19) Введение в ООП"
   ]
  },
  {
   "cell_type": "code",
   "execution_count": 1,
   "id": "d2cc9f45",
   "metadata": {},
   "outputs": [],
   "source": [
    "from prettytable import PrettyTable"
   ]
  },
  {
   "cell_type": "markdown",
   "id": "5af90850",
   "metadata": {},
   "source": [
    "<p style = \"background:#FF6D72\">&nbsp; Задание 1.</p>\n",
    "\n",
    "Создайте класс *Студент* (имя, фамилия, возраст) с методами, позволяющими вывести на экран информацию о студенте. Создайте дочерние классы *Бакалавр* (имя, фамилия, возраст, курс), *Магистр* (имя, фамилия, возраст, специализация), *Аспирант* (имя, фамилия, возраст, тема диссертации) со своими методами вывода информации на экран. Создайте список студентов, выведите полную информацию из базы на экран, а также организуйте поиск студентов по имени и курсу.\n",
    "\n",
    "Продемонстрируйте работу с классами, создав необходимые объекты и вызвав их методы. "
   ]
  },
  {
   "cell_type": "code",
   "execution_count": 1,
   "id": "a69707df",
   "metadata": {},
   "outputs": [],
   "source": [
    "# 1.\n",
    "class Student(object):\n",
    "    '''Класс студент'''\n",
    "    def __init__(self, name, lastname, age):\n",
    "        '''Инициализация'''\n",
    "        self.name = name\n",
    "        self.lastname = lastname\n",
    "        self.age = age\n",
    "        \n",
    "    def __str__(self):\n",
    "        '''Вывод информации'''\n",
    "        return f\"{self.name}, {self.lastname}, возраст {self.age}\""
   ]
  },
  {
   "cell_type": "code",
   "execution_count": 4,
   "id": "8dc19385",
   "metadata": {},
   "outputs": [],
   "source": [
    "class Bachelor(Student):\n",
    "    '''Класс Бакалавр'''\n",
    "    def __init__(self, name, lastname, age, course):\n",
    "        super().__init__(name, lastname, age)\n",
    "        self.course = course\n",
    "        \n",
    "    def __str__(self):\n",
    "        return f\"{self.name}, {self.lastname}, возраст {self.age}, курс {self.course}\"\n",
    "        \n",
    "class Master(Student):\n",
    "    '''Класс Магистр'''\n",
    "    def __init__(self, name, lastname, age, spec):\n",
    "        super().__init__(name, lastname, age)\n",
    "        self.spec = spec\n",
    "        \n",
    "    def __str__(self):\n",
    "        return f\"{self.name}, {self.lastname}, возраст {self.age}, специализация {self.spec}\"\n",
    "    \n",
    "class Postgraduate(Student):\n",
    "    '''Класс Аспирантура'''\n",
    "    def __init__(self, name, lastname, age, dissert):\n",
    "        super().__init__(name, lastname, age)\n",
    "        self.dissert = dissert\n",
    "            \n",
    "    def __str__(self):\n",
    "        return f\"{self.name}, {self.lastname}, возраст {self.age}, диссертация {self.dissert}\""
   ]
  },
  {
   "cell_type": "code",
   "execution_count": 5,
   "id": "e95fb3c7",
   "metadata": {},
   "outputs": [
    {
     "name": "stdout",
     "output_type": "stream",
     "text": [
      "Вася, Пупкин, возраст 25, курс 3\n",
      "Вася, Пупкин, возраст 23, курс 1\n",
      "Вася, Пупкин, возраст 21, курс 4\n",
      "Вася, Пупкин, возраст 25, специализация Модели беспчения долговых выплат\n",
      "Вася, Пупкин, возраст 25, диссертация Анализ ключевой ставки ЦБ\n"
     ]
    }
   ],
   "source": [
    "b1 = Bachelor(\"Вася\", \"Пупкин\", 25, 3)\n",
    "b2 = Bachelor(\"Вася\", \"Пупкин\", 23, 1)\n",
    "b3 = Bachelor(\"Вася\", \"Пупкин\", 21, 4)\n",
    "s1 = Master(\"Вася\", \"Пупкин\", 25, \"Модели беспчения долговых выплат\")\n",
    "m1 = Postgraduate(\"Вася\", \"Пупкин\", 25, \"Анализ ключевой ставки ЦБ\")\n",
    "\n",
    "students = [b1, b2, b3, s1, m1]\n",
    "for s in students:\n",
    "    print(s)"
   ]
  },
  {
   "cell_type": "markdown",
   "id": "fd6455ce",
   "metadata": {},
   "source": [
    "<p style = \"background:#FF6D72\">&nbsp; Задание 2.</p>\n",
    "\n",
    "Создайте класс *Комбинат питания* с методами, позволяющими вывести на экран информацию о предприятии общественного питания. Создайте дочерние классы *Ресторан* (название, рейтинг, наличие живой музыки), *Закусочная* (название, рейтинг, возможность комплексного обеда), *Столовая* (название, рейтинг, возможность комплексного обеда, работа в выходные дни) со своими методами вывода информации на экран. Создайте список предприятий общественного питания, организуйте поиск предприятий по рейтингу.\n",
    "\n",
    "Продемонстрируйте работу с классами, создав необходимые объекты и вызвав их методы. "
   ]
  },
  {
   "cell_type": "code",
   "execution_count": null,
   "id": "72ddd7c8",
   "metadata": {},
   "outputs": [],
   "source": [
    "class Combinat(object):\n",
    "    '''Класс комбинат'''\n",
    "    def __init__(self, name, raiting):\n",
    "        self.name = name\n",
    "        self.raiting = raiting\n",
    "        \n",
    "    def __str__(self):\n",
    "        return f'Комбинат {self.name}, рейтинг {self.raiting}'\n",
    "    \n",
    "class Restoran(Combinat):\n",
    "    '''Класс ресторан'''\n",
    "    def __init__(self, name, raiting, music):\n",
    "        super().__init__(name, raiting)\n",
    "        self.music = music\n",
    "        \n",
    "    def __str__(self):\n",
    "        return f'Ресторан {self.name}, рейтинг {self.raiting}, наличие живой музыки {self.music}'\n",
    "    \n",
    "class Snack(Combinat):\n",
    "    '''Класс ресторан'''\n",
    "    def __init__(self, name, raiting, setLunch):\n",
    "        super().__init__(name, raiting)\n",
    "        self.setLunch = setLunch\n",
    "        \n",
    "    def __str__(self):\n",
    "        return f'Ресторан {self.name}, рейтинг {self.raiting}, наличие комплексного обеда {self.music}'\n",
    "    \n",
    "class DiningRoom(Snack):\n",
    "    '''Класс ресторан'''\n",
    "    def __init__(self, name, raiting, setLunch, workOnWeekends):\n",
    "        super().__init__(name, raiting, setLunch)\n",
    "        self.workOnWeekends = workOnWeekends\n",
    "        \n",
    "    def __str__(self):\n",
    "        return f'Ресторан {self.name}, рейтинг {self.raiting}, наличие комплексного обеда {self.music}, работа в выходные дни {self.workOnWeekends}'\n",
    "    \n",
    "    \n"
   ]
  },
  {
   "cell_type": "markdown",
   "id": "46ac84cc",
   "metadata": {},
   "source": [
    "<p style = \"background:#FF6D72\">&nbsp; Задание 3.</p>\n",
    "\n",
    "Создайте класс *Спортсмен* с методами, позволяющими вывести на экран информацию о спортсмене, а также определить, подходит ли данный спортсмен длязаданных условий. Создайте дочерние классы *Легкоатлет* (имя, фамилия, воз-раст, дисциплина), *Пловец* (имя, фамилия, возраст, дистанция), *Боксёр* (имя,фамилия, возраст, весовая категория) со своими методами вывода информации наэкран и определения соответствия заданным условиям. Создайте список спортсменов, выведите полную информацию из базы на экран, а также организуйте поиск спортсменов по имени и возрасту."
   ]
  },
  {
   "cell_type": "code",
   "execution_count": null,
   "id": "9846e372",
   "metadata": {},
   "outputs": [],
   "source": [
    "# 3.\n",
    "class Combinat(object):\n",
    "    '''Класс спортсмен'''\n",
    "    def __init__(self, name, lastname, age):\n",
    "        self.name = name\n",
    "        self.raiting = raiting\n",
    "        \n",
    "    def __str__(self):\n",
    "        return f'Комбинат {self.name}, рейтинг {self.raiting}'\n",
    "    \n",
    "class Restoran(Combinat):\n",
    "    '''Класс легкоатлет'''\n",
    "    def __init__(self, name, raiting, music):\n",
    "        super().__init__(name, raiting)\n",
    "        self.music = music\n",
    "        \n",
    "    def __str__(self):\n",
    "        return f'Ресторан {self.name}, рейтинг {self.raiting}, наличие живой музыки {self.music}'\n",
    "    \n",
    "class Restoran(Combinat):\n",
    "    '''Класс пловец'''\n",
    "    def __init__(self, name, raiting, music):\n",
    "        super().__init__(name, raiting)\n",
    "        self.music = music\n",
    "        \n",
    "    def __str__(self):\n",
    "        return f'Ресторан {self.name}, рейтинг {self.raiting}, наличие живой музыки {self.music}'\n",
    "    \n",
    "class Restoran(Combinat):\n",
    "    '''Класс боксёр'''\n",
    "    def __init__(self, name, raiting, music):\n",
    "        super().__init__(name, raiting)\n",
    "        self.music = music\n",
    "        \n",
    "    def __str__(self):\n",
    "        return f'Ресторан {self.name}, рейтинг {self.raiting}, наличие живой музыки {self.music}'"
   ]
  },
  {
   "cell_type": "markdown",
   "id": "915580a3",
   "metadata": {},
   "source": [
    "<p style = \"background:#FF6D72\">&nbsp; Задание 4.</p>\n",
    "\n",
    "Создайте класс «Банк» с атрибутами \"название\" и \"список счетов\". Каждый счет представлен классом «Счет» с атрибутами \"номер\" и \"баланс\". Напишите методы для добавления счета в банк, удаления счета из банка и вычисления общего баланса всех счетов в банке. Используйте магический метод \\_\\_len\\_\\_ для определения количества счетов в банке."
   ]
  },
  {
   "cell_type": "code",
   "execution_count": 2,
   "id": "061613d3",
   "metadata": {},
   "outputs": [],
   "source": [
    "# 4.\n"
   ]
  },
  {
   "cell_type": "markdown",
   "id": "2cbf833d",
   "metadata": {},
   "source": [
    "<p style = \"background:#FF6D72\">&nbsp; Задание 5.</p>\n",
    "\n",
    "Создайте класс фруктов *Fruit*, хранящий информацию о форме фрукта, его цвете и весе. Для класса *Fruit* создать:\n",
    "- метод подсчета общего веса экземпляров класса;\n",
    "- метод сравнения общего веса данного экземпляра класса с любым другим;\n",
    "- метод вывода полной информации об экземпляре класса в виде таблицы."
   ]
  },
  {
   "cell_type": "code",
   "execution_count": 14,
   "id": "2b433ebc",
   "metadata": {},
   "outputs": [
    {
     "name": "stdout",
     "output_type": "stream",
     "text": [
      "Бананорбуз, круглый, круглый, 20\n"
     ]
    },
    {
     "ename": "TypeError",
     "evalue": "'Fruit' object is not subscriptable",
     "output_type": "error",
     "traceback": [
      "\u001b[1;31m---------------------------------------------------------------------------\u001b[0m",
      "\u001b[1;31mTypeError\u001b[0m                                 Traceback (most recent call last)",
      "Cell \u001b[1;32mIn[14], line 25\u001b[0m\n\u001b[0;32m     23\u001b[0m \u001b[38;5;28mprint\u001b[39m(f1)\n\u001b[0;32m     24\u001b[0m \u001b[38;5;28;01mfor\u001b[39;00m i \u001b[38;5;129;01min\u001b[39;00m \u001b[38;5;28mrange\u001b[39m(\u001b[38;5;28mlen\u001b[39m(fruits)):\n\u001b[1;32m---> 25\u001b[0m     x\u001b[38;5;241m.\u001b[39madd_row([\u001b[43mfruits\u001b[49m\u001b[43m[\u001b[49m\u001b[43mi\u001b[49m\u001b[43m]\u001b[49m\u001b[43m[\u001b[49m\u001b[38;5;241;43m0\u001b[39;49m\u001b[43m]\u001b[49m, fruits[i][\u001b[38;5;241m1\u001b[39m],fruits[i][\u001b[38;5;241m2\u001b[39m], fruits[i][\u001b[38;5;241m3\u001b[39m], fruits[i][\u001b[38;5;241m4\u001b[39m]])\n\u001b[0;32m     27\u001b[0m \u001b[38;5;28mprint\u001b[39m(x)\n",
      "\u001b[1;31mTypeError\u001b[0m: 'Fruit' object is not subscriptable"
     ]
    }
   ],
   "source": [
    "class Fruit(object):\n",
    "    '''Класс фрукты'''\n",
    "    data = {}\n",
    "    def __init__(self, name, form, color, massa):\n",
    "        self.name = name\n",
    "        self.form = form\n",
    "        self.color = color\n",
    "        self.massa = massa\n",
    "        \n",
    "    def __str__(self):\n",
    "        return f'{self.name}, {self.form}, {self.color}, {self.massa}'\n",
    "\n",
    "f1=Fruit('Бананорбуз', 'круглый', 'круглый', 20)\n",
    "f2=Fruit('1', '2', '3', 2)\n",
    "f3=Fruit('1', '2', '3', 5)\n",
    "f4=Fruit('1', '2', '3', 11)\n",
    "f5=Fruit('1', '2', '3', 6)\n",
    "\n",
    "fruits = [f1, f2, f3, f4, f5]\n",
    "x=PrettyTable()\n",
    "x.field_names = ['name', 'form', 'color', 'massa']\n",
    "\n",
    "print(f1)\n",
    "for i in range(len(fruits)):\n",
    "    x.add_row([fruits[i]['name'], fruits[i]['form'],fruits[i]['color'], fruits[i]['massa'], fruits[i][4]])\n",
    "    \n",
    "print(x)"
   ]
  },
  {
   "cell_type": "markdown",
   "id": "bfc22118",
   "metadata": {},
   "source": [
    "<p style = \"background:#FF6D72\">&nbsp; Задание 6.</p>\n",
    "\n",
    "Создать класс *Лифт*, объекты которого содержат атрибут текущей грузоподъемности. Разработать метод, который сравнивает текущую грузоподъемность лифта с максимальной грузоподъемностью лифта и дает рекомендации по переполнению или недобору грузоподъемности."
   ]
  },
  {
   "cell_type": "code",
   "execution_count": null,
   "id": "7351357d",
   "metadata": {},
   "outputs": [],
   "source": [
    "# 6.\n"
   ]
  }
 ],
 "metadata": {
  "kernelspec": {
   "display_name": "Python 3 (ipykernel)",
   "language": "python",
   "name": "python3"
  },
  "language_info": {
   "codemirror_mode": {
    "name": "ipython",
    "version": 3
   },
   "file_extension": ".py",
   "mimetype": "text/x-python",
   "name": "python",
   "nbconvert_exporter": "python",
   "pygments_lexer": "ipython3",
   "version": "3.11.5"
  }
 },
 "nbformat": 4,
 "nbformat_minor": 5
}
