{
 "cells": [
  {
   "cell_type": "markdown",
   "metadata": {},
   "source": [
    "# Домашнее задание 7\n",
    "\n",
    "Выполните задания и сохраните в файле с именем в формате *<Фамилия_Имя_Группа_ДЗ_7>.ipynb*"
   ]
  },
  {
   "cell_type": "markdown",
   "metadata": {},
   "source": [
    "### Задание 1\n",
    "\n",
    "Описать процедуру $TrianglePS(a, P, S)$, вычисляющую по стороне $a$ равностороннего треугольника его периметр $P = 3\\cdot{a}$ и площадь $S=\\frac{a^2\\sqrt{3}}{4}$, ($a$ – входной, $P$ и $S$ – выходные параметры; все параметры являются вещественными). С помощью этой процедуры найти периметры и площади трех равносторонних треугольников с данными сторонами. "
   ]
  },
  {
   "cell_type": "code",
   "execution_count": 3,
   "metadata": {},
   "outputs": [
    {
     "name": "stdout",
     "output_type": "stream",
     "text": [
      "{'a': 5, 'S': 10.825317547305483, 'P': 15} {'a': 7, 'S': 21.217622392718745, 'P': 21} {'a': 12, 'S': 62.35382907247958, 'P': 36}\n"
     ]
    }
   ],
   "source": [
    "# 1.\n",
    "import math\n",
    "\n",
    "def TrianglePS(a):\n",
    "    S = ((a**2) * math.sqrt(3))/4\n",
    "    P = 3 * a\n",
    "    return {'a': a,'S': S, 'P': P}\n",
    "\n",
    "print(TrianglePS(5), TrianglePS(7), TrianglePS(12))"
   ]
  },
  {
   "cell_type": "markdown",
   "metadata": {},
   "source": [
    "### Задание 2 ###\n",
    "\n",
    "Описать процедуру $InvertDigits(K)$, меняющую порядок следования цифр целого положительного числа $K$ на обратный ($K$ – параметр целого типа, являющийся одновременно входным и выходным). С помощью этой процедуры поменять порядок следования цифр на обратный для каждого из пяти данных целых чисел."
   ]
  },
  {
   "cell_type": "code",
   "execution_count": 30,
   "metadata": {},
   "outputs": [
    {
     "name": "stdout",
     "output_type": "stream",
     "text": [
      "[0, 4, 1, 5, 3]\n",
      "[7, 0, 2, 8, 5]\n"
     ]
    }
   ],
   "source": [
    "def InvertDigits(K):\n",
    "    return list(reversed(K))\n",
    "\n",
    "print(InvertDigits([3,5,1,4,0]))\n",
    "print(InvertDigits([5,8,2,0,7]))"
   ]
  },
  {
   "cell_type": "markdown",
   "metadata": {},
   "source": [
    "### Задание 3 ###\n",
    "\n",
    "Описать функцию $SumRange(A, B)$ целого типа, находящую сумму всех целых чисел от $A$ до $B$ включительно ($A$ и $B$ – целые). Если $A$ > $B$, то функция возвращает ноль. С помощью этой функции найти суммы чисел от $A$ до $B$ и от $B$ до $C$, если даны числа $A$, $B$, $C$."
   ]
  },
  {
   "cell_type": "code",
   "execution_count": 9,
   "metadata": {},
   "outputs": [
    {
     "name": "stdout",
     "output_type": "stream",
     "text": [
      "44\n",
      "60\n",
      "85\n"
     ]
    }
   ],
   "source": [
    "# 3\n",
    "def SumRange(A, B, suma=0):\n",
    "    if A>B or A==B:\n",
    "        return suma\n",
    "        quit()\n",
    "    else:\n",
    "        return SumRange(A+1, B, suma+A)\n",
    "        \n",
    "print(SumRange(2, 10))\n",
    "print(SumRange(10, 15))\n",
    "print(SumRange(15, 20))"
   ]
  },
  {
   "cell_type": "markdown",
   "metadata": {},
   "source": [
    "### Задание 4 ###\n",
    "\n",
    "Описать функцию $Quarter(x, y)$ целого типа, определяющую номер координатной четверти, в которой находится точка с ненулевыми вещественными координатами $(x, y)$. С помощью этой функции найти номера координатных четвертей для трех точек с данными ненулевыми координатами."
   ]
  },
  {
   "cell_type": "code",
   "execution_count": 32,
   "metadata": {},
   "outputs": [
    {
     "name": "stdout",
     "output_type": "stream",
     "text": [
      "4 четверть\n",
      "2 четверть\n",
      "1 четверть\n",
      "3 четверть\n"
     ]
    }
   ],
   "source": [
    "def Quarter(x,y):\n",
    "    if x>0 and y>0:\n",
    "        return '1 четверть'\n",
    "    elif x<0 and y>0:\n",
    "        return '2 четверть'\n",
    "    elif x<0 and y<0:\n",
    "        return '3 четверть'\n",
    "    else:\n",
    "        return '4 четверть'\n",
    "    \n",
    "print(Quarter(13,-1))\n",
    "print(Quarter(-6,12))\n",
    "print(Quarter(9,2))\n",
    "print(Quarter(-1,-1))"
   ]
  },
  {
   "cell_type": "markdown",
   "metadata": {},
   "source": [
    "### Задание 5 ###\n",
    "\n",
    "Описать функцию $DegToRad(D)$ вещественного типа, находящую величину угла в радианах, если дана его величина $D$ в градусах ($D$ – вещественное число, $0 < D < 360$). Воспользоваться следующим соотношением: $180° = \\pi$ радианов. С помощью функции $DegToRad()$ перевести из градусов в радианы пять данных углов."
   ]
  },
  {
   "cell_type": "code",
   "execution_count": 44,
   "metadata": {},
   "outputs": [
    {
     "name": "stdout",
     "output_type": "stream",
     "text": [
      "1.1666666666666667𝜋 радианов\n",
      "2.0𝜋 радианов\n",
      "3.2222222222222223𝜋 радианов\n",
      "0.5𝜋 радианов\n",
      "0.16666666666666666𝜋 радианов\n"
     ]
    }
   ],
   "source": [
    "import math\n",
    "\n",
    "def DegToRad(D):\n",
    "    return f'{D/180}𝜋 радианов'\n",
    "\n",
    "print(DegToRad(210))\n",
    "print(DegToRad(360))\n",
    "print(DegToRad(580))\n",
    "print(DegToRad(90))\n",
    "print(DegToRad(30))"
   ]
  },
  {
   "cell_type": "markdown",
   "metadata": {},
   "source": [
    "### Задание 6 ###\n",
    "\n",
    "Описать процедуру $DigitCountSum(K, C, S)$, находящую количество $C$ цифр целого положительного числа $K$, а также их сумму $S$ ($K$ – входной, $C$ и $S$ – выходные параметры целого типа). С помощью этой процедуры найти количество и сумму цифр для каждого из пяти данных целых чисел."
   ]
  },
  {
   "cell_type": "code",
   "execution_count": 4,
   "metadata": {},
   "outputs": [
    {
     "name": "stdout",
     "output_type": "stream",
     "text": [
      "(5, 15)\n",
      "(12, 78)\n",
      "(14, 105)\n",
      "(3, 6)\n",
      "(19, 190)\n"
     ]
    }
   ],
   "source": [
    "# 6.\n",
    "def digitCountSum(K, C=0, S=0):\n",
    "    if K==0:\n",
    "        return C, S\n",
    "    else:\n",
    "        return digitCountSum(K-1, C+1, S+K)\n",
    "    \n",
    "print(digitCountSum(5))    \n",
    "print(digitCountSum(12))    \n",
    "print(digitCountSum(14))    \n",
    "print(digitCountSum(3))    \n",
    "print(digitCountSum(19))"
   ]
  }
 ],
 "metadata": {
  "kernelspec": {
   "display_name": "Python 3 (ipykernel)",
   "language": "python",
   "name": "python3"
  },
  "language_info": {
   "codemirror_mode": {
    "name": "ipython",
    "version": 3
   },
   "file_extension": ".py",
   "mimetype": "text/x-python",
   "name": "python",
   "nbconvert_exporter": "python",
   "pygments_lexer": "ipython3",
   "version": "3.11.4"
  }
 },
 "nbformat": 4,
 "nbformat_minor": 4
}
