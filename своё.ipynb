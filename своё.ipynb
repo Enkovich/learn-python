{
 "cells": [
  {
   "cell_type": "code",
   "execution_count": 2,
   "id": "27bbdab5",
   "metadata": {},
   "outputs": [
    {
     "name": "stdout",
     "output_type": "stream",
     "text": [
      "[]\n"
     ]
    }
   ],
   "source": [
    "import requests\n",
    "from IPython.display import clear_output\n",
    "\n",
    "#print(requests.get('http://localhost:3000/users'))\n",
    "def userList():\n",
    "    clearOutput()\n",
    "    print(requests.get('http://localhost:3000/users').json())\n",
    "    \n",
    "def addUser(user={}): \n",
    "    requests.post('http://localhost:3000/users', data=user)\n",
    "    \n",
    "def clearOutput(): clear_output()\n",
    "    \n",
    "while True:\n",
    "    userList()\n",
    "    addUser({nickname: input(\"Введите\")})"
   ]
  },
  {
   "cell_type": "code",
   "execution_count": 5,
   "id": "89fccaed",
   "metadata": {},
   "outputs": [
    {
     "name": "stdout",
     "output_type": "stream",
     "text": [
      "Requirement already satisfied: numdeclination in c:\\users\\dmitriy\\anaconda3\\lib\\site-packages (0.0.1.0)\n",
      "Note: you may need to restart the kernel to use updated packages.\n"
     ]
    }
   ],
   "source": []
  },
  {
   "cell_type": "markdown",
   "id": "9f01de13",
   "metadata": {},
   "source": [
    "Для Discord"
   ]
  },
  {
   "cell_type": "code",
   "execution_count": 2,
   "id": "f067a223",
   "metadata": {},
   "outputs": [
    {
     "name": "stdout",
     "output_type": "stream",
     "text": [
      "Название игр через \"$ \": CRYPTARK\n",
      "Название игр через \"$\", которые недоступны для получения в РФ: \n",
      "Магазин игр: Steam\n",
      "Время в формате unix: 1697907600\n",
      "Ссылка № 1: https://store.steampowered.com/app/344740/CRYPTARK/\n"
     ]
    },
    {
     "data": {
      "text/plain": [
       "<Response [204]>"
      ]
     },
     "execution_count": 2,
     "metadata": {},
     "output_type": "execute_result"
    }
   ],
   "source": [
    "#### from tkinter import *\n",
    "import requests\n",
    "from numdeclination import NumDeclination\n",
    "\n",
    "url = ('https://discord.com/api/webhooks/1072247848378310726/3OTsT5TmdGiKkMRD9DrSLe1sLQgh1g7K9DPsxnaj8mw8ezbAfKQIBLwTs8AYxPeEU5pZ')\n",
    "#url = 'https://discord.com/api/webhooks/1105495401236283423/hToq_jo-DBIi6FuRMa3C6OEhCNz-HK4JBKYm03qVtDKy4msVlzxXAF2GRmnsQshE5YN9'\n",
    "gamesList = input('Название игр через \"$ \": ').split(\"$\")\n",
    "blockedGamesList = input('Название игр через \"$\", которые недоступны для получения в РФ: ').split(\"$\")\n",
    "store = input('Магазин игр: ')\n",
    "storeLinks = []\n",
    "content = \"\"\n",
    "time = input('Время в формате unix: ')\n",
    "storeLinks = []\n",
    "\n",
    "#Ввод ссылок\n",
    "for i in range(len(gamesList)):\n",
    "    tempStr = input(f'Ссылка № {i+1}: ')\n",
    "    storeLinks.append(tempStr)\n",
    "\n",
    "#Генерация список раздаваемых игр\n",
    "for i in range(len(gamesList)):\n",
    "    if(len(gamesList)==1):\n",
    "        content+=f\"**{gamesList[i]}** \"\n",
    "    else:\n",
    "        if i+1==len(gamesList):\n",
    "            content+=f\" и **{gamesList[i]}** \"\n",
    "        elif i==0:\n",
    "            content+=f\"**{gamesList[i]}**\"\n",
    "        else:\n",
    "            content+=f\", **{gamesList[i]}**\"\n",
    "        \n",
    "#Шаблон после списка\n",
    "content+=f\"раздают бесплатно в {store}\"\n",
    "\n",
    "#Дата окончания раздачи\n",
    "if(time!=''):\n",
    "    content+=f' до <t:{time}>'\n",
    "content+='\\n'\n",
    "\n",
    "#Список игр запрещённых для получения на российские акки и вставка шаблона\n",
    "if(len(blockedGamesList)>0 and blockedGamesList[0]!=''):\n",
    "    if len(blockedGamesList)==len(gamesList):\n",
    "        content+=\"\\n**Внимание! Раздача недоступна на территории РФ**\\n\"\n",
    "    else:\n",
    "        blockContent ='\\n**Внимание!** '\n",
    "        for i in range(len(blockedGamesList)):\n",
    "            if(len(blockedGamesList)==1):\n",
    "                blockContent+=f\"**{blockedGamesList[i]}** \"\n",
    "            else:\n",
    "                if i+1==len(blockedGamesList):\n",
    "                    blockContent+=f\" и **{blockedGamesList[i]}** \"\n",
    "                elif i==0:\n",
    "                    blockContent+=f\"**{blockedGamesList[i]}**\"\n",
    "                else:\n",
    "                    blockContent+=f\", **{blockedGamesList[i]}**\"\n",
    "                \n",
    "        if(len(blockedGamesList)==1):\n",
    "            content+=blockContent+\"недоступна для получения в РФ!\\n\"\n",
    "        else:\n",
    "            content+=blockContent+\"недоступны для получения в РФ!\\n\"\n",
    "    \n",
    "#Вставка ссылок на раздаваемые игры\n",
    "for i in range(len(storeLinks)):\n",
    "    content+=f\"\\n{storeLinks[i]}\"\n",
    "        \n",
    "requests.post(url, {'content': content})\n",
    "\n",
    "nd = NumDeclination()\n",
    "converted = nd.declinate(len(gamesList), [\"новая\", \"новые\", \"новых\"], type = 1)\n",
    "converted1 = nd.declinate(len(gamesList), [\"раздача\", \"раздачи\", \"раздач\"], type = 1)\n",
    "requests.post(url, {'content': f'<@&1105127326896881674> {len(gamesList)} {converted.word} {converted1.word} в {store}'})"
   ]
  }
 ],
 "metadata": {
  "kernelspec": {
   "display_name": "Python 3 (ipykernel)",
   "language": "python",
   "name": "python3"
  },
  "language_info": {
   "codemirror_mode": {
    "name": "ipython",
    "version": 3
   },
   "file_extension": ".py",
   "mimetype": "text/x-python",
   "name": "python",
   "nbconvert_exporter": "python",
   "pygments_lexer": "ipython3",
   "version": "3.11.4"
  }
 },
 "nbformat": 4,
 "nbformat_minor": 5
}
