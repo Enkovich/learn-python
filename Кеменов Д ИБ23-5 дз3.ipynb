{
 "cells": [
  {
   "cell_type": "raw",
   "id": "7374f79d",
   "metadata": {},
   "source": [
    "1 +\n",
    "2 +\n",
    "3\n",
    "4\n",
    "5\n",
    "6 + "
   ]
  },
  {
   "cell_type": "markdown",
   "id": "97518b57",
   "metadata": {},
   "source": [
    "# Домашнее задание 3"
   ]
  },
  {
   "cell_type": "markdown",
   "id": "c35fc356",
   "metadata": {},
   "source": [
    "<p style = \"background:powderblue\">1. Матрица индексов</p>\n",
    "\n",
    "Программа получает на вход две целочисленные переменные $m, n$. Создайте матрицу $M$ размера $m \\times n$, в каждой строке которой $n$ раз повторяются индексы строки.\n",
    "\n",
    "Пример. Матрица $3 \\times 4$\n",
    "$$\n",
    "M_{m,n} = \n",
    " \\begin{pmatrix}\n",
    "  0 & 0 & 0 & 0 \\\\\n",
    "  1 & 1 & 1 & 1 \\\\\n",
    "  2 & 2 & 2 & 2 \\\\\n",
    " \\end{pmatrix}\n",
    "$$"
   ]
  },
  {
   "cell_type": "code",
   "execution_count": 16,
   "id": "e5c423a4",
   "metadata": {},
   "outputs": [
    {
     "name": "stdout",
     "output_type": "stream",
     "text": [
      "rows in matrix: 4\n",
      "cols in matrix: 6\n",
      "\n",
      "\n",
      "\n",
      "0 0 0 0 0 0 \n",
      "1 1 1 1 1 1 \n",
      "2 2 2 2 2 2 \n",
      "3 3 3 3 3 3 \n"
     ]
    }
   ],
   "source": [
    "rows = int(input(\"rows in matrix: \"))\n",
    "cols = int(input(\"cols in matrix: \"))\n",
    "\n",
    "print(\"\\n\\n\")\n",
    "\n",
    "for i in range(rows):\n",
    "    for n in range(cols):\n",
    "        print(i, end=\" \")\n",
    "    print(\"\")\n"
   ]
  },
  {
   "cell_type": "markdown",
   "id": "3e90af73",
   "metadata": {},
   "source": [
    "<p style = \"background:powderblue\">2. Единичная матрица</p>\n",
    "\n",
    "Дано целое число $n$. Распечатайте матрицу ${n}\\times{n}$, в которой все элементы равны нулю, кроме главной диагонали, на которой стоят единицы. (Главная диагональ квадратной матрицы состоит из элементов с индексами $i$ и $j$, в которых $i=j$. То есть это элементы с индексами 00, 11, 22 и т.д.)"
   ]
  },
  {
   "cell_type": "code",
   "execution_count": 15,
   "id": "2982da51",
   "metadata": {},
   "outputs": [
    {
     "name": "stdout",
     "output_type": "stream",
     "text": [
      "5\n",
      "\n",
      "\n",
      "\n",
      "1 0 0 0 0 \n",
      "0 1 0 0 0 \n",
      "0 0 1 0 0 \n",
      "0 0 0 1 0 \n",
      "0 0 0 0 1 \n"
     ]
    }
   ],
   "source": [
    "n = int(input())\n",
    "print(\"\\n\\n\")\n",
    "\n",
    "for i in range(n):\n",
    "    for j in range(n):\n",
    "        print(1 if i==j else 0, end=\" \")\n",
    "    print(\"\")"
   ]
  },
  {
   "cell_type": "markdown",
   "id": "2bb1e583",
   "metadata": {},
   "source": [
    "<p style = \"background:powderblue\">3. Раскраска шахматной доски</p>\n",
    "\n",
    "В этом задании вам предстоит раскрасить шахматную доску размера $n \\times n$ в черный и белый цвета. Элемент с индексом [0][0] раскрасьте в белый цвет, а далее в шахматном порядке. Для обозначения черного цвета используйте символ \"b\", для обозначения белого цвета — символ \"w\"."
   ]
  },
  {
   "cell_type": "code",
   "execution_count": null,
   "id": "828233b2",
   "metadata": {},
   "outputs": [],
   "source": [
    "# 3. Ваш код здесь\n"
   ]
  },
  {
   "cell_type": "markdown",
   "id": "59166172",
   "metadata": {},
   "source": [
    "<p style = \"background:powderblue\">4. Обратная диагональ матрицы</p>\n",
    "\n",
    "Мы решали задание с заполнением главной диагонали, а теперь нам предстоит сделать аналогичную вещь для обратной (побочной) диагонали. \n",
    "\n",
    "Выведите матрицу размера $n \\times n$ с такими элементами: все значения, стоящие на обратной (побочной) диагонали, равны 1, остальные 0."
   ]
  },
  {
   "cell_type": "code",
   "execution_count": null,
   "id": "ad72a536",
   "metadata": {},
   "outputs": [],
   "source": [
    "# 4. Ваш код здесь\n"
   ]
  },
  {
   "cell_type": "markdown",
   "id": "39e15767",
   "metadata": {},
   "source": [
    "<p style = \"background:powderblue\">5. Два вектора</p>\n",
    "\n",
    "Имеются два $n$–мерных вектора $x$ и $y$, которые задают координаты $n$ точек на плоскости (случайные целые числа). Найти наиболее близкие друг другу точки."
   ]
  },
  {
   "cell_type": "code",
   "execution_count": null,
   "id": "68eff2e8",
   "metadata": {},
   "outputs": [],
   "source": [
    "# 5. Ваш код здесь\n"
   ]
  },
  {
   "cell_type": "markdown",
   "id": "1bba410b",
   "metadata": {},
   "source": [
    "<p style = \"background:powderblue\">6. Високосный год</p>\n",
    "\n",
    "По номеру года определите, является ли данный год високосным. Год является високосным, если его номер кратен 4, но не кратен 100, а также если он кратен 400."
   ]
  },
  {
   "cell_type": "code",
   "execution_count": 13,
   "id": "7875bdad",
   "metadata": {},
   "outputs": [
    {
     "name": "stdout",
     "output_type": "stream",
     "text": [
      "Введите год2024\n",
      "Год 2024 високосный\n"
     ]
    }
   ],
   "source": [
    "years = int(input(\"Введите год\"))\n",
    "\n",
    "if ((years%4==0 and years%100!=0) or years%400==0):\n",
    "    print(f\"Год {years} високосный\")\n",
    "else:\n",
    "    print(f\"Год {years} не високосный\")    "
   ]
  }
 ],
 "metadata": {
  "kernelspec": {
   "display_name": "Python 3 (ipykernel)",
   "language": "python",
   "name": "python3"
  },
  "language_info": {
   "codemirror_mode": {
    "name": "ipython",
    "version": 3
   },
   "file_extension": ".py",
   "mimetype": "text/x-python",
   "name": "python",
   "nbconvert_exporter": "python",
   "pygments_lexer": "ipython3",
   "version": "3.11.4"
  }
 },
 "nbformat": 4,
 "nbformat_minor": 5
}
