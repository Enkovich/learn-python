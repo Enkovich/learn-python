{
 "cells": [
  {
   "cell_type": "markdown",
   "id": "5699e5fc",
   "metadata": {},
   "source": [
    "# Кеменов Дмитрий ИБ23-5"
   ]
  },
  {
   "cell_type": "markdown",
   "id": "f81f319e",
   "metadata": {},
   "source": [
    "<p style = \"background:powderblue\">1. Число дней</p>\n",
    "\n",
    "Напишите программу, которая запрашивает у пользователя количество дней в текущем месяце и сегодняшнее число, а затем выводит текст с информацией о том, сколько дней осталось до конца текущего месяца."
   ]
  },
  {
   "cell_type": "code",
   "execution_count": 1,
   "id": "a824eb22",
   "metadata": {},
   "outputs": [
    {
     "name": "stdout",
     "output_type": "stream",
     "text": [
      "Введите кол-во дней в текущем месяце: 30\n",
      "\n",
      "Введите текущее число: 5\n",
      "Осталось дней:  25\n"
     ]
    }
   ],
   "source": [
    "months = input(\"Введите кол-во дней в текущем месяце: \")\n",
    "currentDay = input(\"\\nВведите текущее число: \")\n",
    "\n",
    "print(\"Осталось дней: \", int(months) - int(currentDay))\n"
   ]
  },
  {
   "cell_type": "markdown",
   "id": "240dba53",
   "metadata": {},
   "source": [
    "<p style = \"background:powderblue\">2. Число квадратов</p>\n",
    "\n",
    "Напишите программу, которая определит, сколько квадратов со стороной $square$ можно разместить в прямоугольнике $side\\_1 \\times side\\_2$. Введите значения $square$, $side\\_1$ и $side\\_2$."
   ]
  },
  {
   "cell_type": "code",
   "execution_count": 3,
   "id": "13452294",
   "metadata": {},
   "outputs": [
    {
     "name": "stdout",
     "output_type": "stream",
     "text": [
      "Сторона квадрата: 4\n",
      "Высота прямоугольника: 8\n",
      "Основание прямоугольника: 11\n",
      "\n",
      "В заданный прямоугольников поместится квадратов  4\n"
     ]
    }
   ],
   "source": [
    "square = int(input(\"Сторона квадрата: \"))\n",
    "side_1 = int(input(\"Высота прямоугольника: \"))\n",
    "side_2 = int(input(\"Основание прямоугольника: \"))\n",
    "\n",
    "print(\"\\nВ заданный прямоугольников поместится заданных квадратов \", (side_1//square)*(side_2//square))"
   ]
  },
  {
   "cell_type": "markdown",
   "id": "0efc17c1",
   "metadata": {},
   "source": [
    "<p style = \"background:powderblue\">3. Цена муки</p>\n",
    "\n",
    "Рисовая мука поступает ежедневно по разной цене. Напишите программу, которая получает от пользователя цену за килограмм рисовой муки, количество ее килограммов в наличии на начало рабочего дня и количество проданных за день килограммов, а затем выводит общую стоимость муки в наличии на начало и конец рабочего дня."
   ]
  },
  {
   "cell_type": "code",
   "execution_count": 7,
   "id": "e3abc5ab",
   "metadata": {
    "scrolled": true
   },
   "outputs": [
    {
     "name": "stdout",
     "output_type": "stream",
     "text": [
      "Цена муки за кг: 529\n",
      "Кол-во муки на начало дня: 25\n",
      "Продано кг муки за день: 3\n",
      "\n",
      "На начало рабочего дня было:  25\n",
      "Общая стоимость муки на начало дня:  13225\n",
      "На конец рабочего дня осталось 22\n",
      "Общая стоимость муки на конец дня  11638\n"
     ]
    }
   ],
   "source": [
    "priceFlour = int(input(\"Цена муки за кг: \"))\n",
    "startDay = int(input(\"Кол-во муки на начало дня: \"))\n",
    "saleFlourDay = int(input(\"Продано кг муки за день: \"))\n",
    "\n",
    "endDay = startDay - saleFlourDay\n",
    "\n",
    "print(\"\\nНа начало рабочего дня было: \", startDay)\n",
    "print(\"Общая стоимость муки на начало дня: \", priceFlour*startDay)\n",
    "print(\"На конец рабочего дня осталось\", endDay)\n",
    "print(\"Общая стоимость муки на конец дня \", priceFlour*endDay)"
   ]
  },
  {
   "cell_type": "markdown",
   "id": "a7119224",
   "metadata": {},
   "source": [
    "<p style = \"background:powderblue\">4. Скобки</p>\n",
    "\n",
    "В выражении `res = 70 / 3 + 4 * 5 % 2` расставьте скобки, не меняя само выражение, так, чтобы переменная `res` приняла значение 0.0."
   ]
  },
  {
   "cell_type": "code",
   "execution_count": 8,
   "id": "87cedb66",
   "metadata": {},
   "outputs": [
    {
     "name": "stdout",
     "output_type": "stream",
     "text": [
      "0.0\n"
     ]
    }
   ],
   "source": [
    "res = 70 / (3 + 4) * 5 % 2\n",
    "print(res)"
   ]
  },
  {
   "cell_type": "markdown",
   "id": "04acab93",
   "metadata": {},
   "source": [
    "<p style = \"background:powderblue\">5. Округление</p>\n",
    "\n",
    "Округлите до большего целого\n",
    "\n",
    "$$ \\frac{e^{\\log_{4}{(x+y)^3}}}{\\sqrt{x \\cdot y}} $$\n",
    "\n",
    "$$ x = 200, y = 181, res = 2023 $$\n",
    "$$ x = 10, y = 15, res = 87 $$"
   ]
  },
  {
   "cell_type": "code",
   "execution_count": 2,
   "id": "0eba7dcd",
   "metadata": {},
   "outputs": [
    {
     "name": "stdout",
     "output_type": "stream",
     "text": [
      "x: 200\n",
      "y: 181\n",
      "res:  2023\n"
     ]
    }
   ],
   "source": [
    "import math\n",
    "x = int(input(\"x: \"))\n",
    "y = int(input(\"y: \"))\n",
    "\n",
    "e = math.exp(math.log((x+y)**3, 4))\n",
    "n_sqrt = math.sqrt(x*y)\n",
    "\n",
    "print(\"res: \", math.ceil(e/n_sqrt))"
   ]
  },
  {
   "cell_type": "markdown",
   "id": "919cffd9",
   "metadata": {},
   "source": [
    "<p style = \"background:powderblue\">6. Ложь - Истина</p>\n",
    "\n",
    "Исправьте программу таким образом, чтобы в результате ее исполнения на экран всегда выводились значения\n",
    "```\n",
    "False\n",
    "True\n",
    "```\n",
    "каждое на отдельной строке.\n",
    "\n",
    "```\n",
    "a = int(input())\n",
    "b = -a\n",
    "\n",
    "print(a == a) # внесите изменения в этой строке\n",
    "print(a < b) # внесите изменения в этой строке\n",
    "```"
   ]
  },
  {
   "cell_type": "code",
   "execution_count": 7,
   "id": "e467d6ea",
   "metadata": {},
   "outputs": [
    {
     "name": "stdout",
     "output_type": "stream",
     "text": [
      "258\n",
      "False\n",
      "True\n"
     ]
    }
   ],
   "source": [
    "a = int(input())\n",
    "b = -a\n",
    "\n",
    "print(a == b)\n",
    "print(a == -b)\n"
   ]
  }
 ],
 "metadata": {
  "kernelspec": {
   "display_name": "Python 3 (ipykernel)",
   "language": "python",
   "name": "python3"
  },
  "language_info": {
   "codemirror_mode": {
    "name": "ipython",
    "version": 3
   },
   "file_extension": ".py",
   "mimetype": "text/x-python",
   "name": "python",
   "nbconvert_exporter": "python",
   "pygments_lexer": "ipython3",
   "version": "3.11.4"
  }
 },
 "nbformat": 4,
 "nbformat_minor": 5
}
