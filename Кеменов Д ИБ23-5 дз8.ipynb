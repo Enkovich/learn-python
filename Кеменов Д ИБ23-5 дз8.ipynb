{
 "cells": [
  {
   "cell_type": "markdown",
   "id": "c412bb87",
   "metadata": {},
   "source": [
    "# Алгоритмы и структуры данных в языке Python\n",
    "\n",
    "# Тема 4. Функции\n",
    "\n",
    "\n",
    "# Домашнее задание 8\n"
   ]
  },
  {
   "cell_type": "markdown",
   "id": "016c3788",
   "metadata": {},
   "source": [
    "<p style=\"font-size:125%\">Задание 1. Сумма вклада</p>\n",
    "\n",
    "Имеется 2 банка. Первый банк ежемесячно начисляет 1.1% от первоначально вложенной суммы (простые проценты). Второй банк ежемесячно начисляет 1% от накопленной к этому моменту суммы (сложные проценты). В каждый из банков в месяц 0 (начальный момент) положили 100 000 руб. Напишите программу, которая выводит на экран в виде таблицы, накопленные в этих банках суммы для 24 месяцев. Определите в программе и выведите на экран в какой банк выгоднее вложить деньги на 1 год и на 2 года."
   ]
  },
  {
   "cell_type": "code",
   "execution_count": null,
   "id": "62855113",
   "metadata": {
    "scrolled": true
   },
   "outputs": [],
   "source": [
    "num1 = 100000\n",
    "num2 = 100000\n",
    "print(0,b1,b2)\n",
    "\n",
    "def vklad(k1, k2, month=1):\n",
    "    k1+=100000.0*0.011\n",
    "    k2+=num2*0.01\n",
    "    print(month, k1, k2)\n",
    "    if month<=24:\n",
    "        vklad(k1, k2, month+1)\n",
    "    \n",
    "    if month==12 or month==24:\n",
    "        if k1>k2:\n",
    "            print(f\"На {month} месяцев выгоднее положить в 1 банк\")\n",
    "        else:\n",
    "            print(f\"На {month} месяцев выгоднее положить в 2 банк\")\n",
    "vklad(num1, num2)"
   ]
  }
 ],
 "metadata": {
  "kernelspec": {
   "display_name": "Python 3 (ipykernel)",
   "language": "python",
   "name": "python3"
  },
  "language_info": {
   "codemirror_mode": {
    "name": "ipython",
    "version": 3
   },
   "file_extension": ".py",
   "mimetype": "text/x-python",
   "name": "python",
   "nbconvert_exporter": "python",
   "pygments_lexer": "ipython3",
   "version": "3.11.4"
  }
 },
 "nbformat": 4,
 "nbformat_minor": 5
}
