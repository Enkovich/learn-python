{
 "cells": [
  {
   "cell_type": "markdown",
   "id": "887e167c",
   "metadata": {},
   "source": [
    "# Домашнее задание по теме 7 \"Введение в объектно-ориентированное программирование\"\n",
    "\n",
    "Выполните домашнее задание и сохраните в контрольной точке электронного курса в файле с именем <Фамилия_Имя_Группа_ДЗ_Номер>.ipynb"
   ]
  },
  {
   "cell_type": "markdown",
   "id": "ac7dcd9f",
   "metadata": {},
   "source": [
    "### Задание 1\n",
    "\n",
    "Опишите класс *Book*, заданный названием *title*, автором *author*, издательством *publisher* и годом издания *year*. Включите в описание класса методы: *\\_\\_str\\_\\_()* для вывода информации о книге на экран; *is_new()* для проверки, является ли книга новой (изданной в последние 5 лет) и *set_genre()*, позволяющий установить жанр книги. Создайте объекты класса и продемонстрируйте работу с ними."
   ]
  },
  {
   "cell_type": "code",
   "execution_count": 1,
   "id": "c2b6801c",
   "metadata": {},
   "outputs": [],
   "source": [
    "class Book(object):\n",
    "    '''Класс Книга'''\n",
    "    dataBook = dict()\n",
    "    def __init__(self, title, autor, publisher, year):\n",
    "        self.title = title\n",
    "        self.autor = autor\n",
    "        self.publisher = publisher\n",
    "        self. year = int(year)\n",
    "        self.dataBook['title'] = title\n",
    "        self.dataBook['autor'] = autor        \n",
    "        self.dataBook['publisher'] = publisher\n",
    "        self.dataBook['year'] = year\n",
    "        self.dataBook['genre'] = 'Не задано'\n",
    "        \n",
    "    def __str__(cls):\n",
    "        return f\"Book:\\n- title: {cls.dataBook['title']}\\n- autor: {cls.dataBook['autor']}\\n- publisher: {cls.dataBook['publisher']}\\n- genre: {cls.dataBook['genre']}\\n- year: {cls.dataBook['year']}\"\n",
    "        \n",
    "    @classmethod\n",
    "    def set_genre(cls, genre):\n",
    "        cls.dataBook['genre'] = genre\n",
    "      \n",
    "    @classmethod\n",
    "    def is_new(cls):\n",
    "        if 2024-cls.dataBook['year']<=5:\n",
    "            return True\n",
    "        else:\n",
    "            return False"
   ]
  },
  {
   "cell_type": "code",
   "execution_count": 4,
   "id": "bae57e58",
   "metadata": {},
   "outputs": [
    {
     "name": "stdout",
     "output_type": "stream",
     "text": [
      "Book:\n",
      "- title: Неизвестная повесть\n",
      "- autor: Вася Пупкин\n",
      "- publisher: Unknown\n",
      "- genre: Не задано\n",
      "- year: 2013\n",
      "False\n",
      "Book:\n",
      "- title: Неизвестная повесть\n",
      "- autor: Вася Пупкин\n",
      "- publisher: Unknown\n",
      "- genre: Неизвестный жанр\n",
      "- year: 2013\n",
      "True\n"
     ]
    }
   ],
   "source": [
    "b1 = Book('Неизвестная повесть', 'Вася Пупкин', 'Unknown', 2013)\n",
    "print(b1)\n",
    "print(b1.is_new())\n",
    "b1.set_genre('Неизвестный жанр')\n",
    "print(b1)\n",
    "\n",
    "b2 = Book('Неизвестная повесть', 'Вася Пупкин', 'Unknown', 2021)\n",
    "print(b2.is_new())"
   ]
  },
  {
   "cell_type": "markdown",
   "id": "27f52f24",
   "metadata": {},
   "source": [
    "### Задание 2\n",
    "\n",
    "Опишите класс *Product*, заданный названием *title*, ценой *price* и количеством *quantity*. Включите в описание класса методы: вывода информации о товаре на экран, проверки, есть ли товар в наличии (количество больше 0) и свойство, позволяющее установить категорию *category* товара. Создайте объекты класса и продемонстрируйте работу с ними."
   ]
  },
  {
   "cell_type": "code",
   "execution_count": null,
   "id": "bd40e3ba",
   "metadata": {},
   "outputs": [],
   "source": [
    "# 2.\n",
    "class Product(object):\n",
    "    '''Класс Продукт'''\n",
    "    dataProd = dict()\n",
    "    def __init__(self, title, price, quantity):\n",
    "        self.title = title\n",
    "        self.price = int(price)\n",
    "        self.quantity = int(quantity)\n",
    "        self.dataProd['title'] = title\n",
    "        self.dataProd['price'] = price\n",
    "        self.dataProd['quantity'] = quantity\n",
    "        self.dataProd['category'] = 'no category'\n",
    "        \n",
    "    def __str__(cls):\n",
    "        return f\"Title: {cls.title}, price: {cls.price}, quantity: {cls.quantity}, category: {cls.category}\"\n",
    "    \n",
    "    @classmethod\n",
    "    def check_quantity(cls):\n",
    "        if cls.dataProd['quantity'] > 0:\n",
    "            return 'Есть в наличии'\n",
    "        else:\n",
    "            return 'Нет на складе'\n",
    "    \n",
    "    @classmethod\n",
    "    def put_category(cls, category):\n",
    "        cls.dataProd['category'] = category"
   ]
  },
  {
   "cell_type": "markdown",
   "id": "3d18264e",
   "metadata": {},
   "source": [
    "### Задание 3\n",
    "\n",
    "Опишите класс *Circle*, заданный радиусом. Включите в описание класса методы: вывода информации о круге на экран, расчета длины окружности и площади круга и свойство, позволяющее установить цвет круга. Создайте объекты класса и продемонстрируйте работу с ними."
   ]
  },
  {
   "cell_type": "code",
   "execution_count": 5,
   "id": "d5fa4afb",
   "metadata": {},
   "outputs": [
    {
     "name": "stdout",
     "output_type": "stream",
     "text": [
      "R=5; L=31.41592653589793; S=15.707963267948966; цвет(HEX)=#000000\n"
     ]
    }
   ],
   "source": [
    "import math\n",
    "class Circle(object):\n",
    "    '''Класс Круг'''\n",
    "    def __init__(self, rad, color):\n",
    "        self.rad = rad\n",
    "        self.color = color\n",
    "        \n",
    "    def __str__(self):\n",
    "        return f\"R={self.rad}; L={2*math.pi*self.rad}; S={math.pi*self.rad}; цвет(HEX)=#{self.color}\"\n",
    "    \n",
    "circle = Circle(5, '000000')\n",
    "print(circle)"
   ]
  },
  {
   "cell_type": "markdown",
   "id": "f73cc75c",
   "metadata": {},
   "source": [
    "### Задание 4\n",
    "\n",
    "Создайте класс *Автомобиль*, заданный свойствами марка, модель, год выпуска. Создайте дочерние классы *Легковой автомобиль* (марка, модель, год выпуска, тип кузова), *Грузовой автомобиль* (марка, модель, год выпуска, грузоподъемность), *Автобус* (марка, модель, год выпуска, количество мест) со своими методами вывода информации на экран. Создайте список автомобилей, выведите полную информацию из базы на экран, а также организуйте поиск автомобилей с заданной маркой или годом выпуска."
   ]
  },
  {
   "cell_type": "code",
   "execution_count": 13,
   "id": "2a32c123",
   "metadata": {},
   "outputs": [],
   "source": [
    "class Auto(object):\n",
    "    '''класс автомобиль'''\n",
    "    def __init__(self, marka, model, year):\n",
    "        self.marka = marka\n",
    "        self.model = model\n",
    "        self.year = year\n",
    "        \n",
    "    def __str__(self):\n",
    "        return f'Mark - {self.mar}, model - {self.model}, year - {self.year}'"
   ]
  },
  {
   "cell_type": "code",
   "execution_count": 14,
   "id": "b69ced60",
   "metadata": {},
   "outputs": [],
   "source": [
    "class Car(Auto):\n",
    "    '''Класс Легковой автомобиль'''\n",
    "    def __init__(self, marka, model, year, typeCuz):\n",
    "        super().__init__(marka, model, year)\n",
    "        self.typeCuz = typeCuz\n",
    "        \n",
    "    def __str__(self):\n",
    "        return f'Mark - {self.marka}, model - {self.model}, year - {self.year}, type cuzov - {self.typeCuz}'"
   ]
  },
  {
   "cell_type": "code",
   "execution_count": 15,
   "id": "584e7299",
   "metadata": {},
   "outputs": [],
   "source": [
    "class FreightCar(Auto):\n",
    "    '''класс Грузовой автомобиль'''\n",
    "    def __init__(self, marka, model, year, capacity):\n",
    "        super().__init__(marka, model, year)\n",
    "        self.capacity = capacity\n",
    "        \n",
    "    def __str__(self):\n",
    "        return f'Mark - {self.marka}, model - {self.model}, year - {self.year}, capacity - {self.capacity}'"
   ]
  },
  {
   "cell_type": "code",
   "execution_count": 16,
   "id": "799e6063",
   "metadata": {},
   "outputs": [],
   "source": [
    "class Bus(Auto):\n",
    "    '''класс автобус'''\n",
    "    def __init__(self, marka, model, year, quantity):\n",
    "        super().__init__(marka, model, year)\n",
    "        self.quantity = quantity\n",
    "        \n",
    "    def __str__(self):\n",
    "        return f'Mark - {self.marka}, model - {self.model}, year - {self.year}, number of seats - {self.quantity}'"
   ]
  },
  {
   "cell_type": "code",
   "execution_count": 17,
   "id": "bb68f940",
   "metadata": {},
   "outputs": [
    {
     "name": "stdout",
     "output_type": "stream",
     "text": [
      "Mark - mark1, model - mark one, year - 2024, type cuzov - Тяжёлый\n",
      "Mark - mark2, model - mark one, year - 2021, capacity - 200\n",
      "Mark - mark2, model - mark one, year - 2021, number of seats - 65\n"
     ]
    }
   ],
   "source": [
    "#tests\n",
    "a1c = Car('mark1', 'mark one', 2024, 'Тяжёлый')\n",
    "a2F = FreightCar('mark2', 'mark one', 2021, 200)\n",
    "a3B = Bus('mark2', 'mark one', 2021, 65)\n",
    "\n",
    "cars = [a1c, a2F, a3B]\n",
    "for elem in cars:\n",
    "    print(elem)"
   ]
  },
  {
   "cell_type": "markdown",
   "id": "4b880bb9",
   "metadata": {},
   "source": [
    "### Задание 5\n",
    "\n",
    "Создайте класс *Задача* с атрибутами: название, описание и статус (\"выполняется\" или \"выполнена\"). Напишите методы для изменения статуса задачи и вывода информации о задаче в виде «Задача '{название}': {описание}, статус: {статус}». Используйте магический метод *\\_\\_str\\_\\_()* для вывода информации о задаче. Создайте объекты класса и продемонстрируйте работу с ними."
   ]
  },
  {
   "cell_type": "code",
   "execution_count": 7,
   "id": "8054b476",
   "metadata": {},
   "outputs": [
    {
     "name": "stdout",
     "output_type": "stream",
     "text": [
      "Задача '5 задание': решить это задание, статус: False\n",
      "Задача '5 задание': решить это задание, статус: True\n"
     ]
    }
   ],
   "source": [
    "# 5.\n",
    "class Task(object):\n",
    "    '''класс задача'''\n",
    "    def __init__(self, name, descrip, status):\n",
    "        self.name = name\n",
    "        self.descrip = descrip\n",
    "        self.status = status\n",
    "        \n",
    "    def __str__(self):\n",
    "        return f\"Задача '{self.name}': {self.descrip}, статус: {self.status}\"\n",
    "    \n",
    "    def changeStatus(self, status):\n",
    "        if self.status != status:\n",
    "            self.status = status\n",
    "            \n",
    "task = Task('5 задание', 'решить это задание', False)\n",
    "print(task)\n",
    "task.changeStatus(True)\n",
    "print(task)"
   ]
  },
  {
   "cell_type": "markdown",
   "id": "5d4f29a3",
   "metadata": {},
   "source": [
    "### Задание 6\n",
    "\n",
    "Создайте класс *Окружность* и класс *Прямоугольник*, а также методы подсчета периметра этих фигур. Выведите информацию о периметре фигур, используя принцип полиморфизма."
   ]
  },
  {
   "cell_type": "code",
   "execution_count": null,
   "id": "dc34507c",
   "metadata": {},
   "outputs": [],
   "source": [
    "# 6.\n"
   ]
  }
 ],
 "metadata": {
  "kernelspec": {
   "display_name": "Python 3 (ipykernel)",
   "language": "python",
   "name": "python3"
  },
  "language_info": {
   "codemirror_mode": {
    "name": "ipython",
    "version": 3
   },
   "file_extension": ".py",
   "mimetype": "text/x-python",
   "name": "python",
   "nbconvert_exporter": "python",
   "pygments_lexer": "ipython3",
   "version": "3.11.5"
  }
 },
 "nbformat": 4,
 "nbformat_minor": 5
}
