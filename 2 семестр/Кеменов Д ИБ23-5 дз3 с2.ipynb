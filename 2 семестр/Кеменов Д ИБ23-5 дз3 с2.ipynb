{
 "cells": [
  {
   "cell_type": "markdown",
   "id": "887e167c",
   "metadata": {},
   "source": [
    "# Домашнее задание 1 по теме 8 \"Объектно-ориентированное программирование в Python\"\n",
    "\n",
    "Выполните домашнее задание и сохраните в контрольной точке электронного курса в файле с именем <Фамилия_Имя_Группа_ДЗ_3>.ipynb"
   ]
  },
  {
   "cell_type": "markdown",
   "id": "ac7dcd9f",
   "metadata": {},
   "source": [
    "### Задание 1\n",
    "\n",
    "Создайте класс, представляющий банк. Включите методы управления счетами клиентов и транзакциями. Используйте переменные с ограниченным доступом для персональной информации. Создайте объекты класса и продемонстрируйте работу их методов."
   ]
  },
  {
   "cell_type": "code",
   "execution_count": 45,
   "id": "c2b6801c",
   "metadata": {},
   "outputs": [
    {
     "name": "stdout",
     "output_type": "stream",
     "text": [
      "3 5000\n",
      "3 10000\n",
      "3 8000\n",
      "[1, 2, 3, 4, 5]\n"
     ]
    }
   ],
   "source": [
    "# 1.\n",
    "class Bank(object):\n",
    "    '''Класс Банк'''\n",
    "    __accounts = dict()\n",
    "    __personal_data = dict()\n",
    "    __bank_info = dict()\n",
    "    \n",
    "    def __init__(self, username, bank_name, userData={}, bankData={}):\n",
    "        self.add_data(username, bank_name, userData, bankData)\n",
    "        \n",
    "    @classmethod\n",
    "    def add_data(cls, username, bank_name, userData, bankData):\n",
    "        cls.__personal_data[username] = userData\n",
    "        cls.__bank_info[bank_name] = bankData\n",
    "    \n",
    "    @classmethod\n",
    "    def add_account(cls):\n",
    "        temp = list(cls.__accounts.keys())\n",
    "        \n",
    "        if len(temp)>0:\n",
    "            temp = temp[len(temp)-1]+1\n",
    "        else:\n",
    "            temp = 1\n",
    "        \n",
    "        cls.__accounts[temp] = {'cash':0}\n",
    "        \n",
    "    @classmethod\n",
    "    def __str__(cls):\n",
    "        temp = list(cls.__accounts.keys())\n",
    "        return f'{temp}'\n",
    "    \n",
    "    @classmethod\n",
    "    def add_cash(cls, account, cash):\n",
    "        if account in cls.__accounts.keys():\n",
    "            cls.__accounts[account]['cash'] += cash\n",
    "            print(account, cls.__accounts[account]['cash'])\n",
    "    \n",
    "user = {'name': 'Леонид', 'lastname': 'Комбинарев'}\n",
    "bank1 = Bank('badUser', 'badBank', user)\n",
    "bank1.add_account()\n",
    "bank1.add_account()\n",
    "bank1.add_account()\n",
    "bank1.add_account()\n",
    "bank1.add_account()\n",
    "\n",
    "bank1.add_cash(3, 5000)\n",
    "bank1.add_cash(3, 5000)\n",
    "bank1.add_cash(3, -2000)\n",
    "\n",
    "print(bank1)"
   ]
  },
  {
   "cell_type": "markdown",
   "id": "27f52f24",
   "metadata": {},
   "source": [
    "### Задание 2\n",
    "\n",
    "Создайте класс *Поезд* с методами управления перевозками пассажиров и грузов в пассажирских и грузовых вагонах. Установите ограничения на максимальное число вагонов каждого типа и максимальное число вагонов в поезде. Используйте переменные с ограниченгным доступом, где необходимо. При нарушении предельных значений числа вагонов создайте исключение, которое обработайте с помощью блока *try ... except*. Создайте объекты класса и продемонстрируйте работу их методов."
   ]
  },
  {
   "cell_type": "code",
   "execution_count": 11,
   "id": "bd40e3ba",
   "metadata": {},
   "outputs": [
    {
     "name": "stdout",
     "output_type": "stream",
     "text": [
      "Пассажирских вагонов: 5, грузовых вагонов: 3\n"
     ]
    }
   ],
   "source": [
    "class Train(object):\n",
    "    '''Класс Поезд'''\n",
    "    __max_passenger_wagons = False\n",
    "    __max_cargo_wagons = False\n",
    "    __max_total_wagons = False\n",
    "    __passenger_wagons = 0\n",
    "    __cargo_wagons = 0\n",
    "    \n",
    "    def __init__(self, max_passenger_wagons=5, max_cargo_wagons=3, max_total_wagons=8):\n",
    "        self.change_limits(max_passenger_wagons, max_cargo_wagons, max_total_wagons)\n",
    "\n",
    "    @classmethod\n",
    "    def change_limits(cls, max_passenger_wagons, max_cargo_wagons, max_total_wagons):\n",
    "        cls.__max_passenger_wagons = max_passenger_wagons\n",
    "        cls.__max_cargo_wagons = max_cargo_wagons\n",
    "        cls.__max_total_wagons = max_total_wagons\n",
    "        \n",
    "    @classmethod\n",
    "    def add_passenger_wagon(cls):\n",
    "        if cls.__passenger_wagons < cls.__max_passenger_wagons and cls.__passenger_wagons + cls.__cargo_wagons < cls.__max_total_wagons:\n",
    "            cls.__passenger_wagons += 1\n",
    "        else:\n",
    "            raise ValueError(\"Достигнуто максимальное кол-во вагонов пассажирского типа\")\n",
    "\n",
    "    @classmethod\n",
    "    def add_cargo_wagon(cls):\n",
    "        if cls.__cargo_wagons < cls.__max_cargo_wagons and cls.__passenger_wagons + cls.__cargo_wagons < cls.__max_total_wagons:\n",
    "            cls.__cargo_wagons += 1\n",
    "        else:\n",
    "            raise ValueError(\"Достигнуто максимальное кол-во вагонов грузового типа\")\n",
    "\n",
    "    @classmethod\n",
    "    def __str__(cls):\n",
    "        return f\"Пассажирских вагонов: {cls.__passenger_wagons}, грузовых вагонов: {cls.__cargo_wagons}\"\n",
    "            \n",
    "my_train = Train()\n",
    "\n",
    "try:\n",
    "    my_train.add_passenger_wagon()\n",
    "    my_train.add_passenger_wagon()\n",
    "    my_train.add_cargo_wagon()\n",
    "    my_train.add_passenger_wagon()\n",
    "    my_train.add_passenger_wagon()\n",
    "    my_train.add_passenger_wagon()\n",
    "    my_train.add_cargo_wagon()\n",
    "    my_train.add_cargo_wagon()\n",
    "except ValueError as e:\n",
    "    print(e)\n",
    "    \n",
    "print(my_train)"
   ]
  },
  {
   "cell_type": "markdown",
   "id": "3d18264e",
   "metadata": {},
   "source": [
    "### Задание 3\n",
    "\n",
    "Создайте класс *финансовой транзакции* с параметрами времени, суммы, отправителя, получателя, какое устройство использовалось для транзакции (стационарный компьютер, мобильное устройство, банкомат и т.п.), тип браузера, ОС и другими параметрами, можно создать несколько анаонимных параметров *par1*, *par2* и т. д. Создайте методы управления транзакцией и правила выявления мошеннической транзакции. Создайте объекты класса и продемонстрируйте работу их методов."
   ]
  },
  {
   "cell_type": "code",
   "execution_count": 10,
   "id": "d5fa4afb",
   "metadata": {},
   "outputs": [
    {
     "name": "stdout",
     "output_type": "stream",
     "text": [
      "Транзакция. Дата: $5000. От Alice к Bob\n",
      "В транзакции ничего подозрительного не обнаружено\n",
      "Транзакция. Дата: $15000. От unknown к Eve\n",
      "Подозрительная транзакция!\n"
     ]
    }
   ],
   "source": [
    "class FinancialTransaction(object):\n",
    "    '''Класс \"Финансовые транзакции\"'''\n",
    "    def __init__(self, time, amount, sender, receiver, device_used, browser_type, os, **kwargs):\n",
    "        self.time = time\n",
    "        self.amount = amount\n",
    "        self.sender = sender\n",
    "        self.receiver = receiver\n",
    "        self.device_used = device_used\n",
    "        self.browser_type = browser_type\n",
    "        self.os = os\n",
    "        self.additional_params = kwargs\n",
    "        \n",
    "    def __str__(self):\n",
    "        temp = f\"Транзакция. Дата: ${self.amount}. От {self.sender} к {self.receiver}\\n\"\n",
    "        \n",
    "        if self.amount > 10000 and self.device_used == 'unknown':\n",
    "            return f\"{temp}Подозрительная транзакция!\"\n",
    "        else:\n",
    "            return f\"{temp}В транзакции ничего подозрительного не обнаружено\"\n",
    "\n",
    "transaction1 = FinancialTransaction('14.03.2024 12:00:00', 5000, 'Alice', 'Bob', 'mobile device', 'Chrome', 'iOS', par1='value1', par2='value2')\n",
    "transaction2 = FinancialTransaction('15.03.2024 14:00:00', 15000, 'unknown', 'Eve', 'unknown', 'Firefox', 'Windows', par3='value3', par4='value4')\n",
    "\n",
    "print(transaction1)\n",
    "print(transaction2)"
   ]
  }
 ],
 "metadata": {
  "kernelspec": {
   "display_name": "Python 3 (ipykernel)",
   "language": "python",
   "name": "python3"
  },
  "language_info": {
   "codemirror_mode": {
    "name": "ipython",
    "version": 3
   },
   "file_extension": ".py",
   "mimetype": "text/x-python",
   "name": "python",
   "nbconvert_exporter": "python",
   "pygments_lexer": "ipython3",
   "version": "3.11.5"
  }
 },
 "nbformat": 4,
 "nbformat_minor": 5
}
