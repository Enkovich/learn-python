{
 "cells": [
  {
   "cell_type": "markdown",
   "id": "887e167c",
   "metadata": {},
   "source": [
    "# Домашнее задание 1 по теме 8 \"Объектно-ориентированное программирование в Python\"\n",
    "\n",
    "Выполните домашнее задание и сохраните в контрольной точке электронного курса в файле с именем <Фамилия_Имя_Группа_ДЗ_3>.ipynb"
   ]
  },
  {
   "cell_type": "markdown",
   "id": "ac7dcd9f",
   "metadata": {},
   "source": [
    "### Задание 1\n",
    "\n",
    "Создайте класс, представляющий банк. Включите методы управления счетами клиентов и транзакциями. Используйте переменные с ограниченным доступом для персональной информации. Создайте объекты класса и продемонстрируйте работу их методов."
   ]
  },
  {
   "cell_type": "code",
   "execution_count": 45,
   "id": "c2b6801c",
   "metadata": {},
   "outputs": [
    {
     "name": "stdout",
     "output_type": "stream",
     "text": [
      "3 5000\n",
      "3 10000\n",
      "3 8000\n",
      "[1, 2, 3, 4, 5]\n"
     ]
    }
   ],
   "source": [
    "# 1.\n",
    "class Bank(object):\n",
    "    '''Класс Банк'''\n",
    "    __accounts = dict()\n",
    "    __personal_data = dict()\n",
    "    __bank_info = dict()\n",
    "    \n",
    "    def __init__(self, username, bank_name, userData={}, bankData={}):\n",
    "        self.add_data(username, bank_name, userData, bankData)\n",
    "        \n",
    "    @classmethod\n",
    "    def add_data(cls, username, bank_name, userData, bankData):\n",
    "        cls.__personal_data[username] = userData\n",
    "        cls.__bank_info[bank_name] = bankData\n",
    "    \n",
    "    @classmethod\n",
    "    def add_account(cls):\n",
    "        temp = list(cls.__accounts.keys())\n",
    "        \n",
    "        if len(temp)>0:\n",
    "            temp = temp[len(temp)-1]+1\n",
    "        else:\n",
    "            temp = 1\n",
    "        \n",
    "        cls.__accounts[temp] = {'cash':0}\n",
    "        \n",
    "    @classmethod\n",
    "    def __str__(cls):\n",
    "        temp = list(cls.__accounts.keys())\n",
    "        return f'{temp}'\n",
    "    \n",
    "    @classmethod\n",
    "    def add_cash(cls, account, cash):\n",
    "        if account in cls.__accounts.keys():\n",
    "            cls.__accounts[account]['cash'] += cash\n",
    "            print(account, cls.__accounts[account]['cash'])\n",
    "    \n",
    "user = {'name': 'Леонид', 'lastname': 'Комбинарев'}\n",
    "bank1 = Bank('badUser', 'badBank', user)\n",
    "bank1.add_account()\n",
    "bank1.add_account()\n",
    "bank1.add_account()\n",
    "bank1.add_account()\n",
    "bank1.add_account()\n",
    "\n",
    "bank1.add_cash(3, 5000)\n",
    "bank1.add_cash(3, 5000)\n",
    "bank1.add_cash(3, -2000)\n",
    "\n",
    "print(bank1)"
   ]
  },
  {
   "cell_type": "markdown",
   "id": "27f52f24",
   "metadata": {},
   "source": [
    "### Задание 2\n",
    "\n",
    "Создайте класс *Поезд* с методами управления перевозками пассажиров и грузов в пассажирских и грузовых вагонах. Установите ограничения на максимальное число вагонов каждого типа и максимальное число вагонов в поезде. Используйте переменные с ограниченгным доступом, где необходимо. При нарушении предельных значений числа вагонов создайте исключение, которое обработайте с помощью блока *try ... except*. Создайте объекты класса и продемонстрируйте работу их методов."
   ]
  },
  {
   "cell_type": "code",
   "execution_count": null,
   "id": "bd40e3ba",
   "metadata": {},
   "outputs": [],
   "source": [
    "# 2.\n",
    "class Train(object):\n",
    "    '''Класс поезд'''\n",
    "    __max_carriage_inTrain = False\n",
    "    __max_cargo_carriage_inTrain = False\n",
    "    __max_passenger_carriage_inTrain = False\n",
    "    \n",
    "    def __init__(self):\n",
    "        pass"
   ]
  },
  {
   "cell_type": "markdown",
   "id": "3d18264e",
   "metadata": {},
   "source": [
    "### Задание 3\n",
    "\n",
    "Создайте класс *финансовой транзакции* с параметрами времени, суммы, отправителя, получателя, какое устройство использовалось для транзакции (стационарный компьютер, мобильное устройство, банкомат и т.п.), тип браузера, ОС и другими параметрами, можно создать несколько анаонимных параметров *par1*, *par2* и т. д. Создайте методы управления транзакцией и правила выявления мошеннической транзакции. Создайте объекты класса и продемонстрируйте работу их методов."
   ]
  },
  {
   "cell_type": "code",
   "execution_count": null,
   "id": "d5fa4afb",
   "metadata": {},
   "outputs": [],
   "source": [
    "# 3.\n",
    "\n"
   ]
  }
 ],
 "metadata": {
  "kernelspec": {
   "display_name": "Python 3 (ipykernel)",
   "language": "python",
   "name": "python3"
  },
  "language_info": {
   "codemirror_mode": {
    "name": "ipython",
    "version": 3
   },
   "file_extension": ".py",
   "mimetype": "text/x-python",
   "name": "python",
   "nbconvert_exporter": "python",
   "pygments_lexer": "ipython3",
   "version": "3.11.5"
  }
 },
 "nbformat": 4,
 "nbformat_minor": 5
}
