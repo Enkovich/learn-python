{
 "cells": [
  {
   "cell_type": "raw",
   "id": "4265c10f",
   "metadata": {},
   "source": [
    "1 +\n",
    "2 +\n",
    "3 +\n",
    "4 +\n",
    "5 +\n",
    "6 +\n",
    "7 +\n",
    "8 +\n",
    "9 +\n",
    "10 +\n",
    "11\n",
    "12\n",
    "13"
   ]
  },
  {
   "cell_type": "markdown",
   "id": "4e1ae4db",
   "metadata": {},
   "source": [
    "1. Сформировать и вывести на экран список из 5 случайных целых чисел от -10 до 10. Для созданного списка:  1) вычислить среднее арифметическое значение элементов списка;  2) переставить элементы списка в обратном порядке; 2) создать новый список из отрицательных элементов исходного списка. В исходном списке удалить отрицательные элементы. Порядок элементов должен быть сохранен."
   ]
  },
  {
   "cell_type": "code",
   "execution_count": 12,
   "id": "1fb7ba15",
   "metadata": {
    "scrolled": true
   },
   "outputs": [
    {
     "name": "stdout",
     "output_type": "stream",
     "text": [
      "0.0\n",
      "[10, 6, 0, -7, -9]\n",
      "[-9, -7, 0, 6, 10]\n",
      "[-7, -9]\n",
      "[10, 6, 0]\n"
     ]
    }
   ],
   "source": [
    "import random\n",
    "array = []\n",
    "array1 = []\n",
    "summ = 0\n",
    "\n",
    "for i in range(0, 5):\n",
    "    array.append(random.randint(-10, 10))\n",
    "    summ = summ + array[i]\n",
    "    if(array[i]<0):\n",
    "        array1.append(array[i])\n",
    "    \n",
    "print(summ/5)\n",
    "\n",
    "print(sorted(array, reverse=False))\n",
    "print(array1)\n",
    "print(list(filter(lambda x : x >= 0, array)))"
   ]
  },
  {
   "cell_type": "markdown",
   "id": "a31567c0",
   "metadata": {},
   "source": [
    "2. Имеются 2 списка целых чисел, упорядоченные по возрастанию. Получите новый список, содержащий все элементы исходных списков, в котором элементы также упорядочены в порядке возрастания, не используя сортировку. "
   ]
  },
  {
   "cell_type": "code",
   "execution_count": 46,
   "id": "736e801a",
   "metadata": {},
   "outputs": [
    {
     "name": "stdout",
     "output_type": "stream",
     "text": [
      "[-92, -87, -84, -78, -70, -63, -61, -58, -56, -47, -45, -35, -27, -18, 2, 6, 7, 9, 19, 21, 32, 50, 59, 59, 65, 68, 71, 81, 82, 87]\n"
     ]
    }
   ],
   "source": [
    "import random\n",
    "array1 = []\n",
    "array2 = []\n",
    "\n",
    "for i in range(0, 15):\n",
    "    array1.append(random.randint(-100, 100))\n",
    "    array2.append(random.randint(-100, 100))\n",
    "    \n",
    "array1.sort(reverse=False)\n",
    "array2.sort(reverse=False)\n",
    "\n",
    "bigArray = array1 + array2\n",
    "n = 1 \n",
    "while n < len(bigArray):\n",
    "    for i in range(len(bigArray)-n):\n",
    "        if bigArray[i] > bigArray[i+1]:\n",
    "            bigArray[i],bigArray[i+1] = bigArray[i+1],bigArray[i]\n",
    "    n += 1\n",
    "\n",
    "print(bigArray)"
   ]
  },
  {
   "cell_type": "markdown",
   "id": "01e34679",
   "metadata": {},
   "source": [
    "3. Треугольник задан в виде списка координат вершин (вершина представляется в виде списка из двух чисел). Проверьте, действительно ли заданные точки определяют треугольник, вычислите длины сторон, площадь и периметр треугольника"
   ]
  },
  {
   "cell_type": "code",
   "execution_count": 137,
   "id": "1369c0ac",
   "metadata": {},
   "outputs": [
    {
     "name": "stdout",
     "output_type": "stream",
     "text": [
      "4.123105625617661 16.278820596099706 17.029386365926403\n",
      "P = 37.431312587643774\n",
      "S = 33.50000000000004\n"
     ]
    }
   ],
   "source": [
    "import math\n",
    "import random\n",
    "\n",
    "a = [random.randint(-10, 10), random.randint(-10, 10)]\n",
    "b = [random.randint(-10, 10), random.randint(-10, 10)]\n",
    "c = [random.randint(-10, 10), random.randint(-10, 10)]\n",
    "\n",
    "ab = math.sqrt((a[0]-b[0])**2+(a[1]-b[1])**2)\n",
    "ac = math.sqrt((a[0]-c[0])**2+(a[1]-c[1])**2)\n",
    "bc = math.sqrt((b[0]-c[0])**2+(b[1]-c[1])**2)\n",
    "\n",
    "if(ab+ac <= bc):\n",
    "    print(\"Error\")\n",
    "    quit()\n",
    "if(ab+bc <= ac):\n",
    "    print(\"Error\")\n",
    "    quit()\n",
    "if(bc+ac <= ab):\n",
    "    print(\"Error\")\n",
    "    quit()\n",
    "    \n",
    "p = (ab+ac+bc)/2\n",
    "s = math.sqrt(p*(p-ab)*(p-ac)*(p-bc))\n",
    "\n",
    "print(ab, ac, bc)  \n",
    "print(f\"P = {ab+ac+bc}\")\n",
    "print(f\"S = {s}\")"
   ]
  },
  {
   "cell_type": "markdown",
   "id": "851b74fa",
   "metadata": {},
   "source": [
    " 4. Создайте 2 списка из 5 случайных целых чисел от 1 до 10. 1) определите, сколько различных чисел содержат списки; 2) определите, сколько различных чисел содержится одновременно как в первом списке, так и во втором; 3) выведите все числа, которые входят как в первый, так и во второй список в порядке возрастания; 4) удалите из первого списка числа, входящие во второй список.\n",
    " "
   ]
  },
  {
   "cell_type": "code",
   "execution_count": 55,
   "id": "06ceb44b",
   "metadata": {},
   "outputs": [
    {
     "name": "stdout",
     "output_type": "stream",
     "text": [
      "4 5\n",
      "7\n",
      "{1, 2, 3, 4, 5, 8, 10}\n",
      "[2, 10, 8, 8, 5] [1, 10, 4, 2, 3]\n",
      "{8, 5}\n"
     ]
    }
   ],
   "source": [
    "import random\n",
    "array1 = []\n",
    "array2 = []\n",
    "counter1 = 0\n",
    "counter2 = 0\n",
    "array1_1 = []\n",
    "\n",
    "for i in range(0, 5):\n",
    "    array1.append(random.randint(1, 10))\n",
    "    array2.append(random.randint(1, 10))\n",
    "    \n",
    "    counter1 = set(array1)\n",
    "    counter2 = set(array2)\n",
    "    \n",
    "array = set(array1+array2)\n",
    "\n",
    "for i in range(0, 5):\n",
    "    if (array1[i] not in array2):\n",
    "        array1_1.append(array1[i])\n",
    "    \n",
    "\n",
    "    \n",
    "print(len(counter1), len(counter2))\n",
    "print(len(array))\n",
    "print(array)\n",
    "\n",
    "print(array1, array2)\n",
    "print(set(array1_1))"
   ]
  },
  {
   "cell_type": "markdown",
   "id": "3f500c87",
   "metadata": {},
   "source": [
    "5. В произвольной строке, вводимой пользователем, найдите все слова, начинающиеся с гласных букв с использованием регулярного выражения. Представьте ответ в виде списка, состоящего из перевернутых (записанных от конца к началу) найденных слов. Словом в строке считать подстроку, ограниченную пробелами. "
   ]
  },
  {
   "cell_type": "code",
   "execution_count": 94,
   "id": "b7f1339f",
   "metadata": {},
   "outputs": [
    {
     "name": "stdout",
     "output_type": "stream",
     "text": [
      "ауцуаыва уацвааыва цвалыщвывав выаы уув вфыв\n",
      "['авыауцуа', 'авыаавцау', 'вуу']\n"
     ]
    }
   ],
   "source": [
    "import re\n",
    "\n",
    "string = input().lower().split()\n",
    "regex = '^[аеиоуыэюя]'\n",
    "text = []\n",
    "\n",
    "for i in range(len(string)):\n",
    "    if(re.search(regex, string[i])):\n",
    "        tempArr = list(string[i])\n",
    "        tempArr.reverse()\n",
    "        tempArr = \"\".join(tempArr)\n",
    "        text.append(tempArr)\n",
    "\n",
    "print(text)\n",
    "\n",
    "# ауцуаыва уацвааыва цвалыщвывав выаы уув вфыв\n",
    "# ауцуаыва"
   ]
  },
  {
   "cell_type": "markdown",
   "id": "535902f2",
   "metadata": {},
   "source": [
    "6. Запросить у пользователя 2 целых числа и сохранить их в переменных max_val, repeat. Создать список из целых чисел со значениями от 1 до max_val включительно, повторяющийся repeat раз. "
   ]
  },
  {
   "cell_type": "code",
   "execution_count": 17,
   "id": "f9e934d3",
   "metadata": {},
   "outputs": [
    {
     "name": "stdout",
     "output_type": "stream",
     "text": [
      "max_val: 6\n",
      "repeat: 3\n",
      "[1, 2, 3, 4, 5, 6, 1, 2, 3, 4, 5, 6, 1, 2, 3, 4, 5, 6]\n"
     ]
    }
   ],
   "source": [
    "max_val = int(input(\"max_val: \"))\n",
    "repeat = int(input(\"repeat: \"))\n",
    "array = []\n",
    "\n",
    "for i in range(1, max_val+1):\n",
    "    array.append(i)\n",
    "array = array*repeat\n",
    "\n",
    "print(array)"
   ]
  },
  {
   "cell_type": "markdown",
   "id": "33e2a6ae",
   "metadata": {},
   "source": [
    "7. Организовать заполнение списка заданной длины пользователем через input(). Если на вход подается число (целое или через точку), то записывать в список целое число с округлением вверх. Если \"True\" или \"False\", то как boolean. Иначе - как строку. "
   ]
  },
  {
   "cell_type": "code",
   "execution_count": 37,
   "id": "6a1e38c3",
   "metadata": {},
   "outputs": [
    {
     "name": "stdin",
     "output_type": "stream",
     "text": [
      " adsasd asdsadasd 12321213 3211/2/ 3132.7777 12312313,2333 true 13123.1111\n"
     ]
    },
    {
     "name": "stdout",
     "output_type": "stream",
     "text": [
      "['adsasd', 'asdsadasd', 12321213, '3211/2/', 3133, '12312313,2333', True, 13124]\n"
     ]
    }
   ],
   "source": [
    "import math\n",
    "import re\n",
    "\n",
    "tempInp = input().split()\n",
    "array = []\n",
    "\n",
    "for i in range(len(tempInp)):\n",
    "\n",
    "    if(tempInp[i] == \"False\" or tempInp[i]==\"false\"):\n",
    "        array.append(bool(0))\n",
    "    elif(tempInp[i] == \"True\" or tempInp[i]==\"true\"):\n",
    "        array.append(bool(1))\n",
    "    else:\n",
    "        if(not(re.search('[a-zA-Z,/*-+=]', tempInp[i]))):\n",
    "            if(re.search('[.]', tempInp[i])):\n",
    "                array.append(math.ceil(float(tempInp[i])))\n",
    "            else:\n",
    "                array.append(int(tempInp[i]))\n",
    "        else:\n",
    "            array.append(tempInp[i])\n",
    "            \n",
    "print(array)"
   ]
  },
  {
   "cell_type": "markdown",
   "id": "81bb0ade",
   "metadata": {},
   "source": [
    "8. Заданы две заранее неизвестные строки в которых слова разделены пробелами. Из двух строк составить одну, в котрой слова из первой и второй строки будут чередоваться при этом порядок слов будет сохранен. Для преобразований использовать списки слов. Пример: 'один два три', 'альфа бетта гамма' -> 'один альфа два бетта три гамма' ."
   ]
  },
  {
   "cell_type": "code",
   "execution_count": 49,
   "id": "45c6dfc8-5242-4f3a-a496-7c8f90321d3c",
   "metadata": {},
   "outputs": [
    {
     "name": "stdin",
     "output_type": "stream",
     "text": [
      "Строка 1:  один два три\n",
      "Строка 2:  альфа бетта гамма\n"
     ]
    },
    {
     "name": "stdout",
     "output_type": "stream",
     "text": [
      "['один', 'два', 'три'] ['альфа', 'бетта', 'гамма']\n",
      "один альфа два бетта три гамма\n"
     ]
    }
   ],
   "source": [
    "string1 = input(\"Строка 1: \").split()\n",
    "string2 = input(\"Строка 2: \").split()\n",
    "stringAll = []\n",
    "print(string1, string2)\n",
    "\n",
    "i=0\n",
    "\n",
    "for i in range(len(string1)):\n",
    "    stringAll.append(string1[i])\n",
    "    stringAll.append(string2[i])\n",
    "\n",
    "stringAll = ' '.join(stringAll)\n",
    "print(stringAll)"
   ]
  },
  {
   "cell_type": "markdown",
   "id": "d6b88105",
   "metadata": {},
   "source": [
    "9. Пользователь вводит произвольную строку в виде нескольких слов. Составить список, в котором слова находятся в лексикографическом порядке по возрастанию. Составить строку, в которой все слова списка, сформированного ранее, соединены знаком «&». Словом в строке считать подстроку, ограниченную пробелами. "
   ]
  },
  {
   "cell_type": "code",
   "execution_count": 7,
   "id": "30121b93",
   "metadata": {},
   "outputs": [
    {
     "name": "stdout",
     "output_type": "stream",
     "text": [
      "Введите произвольную строку: один альфа два бетта три гамма\n",
      "альфа&бетта&гамма&два&один&три\n"
     ]
    }
   ],
   "source": [
    "string = input(\"Введите произвольную строку: \").split()\n",
    "string.sort()\n",
    "string = \"&\".join(string)\n",
    "\n",
    "#один альфа два бетта три гамма\n",
    "\n",
    "print(string)"
   ]
  },
  {
   "cell_type": "markdown",
   "id": "9f5e100c",
   "metadata": {},
   "source": [
    "10. Имеется предложение, слова в котором, разделяются пробелами. С помощью списков получить слово, состоящее из первых букв слов в предложении. "
   ]
  },
  {
   "cell_type": "code",
   "execution_count": 4,
   "id": "a7aad3bb",
   "metadata": {},
   "outputs": [
    {
     "name": "stdout",
     "output_type": "stream",
     "text": [
      "Введите произвольную строку: Факультет Информационных Технологий и Анализа Больших Данных\n",
      "ФИТиАБД\n"
     ]
    }
   ],
   "source": [
    "string = input(\"Введите произвольную строку: \").split()\n",
    "\n",
    "word = \"\"\n",
    "for i in range(len(string)):\n",
    "    tempArr = list(string[i])\n",
    "    word = word+tempArr[0]\n",
    "    \n",
    "print(word)"
   ]
  },
  {
   "cell_type": "markdown",
   "id": "d0bfd2c1",
   "metadata": {},
   "source": [
    "11. Дан список А, состоящий из 2N элементов. Разбейте его на списки В и С по N элементов каждый так, чтобы каждый элемент В не превосходил каждого элемента С. "
   ]
  },
  {
   "cell_type": "markdown",
   "id": "06d9433c",
   "metadata": {},
   "source": [
    "12. В списке L имеется 2n + 1 различных элементов. Найдите средний элемент списка. Под средним элементом понимают такой, для которого в списке n элементов больше его и n элементов меньше."
   ]
  },
  {
   "cell_type": "markdown",
   "id": "cd928553",
   "metadata": {},
   "source": [
    "13. Создать в цикле список значений х от -π до +π (с небольшим произвольным шагом). Для заданного списка рассчитать значения функций 𝑦1 = 2𝑠𝑖𝑛𝑥 и 𝑦2 = 𝑐𝑜𝑠2𝑥."
   ]
  },
  {
   "cell_type": "code",
   "execution_count": null,
   "id": "312e2ea3",
   "metadata": {},
   "outputs": [],
   "source": [
    "import math"
   ]
  }
 ],
 "metadata": {
  "kernelspec": {
   "display_name": "Python 3 (ipykernel)",
   "language": "python",
   "name": "python3"
  },
  "language_info": {
   "codemirror_mode": {
    "name": "ipython",
    "version": 3
   },
   "file_extension": ".py",
   "mimetype": "text/x-python",
   "name": "python",
   "nbconvert_exporter": "python",
   "pygments_lexer": "ipython3",
   "version": "3.11.4"
  }
 },
 "nbformat": 4,
 "nbformat_minor": 5
}
