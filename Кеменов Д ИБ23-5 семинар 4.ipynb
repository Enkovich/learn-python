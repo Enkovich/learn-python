{
 "cells": [
  {
   "cell_type": "markdown",
   "id": "619aa0fe",
   "metadata": {},
   "source": [
    "1. Создать матрицу из n строк и m столбцов (n=5, m=6). Заполнить матрицу случайными целыми числами от -10 до 10. Вывести матрицу на экран. Для созданной матрицы: \n",
    "1) вычислить количество строк, содержащих нули; \n",
    "2) проверить, есть ли в исходной матрице одинаковые строки; \n",
    "3) вычислить транспонированную матрицу; \n",
    "4) удалить строку и столбец с заданными номерами. Номера строки и столбца вводятся; \n",
    "5) вставить строку и столбец с заданными номерами. Номера вводятся. Строку и столбец заполнить нулями. "
   ]
  },
  {
   "cell_type": "code",
   "execution_count": 10,
   "id": "94c50254",
   "metadata": {},
   "outputs": [
    {
     "name": "stdout",
     "output_type": "stream",
     "text": [
      "Изначальная матрица:\n",
      "[8, -3, -2, -9, 0, -1]\n",
      "[-2, -9, 7, 1, 7, 2]\n",
      "[-2, 5, 6, 0, -5, 2]\n",
      "[-9, -9, 1, 0, 1, -2]\n",
      "[8, -3, -2, -9, 0, 0]\n",
      "\n",
      "Транспонированная матрица: \n",
      "[8, -2, -2, -9, 8]\n",
      "[-3, -9, 5, -9, -3]\n",
      "[-2, 7, 6, 1, -2]\n",
      "[-9, 1, 0, 0, -9]\n",
      "[0, 7, -5, 1, 0]\n",
      "[-1, 2, 2, -2, 0]\n",
      "Введите номер строки и колонки, которые необходимо удалить (номер строки и колонки через пробел)2 4\n",
      "Введите номер строки и колонки, где необходимо добавить строку (номер строки и колонки через пробел)1 5\n",
      "\n",
      " 4\n",
      "Одинаковых строк нет\n",
      "\n",
      "Конечная матрица:\n",
      "[0, 0, 0, 0, 0, 0]\n",
      "[8, -3, -2, 0, 0, -1]\n",
      "[-2, 5, 6, -5, 0, 2]\n",
      "[-9, -9, 1, 1, 0, -2]\n",
      "[8, -3, -2, 0, 0, 0]\n"
     ]
    }
   ],
   "source": [
    "# import random\n",
    "\n",
    "matrix = [[8, -3, -2, -9, 0, -1],\n",
    "[-2, -9, 7, 1, 7, 2],\n",
    "[-2, 5, 6, 0, -5, 2],\n",
    "[-9, -9, 1, 0, 1, -2],\n",
    "[8, -3, -2, -9, 0, -0]]\n",
    "editMatrix = []\n",
    "count = 0\n",
    "doubleRows = False\n",
    "matrixT = []\n",
    "\n",
    "print(\"Изначальная матрица:\")\n",
    "for n in range(len(matrix)):\n",
    "    print(matrix[n])\n",
    "    \n",
    "#генерация строк для транспонированой матрицы\n",
    "for i in range(len(matrix[0])):\n",
    "    matrixT.append([])\n",
    "\n",
    "#обработка матрицы\n",
    "for i in range(len(matrix)):\n",
    "    inZero = False\n",
    "    for j in range(len(matrix[i])):\n",
    "        matrixT[j].append(matrix[i][j])\n",
    "        if(matrix[i][j]==0): inZero = True\n",
    "    if(inZero == True): count +=1\n",
    "\n",
    "#проверка матрицы на наличие одинаковых строк\n",
    "for i in range(len(matrix)):\n",
    "    for j in range(len(matrix)):\n",
    "        checkStatus = True\n",
    "        for k in range(len(matrix[j])):\n",
    "            if(i==j):\n",
    "                checkStatus = bool(0)\n",
    "                break\n",
    "            if(matrix[i][k]!=matrix[j][k]):\n",
    "                checkStatus = bool(0)\n",
    "                break\n",
    "        if(checkStatus==True): doubleRows = bool(1)\n",
    "            \n",
    "\n",
    "#распечатывание транспонированной матриц\n",
    "print('\\nТранспонированная матрица: ')\n",
    "for i in range(len(matrixT)):\n",
    "    print(matrixT[i])\n",
    "\n",
    "#удаление строки и столбца\n",
    "delColsRows = input(\"Введите номер строки и колонки, которые необходимо удалить (номер строки и колонки через пробел)\").split()\n",
    "for i in range(len(matrix)):\n",
    "    matrix[i].pop(int(delColsRows[1])-1)\n",
    "matrix.pop(int(delColsRows[0])-1)\n",
    "\n",
    "#добавление строк и колонок в матрицу\n",
    "addColsRows = input(\"Введите номер строки и колонки, где необходимо добавить строку (номер строки и колонки через пробел)\").split()\n",
    "for i in range(len(matrix)):\n",
    "    matrix[i].insert(int(addColsRows[1])-1, 0)\n",
    "matrix.insert(int(addColsRows[0])-1, [0 for _ in range(len(matrix[0]))])\n",
    "\n",
    "#вывод информации\n",
    "print('\\n', count)\n",
    "doubleRowsText = \"Одинаковые строки имеются\" if doubleRows == True else \"Одинаковых строк нет\"\n",
    "print(doubleRowsText)\n",
    "\n",
    "print(\"\\nКонечная матрица:\")\n",
    "for n in range(len(matrix)):\n",
    "    print(matrix[n])"
   ]
  },
  {
   "cell_type": "markdown",
   "id": "0fed3715",
   "metadata": {},
   "source": [
    " 2. Результат сессии, состоящей из 3 экзаменов (История, Алгебра, Информатика), для студента задается в виде списка, содержащего фамилию студента и 3 оценки по пятибалльной системе (0-неявка, 2-неудовл., 3-удовл., 4-хорошо, 5-отлично). Результаты группы сохраняются в виде списка списков указанного вида. Для группы выведите на экран: \n",
    " 1) таблицу с результатами экзаменов; \n",
    " 2) фамилии студентов, имеющих задолженности, и названия несданных ими предметов; \n",
    " 3) средний балл по каждой дисциплин;\n",
    " 4) количество неявок, неудовлетворительных, удовлетворительных, хороших и отличных оценок по дисциплине Информатика.\n"
   ]
  },
  {
   "cell_type": "code",
   "execution_count": 4,
   "id": "e32b6861",
   "metadata": {},
   "outputs": [
    {
     "name": "stdout",
     "output_type": "stream",
     "text": [
      "[[0, 2, 3, 1], [1, 4, 2, 4], [2, 4, 3, 0], [3, 2, 4, 1], [4, 0, 1, 4], [5, 1, 2, 3]] \n",
      "\n",
      "Попов Евгений Дмитриевич: История - 3, Алгебра - 4, Информатика - 2\n",
      "Макаров Даниил Станиславович: История - 5, Алгебра - 3, Информатика - 5\n",
      "Мальцев Михаил Евгеньевич: История - 5, Алгебра - 4, Информатика - 0\n",
      "Рогозянов Матвей Сергеевич: История - 3, Алгебра - 5, Информатика - 2\n",
      "Ахметов Богдан Русланович: История - 0, Алгебра - 2, Информатика - 5\n",
      "Биндяк Римма Владимировна: История - 2, Алгебра - 3, Информатика - 4\n",
      "Сводка по информатике: неявок - 1, '2' - 2, '3' - 0, '4' - 1, '5' - 2,\n",
      "\n",
      "Задолжености: \n",
      "Попов Евгений Дмитриевич - Информатика, \n",
      "Мальцев Михаил Евгеньевич - Информатика, \n",
      "Рогозянов Матвей Сергеевич - Информатика, \n",
      "Ахметов Богдан Русланович - История, Алгебра, \n",
      "Биндяк Римма Владимировна - История, \n",
      "[[18, 5], [21, 6], [18, 5]]\n",
      "\n",
      "Средние баллы: История - 3.6, Алгебра - 3.5, Информатика - 3.6\n"
     ]
    }
   ],
   "source": [
    "import random\n",
    "\n",
    "items = ['История', 'Алгебра', 'Информатика']\n",
    "num = [0, 2, 3, 4, 5]\n",
    "students_list = ['Попов Евгений Дмитриевич', 'Макаров Даниил Станиславович', \n",
    "                'Мальцев Михаил Евгеньевич', 'Рогозянов Матвей Сергеевич', \n",
    "                 'Ахметов Богдан Русланович', 'Биндяк Римма Владимировна']\n",
    "data = []\n",
    "items_summ = [[0,0], [0,0], [0,0]]\n",
    "dataByInfor = [0, 0, 0, 0, 0]\n",
    "debtData = []\n",
    "\n",
    "for i in range(len(students_list)):\n",
    "    tempArr = [i]\n",
    "    tempArr = tempArr + [random.randint(0, 4) for _ in range(3)]\n",
    "    data.append(tempArr)\n",
    "    \n",
    "print(data, '\\n')\n",
    "\n",
    "# Обработка матрицы\n",
    "for i in range(len(data)):\n",
    "    print(f\"{students_list[data[i][0]]}: {items[0]} - {num[data[i][1]]}, {items[1]} - {num[data[i][2]]}, {items[2]} - {num[data[i][3]]}\")\n",
    "    tempArr = []\n",
    "    debt = False\n",
    "\n",
    "    for j in range(len(data[i])-1):\n",
    "        #задолжености\n",
    "        if(data[i][j+1]==0 or data[i][j+1]==1):\n",
    "            if(debt == False): \n",
    "                tempArr.append(data[i][0])\n",
    "                debt = True\n",
    "            tempArr.append(j+1)\n",
    "            \n",
    "    # средний балл по дисциплинам\n",
    "        if(data[i][j+1]!=0):\n",
    "            items_summ[j][0] += num[data[i][j+1]]\n",
    "            items_summ[j][1] += 1\n",
    "    \n",
    "    # сводка по информатике\n",
    "    if(data[i][3]==0): dataByInfor[0]+=1\n",
    "    elif(data[i][3]==1): dataByInfor[1]+=1\n",
    "    elif(data[i][3]==2): dataByInfor[2]+=1\n",
    "    elif(data[i][3]==3): dataByInfor[3]+=1\n",
    "    else: dataByInfor[4]+=1\n",
    "        \n",
    "    if(len(tempArr)>0):\n",
    "        debtData.append(tempArr)\n",
    "\n",
    "print(f\"Сводка по информатике: неявок - {dataByInfor[0]}, '2' - {dataByInfor[1]}, '3' - {dataByInfor[2]}, '4' - {dataByInfor[3]}, '5' - {dataByInfor[4]},\")\n",
    "#вывод данных по задолженостям\n",
    "if(len(debtData)>0):\n",
    "    print(\"\\nЗадолжености: \")\n",
    "    for i in range(len(debtData)):\n",
    "        print(f\"{students_list[debtData[i][0]]}\", end=\" - \")\n",
    "        for j in range(len(debtData[i])-1):\n",
    "            print(f\"{items[debtData[i][j+1]-1]}\", end=\", \")\n",
    "        print(\"\")\n",
    "        \n",
    "#выод среднего балла по предметам\n",
    "print(items_summ)\n",
    "print(f\"\\nСредние баллы: {items[0]} - {items_summ[0][0]/items_summ[0][1]}, {items[1]} - {items_summ[1][0]/items_summ[1][1]}, {items[2]} - {items_summ[2][0]/items_summ[2][1]}\")"
   ]
  },
  {
   "cell_type": "markdown",
   "id": "dfbcac08",
   "metadata": {},
   "source": [
    "3. Задан список с вложенными списками (элементы - числа). Для всех списков с длиной больше 3: оставить только три первых элемента, прибавив к третьему все удаленные элементы. Например, из [[1,2], [3,4,4,3,1], [4,1,4,5]] получить [[1, 2], [3, 4, 8], [4, 1, 9]]. "
   ]
  },
  {
   "cell_type": "code",
   "execution_count": 14,
   "id": "ec3689bf",
   "metadata": {},
   "outputs": [
    {
     "name": "stdout",
     "output_type": "stream",
     "text": [
      "[[1, 2], [3, 4, 8], [4, 1, 9]]\n"
     ]
    }
   ],
   "source": [
    "arr = [[1,2], [3,4,4,3,1], [4,1,4,5]]\n",
    "arr1 = []\n",
    "\n",
    "for i in range(len(arr)):\n",
    "    summ = 0\n",
    "    arr1.append([])\n",
    "    for j in range(len(arr[i])):\n",
    "        if(j <= 1):\n",
    "            arr1[i].append(arr[i][j])\n",
    "        else:\n",
    "            summ = summ+arr[i][j]\n",
    "    if(len(arr[i])>2):\n",
    "        arr1[i].append(summ)\n",
    "        \n",
    "print(arr1)"
   ]
  },
  {
   "cell_type": "markdown",
   "id": "57c82f8e",
   "metadata": {},
   "source": [
    "4. Реализовать умножение двух матриц, записанных как список списков. "
   ]
  },
  {
   "cell_type": "code",
   "execution_count": 16,
   "id": "534ded1d",
   "metadata": {},
   "outputs": [
    {
     "name": "stdout",
     "output_type": "stream",
     "text": [
      "[[5, -5, 7], [-3, 21, 3], [3, -6, 3]]\n"
     ]
    }
   ],
   "source": [
    "import random\n",
    "\n",
    "matrix1 = [\n",
    "    [4, -1],\n",
    "    [-6, -3],\n",
    "    [3, 0]\n",
    "]\n",
    "matrix2 = [\n",
    "    [1, -2, 1],\n",
    "    [-1, -3, -3]\n",
    "]\n",
    "matrix3 = []\n",
    "\n",
    "#Проверка условия умножения матриц\n",
    "if(len(matrix1[0])==len(matrix2)):\n",
    "    #Создание матрицы нужного размера для ответа\n",
    "    for i in range(len(matrix1)):\n",
    "        matrix3.append([0 for _ in range(len(matrix2[0]))])\n",
    "        \n",
    "    #умножение матрицы\n",
    "    for i in range(len(matrix1)):\n",
    "        for j in range(len(matrix2[0])):\n",
    "            for k in range(len(matrix2)):\n",
    "                matrix3[i][j] += matrix1[i][k] * matrix2[k][j]\n",
    "    print(matrix3)\n",
    "else: \n",
    "    print(\"Матрицы нельзя перемножить\")"
   ]
  },
  {
   "cell_type": "markdown",
   "id": "998b14e3",
   "metadata": {},
   "source": [
    "5. Используя распаковку из списка списков сделать список, содержащий последовательность первых и последних значений вложенных списков и сохраняющий порядок их следования. Пример: [[1, 2, 3], [4, 5, 6, 7], [9, 2]] -> [1, 3, 4, 7, 9, 2] "
   ]
  },
  {
   "cell_type": "code",
   "execution_count": 4,
   "id": "466e4233",
   "metadata": {},
   "outputs": [
    {
     "name": "stdout",
     "output_type": "stream",
     "text": [
      "[1, 3, 4, 7, 9, 2]\n"
     ]
    }
   ],
   "source": [
    "arr = [[1, 2, 3], [4, 5, 6, 7], [9, 2]]\n",
    "arrAnswer = []\n",
    "\n",
    "for i in range(len(arr)):\n",
    "    \n",
    "    if(len(arr[i])>2):\n",
    "        a, *temp, b = arr[i]\n",
    "    else:\n",
    "        a, b = arr[i]\n",
    "    arrAnswer.append(a)\n",
    "    arrAnswer.append(b)\n",
    "print(arrAnswer)"
   ]
  },
  {
   "cell_type": "markdown",
   "id": "9e21c430",
   "metadata": {},
   "source": [
    "6. Результат сессии, состоящей из 3 экзаменов (История, Математика, Информатика), для студента задается в виде списка, содержащего фамилию студента и 3 оценки по пятибалльной системе (0-неявка, 2-неудовл., 3-удовл., 4-хорошо, 5-отлично). Результаты группы сохраняются в виде списка списков указанного вида. Для группы выведите на экран: \n",
    "\n",
    "1) таблицу с результатами экзаменов; \n",
    "2) фамилии студентов, имеющих задолженности, и названия несданных ими предметов; \n",
    "3) количество неявок, неудовлетворительных, удовлетворительных, хороших и отличных оценок по дисциплине Информатика. "
   ]
  },
  {
   "cell_type": "code",
   "execution_count": 18,
   "id": "94e200f9",
   "metadata": {},
   "outputs": [],
   "source": [
    "# См во 2 задание"
   ]
  },
  {
   "cell_type": "markdown",
   "id": "821411ed",
   "metadata": {},
   "source": [
    "7. Создайте матрицу размера 𝑛 × 𝑚 элементами которой являются дни недели, случайно выбранные из списка."
   ]
  },
  {
   "cell_type": "code",
   "execution_count": 12,
   "id": "fc0c4070",
   "metadata": {},
   "outputs": [
    {
     "name": "stdout",
     "output_type": "stream",
     "text": [
      "['Пн', 'Чт', 'Вт', 'Вт', 'Сб', 'Вт', 'Сб', 'Вт', 'Вс']\n",
      "['Пт', 'Ср', 'Сб', 'Пн', 'Пн', 'Ср', 'Сб', 'Вс', 'Пт']\n",
      "['Вс', 'Ср', 'Ср', 'Чт', 'Пн', 'Ср', 'Чт', 'Сб', 'Вт']\n",
      "['Пн', 'Чт', 'Пн', 'Пт', 'Пт', 'Пт', 'Сб', 'Ср', 'Чт']\n",
      "['Ср', 'Сб', 'Вт', 'Вс', 'Пн', 'Пн', 'Вс', 'Пт', 'Пт']\n",
      "['Сб', 'Вт', 'Вс', 'Ср', 'Вс', 'Вс', 'Сб', 'Вс', 'Вс']\n",
      "['Ср', 'Пт', 'Вс', 'Вт', 'Чт', 'Сб', 'Вс', 'Ср', 'Ср']\n"
     ]
    }
   ],
   "source": [
    "import random\n",
    "week = ['Пн','Вт','Ср','Чт','Пт','Сб','Вс']\n",
    "matrix = []\n",
    "m = random.randint(2, 10)\n",
    "n = random.randint(2, 10)\n",
    "\n",
    "for i in range(m):\n",
    "    matrix.append([])\n",
    "    \n",
    "    for j in range(n):\n",
    "        matrix[i].append(week[random.randint(0,6)])\n",
    "        \n",
    "for i in range(len(matrix)):\n",
    "    print(matrix[i])"
   ]
  }
 ],
 "metadata": {
  "kernelspec": {
   "display_name": "Python 3 (ipykernel)",
   "language": "python",
   "name": "python3"
  },
  "language_info": {
   "codemirror_mode": {
    "name": "ipython",
    "version": 3
   },
   "file_extension": ".py",
   "mimetype": "text/x-python",
   "name": "python",
   "nbconvert_exporter": "python",
   "pygments_lexer": "ipython3",
   "version": "3.11.4"
  }
 },
 "nbformat": 4,
 "nbformat_minor": 5
}
