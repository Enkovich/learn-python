{
 "cells": [
  {
   "cell_type": "markdown",
   "id": "2367bc3b",
   "metadata": {},
   "source": [
    "# Домашнее задание 4\n",
    "\n",
    "Файлу с выполненным домашним заданием присвойте имя в формате `Фамилия_Имя_Группа_ДЗ_Номер.ipynb`"
   ]
  },
  {
   "cell_type": "raw",
   "id": "9ad63213",
   "metadata": {},
   "source": [
    "1\n",
    "2 +\n",
    "3\n",
    "4 +\n",
    "5 +\n",
    "6 +"
   ]
  },
  {
   "cell_type": "markdown",
   "id": "bf05624b",
   "metadata": {},
   "source": [
    "<h3 style=\"background:powderblue\">Задача 1 Функция</h3>\n",
    "\n",
    "Для заданной математической функции $y=f(x)$ разработать программу вычисления значения функции на интервале от 3,1 до 6.\n",
    "\n",
    "$$ y = \\frac{x^2-9x+7}{x-3} $$\n"
   ]
  },
  {
   "cell_type": "code",
   "execution_count": null,
   "id": "ceaf806d",
   "metadata": {},
   "outputs": [],
   "source": [
    "#1."
   ]
  },
  {
   "cell_type": "markdown",
   "id": "c250a708",
   "metadata": {},
   "source": [
    "<h3 style=\"background:powderblue\">Задача 2 Денежнея сумма</h3>\n",
    "\n",
    "Известна денежная сумма. Выдать её купюрами 500, 100, и монетами 10 и 1 руб., если это возможно. Например, для выдачи суммы 3875 рублей, потребуется 7 купюр по 500 рублей, 3 купюры по 100 руб., 7 монет по 10 рублей и 5 монет по 1 рублю."
   ]
  },
  {
   "cell_type": "code",
   "execution_count": 1,
   "id": "65ef0810",
   "metadata": {},
   "outputs": [
    {
     "name": "stdout",
     "output_type": "stream",
     "text": [
      "Введите сумму3875\n",
      "Для выдачи 3875 потребуется: '500' - 7, '100' - 3, '10' - 7, '1' - 5,\n"
     ]
    }
   ],
   "source": [
    "# 2.\n",
    "cash = int(input(\"Введите сумму: \"))\n",
    "money = cash\n",
    "billsCoins = [0, 0, 0, 0]\n",
    "\n",
    "while cash != 0 :\n",
    "    if(cash>=500): \n",
    "        cash = cash - 500\n",
    "        billsCoins[0]+=1\n",
    "    elif(cash>=100 and cash < 500):\n",
    "        cash = cash - 100\n",
    "        billsCoins[1]+=1\n",
    "    elif(cash>=10 and cash < 100):\n",
    "        cash = cash - 10\n",
    "        billsCoins[2]+=1\n",
    "    else: \n",
    "        cash = cash - 1\n",
    "        billsCoins[3]+=1\n",
    "        \n",
    "print(f\"Для выдачи {money} потребуется: '500' - {billsCoins[0]}, '100' - {billsCoins[1]}, '10' - {billsCoins[2]}, '1' - {billsCoins[3]},\")"
   ]
  },
  {
   "cell_type": "markdown",
   "id": "14535792",
   "metadata": {},
   "source": [
    "<h3 style=\"background:powderblue\">Задача 3 НОД</h3>\n",
    "\n",
    "Напишите программу, которая находит наибольший общий делитель двух чисел, используя модифицированный алгоритм Евклида: нужно заменять большее число на остаток от деления большего на меньшее до тех пор, пока этот остаток не станет равен нулю; тогда второе и есть НОД."
   ]
  },
  {
   "cell_type": "code",
   "execution_count": null,
   "id": "4d1486d2",
   "metadata": {},
   "outputs": [],
   "source": [
    "# 3."
   ]
  },
  {
   "cell_type": "markdown",
   "id": "3c5d2db3",
   "metadata": {},
   "source": [
    "<h3 style=\"background:powderblue\">Задача 4 Случайные списки</h3>\n",
    "\n",
    "Создайте 2 списка из 5 случайных целых чисел от 1 до 10. \n",
    "- определите, сколько различных чисел содержат списки; \n",
    "- определите, сколько различных чисел содержится одновременно как в первом списке, \n",
    "так и во втором, \n",
    "- выведите все числа, которые входят как в первый, так и во второй список в порядке \n",
    "возрастания, \n",
    "- удалите из первого списка числа, входящие во второй список "
   ]
  },
  {
   "cell_type": "code",
   "execution_count": null,
   "id": "367b659a",
   "metadata": {},
   "outputs": [],
   "source": [
    "import random\n",
    "array1 = []\n",
    "array2 = []\n",
    "array1_1 = []\n",
    "\n",
    "for i in range(0, 5):\n",
    "    array1.append(random.randint(1, 10))\n",
    "    array2.append(random.randint(1, 10))\n",
    "\n",
    "for i in range(0, 5):\n",
    "    if (array1[i] not in array2):\n",
    "        array1_1.append(array1[i])\n",
    "    \n",
    "print(len(set(array1)), len(set(array2)))\n",
    "print(len(set(array1+array2)))\n",
    "print(set(array1+array2))\n",
    "\n",
    "print(array1, array2)\n",
    "print(set(array1_1))"
   ]
  },
  {
   "cell_type": "markdown",
   "id": "ec15f0e8",
   "metadata": {},
   "source": [
    "<h3 style=\"background:powderblue\">Задача 5 Умножение матриц</h3>\n",
    "\n",
    "Реализовать умножение двух матриц, записанных как список списков."
   ]
  },
  {
   "cell_type": "code",
   "execution_count": null,
   "id": "6b185458",
   "metadata": {},
   "outputs": [],
   "source": [
    "# 5.\n",
    "import random\n",
    "\n",
    "matrix1 = [\n",
    "    [4, -1],\n",
    "    [-6, -3],\n",
    "    [3, 0]\n",
    "]\n",
    "matrix2 = [\n",
    "    [1, -2, 1],\n",
    "    [-1, -3, -3]\n",
    "]\n",
    "matrix3 = []\n",
    "\n",
    "#Проверка условия умножения матриц\n",
    "if(len(matrix1[0])==len(matrix2)):\n",
    "    #Создание матрицы нужного размера для ответа\n",
    "    for i in range(len(matrix1)):\n",
    "        matrix3.append([0 for _ in range(len(matrix2[0]))])\n",
    "        \n",
    "    #умножение матрицы\n",
    "    for i in range(len(matrix1)):\n",
    "        for j in range(len(matrix2[0])):\n",
    "            for k in range(len(matrix2)):\n",
    "                matrix3[i][j] += matrix1[i][k] * matrix2[k][j]\n",
    "    print(matrix3)\n",
    "else: \n",
    "    print(\"Матрицы нельзя перемножить\")"
   ]
  },
  {
   "cell_type": "markdown",
   "id": "1fe0d3d6",
   "metadata": {},
   "source": [
    "<h3 style=\"background:powderblue\">Задача 6 Строка с числами</h3>\n",
    "\n",
    "В строке, содержащей последовательность слов, обозначающих числа 'НОЛЬ,ОДИН,ДВА,ТРИ,ЧЕТЫРЕ,ПЯТЬ,ШЕСТЬ,СЕМЬ,ВОСЕМЬ,ДЕВЯТЬ' удалить слова, обозначающие нечетные числа. Ответ представить в виде строки."
   ]
  },
  {
   "cell_type": "code",
   "execution_count": 2,
   "id": "ed80f38b",
   "metadata": {},
   "outputs": [
    {
     "name": "stdout",
     "output_type": "stream",
     "text": [
      "НОЛЬ,ДВА,ЧЕТЫРЕ,ШЕСТЬ,ВОСЕМЬ\n"
     ]
    }
   ],
   "source": [
    "# 6.\n",
    "string = 'НОЛЬ,ОДИН,ДВА,ТРИ,ЧЕТЫРЕ,ПЯТЬ,ШЕСТЬ,СЕМЬ,ВОСЕМЬ,ДЕВЯТЬ'.split(',')\n",
    "string0 = []\n",
    "\n",
    "for i in range(len(string)):\n",
    "    if(i%2==0):\n",
    "        string0.append(string[i])\n",
    "        \n",
    "print(\",\".join(string0))"
   ]
  }
 ],
 "metadata": {
  "kernelspec": {
   "display_name": "Python 3 (ipykernel)",
   "language": "python",
   "name": "python3"
  },
  "language_info": {
   "codemirror_mode": {
    "name": "ipython",
    "version": 3
   },
   "file_extension": ".py",
   "mimetype": "text/x-python",
   "name": "python",
   "nbconvert_exporter": "python",
   "pygments_lexer": "ipython3",
   "version": "3.11.4"
  }
 },
 "nbformat": 4,
 "nbformat_minor": 5
}
