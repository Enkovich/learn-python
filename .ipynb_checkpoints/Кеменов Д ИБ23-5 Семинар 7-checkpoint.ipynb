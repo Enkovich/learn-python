{
 "cells": [
  {
   "cell_type": "markdown",
   "id": "d6b4552b",
   "metadata": {},
   "source": [
    "## Алгоритмы и структуры данных в языке Python\n",
    "\n",
    "## Семинар 7\n",
    "\n",
    "Выполните задания семинара и сохраните в файле с имененем в формате `Фамилия_Имя_Группа_Семинар_7.ipynb`. Загрузите этот файл в контрольную точку электронного учебного курса."
   ]
  },
  {
   "cell_type": "code",
   "execution_count": null,
   "id": "c4d1a7f9",
   "metadata": {},
   "outputs": [],
   "source": [
    "from random import randint"
   ]
  },
  {
   "cell_type": "markdown",
   "id": "f9249c2c",
   "metadata": {},
   "source": [
    "<p style=\"background:#F0A5FF; font-weight:bold\">Задача 1</p>\n",
    "\n",
    "Дана целочисленная матрица размера $m \\times n$. Найти номер первого из ее столбцов, содержащих только нечетные числа. Если таких столбцов нет, то вывести 0."
   ]
  },
  {
   "cell_type": "code",
   "execution_count": 209,
   "id": "378dd5fa",
   "metadata": {},
   "outputs": [
    {
     "name": "stdout",
     "output_type": "stream",
     "text": [
      "[[6, 3], [4, 6], [4, 13]]\n"
     ]
    },
    {
     "data": {
      "text/plain": [
       "set()"
      ]
     },
     "execution_count": 209,
     "metadata": {},
     "output_type": "execute_result"
    }
   ],
   "source": [
    "from random import randint\n",
    "\n",
    "m = randint(2, 5)\n",
    "n = randint(2, 5)\n",
    "matrix = []\n",
    "lst = []\n",
    "\n",
    "for i in range(m):\n",
    "    temp = []\n",
    "    for j in range(n):\n",
    "        temp.append(randint(0, 20))\n",
    "    matrix.append(temp)\n",
    "\n",
    "print(matrix)\n",
    "\n",
    "for i in range(m):\n",
    "    tmp = set()\n",
    "    for j in range(n):\n",
    "        if matrix[i][j]%2!=0:\n",
    "            tmp.add(j)\n",
    "            \n",
    "    lst.append(tmp)\n",
    "\n",
    "t = lst[0]\n",
    "for s in lst:\n",
    "    t.intersection_update(s)\n",
    "\n",
    "t"
   ]
  },
  {
   "cell_type": "markdown",
   "id": "c29a36f4",
   "metadata": {},
   "source": [
    "<p style=\"background:#F0A5FF; font-weight:bold\">Задача 2</p>\n",
    "\n",
    "Дана матрица размера $m \\times n$. Преобразовать матрицу, поменяв местами минимальный и максимальный элемент в каждой строке. Если минимальных и максимальных элементов более одного, используйте первый из них."
   ]
  },
  {
   "cell_type": "code",
   "execution_count": 205,
   "id": "ba684745",
   "metadata": {
    "scrolled": true
   },
   "outputs": [
    {
     "name": "stdout",
     "output_type": "stream",
     "text": [
      "[[0, 8, 12, 1, 13, 6, 2], [13, 17, 9, 4, 4, 7, 18], [5, 11, 5, 0, 13, 12, 12], [14, 17, 16, 0, 16, 6, 18]]\n",
      "[[13, 8, 12, 1, 0, 6, 2], [13, 17, 9, 18, 4, 7, 4], [5, 11, 5, 13, 0, 12, 12], [14, 17, 16, 18, 16, 6, 0]]\n"
     ]
    }
   ],
   "source": [
    "from random import randint\n",
    "\n",
    "m, n = randint(3, 10), randint(3, 10)\n",
    "\n",
    "a = [[randint(0, 20) for _ in range(m)] for i in range(n)]\n",
    "print(a)\n",
    "\n",
    "for i in range(n):\n",
    "    idx_min = a[i].index(min(a[i]))\n",
    "    idx_max = a[i].index(max(a[i]))\n",
    "    \n",
    "    a[i][idx_min], a[i][idx_max] = a[i][idx_max], a[i][idx_min]\n",
    "    \n",
    "print(a)"
   ]
  },
  {
   "cell_type": "markdown",
   "id": "0bd320a2",
   "metadata": {},
   "source": [
    "<p style=\"background:#F0A5FF; font-weight:bold\">Задача 3</p>\n",
    "\n",
    "Дана матрица размера $m \\times n$. Поменять местами строки, содержащие минимальный и максимальный элементы матрицы."
   ]
  },
  {
   "cell_type": "code",
   "execution_count": null,
   "id": "c8e8f521",
   "metadata": {},
   "outputs": [],
   "source": [
    "# 3.\n"
   ]
  },
  {
   "cell_type": "markdown",
   "id": "42ce0ae3",
   "metadata": {},
   "source": [
    "<p style=\"background:#F0A5FF; font-weight:bold\">Задача 4</p>\n",
    "\n",
    "Составить программу формирования множества строчных латинских букв, входящих в строку, введённую с клавиатуры, и подсчёта количества знаков препинания в ней."
   ]
  },
  {
   "cell_type": "code",
   "execution_count": 28,
   "id": "8ac9b09e",
   "metadata": {},
   "outputs": [
    {
     "name": "stdout",
     "output_type": "stream",
     "text": [
      "rfqfewf,fqdwffd,ffqqefqqe\n"
     ]
    },
    {
     "data": {
      "text/plain": [
       "{',', 'd', 'e', 'f', 'q', 'r', 'w'}"
      ]
     },
     "execution_count": 28,
     "metadata": {},
     "output_type": "execute_result"
    }
   ],
   "source": [
    "text = set(list(input().lower()))\n",
    "text"
   ]
  },
  {
   "cell_type": "markdown",
   "id": "f99ffcb2",
   "metadata": {},
   "source": [
    "<p style=\"background:#F0A5FF; font-weight:bold\">Задача 5</p>\n",
    "\n",
    "Используя множества, вывести общие буквы трёх предложений."
   ]
  },
  {
   "cell_type": "code",
   "execution_count": 116,
   "id": "b924533b",
   "metadata": {},
   "outputs": [
    {
     "data": {
      "text/plain": [
       "{' ', '!', ',', 'e', 'r'}"
      ]
     },
     "execution_count": 116,
     "metadata": {},
     "output_type": "execute_result"
    }
   ],
   "source": [
    "text1 = 'Hello, World!'\n",
    "text2 = 'Hi, there!'\n",
    "text3 = 'Goodby, cruel world!'\n",
    "\n",
    "letters = set(set(list(text1))&set(list(text2))&set(list(text3)))\n",
    "letters"
   ]
  },
  {
   "cell_type": "markdown",
   "id": "4ca7e6e9",
   "metadata": {},
   "source": [
    "<p style=\"background:#F0A5FF; font-weight:bold\">Задача 6 (задать вопрос)</p>\n",
    "\n",
    "Используя множества, вывести наибольшие цифры трёх целых чисел."
   ]
  },
  {
   "cell_type": "code",
   "execution_count": 25,
   "id": "b2e6f7b7",
   "metadata": {},
   "outputs": [
    {
     "name": "stdout",
     "output_type": "stream",
     "text": [
      "8 9 7\n"
     ]
    }
   ],
   "source": [
    "from random import randint\n",
    "\n",
    "num1 = set(list(str(randint(1000, 100000000))))\n",
    "num2 = set(list(str(randint(1000, 100000000))))\n",
    "num3 = set(list(str(randint(1000, 100000000))))\n",
    "\n",
    "\n",
    "\n",
    "print(max(num1), max(num2), max(num3))"
   ]
  },
  {
   "cell_type": "markdown",
   "id": "18dda049",
   "metadata": {},
   "source": [
    "<p style=\"background:#F0A5FF; font-weight:bold\">Задача 7</p>\n",
    "\n",
    "Напишите программу: <br>\n",
    "а) для сортировки (по возрастанию и убыванию) словаря по значению;<br>\n",
    "б) для объединения двух словарей и суммирующую значения для общих ключей;<br>\n",
    "в) для проверки наличия нескольких ключей в словаре.<br>"
   ]
  },
  {
   "cell_type": "code",
   "execution_count": null,
   "id": "46fd13e3",
   "metadata": {},
   "outputs": [],
   "source": [
    "# 7.\n"
   ]
  },
  {
   "cell_type": "markdown",
   "id": "fdcabb3b",
   "metadata": {},
   "source": [
    "<p style=\"background:#F0A5FF; font-weight:bold\">Задача 8</p>\n",
    "\n",
    "Напишите программу: <br>\n",
    "а) для добавления ключа в словарь; <br>\n",
    "б) для печати всех уникальных значений в словаре; <br>\n",
    "в) для подсчёта количества элементов в значениях словаря, представляющих собой списки. "
   ]
  },
  {
   "cell_type": "code",
   "execution_count": null,
   "id": "6f6e7783",
   "metadata": {},
   "outputs": [],
   "source": [
    "# 8.\n"
   ]
  },
  {
   "cell_type": "markdown",
   "id": "a32b28e2",
   "metadata": {},
   "source": [
    "<p style=\"background:#F0A5FF; font-weight:bold\">Задача 9</p>\n",
    "\n",
    "Напишите программу: <br>\n",
    "а) для объединения словарей в один новый словарь; <br>\n",
    "б) для сортировки словаря по значению; <br>\n",
    "в) чтобы очистить список значений в словаре, если значениями словаря являются списки."
   ]
  },
  {
   "cell_type": "code",
   "execution_count": null,
   "id": "66e7a967",
   "metadata": {},
   "outputs": [],
   "source": [
    "# 9.\n"
   ]
  }
 ],
 "metadata": {
  "kernelspec": {
   "display_name": "Python 3 (ipykernel)",
   "language": "python",
   "name": "python3"
  },
  "language_info": {
   "codemirror_mode": {
    "name": "ipython",
    "version": 3
   },
   "file_extension": ".py",
   "mimetype": "text/x-python",
   "name": "python",
   "nbconvert_exporter": "python",
   "pygments_lexer": "ipython3",
   "version": "3.11.4"
  }
 },
 "nbformat": 4,
 "nbformat_minor": 5
}
