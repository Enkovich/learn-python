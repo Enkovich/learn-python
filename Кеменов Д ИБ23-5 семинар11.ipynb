{
 "cells": [
  {
   "cell_type": "markdown",
   "id": "c412bb87",
   "metadata": {},
   "source": [
    "# Алгоритмы и структуры данных в языке Python\n",
    "\n",
    "# Тема 4. Функции\n",
    "\n",
    "\n",
    "# Рекурсивные функции\n",
    "\n",
    "Выполните следующие задания с помощью рекурсивных функций."
   ]
  },
  {
   "cell_type": "markdown",
   "id": "9ae1a623",
   "metadata": {},
   "source": [
    "<p style=\"font-size:125%\">Задание 1. Натуральные числа</p>\n",
    "\n",
    "С помощью рекурсивной функции распечатайте все натуральные числа меньше данного натурального числа."
   ]
  },
  {
   "cell_type": "code",
   "execution_count": 4,
   "id": "7ec2429d",
   "metadata": {},
   "outputs": [
    {
     "name": "stdout",
     "output_type": "stream",
     "text": [
      "9 8 7 6 5 4 3 2 1 0 "
     ]
    }
   ],
   "source": [
    "def nums(k):\n",
    "    print(k - 1, end=\" \")\n",
    "    if k>1:\n",
    "        nums(k-1)\n",
    "    \n",
    "nums(10)"
   ]
  },
  {
   "cell_type": "markdown",
   "id": "384866f4",
   "metadata": {},
   "source": [
    "<p style=\"font-size:125%\">Задание 2.Сумма цифр</p>\n",
    "\n",
    "Напишите рекурсивную функцию для нахождения суммы цифр числа"
   ]
  },
  {
   "cell_type": "code",
   "execution_count": 8,
   "id": "8514b358",
   "metadata": {},
   "outputs": [
    {
     "data": {
      "text/plain": [
       "7626"
      ]
     },
     "execution_count": 8,
     "metadata": {},
     "output_type": "execute_result"
    }
   ],
   "source": [
    "def summa(k, N=0):\n",
    "    if k >=1:\n",
    "        return summa(k-1, N+k)\n",
    "    else:\n",
    "        return N\n",
    "    \n",
    "summa(123)"
   ]
  },
  {
   "cell_type": "markdown",
   "id": "20d70c6f",
   "metadata": {},
   "source": [
    "<p style=\"font-size:125%\">Задание 3. Факториал</p>\n",
    "\n",
    "С помощью рекусивной функции найдите факториал числа"
   ]
  },
  {
   "cell_type": "code",
   "execution_count": 9,
   "id": "6ce1bb56",
   "metadata": {},
   "outputs": [
    {
     "data": {
      "text/plain": [
       "24"
      ]
     },
     "execution_count": 9,
     "metadata": {},
     "output_type": "execute_result"
    }
   ],
   "source": [
    "def factorial(num, N=1):\n",
    "    if num>1:\n",
    "        return factorial(num-1, N*num)\n",
    "    else:\n",
    "        return N\n",
    "    \n",
    "factorial(4)"
   ]
  },
  {
   "cell_type": "markdown",
   "id": "0ad78a8a",
   "metadata": {},
   "source": [
    "<p style=\"font-size:125%\">Задание 4. Ряд Фибоначчи</p>\n",
    "\n",
    "С помощью рекурсивной функции распечатайте ряд Фибоначчи до числа $k$"
   ]
  },
  {
   "cell_type": "code",
   "execution_count": 15,
   "id": "7cb5f8cb",
   "metadata": {},
   "outputs": [
    {
     "ename": "AttributeError",
     "evalue": "'int' object has no attribute 'append'",
     "output_type": "error",
     "traceback": [
      "\u001b[1;31m---------------------------------------------------------------------------\u001b[0m",
      "\u001b[1;31mAttributeError\u001b[0m                            Traceback (most recent call last)",
      "Cell \u001b[1;32mIn[15], line 9\u001b[0m\n\u001b[0;32m      6\u001b[0m     \u001b[38;5;28;01melse\u001b[39;00m:\n\u001b[0;32m      7\u001b[0m         \u001b[38;5;28;01mreturn\u001b[39;00m ans\n\u001b[1;32m----> 9\u001b[0m \u001b[38;5;28mprint\u001b[39m(\u001b[43mfibo\u001b[49m\u001b[43m(\u001b[49m\u001b[38;5;241;43m120\u001b[39;49m\u001b[43m)\u001b[49m)\n",
      "Cell \u001b[1;32mIn[15], line 5\u001b[0m, in \u001b[0;36mfibo\u001b[1;34m(lim, n, ans, s)\u001b[0m\n\u001b[0;32m      3\u001b[0m     tmp \u001b[38;5;241m=\u001b[39m ans\n\u001b[0;32m      4\u001b[0m     tmp\u001b[38;5;241m.\u001b[39mappend(n\u001b[38;5;241m+\u001b[39ms)\n\u001b[1;32m----> 5\u001b[0m     \u001b[38;5;28;01mreturn\u001b[39;00m \u001b[43mfibo\u001b[49m\u001b[43m(\u001b[49m\u001b[43mlim\u001b[49m\u001b[43m,\u001b[49m\u001b[43m \u001b[49m\u001b[43mn\u001b[49m\u001b[38;5;241;43m+\u001b[39;49m\u001b[43ms\u001b[49m\u001b[43m,\u001b[49m\u001b[43m \u001b[49m\u001b[38;5;28;43msum\u001b[39;49m\u001b[43m(\u001b[49m\u001b[43mtmp\u001b[49m\u001b[43m)\u001b[49m\u001b[43m,\u001b[49m\u001b[43m \u001b[49m\u001b[43ms\u001b[49m\u001b[38;5;241;43m+\u001b[39;49m\u001b[43mn\u001b[49m\u001b[43m)\u001b[49m\n\u001b[0;32m      6\u001b[0m \u001b[38;5;28;01melse\u001b[39;00m:\n\u001b[0;32m      7\u001b[0m     \u001b[38;5;28;01mreturn\u001b[39;00m ans\n",
      "Cell \u001b[1;32mIn[15], line 4\u001b[0m, in \u001b[0;36mfibo\u001b[1;34m(lim, n, ans, s)\u001b[0m\n\u001b[0;32m      2\u001b[0m \u001b[38;5;28;01mif\u001b[39;00m lim\u001b[38;5;241m>\u001b[39m\u001b[38;5;241m=\u001b[39mn:\n\u001b[0;32m      3\u001b[0m     tmp \u001b[38;5;241m=\u001b[39m ans\n\u001b[1;32m----> 4\u001b[0m     \u001b[43mtmp\u001b[49m\u001b[38;5;241;43m.\u001b[39;49m\u001b[43mappend\u001b[49m(n\u001b[38;5;241m+\u001b[39ms)\n\u001b[0;32m      5\u001b[0m     \u001b[38;5;28;01mreturn\u001b[39;00m fibo(lim, n\u001b[38;5;241m+\u001b[39ms, \u001b[38;5;28msum\u001b[39m(tmp), s\u001b[38;5;241m+\u001b[39mn)\n\u001b[0;32m      6\u001b[0m \u001b[38;5;28;01melse\u001b[39;00m:\n",
      "\u001b[1;31mAttributeError\u001b[0m: 'int' object has no attribute 'append'"
     ]
    }
   ],
   "source": [
    "def fibo(k, a=0, b=1):\n",
    "    if a<=k:\n",
    "        print(a, end=' ')\n",
    "        "
   ]
  },
  {
   "cell_type": "markdown",
   "id": "b84d5a21",
   "metadata": {},
   "source": [
    "<p style=\"font-size:125%\">Задание 5. Сумма списка</p>\n",
    "\n",
    "Напишите рекурсивную функцию для подсчета суммы чисел списка списков.\n",
    "\n",
    "```\n",
    "[1, 2, [3, 4], [5, 6]] => 21\n",
    "[1, 2, [3, 4], [5, [6, 7]]] => 28\n",
    "```"
   ]
  },
  {
   "cell_type": "code",
   "execution_count": null,
   "id": "e135ecaf",
   "metadata": {},
   "outputs": [],
   "source": []
  },
  {
   "cell_type": "markdown",
   "id": "fa84e6e3",
   "metadata": {},
   "source": [
    "<p style=\"font-size:125%\">Задание 6. Правый сдвиг</p>\n",
    "\n",
    "На вход функции подаётся кортеж чисел и число $k$. Создайте рекурсивную функцию, которая выполняет сдвиг чисел кортежа на $k$ чисел вправо. Кортеж может быть любой длины.\n",
    "\n",
    "```\n",
    "(1, 2, 3, 4, 5, 6, 7), 3\n",
    "=> [5, 6, 7, 1, 2, 3, 4]\n",
    "```"
   ]
  },
  {
   "cell_type": "code",
   "execution_count": null,
   "id": "c561ff8e",
   "metadata": {},
   "outputs": [],
   "source": [
    "# 6. Ваш код здесь.\n"
   ]
  },
  {
   "cell_type": "markdown",
   "id": "016c3788",
   "metadata": {},
   "source": [
    "<p style=\"font-size:125%\">Задание 7. Сумма вклада</p>\n",
    "\n",
    "Имеется 2 банка. Первый банк ежемесячно начисляет 1.1% от первоначально вложенной суммы (простые проценты). Второй банк ежемесячно начисляет 1% от накопленной к этому моменту суммы (сложные проценты). В каждый из банков в месяц 0 (начальный момент) положили 100 000 руб. Напишите программу, которая выводит на экран в виде таблицы, накопленные в этих банках суммы для 24 месяцев. Определите в программе и выведите на экран в какой банк выгоднее вложить деньги на 1 год и на 2 года."
   ]
  },
  {
   "cell_type": "code",
   "execution_count": 15,
   "id": "62855113",
   "metadata": {
    "scrolled": true
   },
   "outputs": [
    {
     "name": "stdout",
     "output_type": "stream",
     "text": [
      "1 мес: 100082.19178082192\n",
      "2 мес: 100164.45111653217\n",
      "3 мес: 100246.77806265536\n",
      "4 мес: 100329.17267476165\n",
      "5 мес: 100411.63500846694\n",
      "6 мес: 100494.1651194328\n",
      "7 мес: 100576.76306336658\n",
      "8 мес: 100659.4288960214\n",
      "9 мес: 100742.16267319622\n",
      "10 мес: 100824.96445073583\n",
      "11 мес: 100907.83428453095\n",
      "12 мес: 100990.77223051824\n",
      "13 мес: 101073.77834468031\n",
      "14 мес: 101156.8526830458\n",
      "15 мес: 101239.9953016894\n",
      "16 мес: 101323.20625673188\n",
      "17 мес: 101406.48560434015\n",
      "18 мес: 101489.83340072728\n",
      "19 мес: 101573.24970215253\n",
      "20 мес: 101656.73456492143\n",
      "21 мес: 101740.28804538575\n",
      "22 мес: 101823.9101999436\n",
      "23 мес: 101907.60108503944\n",
      "24 мес: 101991.36075716413\n"
     ]
    }
   ],
   "source": [
    "cash1 = 100000\n",
    "arr1=[]\n",
    "arr2=[]\n",
    "\n",
    "def vkladHard(cash, stavka, month = 1):\n",
    "    print(f\"{month} мес: {cash + (cash*stavka*(30/365))/100}\")\n",
    "    if month<24:\n",
    "        vklad(cash+((cash*stavka*30/365)/100), stavka, month+1)\n",
    "\n",
    "    \n",
    "vkladHard(cash1, 1)"
   ]
  }
 ],
 "metadata": {
  "kernelspec": {
   "display_name": "Python 3 (ipykernel)",
   "language": "python",
   "name": "python3"
  },
  "language_info": {
   "codemirror_mode": {
    "name": "ipython",
    "version": 3
   },
   "file_extension": ".py",
   "mimetype": "text/x-python",
   "name": "python",
   "nbconvert_exporter": "python",
   "pygments_lexer": "ipython3",
   "version": "3.10.9"
  }
 },
 "nbformat": 4,
 "nbformat_minor": 5
}
