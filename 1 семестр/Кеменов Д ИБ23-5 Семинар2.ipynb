{
 "cells": [
  {
   "cell_type": "markdown",
   "id": "d6287007",
   "metadata": {},
   "source": [
    "# Кеменов Дмитрий ИБ23-5"
   ]
  },
  {
   "cell_type": "markdown",
   "id": "06a80b6c",
   "metadata": {},
   "source": [
    "# Задание 1\n",
    "Напишите программу, которая подсчитывает и выводит на печать, сколько гласных и сколько согласных букв в предложении \"Расписание занятий на сайте Университета\""
   ]
  },
  {
   "cell_type": "code",
   "execution_count": 10,
   "id": "5600005c",
   "metadata": {},
   "outputs": [
    {
     "name": "stdout",
     "output_type": "stream",
     "text": [
      "Согласных 19, гласных 17\n"
     ]
    }
   ],
   "source": [
    "text = \"Расписание занятий на сайте Университета\"\n",
    "letters = \"аеиоуыэюя\"\n",
    "\n",
    "g = 0\n",
    "s = 0\n",
    "for letter in text:\n",
    "    if(letter.lower() in letters):\n",
    "        g+=1\n",
    "    elif(letter == \" \"): \n",
    "        continue\n",
    "    else: \n",
    "        s+=1\n",
    "\n",
    "print(f\"Согласных {s}, гласных {g}\")"
   ]
  },
  {
   "cell_type": "markdown",
   "id": "e040d85c",
   "metadata": {},
   "source": [
    "# Задание 2\n",
    "Попросите пользователя ввести целое число. Напишите программу, которая проверяет, является ли число чётным или нечётным."
   ]
  },
  {
   "cell_type": "code",
   "execution_count": 12,
   "id": "603e0f59",
   "metadata": {},
   "outputs": [
    {
     "name": "stdout",
     "output_type": "stream",
     "text": [
      "Введите число: 22\n",
      "Число чётное\n"
     ]
    }
   ],
   "source": [
    "num = int(input(\"Введите число: \"))\n",
    "\n",
    "if(num%2==0):\n",
    "    print(\"Число чётное\")\n",
    "else:\n",
    "    print(\"Число нечётное\")"
   ]
  },
  {
   "cell_type": "markdown",
   "id": "9d665e4b",
   "metadata": {},
   "source": [
    "# Задание 3\n",
    "Попросите пользователя ввести целое положительное число. Напишите программу, которая сначала проверяет, является ли число положительным, и, если это так, находит логарифм по основанию 2 от этогот числа."
   ]
  },
  {
   "cell_type": "code",
   "execution_count": 34,
   "id": "619bd390",
   "metadata": {},
   "outputs": [
    {
     "name": "stdout",
     "output_type": "stream",
     "text": [
      "Введите целое положительное число: -55\n",
      "Число отрицательное\n"
     ]
    }
   ],
   "source": [
    "import math\n",
    "num = int(input(\"Введите целое положительное число: \"))\n",
    "\n",
    "if(num>0):\n",
    "    print(math.log(num, 2))\n",
    "else:\n",
    "    print(\"Число отрицательное\")    \n"
   ]
  },
  {
   "cell_type": "markdown",
   "id": "1c13881f",
   "metadata": {},
   "source": [
    "# Задание 4\n",
    "С помощью цикла и функции range() распечатайте все чётные числа от 10 до 20 включительно."
   ]
  },
  {
   "cell_type": "code",
   "execution_count": 33,
   "id": "429c0885",
   "metadata": {
    "scrolled": true
   },
   "outputs": [
    {
     "name": "stdout",
     "output_type": "stream",
     "text": [
      "10\n",
      "12\n",
      "14\n",
      "16\n",
      "18\n",
      "20\n"
     ]
    }
   ],
   "source": [
    "for i in range(10, 21, 1):\n",
    "    if(i%2==0):\n",
    "        print(i)"
   ]
  },
  {
   "cell_type": "markdown",
   "id": "d7e19a20",
   "metadata": {},
   "source": [
    "# Задание 5 \n",
    "С помощью цикла и функции range() распечатайте все целые числа от 10 до 1: 10, 9, 8, ... 1."
   ]
  },
  {
   "cell_type": "code",
   "execution_count": 38,
   "id": "d27e3c90",
   "metadata": {},
   "outputs": [
    {
     "name": "stdout",
     "output_type": "stream",
     "text": [
      "10\n",
      "9\n",
      "8\n",
      "7\n",
      "6\n",
      "5\n",
      "4\n",
      "3\n",
      "2\n",
      "1\n"
     ]
    }
   ],
   "source": [
    "for i in range(10, 0, -1):\n",
    "    print(i)"
   ]
  },
  {
   "cell_type": "markdown",
   "id": "58dd2a61",
   "metadata": {},
   "source": [
    "# Задание 6\n",
    "Сравните строки: \"Земля\" и \"земля\". Что является результатом"
   ]
  },
  {
   "cell_type": "code",
   "execution_count": 24,
   "id": "89c2a0cd",
   "metadata": {
    "scrolled": true
   },
   "outputs": [
    {
     "data": {
      "text/plain": [
       "False"
      ]
     },
     "execution_count": 24,
     "metadata": {},
     "output_type": "execute_result"
    }
   ],
   "source": [
    "\"Земля\"==\"земля\""
   ]
  },
  {
   "cell_type": "markdown",
   "id": "f0f58ddf",
   "metadata": {},
   "source": [
    "# Задание 7\n",
    "С помощью цикла for и функции ord() распечатайте коды символов строки @fa.ru"
   ]
  },
  {
   "cell_type": "code",
   "execution_count": 28,
   "id": "f61f1dbb",
   "metadata": {},
   "outputs": [
    {
     "name": "stdout",
     "output_type": "stream",
     "text": [
      "64\n",
      "102\n",
      "97\n",
      "46\n",
      "114\n",
      "117\n"
     ]
    }
   ],
   "source": [
    "text = \"@fa.ru\"\n",
    "\n",
    "for letter in text:\n",
    "    print(ord(letter))"
   ]
  },
  {
   "cell_type": "markdown",
   "id": "ecf6f89d",
   "metadata": {},
   "source": [
    "# Задание 8\n",
    "С помощью цикла *for* и функции *chr()* распечатайте символы с 58 по 64 с номерами. ожидается результат:\n",
    "\n",
    "```\n",
    "58 :\n",
    "59 ;\n",
    "60 <\n",
    "61 =\n",
    "62 >\n",
    "63 ?\n",
    "64 @\n",
    "```"
   ]
  },
  {
   "cell_type": "code",
   "execution_count": 31,
   "id": "142251ee",
   "metadata": {},
   "outputs": [
    {
     "name": "stdout",
     "output_type": "stream",
     "text": [
      "58 :\n",
      "59 ;\n",
      "60 <\n",
      "61 =\n",
      "62 >\n",
      "63 ?\n",
      "64 @\n"
     ]
    }
   ],
   "source": [
    "n1, n2 = 58, 64\n",
    "\n",
    "for i in range(n1, n2+1):\n",
    "    print(i, chr(i))"
   ]
  }
 ],
 "metadata": {
  "kernelspec": {
   "display_name": "Python 3 (ipykernel)",
   "language": "python",
   "name": "python3"
  },
  "language_info": {
   "codemirror_mode": {
    "name": "ipython",
    "version": 3
   },
   "file_extension": ".py",
   "mimetype": "text/x-python",
   "name": "python",
   "nbconvert_exporter": "python",
   "pygments_lexer": "ipython3",
   "version": "3.10.9"
  }
 },
 "nbformat": 4,
 "nbformat_minor": 5
}
