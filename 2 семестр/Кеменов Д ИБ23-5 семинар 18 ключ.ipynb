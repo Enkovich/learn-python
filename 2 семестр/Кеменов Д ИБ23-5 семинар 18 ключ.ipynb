{
 "cells": [
  {
   "cell_type": "markdown",
   "id": "d526e9b1",
   "metadata": {},
   "source": [
    "# Семинар 7.1 (18) Введение в ООП"
   ]
  },
  {
   "cell_type": "markdown",
   "id": "5af90850",
   "metadata": {},
   "source": [
    "<p style = \"background:#FF6D72\">&nbsp; Задание 1.</p>\n",
    "\n",
    "Создайте класс *Point* (точка), у которого имеются атрибуты $x$ и $y$ (координаты) а также методы *\\_\\_init\\_\\_()* и *\\_\\_str\\_\\_()*. Создайте класс *Rectangle* (прямоугольник), у которого есть:\n",
    "- два атрибута: верхний левый и правый нижний углы прямоугольника. Значениями атрибутов являются объекты класса *Point*;\n",
    "- методы *\\_\\_init\\_\\_()* и *\\_\\_str\\_\\_()*;\n",
    "- метод *sides()*, возвращающий длины сторон прямоугольника; \n",
    "- метод *perim()*, вычисляющий периметр прямоугольника. \n",
    "\n",
    "Продемонстрируйте работу с классами, создав необходимые объекты и вызвав их методы. "
   ]
  },
  {
   "cell_type": "code",
   "execution_count": 5,
   "id": "a69707df",
   "metadata": {},
   "outputs": [],
   "source": [
    "class Point(object):\n",
    "    def __init__(self, x, y):\n",
    "        \"\"\"Класс точки\"\"\"\n",
    "        self.x = x\n",
    "        self.y = y\n",
    "    \n",
    "    def __str__(self):\n",
    "        return f'Точка ({self.x}, {self.y})'\n",
    "    \n",
    "    def __repr__(self):\n",
    "        return f'({self.x}, {self.y}) point'\n",
    "\n",
    "class Rect(object):\n",
    "    \"\"\" Класс прямоугольника\"\"\"\n",
    "    def __init__(self, p1, p2):\n",
    "        self.p1 = p1\n",
    "        self.p2 = p2\n",
    "    \n",
    "    def __str__(self):\n",
    "        return f'Прямоугольник {self.sides()[0]} x {self.sides()[1]}'\n",
    "    \n",
    "    def sides(self):\n",
    "        \"\"\"Возвращает длины сторон прямоугольника\"\"\"\n",
    "        side1 = self.p1.y - self.p2.y\n",
    "        side2 = self.p2.x - self.p1.x\n",
    "        return [side1, side2]\n",
    "    \n",
    "    def perim(self):\n",
    "        \"\"\"Вычисляет периметр прямоугольника\"\"\"\n",
    "        side1, side2 = self.sides()\n",
    "        return 2 * (side1 + side2)"
   ]
  },
  {
   "cell_type": "markdown",
   "id": "fd6455ce",
   "metadata": {},
   "source": [
    "<p style = \"background:#FF6D72\">&nbsp; Задание 2.</p>\n",
    "\n",
    "В предыдущем задании вы создали класс точки *Point*. Теперь создайте класс *Triangle* (треугольник), у которого есть:\n",
    "- три атрибута (вершины треугольника). Значениями атрибутов являются объекты класса *Point*;\n",
    "- методы *\\_\\_init\\_\\_()*, *\\_\\_str\\_\\_()*;\n",
    "- метод *sides()*, вычисляющий длины сторон треугольника;\n",
    "- метод *perim()*, вычисляющий периметр треугольника;\n",
    "\n",
    "Продемонстрируйте работу с классами, создав необходимые объекты и вызвав их методы. "
   ]
  },
  {
   "cell_type": "code",
   "execution_count": 3,
   "id": "72ddd7c8",
   "metadata": {},
   "outputs": [],
   "source": [
    "class Triangle(object):\n",
    "    \"\"\"Класс треугольника\"\"\"\n",
    "    def __init__(self, p1, p2, p3):\n",
    "        self.p1 = p1\n",
    "        self.p2 = p2\n",
    "        self.p3 = p3\n",
    "    \n",
    "    def __str__(self):\n",
    "        return f'Треугольник с вершинами ({self.p1.x}, {self.p1.y}), ({self.p2.x}, {self.p2.y}), ({self.p3.x}, {self.p3.y})'\n",
    "    \n",
    "    def __repr__(self):\n",
    "        return f'Треугольник с вершинами {self.p1}, {self.p2}, {self.p3}'\n",
    "    \n",
    "    def sides(self):\n",
    "        \"\"\"Возвращает длины сторон треугольника\"\"\"\n",
    "        a = ((self.p1.x - self.p2.x)**2 + (self.p1.y - self.p2.y)**2)**(1/2)\n",
    "        b = ((self.p1.x - self.p3.x)**2 + (self.p1.y - self.p3.y)**2)**(1/2)\n",
    "        c = ((self.p2.x - self.p3.x)**2 + (self.p2.y - self.p3.y)**2)**(1/2)\n",
    "        return a, b, c\n",
    "    \n",
    "    def perim(self):\n",
    "        \"\"\"Вычисляет периметр треугольника\"\"\"\n",
    "        return sum(self.sides())"
   ]
  },
  {
   "cell_type": "code",
   "execution_count": 4,
   "id": "d0b82124",
   "metadata": {},
   "outputs": [
    {
     "name": "stdout",
     "output_type": "stream",
     "text": [
      "Периметр треугольника: 12.285383285786041\n",
      "Треугольник с вершинами (-2, -1), (1, 3), (2, 0)\n"
     ]
    },
    {
     "data": {
      "text/plain": [
       "Треугольник с вершинами Точка (-2, -1), Точка (1, 3), Точка (2, 0)"
      ]
     },
     "execution_count": 4,
     "metadata": {},
     "output_type": "execute_result"
    }
   ],
   "source": [
    "p1 = Point(-2, -1)\n",
    "p2 = Point(1, 3)\n",
    "p3 = Point(2, 0)\n",
    "\n",
    "t = Triangle(p1, p2, p3)\n",
    "print(f'Периметр треугольника: {t.perim()}')\n",
    "print(t)\n",
    "t"
   ]
  },
  {
   "cell_type": "code",
   "execution_count": 5,
   "id": "326d6343",
   "metadata": {},
   "outputs": [
    {
     "data": {
      "image/png": "[encoded data removed]",
      "text/plain": [
       "<Figure size 300x300 with 1 Axes>"
      ]
     },
     "metadata": {},
     "output_type": "display_data"
    }
   ],
   "source": [
    "from matplotlib import pyplot as plt\n",
    "fig, ax = plt.subplots(figsize=(3, 3))\n",
    "ax.plot([p1.x, p2.x, p3.x, p1.x], [p1.y, p2.y, p3.y, p1.y])\n",
    "ax.grid();"
   ]
  },
  {
   "cell_type": "markdown",
   "id": "46ac84cc",
   "metadata": {},
   "source": [
    "<p style = \"background:#FF6D72\">&nbsp; Задание 3.</p>\n",
    "\n",
    "Создайте класс *Register (Ведомость)*, имеющий атрибуты:\n",
    "\n",
    "- *дисциплина (course)*\n",
    "- *группа (group)*\n",
    "\n",
    "переменные класса:\n",
    "\n",
    "- *список дисциплин (courses)*\n",
    "- *список допустимых оценок (scores)*\n",
    "- *словарь с данными об успеваемости студентов (data), который хранит данные об оценках в формате*\n",
    "```\n",
    "{'Сидоров': 'отл.',\n",
    " 'Иванов': 'хор.',\n",
    " 'Васильева': 'н/я',\n",
    " 'Петрова': 'уд.',\n",
    " 'Стоукс': 'хор.',\n",
    " 'Орлова': 'уд.'}\n",
    " ```\n",
    "\n",
    "методы:\n",
    "\n",
    "- *\\_\\_init\\_\\_()* – конструктор, параметрами являются дисциплина и группа. Проверять наличие дисциплины в списке дисциплин.\n",
    "- *put* – добавляет в ведомость информацию об оценке студента (фамилия, оценка – параметры метода). Для хранения данных внутри класса использовать словарь, в котором ключом является фамилия студента. Возможные оценки – «отлично», «хорошо», «удовл.», «неудовл.», «н/я». Проверять наличие оценки в списке допустимых значений оценок;\n",
    "- *get_score* – возвращает оценку, полученную студентом (фамилия студента – параметр метода). Проверять наличие студента в ведомости;\n",
    "- *del_student* – удаляет информацию о студенте из ведомости (фамилия студента – параметр метода). Проверять наличие студента в ведомости;\n",
    "- *report* – возвращает кортеж из 5 чисел (количество каждого вида оценок в ведомости);\n",
    "- *count* – возвращает количество студентов в ведомости;\n",
    "- *names* – возвращает список фамилий, имеющихся в ведомости;\n",
    "- *\\_\\_str\\_\\_()* – возвращает в табличной форме оценки студентов группы по конкретной дисциплине;\n",
    "- *check_course()* - проверяет наличие дисциплины в списке допустимых дисциплин;\n",
    "- *check_score()* - проверяет наличие оценки в списке допустимых оценок.\n",
    "\n",
    "Каждый экземпляр класса содержит ведомость какой-либо группы по одной из дисциплин. Продемонстрируйте работу с классами, создав объекты и вызвав их методы.\n",
    "\n",
    "Исходные данные могут быть такими:\n",
    "```\n",
    "dbms = Register('СУБД', 'БИ23-8')\n",
    "\n",
    "dbms.put('Сидоров', 'отл.')\n",
    "dbms.put('Иванов', 'хо.')\n",
    "dbms.put('Васильева', 'н/я')\n",
    "dbms.put('Петрова', 'уд.')\n",
    "dbms.put('Любимов', 'хор.')\n",
    "dbms.put('Стоукс', 'хор.')\n",
    "dbms.put('Орлова', 'уд.')\n",
    "```"
   ]
  },
  {
   "cell_type": "code",
   "execution_count": 6,
   "id": "bc3ed9a9",
   "metadata": {},
   "outputs": [],
   "source": [
    "from tabulate import tabulate"
   ]
  },
  {
   "cell_type": "code",
   "execution_count": 7,
   "id": "9846e372",
   "metadata": {},
   "outputs": [],
   "source": [
    "class Register(object):\n",
    "    \"\"\"\n",
    "    Класс \"Ведомость\".\n",
    "    Хранит данные об успеваемости студентов по конкретной дисциплине\n",
    "    \"\"\"\n",
    "    courses = ['Математика', 'Информатика', 'Немецкий', 'СУБД', 'Теория вероятностей']\n",
    "    scores = ['отл.', 'хор.', 'уд.', 'неуд.', 'н/я']\n",
    "    data = dict()\n",
    "    \n",
    "    def __init__(self, course, group = \"БИ23-0\"):\n",
    "        assert self.check_course(course), \"Неверное название дисциплины\"\n",
    "        self.course = course\n",
    "        self.group = group\n",
    "    \n",
    "    @classmethod\n",
    "    def check_course(cls, course):\n",
    "        \"\"\"Проверка допустимого названия дисциплины\"\"\"\n",
    "        return course in cls.courses\n",
    "    \n",
    "    @classmethod\n",
    "    def check_score(cls, score):\n",
    "        \"\"\"Проверка допустимого значения оценки\"\"\"\n",
    "        return score in cls.scores\n",
    "    \n",
    "    @classmethod\n",
    "    def check_student(cls, student):\n",
    "        \"\"\"Проверка наличия студента в ведомости по данной дисциплине\"\"\"\n",
    "        return student in cls.data\n",
    "    \n",
    "    @classmethod\n",
    "    def put(cls, student, score):\n",
    "        \"\"\" Вносит в ведомость оценку студента \"\"\"\n",
    "        try:\n",
    "            assert cls.check_score(score), f'Неверная оценка студента {student}, допустимые значения {cls.scores}'\n",
    "            cls.data[student] = score\n",
    "        except AssertionError as e:\n",
    "            print(e)\n",
    "    \n",
    "    @classmethod\n",
    "    def get_student_data(cls, student):\n",
    "        \"\"\"Возвращает оценку студента\"\"\"\n",
    "        return cls.data[student]\n",
    "    \n",
    "    @classmethod\n",
    "    def del_student_data(cls, student):\n",
    "        \"\"\"Удаляет оценку студента\"\"\"\n",
    "        cls.data.pop(student)\n",
    "        return True\n",
    "    \n",
    "    def get_score(self, student):\n",
    "        \"\"\"Возвращает информацию об оценке студента\"\"\"\n",
    "        try:\n",
    "            assert self.check_student(student), f'Ошибка чтения: студент {student} отсутствует в ведомости \\\n",
    "по дисциплине \"{self.course}\"'\n",
    "            return self.get_student_data(student)\n",
    "        except AssertionError as e:\n",
    "            print(e)\n",
    "\n",
    "    def del_student(self, student):\n",
    "        try:\n",
    "            assert self.check_student(student), f'Ошибка удаления: студент {student} \\\n",
    "отсутствует в ведомости по дисциплине \"{self.course}\"'\n",
    "            result = self.del_student_data(student)\n",
    "        except AssertionError as e:\n",
    "            print(e)\n",
    "    \n",
    "    @classmethod\n",
    "    def report(cls):\n",
    "        result = {}\n",
    "        for s in cls.data.values():\n",
    "            result[s] = result.get(s, 0) + 1\n",
    "        return f'Статистика оценок: \\n{result}'\n",
    "    \n",
    "    @classmethod\n",
    "    def count(cls):\n",
    "        return len(cls.data)\n",
    "    \n",
    "    @classmethod\n",
    "    def names(cls):\n",
    "        return [name for name in cls.data]\n",
    "    \n",
    "    @classmethod\n",
    "    def log(cls):\n",
    "        return cls.data\n",
    "\n",
    "    def __str__(self):\n",
    "        return f'Ведомость по дисциплине \"{self.course}\" группы \"{self.group}\" \\n\\\n",
    "{tabulate(self.log().items())}'\n",
    "    \n",
    "    def __repr__(self):\n",
    "        return self.__str__()"
   ]
  },
  {
   "cell_type": "code",
   "execution_count": 8,
   "id": "6a381d39",
   "metadata": {},
   "outputs": [
    {
     "name": "stdout",
     "output_type": "stream",
     "text": [
      "хор.\n",
      "отл.\n",
      "Неверная оценка студента Любимов, допустимые значения ['отл.', 'хор.', 'уд.', 'неуд.', 'н/я']\n",
      "отл.\n",
      "Ошибка чтения: студент Любимов отсутствует в ведомости по дисциплине \"СУБД\"\n",
      "Ошибка удаления: студент Любимов отсутствует в ведомости по дисциплине \"СУБД\"\n",
      "Статистика оценок: \n",
      "{'отл.': 1, 'хор.': 2, 'н/я': 1, 'уд.': 2}\n",
      "Число студентов: 6\n",
      "Фамилии: ['Сидоров', 'Иванов', 'Васильева', 'Петрова', 'Стоукс', 'Орлова']\n"
     ]
    },
    {
     "data": {
      "text/plain": [
       "Ведомость по дисциплине \"СУБД\" группы \"БИ23-7\" \n",
       "---------  ----\n",
       "Сидоров    отл.\n",
       "Иванов     хор.\n",
       "Васильева  н/я\n",
       "Петрова    уд.\n",
       "Стоукс     хор.\n",
       "Орлова     уд.\n",
       "---------  ----"
      ]
     },
     "execution_count": 8,
     "metadata": {},
     "output_type": "execute_result"
    }
   ],
   "source": [
    "dbms = Register('СУБД', 'БИ23-7')\n",
    "\n",
    "dbms.put('Сидоров', 'отл.')\n",
    "dbms.put('Иванов', 'хор.')\n",
    "dbms.put('Васильева', 'н/я')\n",
    "dbms.put('Петрова', 'уд.')\n",
    "dbms.put('Любимов', 'хор.')\n",
    "dbms.put('Стоукс', 'хор.')\n",
    "dbms.put('Орлова', 'уд.')\n",
    "\n",
    "print(dbms.get_score('Любимов'))\n",
    "dbms.put('Любимов', 'отл.')\n",
    "print(dbms.get_score('Любимов'))\n",
    "\n",
    "dbms.put('Любимов', 'очень хорошо')\n",
    "print(dbms.get_score('Любимов'))\n",
    "\n",
    "dbms.del_student('Любимов')\n",
    "dbms.get_score('Любимов')\n",
    "dbms.del_student('Любимов')\n",
    "\n",
    "print(f'{dbms.report()}')\n",
    "\n",
    "print(f'Число студентов: {dbms.count()}')\n",
    "\n",
    "print(f'Фамилии: {dbms.names()}')\n",
    "\n",
    "dbms"
   ]
  },
  {
   "cell_type": "markdown",
   "id": "915580a3",
   "metadata": {},
   "source": [
    "<p style = \"background:#FF6D72\">&nbsp; Задание 4.</p>\n",
    "\n",
    "Создать класс человека *People*, атрибутами которого являются фамилия, имя.\n",
    "\n",
    "Используя класс *People* в качестве базового, создать класс сотрудника (*Empl*), имеющий атрибуты:\n",
    "- должность (*pos*);\n",
    "- зарплата (*sal*)\n",
    "\n",
    "и методы: \n",
    "- *\\_\\_init\\_\\_()* – конструктор;\n",
    "- *\\_\\_repr\\_\\_()* и *\\_\\_str\\_\\_()* для вывода строковой информации. \n",
    "\n",
    "В классе сотрудник создать классовую переменную *empl_id*, хрянящую порядковый номер сотрудника и метод класса *get_empl_id()*, получающий текущее значение порядкового номера и увеличивающий его на единицу. Каждому новому сотруднику присвоить уникальный порядковый номер. Для этого в конструкторе *\\_\\_init\\_\\_()* класса *Empl* реализовать обращение к методу *get_empl_id()*. Продемонстрировать работу с классами, создав необходимые объекты и вызвав все их методы."
   ]
  },
  {
   "cell_type": "code",
   "execution_count": 13,
   "id": "061613d3",
   "metadata": {},
   "outputs": [],
   "source": [
    "class People(object):\n",
    "    \"\"\"Класс людей\"\"\"\n",
    "    def __init__(self, surname, name):\n",
    "        self.surname = surname\n",
    "        self.name = name\n",
    "    \n",
    "    def __repr__(self):\n",
    "        return f'Лицо {self.surname}, {self.name}'\n",
    "    \n",
    "    def __str__(self):\n",
    "        return f'Лицо {self.surname}, {self.name}'\n",
    "\n",
    "class Empl(People):\n",
    "    \"\"\"Класс сотрудника\"\"\"\n",
    "    \n",
    "    empl_id = 0\n",
    "    \n",
    "    def __init__(self, surname, name, pos, sal):\n",
    "        super().__init__(surname, name)\n",
    "        self.pos = pos\n",
    "        self.sal = sal\n",
    "        self.empl_id = self.get_empl_id()\n",
    "    \n",
    "    def __str__(self):\n",
    "        return self.__repr__()\n",
    "    \n",
    "    def __repr__(self):\n",
    "        return f'#{self.empl_id}, {super().__str__()}, {self.pos}, salary {self.sal}'\n",
    "    \n",
    "    @classmethod\n",
    "    def get_empl_id(cls):\n",
    "        cls.empl_id += 1\n",
    "        return cls.empl_id"
   ]
  },
  {
   "cell_type": "code",
   "execution_count": 14,
   "id": "2aa3b8e2",
   "metadata": {},
   "outputs": [
    {
     "name": "stdout",
     "output_type": "stream",
     "text": [
      "1 Smirnov teacher 100\n",
      "2 Ivanov professor 250\n"
     ]
    },
    {
     "data": {
      "text/plain": [
       "#3, Лицо Feodorov, Valintin, student, salary 75"
      ]
     },
     "execution_count": 14,
     "metadata": {},
     "output_type": "execute_result"
    }
   ],
   "source": [
    "smirnov = Empl('Smirnov', 'Mikhail', 'teacher', 100)\n",
    "ivanov = Empl('Ivanov', 'Ivan', 'professor', 250)\n",
    "feodorov = Empl('Feodorov', 'Valintin', 'student', 75)\n",
    "\n",
    "print(smirnov.empl_id, smirnov.surname, smirnov.pos, smirnov.sal)\n",
    "print(ivanov.empl_id, ivanov.surname, ivanov.pos, ivanov.sal)\n",
    "feodorov"
   ]
  },
  {
   "cell_type": "markdown",
   "id": "2cbf833d",
   "metadata": {},
   "source": [
    "<p style = \"background:#FF6D72\">&nbsp; Задание 5.</p>\n",
    "\n",
    "Используя класс *Сотрудник* в качестве базового создать класс *Преподаватель (Teacher)*, имеющий:\n",
    "- атрибут *дисциплины (courses)*, в котором хранятся названия дисциплин, которые ведет преподаватель;\n",
    "- методы *\\_\\_init\\_\\_* и *\\_\\_str\\_\\_*;\n",
    "- методы добавить_дисциплину *add_course()* и удалить_дисциплину *del_course()*, которые позволяют изменять список дисциплин;\n",
    "- метод проверки дисциплины на наличие в списке допустимых дисциплин.\n",
    "\n",
    "При создании преподавателя проверять дисциплину на наличие в списке допустимых дисциплин. Список допустимых дисциплин хранить в переменной класса. Продемонстрировать работу с классами, создав необходимые объекты и вызвав их методы.\n",
    "\n",
    "```\n",
    "# Примерный список дисциплин\n",
    "courses = ['Математика', 'Информатика', 'Немецкий', 'СУБД', 'Теория вероятностей',\n",
    "              'Алгоритмы и структуры данных', 'Технологии обработки данных', 'Python']\n",
    "```"
   ]
  },
  {
   "cell_type": "code",
   "execution_count": 11,
   "id": "2b433ebc",
   "metadata": {},
   "outputs": [],
   "source": [
    "class Professor(Empl):\n",
    "    \"\"\" Класс преподавателя\"\"\"\n",
    "    \n",
    "    courses = ['Математика', 'Информатика', 'Немецкий', 'СУБД', 'Теория вероятностей',\n",
    "              'Алгоритмы и структуры данных', 'Технологии обработки данных', 'Python']\n",
    "    \n",
    "    def __init__(self, surname, name, pos, sal, prof_courses):\n",
    "        super().__init__(surname, name, pos, sal)\n",
    "        try:\n",
    "            assert self.in_course_list(prof_courses), 'Неверное название дисциплины'\n",
    "            self.prof_courses = prof_courses\n",
    "        except AssertionError as e:\n",
    "            print(e)\n",
    "\n",
    "    @classmethod\n",
    "    def in_course_list(cls, prof_courses):\n",
    "        diff = set(prof_courses).difference(set(cls.courses))\n",
    "        if bool(diff):\n",
    "            print(f'Нет в списке дисциплин: {diff}')\n",
    "            return False\n",
    "        else:\n",
    "            return True\n",
    "    \n",
    "    def __repr__(self):\n",
    "        return f'{super().__repr__()}, преподает {self.prof_courses}'"
   ]
  },
  {
   "cell_type": "code",
   "execution_count": 12,
   "id": "096a89dc",
   "metadata": {},
   "outputs": [
    {
     "data": {
      "text/plain": [
       "#4, Лицо Краснов, Василий, доцент, salary 200, преподает ['Python', 'СУБД']"
      ]
     },
     "execution_count": 12,
     "metadata": {},
     "output_type": "execute_result"
    }
   ],
   "source": [
    "prof_1 = Professor('Краснов', 'Василий', 'доцент', 200, ['Python', 'СУБД'])\n",
    "prof_1"
   ]
  }
 ],
 "metadata": {
  "kernelspec": {
   "display_name": "Python 3 (ipykernel)",
   "language": "python",
   "name": "python3"
  },
  "language_info": {
   "codemirror_mode": {
    "name": "ipython",
    "version": 3
   },
   "file_extension": ".py",
   "mimetype": "text/x-python",
   "name": "python",
   "nbconvert_exporter": "python",
   "pygments_lexer": "ipython3",
   "version": "3.11.5"
  }
 },
 "nbformat": 4,
 "nbformat_minor": 5
}
