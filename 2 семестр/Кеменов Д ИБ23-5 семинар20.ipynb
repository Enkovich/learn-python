{
 "cells": [
  {
   "cell_type": "markdown",
   "id": "ce50ea0a",
   "metadata": {},
   "source": [
    "# Переменные с ограниченным доступом\n",
    "\n",
    "При подготовке семинара использованы учебные материалы:\n",
    "- <a href=\"https://www.scaler.com/topics/data-hiding-in-python/\">What is Data Hiding in Python</a>\n",
    "- <a href=\"https://skillbox.ru/media/code/oop_chast_3_modifikatory_dostupa_inkapsulyatsiya/?ysclid=lsvfuchrn4129839712\">Инкапсуляция, модификаторы доступа: 3‑я часть гайда по ООП</a>\n",
    "\n",
    "Классы и объекты в объектно-ориентированном программировании (ООП) могут обладать внушительным функционалом, управление которым осуществляется через методы и переменные. Однако, доступ к некторым переменным желательно ограничить, чтобы скрыть от пользователя внутреннее устройство объекта. Доступ к переменным ограничивается тогда, когда вмешательство пользователя (вольное или невольное) может негативно повлиять на работу объекта или нарушить правила его безопасного применения. Таким образом, пользователю предоставляется интерфейс доступа к функциям класса через общедоступные переменные, в то время как другие переменные могут быть от пользователя скрыты. Такой подход реализуется в рамках понятия инкапсуляции.\n",
    "\n",
    "Инкапсуляция (от лат. in capsule — в оболочке) — это заключение данных и функциональности в оболочку. В ООП в роли оболочки выступают классы: они не только собирают переменные и методы вместе, но и защищают их от вмешательства извне (сокрытие).\n",
    "\n",
    "\n",
    "### Синтаксис\n",
    "\n",
    "В Python, если мы хотим скрыть какую-либо переменную, нам нужно использовать двойное подчеркивание (\\_\\_) перед именем переменной.\n",
    "\n",
    "`__variablename`\n",
    "\n",
    "\n",
    "### Общедоступные компоненты класса (public)\n",
    "\n",
    "Когда переменная или метод класса являются «общедоступными», это означает, что к ним могут получить доступ другие объекты. По умолчанию переменные и функции класса являются общедоступными.\n",
    "\n",
    "\n",
    "### Частные компоненты класса (private)\n",
    "\n",
    "Когда члены класса являются частными, доступ к ним ограничен, это значит, что программа за пределами класса не сможет обратиться к ним напрямую по имени. Если вы попытаетесь это сделать, компилятор Python выдаст сообщение об ошибке.\n",
    "\n",
    "Мы используем двойное подчеркивание (\\_\\_) чтобы создать частный элемент внутри класса, например `__hiddenVariable`.\n",
    "\n",
    "Иногда для переменных используют имена, начинающиеся с одного символа подчеркивания, например `_spam`. Такие наименования не влекут ограничений на доступ, однако существует традиция, которой следует большая часть кода Python: имя с префиксом одного подчеркивания должно рассматриваться как служебная часть API (будь то функция или метод).\n",
    "\n",
    "<u>Пример 1.</u><br>\n",
    "В этом примере мы получаем доступ к имени пользователя и паролю из метода *creden*."
   ]
  },
  {
   "cell_type": "code",
   "execution_count": 1,
   "id": "6e9b53d2",
   "metadata": {},
   "outputs": [
    {
     "name": "stdout",
     "output_type": "stream",
     "text": [
      "Username: ivan_ivanovitch\n",
      "Password: notaneasypassword\n"
     ]
    }
   ],
   "source": [
    "class Authentication(object):\n",
    "    # Частные переменные\n",
    "    __username = 'ivan_ivanovitch'\n",
    "    __password = 'notaneasypassword'\n",
    "    \n",
    "    @classmethod\n",
    "    def account(cls):\n",
    "        print(f\"Username: {cls.__username}\")\n",
    "        print(f\"Password: {cls.__password}\")\n",
    "p = Authentication()\n",
    "p.account()"
   ]
  },
  {
   "cell_type": "markdown",
   "id": "5399541d",
   "metadata": {},
   "source": [
    "Обратите внимение: если мы попытаемся получить доступ к частной переменной класса, обратившись к ней напрямую, мы получим ошибку."
   ]
  },
  {
   "cell_type": "code",
   "execution_count": 2,
   "id": "6a4d8978",
   "metadata": {},
   "outputs": [
    {
     "name": "stdout",
     "output_type": "stream",
     "text": [
      "Ошибка получения значения переменной\n",
      "'Authentication' object has no attribute '__username'\n",
      "Ошибка получения значения переменной\n",
      "'Authentication' object has no attribute '__password'\n"
     ]
    }
   ],
   "source": [
    "class Authentication(object):\n",
    "    # Private members\n",
    "    __username = 'ivan_ivanovitch'\n",
    "    __password = 'notaneasypassword'\n",
    "\n",
    "    @classmethod\n",
    "    def creden(cls):\n",
    "        print(f\"Username: {cls.__username}\")\n",
    "        print(f\"Password:{cls.__password}\")\n",
    "\n",
    "p = Authentication()\n",
    "try:\n",
    "    print(f\"Username: {p.__username}\") # Попытка прямого доступа по имени переменной\n",
    "except AttributeError as e:\n",
    "    print('Ошибка получения значения переменной')\n",
    "    print(e)\n",
    "try:\n",
    "    print(f\"Password:{p.__password}\") # Попытка прямого доступа по имени переменной\n",
    "except AttributeError as e:\n",
    "    print('Ошибка получения значения переменной')\n",
    "    print(e)"
   ]
  },
  {
   "cell_type": "markdown",
   "id": "4e6e87e2",
   "metadata": {},
   "source": [
    "<u>Пример 2.</u><br>\n",
    "Для доступа к частным переменным мы можем использовать следующий синтаксис: объект.\\_Класс\\_\\_Переменная"
   ]
  },
  {
   "cell_type": "code",
   "execution_count": 4,
   "id": "ba15b391",
   "metadata": {},
   "outputs": [
    {
     "name": "stdout",
     "output_type": "stream",
     "text": [
      "ivan_ivanovitch\n",
      "notaneasypassword\n"
     ]
    }
   ],
   "source": [
    "class Authentication(object):\n",
    "    # Private members\n",
    "    __username = 'ivan_ivanovitch'\n",
    "    __password = 'notaneasypassword'\n",
    "\n",
    "    @classmethod\n",
    "    def creden(cls):\n",
    "        print(f\"Username: {cls.__username}\")\n",
    "        print(f\"Password: {cls.__password}\")\n",
    "\n",
    "\n",
    "p = Authentication()\n",
    "print(p._Authentication__username)\n",
    "print(p._Authentication__password)"
   ]
  },
  {
   "cell_type": "markdown",
   "id": "821b2f53",
   "metadata": {},
   "source": [
    "<u>Пример 3</u><br>\n",
    "В приведенном ниже коде имя пользователя является частным атрибутом с ограниченным доступом, а пароль — служебным атрибутом с особым именем, начинающимся с одного подчеркивания."
   ]
  },
  {
   "cell_type": "code",
   "execution_count": 2,
   "id": "5f2af352",
   "metadata": {},
   "outputs": [
    {
     "name": "stdout",
     "output_type": "stream",
     "text": [
      "Username: ivan_ivanovitch\n",
      "Password: notaneasypassword\n"
     ]
    }
   ],
   "source": [
    "class Authentication(object):\n",
    "    __username = 'ivan_ivanovitch'\n",
    "    _password = 'notaneasypassword'\n",
    "\n",
    "    @classmethod\n",
    "    def creden(cls):\n",
    "        print(f\"Username: {cls.__username}\")\n",
    "        print(f\"Password: {cls._password}\")\n",
    "\n",
    "p = Authentication()\n",
    "p.creden()"
   ]
  },
  {
   "cell_type": "markdown",
   "id": "732a73a7",
   "metadata": {},
   "source": [
    "Доступ к значению пароля возможен напрямую по имени атрибута."
   ]
  },
  {
   "cell_type": "code",
   "execution_count": 3,
   "id": "1fe0db30",
   "metadata": {},
   "outputs": [
    {
     "data": {
      "text/plain": [
       "'notaneasypassword'"
      ]
     },
     "execution_count": 3,
     "metadata": {},
     "output_type": "execute_result"
    }
   ],
   "source": [
    "p._password"
   ]
  },
  {
   "cell_type": "markdown",
   "id": "00cb4238",
   "metadata": {},
   "source": [
    "<u>Пример 4.</u><br>\n",
    "В этом примере мы создали защищенные переменные `__score`, `__max_score` и `__min_score`, которые хранят текущую оценку и границы интервала оценки студента. Изменять эти границы нельзя, поэтому мы и ограничили доступ к эти переменным. Для изменения оценки мы предусмотредли методы *add_score()* и *subtract_score()*."
   ]
  },
  {
   "cell_type": "code",
   "execution_count": 6,
   "id": "3062d608",
   "metadata": {},
   "outputs": [
    {
     "name": "stdout",
     "output_type": "stream",
     "text": [
      "+20\n",
      "+60\n",
      "-10\n",
      "Петрова, Мария: 70\n"
     ]
    }
   ],
   "source": [
    "class Student(object):\n",
    "    __max_score = 100\n",
    "    __min_score = 0\n",
    "    __score = 0\n",
    "    \n",
    "    def __init__(self, surname, name):\n",
    "        self.surname = surname\n",
    "        self.name = name\n",
    "\n",
    "    def add_score(self, val):\n",
    "        try:\n",
    "            assert self.check_score(self.__score + val), 'Ошибка: оценка за пределами интервала [0, 100]'\n",
    "            self.__score += val\n",
    "            print(f'+{val}')\n",
    "        except AssertionError as e:\n",
    "            print(e)\n",
    "    \n",
    "    def subtract_score(self, val):\n",
    "        try:\n",
    "            assert self.check_score(self.__score - val)\n",
    "            self.__score -= val\n",
    "            print(f'-{val}')\n",
    "        except AssertionError:\n",
    "            print('Ошибка: Оценка за пределами интервала [0, 100]')\n",
    "    \n",
    "    def get_score(self):\n",
    "        return(self.__score)\n",
    "    \n",
    "    def score_range(self):\n",
    "        return self.__max_score, self.__min_score\n",
    "    \n",
    "    def check_score(self, val):\n",
    "        return self.__min_score <= val <= self.__max_score\n",
    "    \n",
    "    def get_name(self):\n",
    "        return f'{self.surname}, {self.name}'\n",
    "\n",
    "maria = Student('Петрова', 'Мария')\n",
    "maria.add_score(20)\n",
    "maria.add_score(60)\n",
    "maria.subtract_score(10)\n",
    "print(f'{maria.get_name()}: {maria.get_score()}')"
   ]
  },
  {
   "cell_type": "markdown",
   "id": "0c89c7c3",
   "metadata": {},
   "source": [
    "Если мы попытаемся установить оценку за пределами допустимого интервала, получим сообщение об ошибке."
   ]
  },
  {
   "cell_type": "code",
   "execution_count": 7,
   "id": "12bacb06",
   "metadata": {},
   "outputs": [
    {
     "name": "stdout",
     "output_type": "stream",
     "text": [
      "Ошибка: оценка за пределами интервала [0, 100]\n"
     ]
    },
    {
     "data": {
      "text/plain": [
       "70"
      ]
     },
     "execution_count": 7,
     "metadata": {},
     "output_type": "execute_result"
    }
   ],
   "source": [
    "maria.add_score(90)\n",
    "maria.get_score()"
   ]
  },
  {
   "cell_type": "markdown",
   "id": "8ae8af83",
   "metadata": {},
   "source": [
    "Допустим, кому-то захотелось установить оценку Марии за пределами допустимого интервала, назовем его условно \"нарушитель\". Для этого нарушитель использовал специальный синтаксис доступа к закрытым переменным."
   ]
  },
  {
   "cell_type": "code",
   "execution_count": 8,
   "id": "0386551a",
   "metadata": {},
   "outputs": [
    {
     "data": {
      "text/plain": [
       "(1000, -1000)"
      ]
     },
     "execution_count": 8,
     "metadata": {},
     "output_type": "execute_result"
    }
   ],
   "source": [
    "maria._Student__max_score = 1000\n",
    "maria._Student__min_score = -1000\n",
    "maria.score_range()"
   ]
  },
  {
   "cell_type": "markdown",
   "id": "f9c1b352",
   "metadata": {},
   "source": [
    "Теперь нарушитель может выполнить код по увеличению оценки."
   ]
  },
  {
   "cell_type": "code",
   "execution_count": 9,
   "id": "ae3cd1e2",
   "metadata": {
    "scrolled": true
   },
   "outputs": [
    {
     "name": "stdout",
     "output_type": "stream",
     "text": [
      "+90\n"
     ]
    },
    {
     "data": {
      "text/plain": [
       "160"
      ]
     },
     "execution_count": 9,
     "metadata": {},
     "output_type": "execute_result"
    }
   ],
   "source": [
    "maria.add_score(90)\n",
    "maria.get_score()"
   ]
  },
  {
   "cell_type": "markdown",
   "id": "edba5d2c",
   "metadata": {},
   "source": [
    "Введем дополнительные меры безопасности, с этой целью для метода *check_score()* используем декоратор *@classmethod*."
   ]
  },
  {
   "cell_type": "code",
   "execution_count": 10,
   "id": "f433e25c",
   "metadata": {},
   "outputs": [
    {
     "name": "stdout",
     "output_type": "stream",
     "text": [
      "+20\n",
      "+60\n",
      "-10\n",
      "Петрова, Мария: 70\n"
     ]
    }
   ],
   "source": [
    "class Student(object):\n",
    "    __max_score = 100\n",
    "    __min_score = 0\n",
    "    __score = 0\n",
    "    \n",
    "    def __init__(self, surname, name):\n",
    "        self.surname = surname\n",
    "        self.name = name\n",
    "    \n",
    "    def add_score(self, val):\n",
    "        try:\n",
    "            assert self.check_score(self.__score + val), 'Ошибка: оценка за пределами интервала [0, 100]'\n",
    "            self.__score += val\n",
    "            print(f'+{val}')\n",
    "        except AssertionError as e:\n",
    "            print(e)\n",
    "    \n",
    "    def subtract_score(self, val):\n",
    "        try:\n",
    "            assert self.check_score(self.__score - val)\n",
    "            self.__score -= val\n",
    "            print(f'-{val}')\n",
    "        except AssertionError:\n",
    "            print('Ошибка: Оценка за пределами интервала [0, 100]')\n",
    "    \n",
    "    def get_score(self):\n",
    "        return(self.__score)\n",
    "    \n",
    "    def score_range(self):\n",
    "        return self.__max_score, self.__min_score\n",
    "    \n",
    "    @classmethod\n",
    "    def check_score(cls, val):\n",
    "        return cls.__min_score <= val <= cls.__max_score\n",
    "    \n",
    "    def get_name(self):\n",
    "        return f'{self.surname}, {self.name}'\n",
    "\n",
    "maria = Student('Петрова', 'Мария')\n",
    "maria.add_score(20)\n",
    "maria.add_score(60)\n",
    "maria.subtract_score(10)\n",
    "print(f'{maria.get_name()}: {maria.get_score()}')"
   ]
  },
  {
   "cell_type": "markdown",
   "id": "669e4efc",
   "metadata": {},
   "source": [
    "Теперь, если нарушитель изменит границы интервала:"
   ]
  },
  {
   "cell_type": "code",
   "execution_count": 11,
   "id": "9c3229ed",
   "metadata": {},
   "outputs": [
    {
     "data": {
      "text/plain": [
       "(1000, -1000)"
      ]
     },
     "execution_count": 11,
     "metadata": {},
     "output_type": "execute_result"
    }
   ],
   "source": [
    "maria._Student__max_score = 1000\n",
    "maria._Student__min_score = -1000\n",
    "maria.score_range()"
   ]
  },
  {
   "cell_type": "markdown",
   "id": "b7c40fd4",
   "metadata": {},
   "source": [
    "Установить оценку за пределами интервала, прописанного в переменных класса `__min_score` и `__max_score`, он все равно не сможет."
   ]
  },
  {
   "cell_type": "code",
   "execution_count": 12,
   "id": "9c4dec7a",
   "metadata": {
    "scrolled": true
   },
   "outputs": [
    {
     "name": "stdout",
     "output_type": "stream",
     "text": [
      "Ошибка: оценка за пределами интервала [0, 100]\n"
     ]
    },
    {
     "data": {
      "text/plain": [
       "70"
      ]
     },
     "execution_count": 12,
     "metadata": {},
     "output_type": "execute_result"
    }
   ],
   "source": [
    "maria.add_score(90)\n",
    "maria.get_score()"
   ]
  },
  {
   "cell_type": "markdown",
   "id": "27732b3b",
   "metadata": {},
   "source": [
    "Итак, мы видим, что мы можем получить доступ к закрытым переменным, используя специальный синтаксис, но это не так просто по сравнению с обычным способом.\n",
    "\n",
    "Преимущества сокрытия данных\n",
    "\n",
    "- Сокрытие данных повышает безопасность данных и устойчивость программы к ошибкам или злонамеренным действиям.\n",
    "- Сокрытие данных помогает предотвратить повреждение данных.\n",
    "\n",
    "Недостатки сокрытия данных\n",
    "\n",
    "- Для сокрытия данных программистам приходится писать дополнительные строки кода, которые становятся длинными и нечитаемыми. \n",
    "- Объекты работают сравнительно медленнее."
   ]
  },
  {
   "cell_type": "markdown",
   "id": "83f93605",
   "metadata": {},
   "source": [
    "### Задание 1\n",
    "\n",
    "Создайте класс *Лифт* с параметрами грузоподъемности и вместимости, этажей начала и конца движения. Для предельных значений веса и числа людей используйте переменные с ограниченным доступом.  Определите пределы грузоподъемности, например 1000 кг, и вместимости, например 10 человек. Создайте методы, обеспечивающие функцию перевозки людей и грузов с одного этажа на другой с указанием числа людей и веса. В случае превышения любого из предельных значений, сгенерируйте исключение и обработайте его с помощью блока *try ... except*. Создайте метод `__str__()` с информацией о работе лифта и о поездке на нем."
   ]
  },
  {
   "cell_type": "code",
   "execution_count": 16,
   "id": "91560e71",
   "metadata": {},
   "outputs": [],
   "source": [
    "# 1.\n",
    "class Elevator(object):\n",
    "    '''Класс Лифт'''\n",
    "    __max_load=1000\n",
    "    __max_psg=10\n",
    "    \n",
    "    def __init__(self, load, psg, floor_start, floor_end):\n",
    "        try:\n",
    "            assert self.check_load(load), \"Превышена максимальная грузоподъёмность\"\n",
    "            assert self.check_psg(psg), \"Превышено максимальное кол-во человек\"\n",
    "            \n",
    "            self.load = load\n",
    "            self.psg = psg\n",
    "            self.floor_start = floor_start\n",
    "            self.floor_end = floor_end\n",
    "        except AssertionError as e:\n",
    "            print(e)\n",
    "    \n",
    "    def __str__(self):\n",
    "        try:\n",
    "            if check_load(self.load) and check_psg(self.load):\n",
    "                return f'Загрузка лифта {self.load}, кол-во пассажиров {self.psg}, стартовый этаж {self.floor_start}, конечный этаж {self.floor_end}'\n",
    "        except Exception as e:\n",
    "            return \"Лифт никуда не едет\"\n",
    "        \n",
    "    @classmethod\n",
    "    def check_load(cls, load):\n",
    "        return load <= cls.__max_load\n",
    "    \n",
    "    @classmethod\n",
    "    def check_psg(cls, psg):\n",
    "        return psg <= cls.__max_psg"
   ]
  },
  {
   "cell_type": "code",
   "execution_count": 17,
   "id": "7232a7bf",
   "metadata": {},
   "outputs": [
    {
     "name": "stdout",
     "output_type": "stream",
     "text": [
      "Превышено максимальное кол-во человек\n",
      "Лифт никуда не едет\n"
     ]
    }
   ],
   "source": [
    "test = Elevator(900, 11, 1, 10)\n",
    "print(test)"
   ]
  },
  {
   "cell_type": "markdown",
   "id": "2f3763ca",
   "metadata": {},
   "source": [
    "### Задание 2\n",
    "\n",
    "Создайте класс *Телефонный справочник* с методами, позволяющими вывести на экран информацию о записях в телефонном справочнике, а также определить соответствие записи критерию поиска. Создайте дочерние классы *Персона* (фамилия, адрес, номер телефона), *Организация* (название, адрес, телефон, факс, контактное лицо), *Друг* (фамилия, адрес, номер телефона, дата рождения) со своими методами вывода информации на экран и определения соответствия заданной фамилии. Создайте список из $n$ записей, выведите полную информацию из базы на экран, а также организуйте поиск в базе по фамилии."
   ]
  },
  {
   "cell_type": "code",
   "execution_count": 15,
   "id": "89a527c3",
   "metadata": {},
   "outputs": [],
   "source": [
    "# 2.\n",
    "class PhoneBook(object):\n",
    "    '''Класс телефонная книга'''\n",
    "    def __init__(self, name, surname, phone_number):\n",
    "        self.name = name\n",
    "        self.surname = surname\n",
    "        self.phone_number = phone_number\n",
    "    \n",
    "    def __str__(self):\n",
    "        return f'{self.name} {self.surname}, телефон {self.phone_number}'\n",
    "    \n",
    "class Person(PhoneBook):\n",
    "    '''Класс Персона'''\n",
    "    def __init__(self, name, surname, phone_number):\n",
    "        pass\n",
    "    \n",
    "    def __str__(self):\n",
    "        return f'{self.name} {self.surname}, телефон {self.phone_number}'\n",
    "    \n",
    "class Organiz(PhoneBook):\n",
    "    '''Класс Организация'''\n",
    "    def __init__(self, name_org, surname, phone_number, faxs, contact):\n",
    "        pass\n",
    "    \n",
    "    def __str__(self):\n",
    "        return f'{self.name_org} {self.surname}, телефон {self.phone_number}'\n",
    "    \n",
    "def Friend(PhoneBook):\n",
    "    '''Класс Друг'''\n",
    "    def __init__(self, name, surname, phone_number, birdhday):\n",
    "        pass\n",
    "    \n",
    "    def __str__(self):\n",
    "        return f'{self.name} {self.surname}, телефон {self.phone_number}'"
   ]
  }
 ],
 "metadata": {
  "kernelspec": {
   "display_name": "Python 3 (ipykernel)",
   "language": "python",
   "name": "python3"
  },
  "language_info": {
   "codemirror_mode": {
    "name": "ipython",
    "version": 3
   },
   "file_extension": ".py",
   "mimetype": "text/x-python",
   "name": "python",
   "nbconvert_exporter": "python",
   "pygments_lexer": "ipython3",
   "version": "3.11.5"
  }
 },
 "nbformat": 4,
 "nbformat_minor": 5
}
